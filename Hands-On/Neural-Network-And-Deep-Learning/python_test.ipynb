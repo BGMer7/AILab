{
 "cells": [
  {
   "cell_type": "code",
   "id": "initial_id",
   "metadata": {
    "collapsed": true,
    "ExecuteTime": {
     "end_time": "2024-07-23T14:06:50.534765Z",
     "start_time": "2024-07-23T14:06:49.485912Z"
    }
   },
   "source": "import numpy as np",
   "outputs": [],
   "execution_count": 1
  },
  {
   "metadata": {
    "ExecuteTime": {
     "end_time": "2024-07-23T14:07:03.337407Z",
     "start_time": "2024-07-23T14:07:03.334044Z"
    }
   },
   "cell_type": "code",
   "source": [
    "sizes = [2, 3, 1]\n",
    "biases = [np.random.randn(y, 1) for y in sizes[1:]]\n",
    "\n",
    "print(biases)\n",
    "print(np.random.randn(3, 1))"
   ],
   "id": "182cacd0ae12961d",
   "outputs": [
    {
     "name": "stdout",
     "output_type": "stream",
     "text": [
      "[array([[-0.14464716],\n",
      "       [-0.42529533],\n",
      "       [-0.94405278]]), array([[-1.09044676]])]\n",
      "[[-0.27493957]\n",
      " [ 2.53025915]\n",
      " [-0.38692732]]\n"
     ]
    }
   ],
   "execution_count": 2
  },
  {
   "metadata": {
    "ExecuteTime": {
     "end_time": "2024-07-23T14:07:14.547678Z",
     "start_time": "2024-07-23T14:07:14.544389Z"
    }
   },
   "cell_type": "code",
   "source": [
    "array = np.array([1, 3, 7, 2, 5])\n",
    "index = np.argmax(array)\n",
    "\n",
    "print(index)"
   ],
   "id": "f0ee631da177e4b3",
   "outputs": [
    {
     "name": "stdout",
     "output_type": "stream",
     "text": [
      "2\n"
     ]
    }
   ],
   "execution_count": 3
  },
  {
   "metadata": {
    "ExecuteTime": {
     "end_time": "2024-07-23T14:08:18.729525Z",
     "start_time": "2024-07-23T14:08:18.726342Z"
    }
   },
   "cell_type": "code",
   "source": [
    "# 默认情况下，np.argmax(array) 会将数组展平成一维数组，然后返回最大值的索引。\n",
    "array = np.array([[1, 3, 7], [2, 5, 6]])\n",
    "print(array)\n",
    "index = np.argmax(array)\n",
    "\n",
    "print(index)  # Output: 2"
   ],
   "id": "787861596feb1809",
   "outputs": [
    {
     "name": "stdout",
     "output_type": "stream",
     "text": [
      "[[1 3 7]\n",
      " [2 5 6]]\n",
      "2\n"
     ]
    }
   ],
   "execution_count": 5
  },
  {
   "metadata": {
    "ExecuteTime": {
     "end_time": "2024-07-23T14:09:10.765576Z",
     "start_time": "2024-07-23T14:09:10.762470Z"
    }
   },
   "cell_type": "code",
   "source": [
    "# 在这个例子中，np.argmax(array, axis=0) 返回沿着轴0（即每列）查找的最大值的索引。\n",
    "array = np.array([[1, 3, 7], [2, 5, 6]])\n",
    "print(array)\n",
    "index = np.argmax(array, axis=0)\n",
    "\n",
    "print(index)  # Output: [1 1 0]"
   ],
   "id": "70a4eb8a53c2e054",
   "outputs": [
    {
     "name": "stdout",
     "output_type": "stream",
     "text": [
      "[[1 3 7]\n",
      " [2 5 6]]\n",
      "[1 1 0]\n"
     ]
    }
   ],
   "execution_count": 7
  },
  {
   "metadata": {
    "ExecuteTime": {
     "end_time": "2024-07-23T14:09:53.531331Z",
     "start_time": "2024-07-23T14:09:53.528348Z"
    }
   },
   "cell_type": "code",
   "source": [
    "index = np.argmax(array, axis=1)\n",
    "\n",
    "print(index)"
   ],
   "id": "de8128cc5f90c351",
   "outputs": [
    {
     "name": "stdout",
     "output_type": "stream",
     "text": [
      "[2 2]\n"
     ]
    }
   ],
   "execution_count": 9
  },
  {
   "metadata": {},
   "cell_type": "code",
   "outputs": [],
   "execution_count": null,
   "source": "",
   "id": "2bf02443d58035e1"
  }
 ],
 "metadata": {
  "kernelspec": {
   "display_name": "Python 3",
   "language": "python",
   "name": "python3"
  },
  "language_info": {
   "codemirror_mode": {
    "name": "ipython",
    "version": 2
   },
   "file_extension": ".py",
   "mimetype": "text/x-python",
   "name": "python",
   "nbconvert_exporter": "python",
   "pygments_lexer": "ipython2",
   "version": "2.7.6"
  }
 },
 "nbformat": 4,
 "nbformat_minor": 5
}

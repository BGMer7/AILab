{
 "cells": [
  {
   "metadata": {},
   "cell_type": "markdown",
   "source": "# 2.7 Documentation",
   "id": "22a20c45c41ccea6"
  },
  {
   "metadata": {
    "ExecuteTime": {
     "end_time": "2024-09-02T11:40:08.881630Z",
     "start_time": "2024-09-02T11:40:06.778291Z"
    }
   },
   "cell_type": "code",
   "source": "import torch",
   "id": "b56044f21fe7155e",
   "outputs": [],
   "execution_count": 2
  },
  {
   "metadata": {
    "ExecuteTime": {
     "end_time": "2024-09-02T11:40:17.578431Z",
     "start_time": "2024-09-02T11:40:17.572431Z"
    }
   },
   "cell_type": "code",
   "source": "help(torch.tensor)",
   "id": "831611c050e61720",
   "outputs": [
    {
     "name": "stdout",
     "output_type": "stream",
     "text": [
      "Help on built-in function tensor in module torch:\n",
      "\n",
      "tensor(...)\n",
      "    tensor(data, *, dtype=None, device=None, requires_grad=False, pin_memory=False) -> Tensor\n",
      "    \n",
      "    Constructs a tensor with no autograd history (also known as a \"leaf tensor\", see :doc:`/notes/autograd`) by copying :attr:`data`.\n",
      "    \n",
      "    .. warning::\n",
      "    \n",
      "        When working with tensors prefer using :func:`torch.Tensor.clone`,\n",
      "        :func:`torch.Tensor.detach`, and :func:`torch.Tensor.requires_grad_` for\n",
      "        readability. Letting `t` be a tensor, ``torch.tensor(t)`` is equivalent to\n",
      "        ``t.clone().detach()``, and ``torch.tensor(t, requires_grad=True)``\n",
      "        is equivalent to ``t.clone().detach().requires_grad_(True)``.\n",
      "    \n",
      "    .. seealso::\n",
      "    \n",
      "        :func:`torch.as_tensor` preserves autograd history and avoids copies where possible.\n",
      "        :func:`torch.from_numpy` creates a tensor that shares storage with a NumPy array.\n",
      "    \n",
      "    Args:\n",
      "        data (array_like): Initial data for the tensor. Can be a list, tuple,\n",
      "            NumPy ``ndarray``, scalar, and other types.\n",
      "    \n",
      "    Keyword args:\n",
      "        dtype (:class:`torch.dtype`, optional): the desired data type of returned tensor.\n",
      "            Default: if ``None``, infers data type from :attr:`data`.\n",
      "        device (:class:`torch.device`, optional): the device of the constructed tensor. If None and data is a tensor\n",
      "            then the device of data is used. If None and data is not a tensor then\n",
      "            the result tensor is constructed on the current device.\n",
      "        requires_grad (bool, optional): If autograd should record operations on the\n",
      "            returned tensor. Default: ``False``.\n",
      "        pin_memory (bool, optional): If set, returned tensor would be allocated in\n",
      "            the pinned memory. Works only for CPU tensors. Default: ``False``.\n",
      "    \n",
      "    \n",
      "    Example::\n",
      "    \n",
      "        >>> torch.tensor([[0.1, 1.2], [2.2, 3.1], [4.9, 5.2]])\n",
      "        tensor([[ 0.1000,  1.2000],\n",
      "                [ 2.2000,  3.1000],\n",
      "                [ 4.9000,  5.2000]])\n",
      "    \n",
      "        >>> torch.tensor([0, 1])  # Type inference on data\n",
      "        tensor([ 0,  1])\n",
      "    \n",
      "        >>> torch.tensor([[0.11111, 0.222222, 0.3333333]],\n",
      "        ...              dtype=torch.float64,\n",
      "        ...              device=torch.device('cuda:0'))  # creates a double tensor on a CUDA device\n",
      "        tensor([[ 0.1111,  0.2222,  0.3333]], dtype=torch.float64, device='cuda:0')\n",
      "    \n",
      "        >>> torch.tensor(3.14159)  # Create a zero-dimensional (scalar) tensor\n",
      "        tensor(3.1416)\n",
      "    \n",
      "        >>> torch.tensor([])  # Create an empty tensor (of size (0,))\n",
      "        tensor([])\n",
      "\n"
     ]
    }
   ],
   "execution_count": 3
  },
  {
   "metadata": {},
   "cell_type": "code",
   "outputs": [],
   "execution_count": null,
   "source": "",
   "id": "1bd240a10eee1100"
  }
 ],
 "metadata": {
  "kernelspec": {
   "display_name": "Python 3",
   "language": "python",
   "name": "python3"
  },
  "language_info": {
   "codemirror_mode": {
    "name": "ipython",
    "version": 2
   },
   "file_extension": ".py",
   "mimetype": "text/x-python",
   "name": "python",
   "nbconvert_exporter": "python",
   "pygments_lexer": "ipython2",
   "version": "2.7.6"
  }
 },
 "nbformat": 4,
 "nbformat_minor": 5
}

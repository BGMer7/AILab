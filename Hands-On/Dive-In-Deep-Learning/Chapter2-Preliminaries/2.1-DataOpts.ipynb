{
 "cells": [
  {
   "cell_type": "code",
   "id": "initial_id",
   "metadata": {
    "collapsed": true,
    "ExecuteTime": {
     "end_time": "2024-08-28T13:56:07.314353Z",
     "start_time": "2024-08-28T13:56:07.303845Z"
    }
   },
   "source": [
    "import torch\n",
    "import numpy as np"
   ],
   "outputs": [],
   "execution_count": 14
  },
  {
   "metadata": {},
   "cell_type": "markdown",
   "source": "## 数据类型",
   "id": "eed01e66a1936011"
  },
  {
   "metadata": {
    "ExecuteTime": {
     "end_time": "2024-08-28T13:54:11.308065Z",
     "start_time": "2024-08-28T13:54:11.294065Z"
    }
   },
   "cell_type": "code",
   "source": [
    "x = torch.arange(12)\n",
    "x"
   ],
   "id": "d44ebd29dbf820ab",
   "outputs": [
    {
     "data": {
      "text/plain": [
       "tensor([ 0,  1,  2,  3,  4,  5,  6,  7,  8,  9, 10, 11])"
      ]
     },
     "execution_count": 2,
     "metadata": {},
     "output_type": "execute_result"
    }
   ],
   "execution_count": 2
  },
  {
   "metadata": {
    "ExecuteTime": {
     "end_time": "2024-08-28T13:54:11.323597Z",
     "start_time": "2024-08-28T13:54:11.309065Z"
    }
   },
   "cell_type": "code",
   "source": "x.shape",
   "id": "3ba99a369014c546",
   "outputs": [
    {
     "data": {
      "text/plain": [
       "torch.Size([12])"
      ]
     },
     "execution_count": 3,
     "metadata": {},
     "output_type": "execute_result"
    }
   ],
   "execution_count": 3
  },
  {
   "metadata": {
    "ExecuteTime": {
     "end_time": "2024-08-28T13:54:11.339106Z",
     "start_time": "2024-08-28T13:54:11.324101Z"
    }
   },
   "cell_type": "code",
   "source": "x.numel()",
   "id": "417d2d66eaf25586",
   "outputs": [
    {
     "data": {
      "text/plain": [
       "12"
      ]
     },
     "execution_count": 4,
     "metadata": {},
     "output_type": "execute_result"
    }
   ],
   "execution_count": 4
  },
  {
   "metadata": {
    "ExecuteTime": {
     "end_time": "2024-08-28T13:54:11.354265Z",
     "start_time": "2024-08-28T13:54:11.340107Z"
    }
   },
   "cell_type": "code",
   "source": [
    "X = x.reshape(3, 4)\n",
    "X"
   ],
   "id": "140fe54331e4f3bd",
   "outputs": [
    {
     "data": {
      "text/plain": [
       "tensor([[ 0,  1,  2,  3],\n",
       "        [ 4,  5,  6,  7],\n",
       "        [ 8,  9, 10, 11]])"
      ]
     },
     "execution_count": 5,
     "metadata": {},
     "output_type": "execute_result"
    }
   ],
   "execution_count": 5
  },
  {
   "metadata": {
    "ExecuteTime": {
     "end_time": "2024-08-28T13:54:11.369772Z",
     "start_time": "2024-08-28T13:54:11.355771Z"
    }
   },
   "cell_type": "code",
   "source": "x.shape",
   "id": "4d14b8659282f264",
   "outputs": [
    {
     "data": {
      "text/plain": [
       "torch.Size([12])"
      ]
     },
     "execution_count": 6,
     "metadata": {},
     "output_type": "execute_result"
    }
   ],
   "execution_count": 6
  },
  {
   "metadata": {
    "ExecuteTime": {
     "end_time": "2024-08-28T13:54:11.384771Z",
     "start_time": "2024-08-28T13:54:11.370773Z"
    }
   },
   "cell_type": "code",
   "source": "x.numel()",
   "id": "d318c9724812f64",
   "outputs": [
    {
     "data": {
      "text/plain": [
       "12"
      ]
     },
     "execution_count": 7,
     "metadata": {},
     "output_type": "execute_result"
    }
   ],
   "execution_count": 7
  },
  {
   "metadata": {
    "ExecuteTime": {
     "end_time": "2024-08-28T13:54:11.400772Z",
     "start_time": "2024-08-28T13:54:11.385771Z"
    }
   },
   "cell_type": "code",
   "source": [
    "X = x.reshape(2, -1)\n",
    "X"
   ],
   "id": "dbab7102d29e321d",
   "outputs": [
    {
     "data": {
      "text/plain": [
       "tensor([[ 0,  1,  2,  3,  4,  5],\n",
       "        [ 6,  7,  8,  9, 10, 11]])"
      ]
     },
     "execution_count": 8,
     "metadata": {},
     "output_type": "execute_result"
    }
   ],
   "execution_count": 8
  },
  {
   "metadata": {
    "ExecuteTime": {
     "end_time": "2024-08-28T13:54:11.696660Z",
     "start_time": "2024-08-28T13:54:11.401772Z"
    }
   },
   "cell_type": "code",
   "source": [
    "X = x.reshape(-1, 5)\n",
    "X"
   ],
   "id": "f83c520393cb3266",
   "outputs": [
    {
     "ename": "RuntimeError",
     "evalue": "shape '[-1, 5]' is invalid for input of size 12",
     "output_type": "error",
     "traceback": [
      "\u001B[1;31m---------------------------------------------------------------------------\u001B[0m",
      "\u001B[1;31mRuntimeError\u001B[0m                              Traceback (most recent call last)",
      "Cell \u001B[1;32mIn[9], line 1\u001B[0m\n\u001B[1;32m----> 1\u001B[0m X \u001B[38;5;241m=\u001B[39m \u001B[43mx\u001B[49m\u001B[38;5;241;43m.\u001B[39;49m\u001B[43mreshape\u001B[49m\u001B[43m(\u001B[49m\u001B[38;5;241;43m-\u001B[39;49m\u001B[38;5;241;43m1\u001B[39;49m\u001B[43m,\u001B[49m\u001B[43m \u001B[49m\u001B[38;5;241;43m5\u001B[39;49m\u001B[43m)\u001B[49m\n\u001B[0;32m      2\u001B[0m X\n",
      "\u001B[1;31mRuntimeError\u001B[0m: shape '[-1, 5]' is invalid for input of size 12"
     ]
    }
   ],
   "execution_count": 9
  },
  {
   "metadata": {
    "ExecuteTime": {
     "end_time": "2024-08-28T13:54:16.802029Z",
     "start_time": "2024-08-28T13:54:16.783030Z"
    }
   },
   "cell_type": "code",
   "source": "np.zeros((2, 3, 4))",
   "id": "46f131adf5a5babb",
   "outputs": [
    {
     "data": {
      "text/plain": [
       "array([[[0., 0., 0., 0.],\n",
       "        [0., 0., 0., 0.],\n",
       "        [0., 0., 0., 0.]],\n",
       "\n",
       "       [[0., 0., 0., 0.],\n",
       "        [0., 0., 0., 0.],\n",
       "        [0., 0., 0., 0.]]])"
      ]
     },
     "execution_count": 10,
     "metadata": {},
     "output_type": "execute_result"
    }
   ],
   "execution_count": 10
  },
  {
   "metadata": {
    "ExecuteTime": {
     "end_time": "2024-08-28T13:54:19.332729Z",
     "start_time": "2024-08-28T13:54:19.303869Z"
    }
   },
   "cell_type": "code",
   "source": "torch.randn(2, 3, 4)",
   "id": "bf9de3a8528b13cc",
   "outputs": [
    {
     "data": {
      "text/plain": [
       "tensor([[[ 0.6956,  0.0832, -0.7122,  0.2005],\n",
       "         [ 1.7719, -1.0342,  0.1365, -1.7408],\n",
       "         [-1.0587, -0.3618,  0.0223,  0.9754]],\n",
       "\n",
       "        [[ 0.3207,  1.4005, -1.2151, -0.0663],\n",
       "         [ 0.2547, -0.2127, -0.6607,  0.7077],\n",
       "         [ 0.7447,  0.4846,  0.5035,  0.8594]]])"
      ]
     },
     "execution_count": 11,
     "metadata": {},
     "output_type": "execute_result"
    }
   ],
   "execution_count": 11
  },
  {
   "metadata": {
    "ExecuteTime": {
     "end_time": "2024-08-28T13:55:52.724126Z",
     "start_time": "2024-08-28T13:55:52.710612Z"
    }
   },
   "cell_type": "code",
   "source": "torch.tensor([[2, 1, 4, 3], [1, 2, 3, 4], [4, 3, 2, 1]])",
   "id": "b9a9a803e45387c4",
   "outputs": [
    {
     "data": {
      "text/plain": [
       "tensor([[2, 1, 4, 3],\n",
       "        [1, 2, 3, 4],\n",
       "        [4, 3, 2, 1]])"
      ]
     },
     "execution_count": 12,
     "metadata": {},
     "output_type": "execute_result"
    }
   ],
   "execution_count": 12
  },
  {
   "metadata": {},
   "cell_type": "markdown",
   "source": "## 运算",
   "id": "2946ca3119f9e805"
  },
  {
   "metadata": {
    "ExecuteTime": {
     "end_time": "2024-08-28T13:57:09.724760Z",
     "start_time": "2024-08-28T13:57:09.703101Z"
    }
   },
   "cell_type": "code",
   "source": [
    "x = torch.tensor([1.0, 2, 4, 8])\n",
    "y = torch.tensor([2, 2, 2, 2])\n",
    "x + y, x - y, x * y, x / y, x ** y  # **运算符是求幂运算"
   ],
   "id": "4f4235b092d5ce1a",
   "outputs": [
    {
     "data": {
      "text/plain": [
       "(tensor([ 3.,  4.,  6., 10.]),\n",
       " tensor([-1.,  0.,  2.,  6.]),\n",
       " tensor([ 2.,  4.,  8., 16.]),\n",
       " tensor([0.5000, 1.0000, 2.0000, 4.0000]),\n",
       " tensor([ 1.,  4., 16., 64.]))"
      ]
     },
     "execution_count": 15,
     "metadata": {},
     "output_type": "execute_result"
    }
   ],
   "execution_count": 15
  },
  {
   "metadata": {
    "ExecuteTime": {
     "end_time": "2024-08-28T13:57:24.727987Z",
     "start_time": "2024-08-28T13:57:24.716474Z"
    }
   },
   "cell_type": "code",
   "source": "type(x)",
   "id": "df01cfed3374e784",
   "outputs": [
    {
     "data": {
      "text/plain": [
       "torch.Tensor"
      ]
     },
     "execution_count": 16,
     "metadata": {},
     "output_type": "execute_result"
    }
   ],
   "execution_count": 16
  },
  {
   "metadata": {
    "ExecuteTime": {
     "end_time": "2024-08-28T14:11:05.328873Z",
     "start_time": "2024-08-28T14:11:05.314873Z"
    }
   },
   "cell_type": "code",
   "source": "x.dtype",
   "id": "40d7fe32b1e8cae5",
   "outputs": [
    {
     "data": {
      "text/plain": [
       "torch.float32"
      ]
     },
     "execution_count": 21,
     "metadata": {},
     "output_type": "execute_result"
    }
   ],
   "execution_count": 21
  },
  {
   "metadata": {
    "ExecuteTime": {
     "end_time": "2024-08-28T14:11:21.738293Z",
     "start_time": "2024-08-28T14:11:21.727291Z"
    }
   },
   "cell_type": "code",
   "source": "y.dtype",
   "id": "8b194cf46c45e74b",
   "outputs": [
    {
     "data": {
      "text/plain": [
       "torch.int64"
      ]
     },
     "execution_count": 22,
     "metadata": {},
     "output_type": "execute_result"
    }
   ],
   "execution_count": 22
  },
  {
   "metadata": {
    "ExecuteTime": {
     "end_time": "2024-08-28T13:59:18.198039Z",
     "start_time": "2024-08-28T13:59:18.182435Z"
    }
   },
   "cell_type": "code",
   "source": "x.numpy()",
   "id": "e68b8bf8c3d864b0",
   "outputs": [
    {
     "data": {
      "text/plain": [
       "array([1., 2., 4., 8.], dtype=float32)"
      ]
     },
     "execution_count": 20,
     "metadata": {},
     "output_type": "execute_result"
    }
   ],
   "execution_count": 20
  },
  {
   "metadata": {
    "ExecuteTime": {
     "end_time": "2024-08-28T14:11:41.773082Z",
     "start_time": "2024-08-28T14:11:41.756472Z"
    }
   },
   "cell_type": "code",
   "source": "y.numpy()",
   "id": "c32d0a312ed36ca7",
   "outputs": [
    {
     "data": {
      "text/plain": [
       "array([2, 2, 2, 2], dtype=int64)"
      ]
     },
     "execution_count": 23,
     "metadata": {},
     "output_type": "execute_result"
    }
   ],
   "execution_count": 23
  },
  {
   "metadata": {
    "ExecuteTime": {
     "end_time": "2024-08-28T14:15:28.339136Z",
     "start_time": "2024-08-28T14:15:28.325033Z"
    }
   },
   "cell_type": "code",
   "source": [
    "X = torch.ones(3, 4)\n",
    "Y = torch.zeros(3, 4)"
   ],
   "id": "6db0bfd3e53dff10",
   "outputs": [],
   "execution_count": 26
  },
  {
   "metadata": {
    "ExecuteTime": {
     "end_time": "2024-08-28T14:15:28.682889Z",
     "start_time": "2024-08-28T14:15:28.672891Z"
    }
   },
   "cell_type": "code",
   "source": [
    "# X\n",
    "# Y\n",
    "torch.cat((X, Y), dim=0)"
   ],
   "id": "fc7102345620365e",
   "outputs": [
    {
     "data": {
      "text/plain": [
       "tensor([[1., 1., 1., 1.],\n",
       "        [1., 1., 1., 1.],\n",
       "        [1., 1., 1., 1.],\n",
       "        [0., 0., 0., 0.],\n",
       "        [0., 0., 0., 0.],\n",
       "        [0., 0., 0., 0.]])"
      ]
     },
     "execution_count": 27,
     "metadata": {},
     "output_type": "execute_result"
    }
   ],
   "execution_count": 27
  },
  {
   "metadata": {
    "ExecuteTime": {
     "end_time": "2024-08-28T14:15:29.195451Z",
     "start_time": "2024-08-28T14:15:29.179451Z"
    }
   },
   "cell_type": "code",
   "source": [
    "# X|Y\n",
    "torch.cat((X, Y), dim=1)"
   ],
   "id": "86082b52f93a14fa",
   "outputs": [
    {
     "data": {
      "text/plain": [
       "tensor([[1., 1., 1., 1., 0., 0., 0., 0.],\n",
       "        [1., 1., 1., 1., 0., 0., 0., 0.],\n",
       "        [1., 1., 1., 1., 0., 0., 0., 0.]])"
      ]
     },
     "execution_count": 28,
     "metadata": {},
     "output_type": "execute_result"
    }
   ],
   "execution_count": 28
  },
  {
   "metadata": {
    "ExecuteTime": {
     "end_time": "2024-08-28T14:16:15.656673Z",
     "start_time": "2024-08-28T14:16:15.647090Z"
    }
   },
   "cell_type": "code",
   "source": "X.sum()",
   "id": "d69d39743b695672",
   "outputs": [
    {
     "data": {
      "text/plain": [
       "tensor(12.)"
      ]
     },
     "execution_count": 29,
     "metadata": {},
     "output_type": "execute_result"
    }
   ],
   "execution_count": 29
  },
  {
   "metadata": {},
   "cell_type": "markdown",
   "source": "### broadcast",
   "id": "edf8aed8ca024e40"
  },
  {
   "metadata": {
    "ExecuteTime": {
     "end_time": "2024-08-28T14:18:14.388566Z",
     "start_time": "2024-08-28T14:18:14.379315Z"
    }
   },
   "cell_type": "code",
   "source": [
    "a = torch.arange(3).reshape((3, 1))\n",
    "b = torch.arange(2).reshape((1, 2))\n",
    "a, b"
   ],
   "id": "178aa3518ac4e75c",
   "outputs": [
    {
     "data": {
      "text/plain": [
       "(tensor([[0],\n",
       "         [1],\n",
       "         [2]]),\n",
       " tensor([[0, 1]]))"
      ]
     },
     "execution_count": 30,
     "metadata": {},
     "output_type": "execute_result"
    }
   ],
   "execution_count": 30
  },
  {
   "metadata": {
    "ExecuteTime": {
     "end_time": "2024-08-28T14:19:38.681794Z",
     "start_time": "2024-08-28T14:19:38.675793Z"
    }
   },
   "cell_type": "code",
   "source": [
    "# 由于a和b分别是 3*1 和 1*2 矩阵，如果让它们相加，它们的形状不匹配。 我们将两个矩阵广播为一个更大的矩阵，如下所示：\n",
    "# 矩阵a将复制列， 矩阵b将复制行，然后再按元素相加。\n",
    "a + b"
   ],
   "id": "a00756c8e12f9229",
   "outputs": [
    {
     "data": {
      "text/plain": [
       "tensor([[0, 1],\n",
       "        [1, 2],\n",
       "        [2, 3]])"
      ]
     },
     "execution_count": 32,
     "metadata": {},
     "output_type": "execute_result"
    }
   ],
   "execution_count": 32
  },
  {
   "metadata": {
    "ExecuteTime": {
     "end_time": "2024-08-28T14:20:44.721144Z",
     "start_time": "2024-08-28T14:20:44.704822Z"
    }
   },
   "cell_type": "code",
   "source": [
    "# 实际是这个运算逻辑\n",
    "a = torch.tensor([[0, 0], [1, 1], [2, 2]])\n",
    "b = torch.tensor([[0, 1], [0, 1], [0, 1]])\n",
    "a + b"
   ],
   "id": "a5829a4c69aaa57c",
   "outputs": [
    {
     "data": {
      "text/plain": [
       "tensor([[0, 1],\n",
       "        [1, 2],\n",
       "        [2, 3]])"
      ]
     },
     "execution_count": 33,
     "metadata": {},
     "output_type": "execute_result"
    }
   ],
   "execution_count": 33
  },
  {
   "metadata": {},
   "cell_type": "markdown",
   "source": "### index and slice",
   "id": "85451c0cc9fafd2d"
  },
  {
   "metadata": {
    "ExecuteTime": {
     "end_time": "2024-08-28T14:31:16.626812Z",
     "start_time": "2024-08-28T14:31:16.613304Z"
    }
   },
   "cell_type": "code",
   "source": "X[-1], X[1:3]",
   "id": "5f9730bafdc063b9",
   "outputs": [
    {
     "data": {
      "text/plain": [
       "(tensor([1., 1., 1., 1.]),\n",
       " tensor([[1., 1., 1., 1.],\n",
       "         [1., 1., 1., 1.]]))"
      ]
     },
     "execution_count": 34,
     "metadata": {},
     "output_type": "execute_result"
    }
   ],
   "execution_count": 34
  },
  {
   "metadata": {
    "ExecuteTime": {
     "end_time": "2024-08-28T14:31:24.815845Z",
     "start_time": "2024-08-28T14:31:24.802691Z"
    }
   },
   "cell_type": "code",
   "source": [
    "X[1, 2] = 9\n",
    "X"
   ],
   "id": "9cdb87dbb8dce90",
   "outputs": [
    {
     "data": {
      "text/plain": [
       "tensor([[1., 1., 1., 1.],\n",
       "        [1., 1., 9., 1.],\n",
       "        [1., 1., 1., 1.]])"
      ]
     },
     "execution_count": 35,
     "metadata": {},
     "output_type": "execute_result"
    }
   ],
   "execution_count": 35
  },
  {
   "metadata": {
    "ExecuteTime": {
     "end_time": "2024-08-28T14:31:29.928341Z",
     "start_time": "2024-08-28T14:31:29.918265Z"
    }
   },
   "cell_type": "code",
   "source": [
    "X[0:2, :] = 12\n",
    "X"
   ],
   "id": "3d12c2c621497b7a",
   "outputs": [
    {
     "data": {
      "text/plain": [
       "tensor([[12., 12., 12., 12.],\n",
       "        [12., 12., 12., 12.],\n",
       "        [ 1.,  1.,  1.,  1.]])"
      ]
     },
     "execution_count": 36,
     "metadata": {},
     "output_type": "execute_result"
    }
   ],
   "execution_count": 36
  },
  {
   "metadata": {
    "ExecuteTime": {
     "end_time": "2024-08-28T14:32:03.890131Z",
     "start_time": "2024-08-28T14:32:03.878621Z"
    }
   },
   "cell_type": "code",
   "source": [
    "X[0:2, 1:3] = -1\n",
    "X"
   ],
   "id": "5e76dfc4479f01c1",
   "outputs": [
    {
     "data": {
      "text/plain": [
       "tensor([[12., -1., -1., 12.],\n",
       "        [12., -1., -1., 12.],\n",
       "        [ 1.,  1.,  1.,  1.]])"
      ]
     },
     "execution_count": 38,
     "metadata": {},
     "output_type": "execute_result"
    }
   ],
   "execution_count": 38
  },
  {
   "metadata": {},
   "cell_type": "markdown",
   "source": "### memory",
   "id": "c318c8138be15a3c"
  },
  {
   "metadata": {
    "ExecuteTime": {
     "end_time": "2024-08-28T14:32:56.546445Z",
     "start_time": "2024-08-28T14:32:56.534932Z"
    }
   },
   "cell_type": "code",
   "source": [
    "before = id(Y)\n",
    "before"
   ],
   "id": "5a7e764f2c494de9",
   "outputs": [
    {
     "data": {
      "text/plain": [
       "1941361513856"
      ]
     },
     "execution_count": 43,
     "metadata": {},
     "output_type": "execute_result"
    }
   ],
   "execution_count": 43
  },
  {
   "metadata": {
    "ExecuteTime": {
     "end_time": "2024-08-28T14:35:10.983575Z",
     "start_time": "2024-08-28T14:35:10.976060Z"
    }
   },
   "cell_type": "code",
   "source": "Y = Y + X",
   "id": "4761ccbaaaf74f4f",
   "outputs": [],
   "execution_count": 47
  },
  {
   "metadata": {
    "ExecuteTime": {
     "end_time": "2024-08-28T14:35:12.204233Z",
     "start_time": "2024-08-28T14:35:12.185693Z"
    }
   },
   "cell_type": "code",
   "source": [
    "# 内存地址有改变，说明数值的更新并不是原地更新\n",
    "id(Y), id(Y) == before"
   ],
   "id": "b5ec36cf0624b1d7",
   "outputs": [
    {
     "data": {
      "text/plain": [
       "(1941361520496, False)"
      ]
     },
     "execution_count": 48,
     "metadata": {},
     "output_type": "execute_result"
    }
   ],
   "execution_count": 48
  },
  {
   "metadata": {},
   "cell_type": "markdown",
   "source": [
    "这是不可取的，原因有两个：\n",
    "1. 首先，我们不想总是不必要地分配内存。在机器学习中，我们可能有数百兆的参数，并且在一秒内多次更新所有参数。通常情况下，我们希望原地执行这些更新；\n",
    "2. 如果我们不原地更新，其他引用仍然会指向旧的内存位置，这样我们的某些代码可能会无意中引用旧的参数。"
   ],
   "id": "ee7368b2a6f34fdf"
  },
  {
   "metadata": {
    "ExecuteTime": {
     "end_time": "2024-08-28T14:37:04.238210Z",
     "start_time": "2024-08-28T14:37:04.233701Z"
    }
   },
   "cell_type": "code",
   "source": [
    "before = id(X)\n",
    "X += Y\n",
    "id(X) == before"
   ],
   "id": "c5511412509b8be0",
   "outputs": [
    {
     "data": {
      "text/plain": [
       "True"
      ]
     },
     "execution_count": 51,
     "metadata": {},
     "output_type": "execute_result"
    }
   ],
   "execution_count": 51
  },
  {
   "metadata": {},
   "cell_type": "markdown",
   "source": "自增等操作可以原地赋值",
   "id": "81861d4a2e46c8db"
  },
  {
   "metadata": {
    "ExecuteTime": {
     "end_time": "2024-08-28T14:36:24.321928Z",
     "start_time": "2024-08-28T14:36:24.308424Z"
    }
   },
   "cell_type": "code",
   "source": [
    "Z = torch.zeros_like(Y)\n",
    "print('id(Z):', id(Z))\n",
    "Z[:] = X + Y\n",
    "print('id(Z):', id(Z))"
   ],
   "id": "88ec1f30999550db",
   "outputs": [
    {
     "name": "stdout",
     "output_type": "stream",
     "text": [
      "id(Z): 1941361517696\n",
      "id(Z): 1941361517696\n"
     ]
    }
   ],
   "execution_count": 50
  },
  {
   "metadata": {},
   "cell_type": "markdown",
   "source": "Z[:]可以在原数据上操作",
   "id": "55c1657d9b17970f"
  }
 ],
 "metadata": {
  "kernelspec": {
   "display_name": "Python 3",
   "language": "python",
   "name": "python3"
  },
  "language_info": {
   "codemirror_mode": {
    "name": "ipython",
    "version": 2
   },
   "file_extension": ".py",
   "mimetype": "text/x-python",
   "name": "python",
   "nbconvert_exporter": "python",
   "pygments_lexer": "ipython2",
   "version": "2.7.6"
  }
 },
 "nbformat": 4,
 "nbformat_minor": 5
}

{
 "cells": [
  {
   "metadata": {},
   "cell_type": "markdown",
   "source": "# 3.2. Object-Oriented Design for Implementation",
   "id": "2efb02da7e0ec8b6"
  },
  {
   "metadata": {
    "ExecuteTime": {
     "end_time": "2024-09-03T11:56:19.389662Z",
     "start_time": "2024-09-03T11:56:17.244727Z"
    }
   },
   "cell_type": "code",
   "source": [
    "import time\n",
    "import numpy as np\n",
    "import torch\n",
    "from torch import nn\n",
    "from d2l import torch as d2l"
   ],
   "id": "a4aced0ffda68dad",
   "outputs": [],
   "execution_count": 1
  },
  {
   "metadata": {},
   "cell_type": "markdown",
   "source": "## 3.2.1. Utilities",
   "id": "5349cb985b994deb"
  },
  {
   "metadata": {
    "ExecuteTime": {
     "end_time": "2024-09-03T11:56:19.404671Z",
     "start_time": "2024-09-03T11:56:19.390669Z"
    }
   },
   "cell_type": "code",
   "source": [
    "def add_to_class(Class):  #@save\n",
    "    \"\"\"Register functions as methods in created class.\"\"\"\n",
    "    def wrapper(obj):\n",
    "        setattr(Class, obj.__name__, obj)\n",
    "    return wrapper"
   ],
   "id": "bab5d3aed1129896",
   "outputs": [],
   "execution_count": 2
  },
  {
   "metadata": {
    "ExecuteTime": {
     "end_time": "2024-09-03T11:56:19.420110Z",
     "start_time": "2024-09-03T11:56:19.405672Z"
    }
   },
   "cell_type": "code",
   "source": [
    "class A:\n",
    "    def __init__(self):\n",
    "        self.b = 1\n",
    "\n",
    "a = A()"
   ],
   "id": "afffe76cb2b9193d",
   "outputs": [],
   "execution_count": 3
  },
  {
   "metadata": {
    "ExecuteTime": {
     "end_time": "2024-09-03T11:56:19.436109Z",
     "start_time": "2024-09-03T11:56:19.421110Z"
    }
   },
   "cell_type": "code",
   "source": [
    "@add_to_class(A)\n",
    "def do(self):\n",
    "    print('Class attribute \"b\" is', self.b)\n",
    "\n",
    "a.do()"
   ],
   "id": "a488f87a86f07c19",
   "outputs": [
    {
     "name": "stdout",
     "output_type": "stream",
     "text": [
      "Class attribute \"b\" is 1\n"
     ]
    }
   ],
   "execution_count": 4
  },
  {
   "metadata": {
    "ExecuteTime": {
     "end_time": "2024-09-03T11:56:19.450922Z",
     "start_time": "2024-09-03T11:56:19.437111Z"
    }
   },
   "cell_type": "code",
   "source": [
    "class B:\n",
    "    def __init__(self):\n",
    "        self.b = 2"
   ],
   "id": "e50240f26f2d14ce",
   "outputs": [],
   "execution_count": 5
  },
  {
   "metadata": {
    "ExecuteTime": {
     "end_time": "2024-09-03T11:56:19.466923Z",
     "start_time": "2024-09-03T11:56:19.451924Z"
    }
   },
   "cell_type": "code",
   "source": [
    "@add_to_class(B)\n",
    "def show_b(self):\n",
    "    print(\"Class attribute 'b' is\", self.b)\n",
    "    \n",
    "b = B()\n",
    "b.show_b()"
   ],
   "id": "9a6440090be08a00",
   "outputs": [
    {
     "name": "stdout",
     "output_type": "stream",
     "text": [
      "Class attribute 'b' is 2\n"
     ]
    }
   ],
   "execution_count": 6
  },
  {
   "metadata": {
    "ExecuteTime": {
     "end_time": "2024-09-03T12:07:01.027728Z",
     "start_time": "2024-09-03T12:07:01.009955Z"
    }
   },
   "cell_type": "code",
   "source": [
    "class HyperParameters:  #@save\n",
    "    \"\"\"The base class of hyperparameters.\"\"\"\n",
    "    def save_hyperparameters(self, ignore=[]):\n",
    "        raise NotImplemented"
   ],
   "id": "90737fe83d9bc4b8",
   "outputs": [],
   "execution_count": 8
  },
  {
   "metadata": {
    "ExecuteTime": {
     "end_time": "2024-09-03T12:07:01.351470Z",
     "start_time": "2024-09-03T12:07:01.342463Z"
    }
   },
   "cell_type": "code",
   "source": [
    "# Call the fully implemented HyperParameters class saved in d2l\n",
    "class B(d2l.HyperParameters):\n",
    "    def __init__(self, a, b, c):\n",
    "        self.save_hyperparameters(ignore=['c'])\n",
    "        print('self.a =', self.a, 'self.b =', self.b)\n",
    "        print('There is no self.c =', not hasattr(self, 'c'))\n",
    "\n",
    "b = B(a=1, b=2, c=3)"
   ],
   "id": "56209c953f8ac675",
   "outputs": [
    {
     "name": "stdout",
     "output_type": "stream",
     "text": [
      "self.a = 1 self.b = 2\n",
      "There is no self.c = True\n"
     ]
    }
   ],
   "execution_count": 9
  },
  {
   "metadata": {
    "ExecuteTime": {
     "end_time": "2024-09-03T12:09:01.263527Z",
     "start_time": "2024-09-03T12:09:01.248018Z"
    }
   },
   "cell_type": "code",
   "source": [
    "class ProgressBoard(d2l.HyperParameters):  #@save\n",
    "    \"\"\"The board that plots data points in animation.\"\"\"\n",
    "    def __init__(self, xlabel=None, ylabel=None, xlim=None,\n",
    "                 ylim=None, xscale='linear', yscale='linear',\n",
    "                 ls=['-', '--', '-.', ':'], colors=['C0', 'C1', 'C2', 'C3'],\n",
    "                 fig=None, axes=None, figsize=(3.5, 2.5), display=True):\n",
    "        self.save_hyperparameters()\n",
    "\n",
    "    def draw(self, x, y, label, every_n=1):\n",
    "        raise NotImplemented"
   ],
   "id": "5e8e9eab3054677a",
   "outputs": [],
   "execution_count": 10
  },
  {
   "metadata": {},
   "cell_type": "code",
   "source": [
    "board = d2l.ProgressBoard('x')\n",
    "for x in np.arange(0, 10, 0.1):\n",
    "    board.draw(x, np.sin(x), 'sin', every_n=2)\n",
    "    board.draw(x, np.cos(x), 'cos', every_n=10)"
   ],
   "id": "85f029e597b9c571",
   "execution_count": 12,
   "outputs": []
  },
  {
   "metadata": {},
   "cell_type": "code",
   "outputs": [],
   "execution_count": null,
   "source": "",
   "id": "f3f60a5493adb36d"
  }
 ],
 "metadata": {
  "kernelspec": {
   "display_name": "Python 3",
   "language": "python",
   "name": "python3"
  },
  "language_info": {
   "codemirror_mode": {
    "name": "ipython",
    "version": 2
   },
   "file_extension": ".py",
   "mimetype": "text/x-python",
   "name": "python",
   "nbconvert_exporter": "python",
   "pygments_lexer": "ipython2",
   "version": "2.7.6"
  }
 },
 "nbformat": 4,
 "nbformat_minor": 5
}

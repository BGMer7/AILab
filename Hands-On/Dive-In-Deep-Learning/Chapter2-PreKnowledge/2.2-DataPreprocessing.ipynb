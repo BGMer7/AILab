{
 "cells": [
  {
   "cell_type": "code",
   "id": "initial_id",
   "metadata": {
    "collapsed": true,
    "ExecuteTime": {
     "end_time": "2024-08-29T14:36:59.849368Z",
     "start_time": "2024-08-29T14:36:57.929018Z"
    }
   },
   "source": [
    "import pandas as pd\n",
    "import torch"
   ],
   "outputs": [],
   "execution_count": 13
  },
  {
   "metadata": {
    "ExecuteTime": {
     "end_time": "2024-08-29T14:36:59.864914Z",
     "start_time": "2024-08-29T14:36:59.851369Z"
    }
   },
   "cell_type": "code",
   "source": [
    "import os\n",
    "\n",
    "os.makedirs(os.path.join('..', 'data'), exist_ok=True)\n",
    "data_file = os.path.join('..', 'data', 'house_tiny.csv')\n",
    "with open(data_file, 'w') as f:\n",
    "    f.write('''NumRooms,RoofType,Price\n",
    "NA,NA,127500\n",
    "2,NA,106000\n",
    "4,Slate,178100\n",
    "NA,NA,140000''')"
   ],
   "id": "903ab475b67707ff",
   "outputs": [],
   "execution_count": 14
  },
  {
   "metadata": {
    "ExecuteTime": {
     "end_time": "2024-08-29T14:36:59.880809Z",
     "start_time": "2024-08-29T14:36:59.866437Z"
    }
   },
   "cell_type": "code",
   "source": [
    "data = pd.read_csv(data_file)\n",
    "print(data)"
   ],
   "id": "50ea93e1e9b8e7f1",
   "outputs": [
    {
     "name": "stdout",
     "output_type": "stream",
     "text": [
      "   NumRooms RoofType   Price\n",
      "0       NaN      NaN  127500\n",
      "1       2.0      NaN  106000\n",
      "2       4.0    Slate  178100\n",
      "3       NaN      NaN  140000\n"
     ]
    }
   ],
   "execution_count": 15
  },
  {
   "metadata": {},
   "cell_type": "markdown",
   "source": [
    "由于目前的数据来看，RoofType只有两种情况，NaN和Slate，因此可以用true和false来表示\n",
    "\n",
    "实际上get_dummies就是将数据转换成OneHot编码"
   ],
   "id": "e959cbc722e35846"
  },
  {
   "metadata": {
    "ExecuteTime": {
     "end_time": "2024-08-29T14:36:59.896810Z",
     "start_time": "2024-08-29T14:36:59.881812Z"
    }
   },
   "cell_type": "code",
   "source": [
    "inputs, targets = data.iloc[:, 0:2], data.iloc[:, 2]\n",
    "inputs = pd.get_dummies(inputs, dummy_na=True)\n",
    "print(inputs)"
   ],
   "id": "ba36befb7e76ba3c",
   "outputs": [
    {
     "name": "stdout",
     "output_type": "stream",
     "text": [
      "   NumRooms  RoofType_Slate  RoofType_nan\n",
      "0       NaN           False          True\n",
      "1       2.0           False          True\n",
      "2       4.0            True         False\n",
      "3       NaN           False          True\n"
     ]
    }
   ],
   "execution_count": 16
  },
  {
   "metadata": {
    "ExecuteTime": {
     "end_time": "2024-08-29T14:36:59.912928Z",
     "start_time": "2024-08-29T14:36:59.899813Z"
    }
   },
   "cell_type": "code",
   "source": [
    "inputs = inputs.fillna(inputs.mean())\n",
    "print(inputs)"
   ],
   "id": "f7b46805242f64f6",
   "outputs": [
    {
     "name": "stdout",
     "output_type": "stream",
     "text": [
      "   NumRooms  RoofType_Slate  RoofType_nan\n",
      "0       3.0           False          True\n",
      "1       2.0           False          True\n",
      "2       4.0            True         False\n",
      "3       3.0           False          True\n"
     ]
    }
   ],
   "execution_count": 17
  },
  {
   "metadata": {},
   "cell_type": "markdown",
   "source": "## practice",
   "id": "2e5b2fd76e55a7c3"
  },
  {
   "metadata": {},
   "cell_type": "markdown",
   "source": "### 1. 删除缺失值数目最多的列",
   "id": "71d8fb7dfe9f1971"
  },
  {
   "metadata": {
    "ExecuteTime": {
     "end_time": "2024-08-29T14:36:59.927879Z",
     "start_time": "2024-08-29T14:36:59.913930Z"
    }
   },
   "cell_type": "code",
   "source": [
    "def delete_num_of_nan_column(df):\n",
    "    max_nan_num = 0\n",
    "    max_nan_col = ''\n",
    "    for col in df.columns:\n",
    "        print(col)\n",
    "        col_nan = df[col].isna().sum()\n",
    "        if col_nan > max_nan_num:\n",
    "            max_nan_col = col\n",
    "            max_nan_num = col_nan\n",
    "    df.drop(max_nan_col, axis=1, inplace=True)\n",
    "    \n",
    "test_df = pd.read_csv(data_file)\n",
    "print(test_df)\n",
    "delete_num_of_nan_column(test_df)\n",
    "print(test_df)\n"
   ],
   "id": "d5a91046487773a5",
   "outputs": [
    {
     "name": "stdout",
     "output_type": "stream",
     "text": [
      "   NumRooms RoofType   Price\n",
      "0       NaN      NaN  127500\n",
      "1       2.0      NaN  106000\n",
      "2       4.0    Slate  178100\n",
      "3       NaN      NaN  140000\n",
      "NumRooms\n",
      "RoofType\n",
      "Price\n",
      "   NumRooms   Price\n",
      "0       NaN  127500\n",
      "1       2.0  106000\n",
      "2       4.0  178100\n",
      "3       NaN  140000\n"
     ]
    }
   ],
   "execution_count": 18
  },
  {
   "metadata": {},
   "cell_type": "markdown",
   "source": "### 2. 将预处理后的数据集转换为张量格式",
   "id": "3cf4457e0ba0cb47"
  },
  {
   "metadata": {
    "ExecuteTime": {
     "end_time": "2024-08-29T14:45:07.222755Z",
     "start_time": "2024-08-29T14:45:07.203755Z"
    }
   },
   "cell_type": "code",
   "source": "type(inputs)",
   "id": "1a86d2972d4671e9",
   "outputs": [
    {
     "data": {
      "text/plain": [
       "pandas.core.frame.DataFrame"
      ]
     },
     "execution_count": 23,
     "metadata": {},
     "output_type": "execute_result"
    }
   ],
   "execution_count": 23
  },
  {
   "metadata": {
    "ExecuteTime": {
     "end_time": "2024-08-29T15:02:47.197069Z",
     "start_time": "2024-08-29T15:02:47.191013Z"
    }
   },
   "cell_type": "code",
   "source": "type(inputs.values)",
   "id": "8598d7303540bf9c",
   "outputs": [
    {
     "data": {
      "text/plain": [
       "numpy.ndarray"
      ]
     },
     "execution_count": 32,
     "metadata": {},
     "output_type": "execute_result"
    }
   ],
   "execution_count": 32
  },
  {
   "metadata": {
    "ExecuteTime": {
     "end_time": "2024-08-29T14:47:39.245006Z",
     "start_time": "2024-08-29T14:47:39.236195Z"
    }
   },
   "cell_type": "code",
   "source": "inputs.values",
   "id": "b478bd61fca6adfe",
   "outputs": [],
   "execution_count": null
  },
  {
   "metadata": {
    "ExecuteTime": {
     "end_time": "2024-08-29T14:45:31.734586Z",
     "start_time": "2024-08-29T14:45:31.717542Z"
    }
   },
   "cell_type": "code",
   "source": "torch.tensor(inputs.values)",
   "id": "9a83241c1621f55b",
   "outputs": [
    {
     "ename": "TypeError",
     "evalue": "can't convert np.ndarray of type numpy.object_. The only supported types are: float64, float32, float16, complex64, complex128, int64, int32, int16, int8, uint64, uint32, uint16, uint8, and bool.",
     "output_type": "error",
     "traceback": [
      "\u001B[1;31m---------------------------------------------------------------------------\u001B[0m",
      "\u001B[1;31mTypeError\u001B[0m                                 Traceback (most recent call last)",
      "Cell \u001B[1;32mIn[25], line 1\u001B[0m\n\u001B[1;32m----> 1\u001B[0m \u001B[43mtorch\u001B[49m\u001B[38;5;241;43m.\u001B[39;49m\u001B[43mtensor\u001B[49m\u001B[43m(\u001B[49m\u001B[43minputs\u001B[49m\u001B[38;5;241;43m.\u001B[39;49m\u001B[43mvalues\u001B[49m\u001B[43m)\u001B[49m\n",
      "\u001B[1;31mTypeError\u001B[0m: can't convert np.ndarray of type numpy.object_. The only supported types are: float64, float32, float16, complex64, complex128, int64, int32, int16, int8, uint64, uint32, uint16, uint8, and bool."
     ]
    }
   ],
   "execution_count": 25
  },
  {
   "metadata": {
    "ExecuteTime": {
     "end_time": "2024-08-29T15:03:07.252628Z",
     "start_time": "2024-08-29T15:03:07.244628Z"
    }
   },
   "cell_type": "code",
   "source": "inputs.values.dtype",
   "id": "a9c4ed9ef866755e",
   "outputs": [
    {
     "data": {
      "text/plain": [
       "dtype('O')"
      ]
     },
     "execution_count": 33,
     "metadata": {},
     "output_type": "execute_result"
    }
   ],
   "execution_count": 33
  },
  {
   "metadata": {},
   "cell_type": "markdown",
   "source": [
    "当您遇到 \"can't convert np.ndarray of type numpy.object_\" 这样的错误时，通常是因为 NumPy 数组中包含了混合类型的数据或者复杂对象。这种情况下，NumPy 会将数组的 dtype（数据类型）设置为 'object'，这可能会导致某些转换操作失败。\n",
    "\n",
    "可能的解决方案：\n",
    "\n",
    "a. 使用 tolist() 方法：\n",
    "将 NumPy 数组转换为 Python 列表，然后创建 DataFrame。\n",
    "这种方法适用于简单的混合类型数组。\n",
    "\n",
    "b. 创建单列 DataFrame：\n",
    "将整个数组作为单一列添加到 DataFrame 中。\n",
    "这保留了原始数据结构，但可能不适合需要多列数据的情况。\n",
    "\n",
    "c. 预处理数据：\n",
    "在转换之前处理特定类型的数据（例如，将列表转换为字符串）。\n",
    "这种方法允许您根据具体需求自定义数据转换。"
   ],
   "id": "98dbf9145d382059"
  },
  {
   "metadata": {
    "ExecuteTime": {
     "end_time": "2024-08-29T15:03:12.199830Z",
     "start_time": "2024-08-29T15:03:12.184504Z"
    }
   },
   "cell_type": "code",
   "source": [
    "import numpy as np\n",
    "import pandas as pd\n",
    "\n",
    "# 创建一个包含混合类型的 NumPy 数组\n",
    "mixed_array = np.array([1, 'two', 3.0, [4, 5]], dtype=object)\n",
    "\n",
    "print(\"混合类型数组:\")\n",
    "print(mixed_array)\n",
    "print(\"数组的数据类型:\", mixed_array.dtype)\n",
    "\n",
    "# 尝试转换为 DataFrame（这可能会引发错误）\n",
    "try:\n",
    "    df = pd.DataFrame(mixed_array)\n",
    "    print(\"成功转换为 DataFrame:\")\n",
    "    print(df)\n",
    "except Exception as e:\n",
    "    print(\"转换失败:\", str(e))\n",
    "\n",
    "# 解决方案 1: 将数组转换为列表，然后创建 DataFrame\n",
    "df_from_list = pd.DataFrame(mixed_array.tolist())\n",
    "print(\"\\n使用 tolist() 转换后的 DataFrame:\")\n",
    "print(df_from_list)\n",
    "\n",
    "# 解决方案 2: 创建单列 DataFrame\n",
    "df_single_column = pd.DataFrame({'mixed_data': mixed_array})\n",
    "print(\"\\n单列 DataFrame:\")\n",
    "print(df_single_column)\n",
    "\n",
    "# 解决方案 3: 处理特定类型（例如，将列表转换为字符串）\n",
    "processed_array = np.array([str(item) if isinstance(item, list) else item for item in mixed_array])\n",
    "df_processed = pd.DataFrame(processed_array)\n",
    "print(\"\\n处理后的 DataFrame:\")\n",
    "print(df_processed)"
   ],
   "id": "4f9e47958f544558",
   "outputs": [
    {
     "name": "stdout",
     "output_type": "stream",
     "text": [
      "混合类型数组:\n",
      "[1 'two' 3.0 list([4, 5])]\n",
      "数组的数据类型: object\n",
      "成功转换为 DataFrame:\n",
      "        0\n",
      "0       1\n",
      "1     two\n",
      "2     3.0\n",
      "3  [4, 5]\n",
      "\n",
      "使用 tolist() 转换后的 DataFrame:\n",
      "        0\n",
      "0       1\n",
      "1     two\n",
      "2     3.0\n",
      "3  [4, 5]\n",
      "\n",
      "单列 DataFrame:\n",
      "  mixed_data\n",
      "0          1\n",
      "1        two\n",
      "2        3.0\n",
      "3     [4, 5]\n",
      "\n",
      "处理后的 DataFrame:\n",
      "        0\n",
      "0       1\n",
      "1     two\n",
      "2     3.0\n",
      "3  [4, 5]\n"
     ]
    }
   ],
   "execution_count": 34
  },
  {
   "metadata": {
    "ExecuteTime": {
     "end_time": "2024-08-29T15:05:11.602991Z",
     "start_time": "2024-08-29T15:05:11.588990Z"
    }
   },
   "cell_type": "code",
   "source": "inputs.values.tolist()",
   "id": "bb794a9851f1162e",
   "outputs": [
    {
     "data": {
      "text/plain": [
       "[[3.0, False, True],\n",
       " [2.0, False, True],\n",
       " [4.0, True, False],\n",
       " [3.0, False, True]]"
      ]
     },
     "execution_count": 35,
     "metadata": {},
     "output_type": "execute_result"
    }
   ],
   "execution_count": 35
  },
  {
   "metadata": {
    "ExecuteTime": {
     "end_time": "2024-08-29T15:05:23.754315Z",
     "start_time": "2024-08-29T15:05:23.744314Z"
    }
   },
   "cell_type": "code",
   "source": "torch.tensor(inputs.values.tolist())",
   "id": "b1f86f6fcba313b6",
   "outputs": [
    {
     "data": {
      "text/plain": [
       "tensor([[3., 0., 1.],\n",
       "        [2., 0., 1.],\n",
       "        [4., 1., 0.],\n",
       "        [3., 0., 1.]])"
      ]
     },
     "execution_count": 36,
     "metadata": {},
     "output_type": "execute_result"
    }
   ],
   "execution_count": 36
  },
  {
   "metadata": {},
   "cell_type": "code",
   "outputs": [],
   "execution_count": null,
   "source": "",
   "id": "2928a64bde486dd9"
  }
 ],
 "metadata": {
  "kernelspec": {
   "display_name": "Python 3",
   "language": "python",
   "name": "python3"
  },
  "language_info": {
   "codemirror_mode": {
    "name": "ipython",
    "version": 2
   },
   "file_extension": ".py",
   "mimetype": "text/x-python",
   "name": "python",
   "nbconvert_exporter": "python",
   "pygments_lexer": "ipython2",
   "version": "2.7.6"
  }
 },
 "nbformat": 4,
 "nbformat_minor": 5
}

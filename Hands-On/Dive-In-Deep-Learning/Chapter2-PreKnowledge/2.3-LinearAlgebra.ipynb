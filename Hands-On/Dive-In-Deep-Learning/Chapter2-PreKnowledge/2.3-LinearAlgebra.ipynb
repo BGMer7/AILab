{
 "cells": [
  {
   "cell_type": "code",
   "id": "initial_id",
   "metadata": {
    "collapsed": true,
    "ExecuteTime": {
     "end_time": "2024-09-01T05:56:04.311340Z",
     "start_time": "2024-09-01T05:56:01.736028Z"
    }
   },
   "source": "import torch",
   "outputs": [],
   "execution_count": 1
  },
  {
   "metadata": {},
   "cell_type": "markdown",
   "source": "## 2.3.1 Scalars 标量",
   "id": "643fb167d84c6e01"
  },
  {
   "metadata": {},
   "cell_type": "markdown",
   "source": "## 2.3.2 Vectors 向量",
   "id": "cf63472260a28f1b"
  },
  {
   "metadata": {},
   "cell_type": "markdown",
   "source": "## 2.3.3. Matrices 矩阵",
   "id": "3e53e0b007dc65a6"
  },
  {
   "metadata": {
    "ExecuteTime": {
     "end_time": "2024-09-01T05:56:04.341953Z",
     "start_time": "2024-09-01T05:56:04.312341Z"
    }
   },
   "cell_type": "code",
   "source": [
    "A = torch.arange(6).reshape(2, 3)\n",
    "A"
   ],
   "id": "9cfc8540a80ca7aa",
   "outputs": [
    {
     "data": {
      "text/plain": [
       "tensor([[0, 1, 2],\n",
       "        [3, 4, 5]])"
      ]
     },
     "execution_count": 2,
     "metadata": {},
     "output_type": "execute_result"
    }
   ],
   "execution_count": 2
  },
  {
   "metadata": {
    "ExecuteTime": {
     "end_time": "2024-09-01T05:56:04.358149Z",
     "start_time": "2024-09-01T05:56:04.342955Z"
    }
   },
   "cell_type": "code",
   "source": [
    "# flip the axes 翻转坐标轴，也就是矩阵的转置\n",
    "A.t()"
   ],
   "id": "e186366a0653e905",
   "outputs": [
    {
     "data": {
      "text/plain": [
       "tensor([[0, 3],\n",
       "        [1, 4],\n",
       "        [2, 5]])"
      ]
     },
     "execution_count": 3,
     "metadata": {},
     "output_type": "execute_result"
    }
   ],
   "execution_count": 3
  },
  {
   "metadata": {
    "ExecuteTime": {
     "end_time": "2024-09-01T05:56:04.373511Z",
     "start_time": "2024-09-01T05:56:04.360075Z"
    }
   },
   "cell_type": "code",
   "source": "A.T",
   "id": "8c953e3df07f1467",
   "outputs": [
    {
     "data": {
      "text/plain": [
       "tensor([[0, 3],\n",
       "        [1, 4],\n",
       "        [2, 5]])"
      ]
     },
     "execution_count": 4,
     "metadata": {},
     "output_type": "execute_result"
    }
   ],
   "execution_count": 4
  },
  {
   "metadata": {},
   "cell_type": "markdown",
   "source": "## 2.3.4 Tensors",
   "id": "3666b9326fce1969"
  },
  {
   "metadata": {
    "ExecuteTime": {
     "end_time": "2024-09-01T05:56:04.389376Z",
     "start_time": "2024-09-01T05:56:04.375512Z"
    }
   },
   "cell_type": "code",
   "source": "torch.arange(24).reshape(2, 3, 4)",
   "id": "408af5f0fca73c08",
   "outputs": [
    {
     "data": {
      "text/plain": [
       "tensor([[[ 0,  1,  2,  3],\n",
       "         [ 4,  5,  6,  7],\n",
       "         [ 8,  9, 10, 11]],\n",
       "\n",
       "        [[12, 13, 14, 15],\n",
       "         [16, 17, 18, 19],\n",
       "         [20, 21, 22, 23]]])"
      ]
     },
     "execution_count": 5,
     "metadata": {},
     "output_type": "execute_result"
    }
   ],
   "execution_count": 5
  },
  {
   "metadata": {},
   "cell_type": "markdown",
   "source": "## 2.3.5. Basic Properties of Tensor Arithmetic 张量运算基础",
   "id": "11db18c3d3a5023c"
  },
  {
   "metadata": {
    "ExecuteTime": {
     "end_time": "2024-09-01T05:56:04.435621Z",
     "start_time": "2024-09-01T05:56:04.390887Z"
    }
   },
   "cell_type": "code",
   "source": [
    "A = torch.arange(6, dtype=torch.float32).reshape(2, 3)\n",
    "B = A.clone()  # Assign a copy of A to B by allocating new memory\n",
    "C = torch.arange(6, dtype=torch.int32).reshape(2, 3) # int的默认数据格式是int64，当显式创建为int32时，就会特意标注dtype\n",
    "D = torch.arange(6).reshape(2, 3)\n",
    "A, A + B, C, D"
   ],
   "id": "4c03b465c4ca5a57",
   "outputs": [
    {
     "data": {
      "text/plain": [
       "(tensor([[0., 1., 2.],\n",
       "         [3., 4., 5.]]),\n",
       " tensor([[ 0.,  2.,  4.],\n",
       "         [ 6.,  8., 10.]]),\n",
       " tensor([[0, 1, 2],\n",
       "         [3, 4, 5]], dtype=torch.int32),\n",
       " tensor([[0, 1, 2],\n",
       "         [3, 4, 5]]))"
      ]
     },
     "execution_count": 6,
     "metadata": {},
     "output_type": "execute_result"
    }
   ],
   "execution_count": 6
  },
  {
   "metadata": {
    "ExecuteTime": {
     "end_time": "2024-09-01T05:56:04.450739Z",
     "start_time": "2024-09-01T05:56:04.437132Z"
    }
   },
   "cell_type": "code",
   "source": "D.dtype",
   "id": "b0203820fe7504aa",
   "outputs": [
    {
     "data": {
      "text/plain": [
       "torch.int64"
      ]
     },
     "execution_count": 7,
     "metadata": {},
     "output_type": "execute_result"
    }
   ],
   "execution_count": 7
  },
  {
   "metadata": {
    "ExecuteTime": {
     "end_time": "2024-09-01T05:57:14.830846Z",
     "start_time": "2024-09-01T05:57:14.818033Z"
    }
   },
   "cell_type": "code",
   "source": "A * B",
   "id": "c6f7b601de06726d",
   "outputs": [
    {
     "data": {
      "text/plain": [
       "tensor([[ 0.,  1.,  4.],\n",
       "        [ 9., 16., 25.]])"
      ]
     },
     "execution_count": 8,
     "metadata": {},
     "output_type": "execute_result"
    }
   ],
   "execution_count": 8
  },
  {
   "metadata": {
    "ExecuteTime": {
     "end_time": "2024-09-01T05:58:04.424801Z",
     "start_time": "2024-09-01T05:58:04.411775Z"
    }
   },
   "cell_type": "code",
   "source": [
    "a = 2\n",
    "X = torch.arange(24).reshape(2, 3, 4)\n",
    "X"
   ],
   "id": "157b2b46e8cdfc46",
   "outputs": [
    {
     "data": {
      "text/plain": [
       "tensor([[[ 0,  1,  2,  3],\n",
       "         [ 4,  5,  6,  7],\n",
       "         [ 8,  9, 10, 11]],\n",
       "\n",
       "        [[12, 13, 14, 15],\n",
       "         [16, 17, 18, 19],\n",
       "         [20, 21, 22, 23]]])"
      ]
     },
     "execution_count": 12,
     "metadata": {},
     "output_type": "execute_result"
    }
   ],
   "execution_count": 12
  },
  {
   "metadata": {
    "ExecuteTime": {
     "end_time": "2024-09-01T05:58:06.787693Z",
     "start_time": "2024-09-01T05:58:06.782694Z"
    }
   },
   "cell_type": "code",
   "source": "a + X, (a * X).shape",
   "id": "9f3984127fdf94cd",
   "outputs": [
    {
     "data": {
      "text/plain": [
       "(tensor([[[ 2,  3,  4,  5],\n",
       "          [ 6,  7,  8,  9],\n",
       "          [10, 11, 12, 13]],\n",
       " \n",
       "         [[14, 15, 16, 17],\n",
       "          [18, 19, 20, 21],\n",
       "          [22, 23, 24, 25]]]),\n",
       " torch.Size([2, 3, 4]))"
      ]
     },
     "execution_count": 13,
     "metadata": {},
     "output_type": "execute_result"
    }
   ],
   "execution_count": 13
  },
  {
   "metadata": {},
   "cell_type": "markdown",
   "source": "## 2.3.6 Reduction 降维",
   "id": "b16cd8d4a741666e"
  },
  {
   "metadata": {
    "ExecuteTime": {
     "end_time": "2024-09-01T06:12:06.176384Z",
     "start_time": "2024-09-01T06:12:06.156784Z"
    }
   },
   "cell_type": "code",
   "source": [
    "x = torch.arange(12, dtype=torch.float32).reshape(3, 4)\n",
    "x"
   ],
   "id": "7d3e88ef34e0534d",
   "outputs": [
    {
     "data": {
      "text/plain": [
       "tensor([[ 0.,  1.,  2.,  3.],\n",
       "        [ 4.,  5.,  6.,  7.],\n",
       "        [ 8.,  9., 10., 11.]])"
      ]
     },
     "execution_count": 39,
     "metadata": {},
     "output_type": "execute_result"
    }
   ],
   "execution_count": 39
  },
  {
   "metadata": {
    "ExecuteTime": {
     "end_time": "2024-09-01T06:12:06.348672Z",
     "start_time": "2024-09-01T06:12:06.343671Z"
    }
   },
   "cell_type": "code",
   "source": "x.sum(axis = 0)",
   "id": "344e2dd7f9def123",
   "outputs": [
    {
     "data": {
      "text/plain": [
       "tensor([12., 15., 18., 21.])"
      ]
     },
     "execution_count": 40,
     "metadata": {},
     "output_type": "execute_result"
    }
   ],
   "execution_count": 40
  },
  {
   "metadata": {},
   "cell_type": "code",
   "outputs": [
    {
     "data": {
      "text/plain": [
       "tensor([ 6., 22., 38.])"
      ]
     },
     "execution_count": 21,
     "metadata": {},
     "output_type": "execute_result"
    }
   ],
   "execution_count": 21,
   "source": "x.sum(axis = 1)",
   "id": "a36347ba01ed8c19"
  },
  {
   "metadata": {
    "ExecuteTime": {
     "end_time": "2024-09-01T06:05:07.953537Z",
     "start_time": "2024-09-01T06:05:07.939455Z"
    }
   },
   "cell_type": "code",
   "source": "x.sum()",
   "id": "5e5b3a8d3467875e",
   "outputs": [
    {
     "data": {
      "text/plain": [
       "tensor(66.)"
      ]
     },
     "execution_count": 22,
     "metadata": {},
     "output_type": "execute_result"
    }
   ],
   "execution_count": 22
  },
  {
   "metadata": {
    "ExecuteTime": {
     "end_time": "2024-09-01T06:05:18.636520Z",
     "start_time": "2024-09-01T06:05:18.620829Z"
    }
   },
   "cell_type": "code",
   "source": "x.sum(axis = 0)",
   "id": "82caa682680d25f7",
   "outputs": [
    {
     "data": {
      "text/plain": [
       "tensor([12., 15., 18., 21.])"
      ]
     },
     "execution_count": 23,
     "metadata": {},
     "output_type": "execute_result"
    }
   ],
   "execution_count": 23
  },
  {
   "metadata": {
    "ExecuteTime": {
     "end_time": "2024-09-01T06:06:09.004225Z",
     "start_time": "2024-09-01T06:06:08.994719Z"
    }
   },
   "cell_type": "code",
   "source": [
    "x = torch.arange(24, dtype=torch.float32).reshape(2, 3, 4)\n",
    "x"
   ],
   "id": "4b62f2d31505f5b2",
   "outputs": [
    {
     "data": {
      "text/plain": [
       "tensor([[[ 0.,  1.,  2.,  3.],\n",
       "         [ 4.,  5.,  6.,  7.],\n",
       "         [ 8.,  9., 10., 11.]],\n",
       "\n",
       "        [[12., 13., 14., 15.],\n",
       "         [16., 17., 18., 19.],\n",
       "         [20., 21., 22., 23.]]])"
      ]
     },
     "execution_count": 24,
     "metadata": {},
     "output_type": "execute_result"
    }
   ],
   "execution_count": 24
  },
  {
   "metadata": {
    "ExecuteTime": {
     "end_time": "2024-09-01T06:06:20.847702Z",
     "start_time": "2024-09-01T06:06:20.834186Z"
    }
   },
   "cell_type": "code",
   "source": "x.sum(axis = 2)",
   "id": "a565ec5f6c7a7a60",
   "outputs": [
    {
     "data": {
      "text/plain": [
       "tensor([[ 6., 22., 38.],\n",
       "        [54., 70., 86.]])"
      ]
     },
     "execution_count": 25,
     "metadata": {},
     "output_type": "execute_result"
    }
   ],
   "execution_count": 25
  },
  {
   "metadata": {
    "ExecuteTime": {
     "end_time": "2024-09-01T06:08:37.199565Z",
     "start_time": "2024-09-01T06:08:37.181548Z"
    }
   },
   "cell_type": "code",
   "source": "x.sum(axis=[0, 1, 2]) == x.sum()",
   "id": "b38e116e2d7a63f",
   "outputs": [
    {
     "data": {
      "text/plain": [
       "tensor(True)"
      ]
     },
     "execution_count": 29,
     "metadata": {},
     "output_type": "execute_result"
    }
   ],
   "execution_count": 29
  },
  {
   "metadata": {},
   "cell_type": "markdown",
   "source": "x.sum(axis=[0, 1]) == x.sum(axis = 1)",
   "id": "df82d0327437cce3"
  },
  {
   "metadata": {
    "ExecuteTime": {
     "end_time": "2024-09-01T06:26:00.729908Z",
     "start_time": "2024-09-01T06:26:00.714402Z"
    }
   },
   "cell_type": "code",
   "source": [
    "y = torch.arange(24, dtype=torch.float32).reshape(2, 3, 4)\n",
    "y"
   ],
   "id": "5a96e43a8330f514",
   "outputs": [
    {
     "data": {
      "text/plain": [
       "tensor([[[ 0.,  1.,  2.,  3.],\n",
       "         [ 4.,  5.,  6.,  7.],\n",
       "         [ 8.,  9., 10., 11.]],\n",
       "\n",
       "        [[12., 13., 14., 15.],\n",
       "         [16., 17., 18., 19.],\n",
       "         [20., 21., 22., 23.]]])"
      ]
     },
     "execution_count": 44,
     "metadata": {},
     "output_type": "execute_result"
    }
   ],
   "execution_count": 44
  },
  {
   "metadata": {
    "ExecuteTime": {
     "end_time": "2024-09-01T06:26:00.975017Z",
     "start_time": "2024-09-01T06:26:00.966841Z"
    }
   },
   "cell_type": "code",
   "source": "y.mean()",
   "id": "1de478588474c7f3",
   "outputs": [
    {
     "data": {
      "text/plain": [
       "tensor(11.5000)"
      ]
     },
     "execution_count": 45,
     "metadata": {},
     "output_type": "execute_result"
    }
   ],
   "execution_count": 45
  },
  {
   "metadata": {
    "ExecuteTime": {
     "end_time": "2024-09-01T06:26:01.472784Z",
     "start_time": "2024-09-01T06:26:01.461684Z"
    }
   },
   "cell_type": "code",
   "source": "y.sum() / y.numel()",
   "id": "194c76ed829b4b6e",
   "outputs": [
    {
     "data": {
      "text/plain": [
       "tensor(11.5000)"
      ]
     },
     "execution_count": 46,
     "metadata": {},
     "output_type": "execute_result"
    }
   ],
   "execution_count": 46
  },
  {
   "metadata": {
    "ExecuteTime": {
     "end_time": "2024-09-01T06:26:05.539999Z",
     "start_time": "2024-09-01T06:26:05.532733Z"
    }
   },
   "cell_type": "code",
   "source": "y.mean(axis = 1)",
   "id": "ac702a292b56e588",
   "outputs": [
    {
     "data": {
      "text/plain": [
       "tensor([[ 4.,  5.,  6.,  7.],\n",
       "        [16., 17., 18., 19.]])"
      ]
     },
     "execution_count": 47,
     "metadata": {},
     "output_type": "execute_result"
    }
   ],
   "execution_count": 47
  },
  {
   "metadata": {
    "ExecuteTime": {
     "end_time": "2024-09-01T06:27:04.709932Z",
     "start_time": "2024-09-01T06:27:04.701358Z"
    }
   },
   "cell_type": "code",
   "source": "y.mean(axis = 2)",
   "id": "624ca95c34b3fa7c",
   "outputs": [
    {
     "data": {
      "text/plain": [
       "tensor([[ 1.5000,  5.5000,  9.5000],\n",
       "        [13.5000, 17.5000, 21.5000]])"
      ]
     },
     "execution_count": 48,
     "metadata": {},
     "output_type": "execute_result"
    }
   ],
   "execution_count": 48
  },
  {
   "metadata": {},
   "cell_type": "markdown",
   "source": "## 2.3.7 Non-Reduction Sum 非降维求和",
   "id": "73cca909a446e77e"
  },
  {
   "metadata": {
    "ExecuteTime": {
     "end_time": "2024-09-01T06:28:44.261033Z",
     "start_time": "2024-09-01T06:28:44.249521Z"
    }
   },
   "cell_type": "code",
   "source": [
    "z = torch.arange(24).reshape(2, 3, 4)\n",
    "z"
   ],
   "id": "cc3b3d5e64ab632c",
   "outputs": [
    {
     "data": {
      "text/plain": [
       "tensor([[[ 0,  1,  2,  3],\n",
       "         [ 4,  5,  6,  7],\n",
       "         [ 8,  9, 10, 11]],\n",
       "\n",
       "        [[12, 13, 14, 15],\n",
       "         [16, 17, 18, 19],\n",
       "         [20, 21, 22, 23]]])"
      ]
     },
     "execution_count": 51,
     "metadata": {},
     "output_type": "execute_result"
    }
   ],
   "execution_count": 51
  },
  {
   "metadata": {
    "ExecuteTime": {
     "end_time": "2024-09-01T06:35:39.214685Z",
     "start_time": "2024-09-01T06:35:39.203173Z"
    }
   },
   "cell_type": "code",
   "source": "z.sum(axis=1, keepdims=True)",
   "id": "ec9cca6242522412",
   "outputs": [
    {
     "data": {
      "text/plain": [
       "tensor([[[12, 15, 18, 21]],\n",
       "\n",
       "        [[48, 51, 54, 57]]])"
      ]
     },
     "execution_count": 52,
     "metadata": {},
     "output_type": "execute_result"
    }
   ],
   "execution_count": 52
  },
  {
   "metadata": {
    "ExecuteTime": {
     "end_time": "2024-09-01T06:39:18.890639Z",
     "start_time": "2024-09-01T06:39:18.884128Z"
    }
   },
   "cell_type": "code",
   "source": [
    "# 创建一个 3x4 的张量\n",
    "x = torch.arange(12).reshape(3, 4)\n",
    "print(\"原始张量 x:\")\n",
    "print(x)\n",
    "print(\"x 的形状:\", x.shape)\n",
    "\n",
    "# 沿着第 0 维度（行）求和，不使用 keepdims\n",
    "sum_without_keepdims = torch.sum(x, dim=0)\n",
    "print(\"\\n沿行求和，不使用 keepdims:\")\n",
    "print(sum_without_keepdims)\n",
    "print(\"结果形状:\", sum_without_keepdims.shape)\n",
    "\n",
    "# 沿着第 0 维度（行）求和，使用 keepdims\n",
    "sum_with_keepdims = torch.sum(x, dim=0, keepdim=True)\n",
    "print(\"\\n沿行求和，使用 keepdims:\")\n",
    "print(sum_with_keepdims)\n",
    "print(\"结果形状:\", sum_with_keepdims.shape)\n",
    "\n",
    "# 演示广播机制\n",
    "print(\"\\n使用 keepdims 的结果可以直接与原张量操作:\")\n",
    "print(x - sum_with_keepdims)\n",
    "\n",
    "# 尝试直接用不带 keepdims 的结果进行操作\n",
    "try:\n",
    "    print(x - sum_without_keepdims)\n",
    "except RuntimeError as e:\n",
    "    print(\"错误:\", str(e))\n",
    "\n",
    "# 解决方案：手动增加维度\n",
    "print(\"\\n不使用 keepdims 时，需要手动增加维度:\")\n",
    "print(x - sum_without_keepdims.unsqueeze(0))"
   ],
   "id": "fb520dba2d624c3c",
   "outputs": [
    {
     "name": "stdout",
     "output_type": "stream",
     "text": [
      "原始张量 x:\n",
      "tensor([[ 0,  1,  2,  3],\n",
      "        [ 4,  5,  6,  7],\n",
      "        [ 8,  9, 10, 11]])\n",
      "x 的形状: torch.Size([3, 4])\n",
      "\n",
      "沿行求和，不使用 keepdims:\n",
      "tensor([12, 15, 18, 21])\n",
      "结果形状: torch.Size([4])\n",
      "\n",
      "沿行求和，使用 keepdims:\n",
      "tensor([[12, 15, 18, 21]])\n",
      "结果形状: torch.Size([1, 4])\n",
      "\n",
      "使用 keepdims 的结果可以直接与原张量操作:\n",
      "tensor([[-12, -14, -16, -18],\n",
      "        [ -8, -10, -12, -14],\n",
      "        [ -4,  -6,  -8, -10]])\n",
      "tensor([[-12, -14, -16, -18],\n",
      "        [ -8, -10, -12, -14],\n",
      "        [ -4,  -6,  -8, -10]])\n",
      "\n",
      "不使用 keepdims 时，需要手动增加维度:\n",
      "tensor([[-12, -14, -16, -18],\n",
      "        [ -8, -10, -12, -14],\n",
      "        [ -4,  -6,  -8, -10]])\n"
     ]
    }
   ],
   "execution_count": 54
  },
  {
   "metadata": {},
   "cell_type": "markdown",
   "source": "## 2.3.8 Dot Products 点积",
   "id": "7bc964753eb578db"
  },
  {
   "metadata": {},
   "cell_type": "raw",
   "source": [
    "A = | 1  2 |    B = | 5  6 |\n",
    "    | 3  4 |        | 7  8 |\n",
    "\n",
    "AB = | 1*5 + 2*7  1*6 + 2*8 | = | 19  22 |\n",
    "     | 3*5 + 4*7  3*6 + 4*8 |   | 43  50 |\n",
    "     \n",
    "A ⊙ B = | 1*5  2*6 | = |  5  12 |\n",
    "        | 3*7  4*8 |   | 21  32 |"
   ],
   "id": "4eaf0f93932bdb5a"
  },
  {
   "metadata": {
    "ExecuteTime": {
     "end_time": "2024-09-01T07:09:32.973017Z",
     "start_time": "2024-09-01T07:09:32.956857Z"
    }
   },
   "cell_type": "code",
   "source": [
    "A = torch.tensor([[1, 2], \n",
    "                  [3, 4]])\n",
    "B = torch.tensor([[5, 6], \n",
    "                  [7, 8]])\n",
    "\n",
    "v1 = torch.tensor([1, 2])\n",
    "v2 = torch.tensor([3, 4])\n",
    "\n",
    "A, B, v1, v2"
   ],
   "id": "a70bc31c687b9cde",
   "outputs": [
    {
     "data": {
      "text/plain": [
       "(tensor([[1, 2],\n",
       "         [3, 4]]),\n",
       " tensor([[5, 6],\n",
       "         [7, 8]]),\n",
       " tensor([1, 2]),\n",
       " tensor([3, 4]))"
      ]
     },
     "execution_count": 75,
     "metadata": {},
     "output_type": "execute_result"
    }
   ],
   "execution_count": 75
  },
  {
   "metadata": {
    "ExecuteTime": {
     "end_time": "2024-09-01T07:09:33.565348Z",
     "start_time": "2024-09-01T07:09:33.547659Z"
    }
   },
   "cell_type": "code",
   "source": [
    "# 1. 矩阵乘法\n",
    "A @ B  # 或使用 torch.matmul(A, B)"
   ],
   "id": "89cfdab7973e8c46",
   "outputs": [
    {
     "data": {
      "text/plain": [
       "tensor([[19, 22],\n",
       "        [43, 50]])"
      ]
     },
     "execution_count": 76,
     "metadata": {},
     "output_type": "execute_result"
    }
   ],
   "execution_count": 76
  },
  {
   "metadata": {
    "ExecuteTime": {
     "end_time": "2024-09-01T07:09:34.013228Z",
     "start_time": "2024-09-01T07:09:33.996821Z"
    }
   },
   "cell_type": "code",
   "source": [
    "# 2. 点乘（逐元素乘法）\n",
    "A * B"
   ],
   "id": "d816345b8ef0e0e7",
   "outputs": [
    {
     "data": {
      "text/plain": [
       "tensor([[ 5, 12],\n",
       "        [21, 32]])"
      ]
     },
     "execution_count": 77,
     "metadata": {},
     "output_type": "execute_result"
    }
   ],
   "execution_count": 77
  },
  {
   "metadata": {
    "ExecuteTime": {
     "end_time": "2024-09-01T07:09:34.430474Z",
     "start_time": "2024-09-01T07:09:34.420475Z"
    }
   },
   "cell_type": "code",
   "source": [
    "# 3. 向量点积\n",
    "print(torch.dot(v1, v2))"
   ],
   "id": "d92d19c461ea0052",
   "outputs": [
    {
     "name": "stdout",
     "output_type": "stream",
     "text": [
      "tensor(11)\n"
     ]
    }
   ],
   "execution_count": 78
  },
  {
   "metadata": {},
   "cell_type": "markdown",
   "source": "## 2.3.9 Matrix–Vector Products ",
   "id": "862483e0869a96d0"
  },
  {
   "metadata": {
    "ExecuteTime": {
     "end_time": "2024-09-01T07:17:09.933834Z",
     "start_time": "2024-09-01T07:17:09.923760Z"
    }
   },
   "cell_type": "code",
   "source": [
    "# 4. 矩阵和向量的乘法\n",
    "A @ v1  # 或使用 torch.matmul(A, v1)"
   ],
   "id": "891195823cc43d90",
   "outputs": [
    {
     "data": {
      "text/plain": [
       "tensor([ 5, 11])"
      ]
     },
     "execution_count": 81,
     "metadata": {},
     "output_type": "execute_result"
    }
   ],
   "execution_count": 81
  },
  {
   "metadata": {
    "ExecuteTime": {
     "end_time": "2024-09-01T07:09:35.819423Z",
     "start_time": "2024-09-01T07:09:35.814335Z"
    }
   },
   "cell_type": "code",
   "source": [
    "# 5. 外积\n",
    "torch.outer(v1, v2)"
   ],
   "id": "a922809ec52b8e65",
   "outputs": [
    {
     "data": {
      "text/plain": [
       "tensor([[3, 4],\n",
       "        [6, 8]])"
      ]
     },
     "execution_count": 80,
     "metadata": {},
     "output_type": "execute_result"
    }
   ],
   "execution_count": 80
  },
  {
   "metadata": {},
   "cell_type": "markdown",
   "source": "## 2.3.10 Matrix–Matrix Multiplication",
   "id": "9f9b62af54fa9ee3"
  },
  {
   "metadata": {},
   "cell_type": "markdown",
   "source": "## 2.3.11 Norms 范数",
   "id": "59d02522760d3101"
  },
  {
   "metadata": {
    "ExecuteTime": {
     "end_time": "2024-09-01T07:37:38.974586Z",
     "start_time": "2024-09-01T07:37:38.959880Z"
    }
   },
   "cell_type": "code",
   "source": [
    "# L2 范数 欧氏距离（平方和开根号）\n",
    "v = torch.tensor([3.0, 4.0])\n",
    "torch.norm(v)"
   ],
   "id": "5f231fc04e139f83",
   "outputs": [
    {
     "data": {
      "text/plain": [
       "tensor(5.)"
      ]
     },
     "execution_count": 83,
     "metadata": {},
     "output_type": "execute_result"
    }
   ],
   "execution_count": 83
  },
  {
   "metadata": {
    "ExecuteTime": {
     "end_time": "2024-09-01T07:41:37.878937Z",
     "start_time": "2024-09-01T07:41:37.873931Z"
    }
   },
   "cell_type": "code",
   "source": [
    "# L1范数 非零元素的绝对值之和\n",
    "torch.abs(v).sum()"
   ],
   "id": "2a9637ff381dc28d",
   "outputs": [
    {
     "data": {
      "text/plain": [
       "tensor(7.)"
      ]
     },
     "execution_count": 84,
     "metadata": {},
     "output_type": "execute_result"
    }
   ],
   "execution_count": 84
  },
  {
   "metadata": {},
   "cell_type": "code",
   "outputs": [],
   "execution_count": null,
   "source": "",
   "id": "66cd48df6a09c335"
  }
 ],
 "metadata": {
  "kernelspec": {
   "display_name": "Python 3",
   "language": "python",
   "name": "python3"
  },
  "language_info": {
   "codemirror_mode": {
    "name": "ipython",
    "version": 2
   },
   "file_extension": ".py",
   "mimetype": "text/x-python",
   "name": "python",
   "nbconvert_exporter": "python",
   "pygments_lexer": "ipython2",
   "version": "2.7.6"
  }
 },
 "nbformat": 4,
 "nbformat_minor": 5
}

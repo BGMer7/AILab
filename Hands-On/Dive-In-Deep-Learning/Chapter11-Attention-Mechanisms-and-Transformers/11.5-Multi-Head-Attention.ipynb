{
 "cells": [
  {
   "cell_type": "markdown",
   "metadata": {},
   "source": [
    "# 11.5. Multi-Head Attention"
   ]
  },
  {
   "cell_type": "code",
   "execution_count": 21,
   "metadata": {},
   "outputs": [],
   "source": [
    "import math\n",
    "import torch\n",
    "from torch import nn\n",
    "from d2l import torch as d2l"
   ]
  },
  {
   "cell_type": "code",
   "execution_count": 22,
   "metadata": {},
   "outputs": [],
   "source": [
    "class MultiHeadAttention(nn.Module):\n",
    "    \"\"\"\n",
    "    Multi-Head Attention\n",
    "    \"\"\"\n",
    "    def __init__(self, d_hiddens, num_heads, dropout, bias=False, **kwargs):\n",
    "        super().__init__()\n",
    "        self.num_heads = num_heads\n",
    "        self.attention = d2l.DotProductAttention(dropout)\n",
    "        self.W_q = nn.LazyLinear(d_hiddens, bias=bias)\n",
    "        self.W_k = nn.LazyLinear(d_hiddens, bias=bias)\n",
    "        self.W_v = nn.LazyLinear(d_hiddens, bias=bias)\n",
    "        self.W_out = nn.LazyLinear(d_hiddens, bias=bias)\n",
    "        \n",
    "    def forward(self, queries, keys, values, attn_mask):\n",
    "        # Shape of queries, keys, or values: (batch_size, no. of queries or key-value pairs, d_hiddens)\n",
    "        # Shape of attn_mask: (batch_size,) or (batch_size, no. of queries)\n",
    "        # After transposing, shape of output queries, keys, or values: (batch_size * num_heads, no. of queries or key-value pairs, d_hiddens / num_heads)\n",
    "        queries = self.transpose_qkv(self.W_q(queries))\n",
    "        keys = self.transpose_qkv(self.W_k(keys))\n",
    "        values = self.transpose_qkv(self.W_v(values))\n",
    "        \n",
    "        if attn_mask is not None:\n",
    "            attn_mask = torch.repeat_interleave(attn_mask, repeats=self.num_heads, dim=0)\n",
    "            \n",
    "        output = self.attention(queries, keys, values, attn_mask)\n",
    "        output_concat = self.transpose_output(output)\n",
    "        return self.W_out(output_concat)"
   ]
  },
  {
   "cell_type": "code",
   "execution_count": 23,
   "metadata": {},
   "outputs": [],
   "source": [
    "@d2l.add_to_class(MultiHeadAttention)  #@save\n",
    "def transpose_qkv(self, X):\n",
    "    \"\"\"\n",
    "    Transposition for parallel computation of multiple attention heads.\n",
    "    \"\"\"\n",
    "    # Shape of input X: (batch_size, no. of queries or key-value pairs, d_hiddens). \n",
    "    # Shape of output X: (batch_size, no. of queries or key-value pairs, num_heads, d_hiddens / num_heads)\n",
    "    X = X.reshape(X.shape[0], X.shape[1], self.num_heads, -1)\n",
    "    # Shape of output X: (batch_size, num_heads, no. of queries or key-value pairs, d_hiddens / num_heads)\n",
    "    X = X.permute(0, 2, 1, 3)\n",
    "    # Shape of output: (batch_size * num_heads, no. of queries or key-value pairs, d_hiddens / num_heads)\n",
    "    return X.reshape(-1, X.shape[2], X.shape[3])"
   ]
  },
  {
   "cell_type": "code",
   "execution_count": 24,
   "metadata": {},
   "outputs": [],
   "source": [
    "@d2l.add_to_class(MultiHeadAttention)  #@save\n",
    "def transpose_output(self, X):\n",
    "    \"\"\"\n",
    "    Reverse the operation of transpose_qkv.\n",
    "    \"\"\"\n",
    "    X = X.reshape(-1, self.num_heads, X.shape[1], X.shape[2])\n",
    "    X = X.permute(0, 2, 1, 3)\n",
    "    return X.reshape(X.shape[0], X.shape[1], -1)"
   ]
  },
  {
   "cell_type": "code",
   "execution_count": 25,
   "metadata": {},
   "outputs": [],
   "source": [
    "d_hiddens, num_heads = 100, 5\n",
    "attention = MultiHeadAttention(d_hiddens, num_heads, 0.5)\n",
    "batch_size, num_queries, num_kvpairs = 2, 4, 6\n",
    "valid_lens = torch.tensor([3, 2])\n",
    "X = torch.ones((batch_size, num_queries, d_hiddens))\n",
    "Y = torch.ones((batch_size, num_kvpairs, d_hiddens))\n",
    "d2l.check_shape(attention(X, Y, Y, valid_lens), (batch_size, num_queries, d_hiddens))"
   ]
  }
 ],
 "metadata": {
  "kernelspec": {
   "display_name": "ipykernel-d2l",
   "language": "python",
   "name": "ipykernel-d2l"
  },
  "language_info": {
   "codemirror_mode": {
    "name": "ipython",
    "version": 3
   },
   "file_extension": ".py",
   "mimetype": "text/x-python",
   "name": "python",
   "nbconvert_exporter": "python",
   "pygments_lexer": "ipython3",
   "version": "3.9.19"
  }
 },
 "nbformat": 4,
 "nbformat_minor": 2
}

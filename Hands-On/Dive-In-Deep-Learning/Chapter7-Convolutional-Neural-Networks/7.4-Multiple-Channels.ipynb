{
 "cells": [
  {
   "metadata": {},
   "cell_type": "markdown",
   "source": "# 7.4. Multiple Input and Multiple Output Channels",
   "id": "780d712d48a6e9e1"
  },
  {
   "metadata": {
    "ExecuteTime": {
     "end_time": "2024-09-17T14:06:16.984007Z",
     "start_time": "2024-09-17T14:06:16.968500Z"
    }
   },
   "cell_type": "code",
   "source": [
    "import torch\n",
    "from d2l import torch as d2l"
   ],
   "id": "412095cb48e44730",
   "outputs": [],
   "execution_count": 194
  },
  {
   "metadata": {},
   "cell_type": "markdown",
   "source": "## 7.4.1. Multiple Input Channels",
   "id": "84a460b62975e1d6"
  },
  {
   "metadata": {},
   "cell_type": "markdown",
   "source": "https://d2l.ai/_images/conv-multi-in.svg",
   "id": "6bd31c314bd99a73"
  },
  {
   "metadata": {
    "ExecuteTime": {
     "end_time": "2024-09-17T14:06:16.999007Z",
     "start_time": "2024-09-17T14:06:16.995008Z"
    }
   },
   "cell_type": "code",
   "source": [
    "multi_input = torch.tensor([[[1, 2, 3],\n",
    "                             [4, 5, 6],\n",
    "                             [7, 8, 9]],\n",
    "                            [[0, 1, 2],\n",
    "                             [3, 4, 5],\n",
    "                             [6, 7, 8]]])"
   ],
   "id": "6d90125071177188",
   "outputs": [],
   "execution_count": 195
  },
  {
   "metadata": {
    "ExecuteTime": {
     "end_time": "2024-09-17T14:06:17.030008Z",
     "start_time": "2024-09-17T14:06:17.022007Z"
    }
   },
   "cell_type": "code",
   "source": [
    "multi_kernel = torch.tensor([[[1, 2],\n",
    "                              [3, 4]],\n",
    "                             [[0, 1],\n",
    "                              [2, 3]]])"
   ],
   "id": "fe640d72acf90e44",
   "outputs": [],
   "execution_count": 196
  },
  {
   "metadata": {
    "ExecuteTime": {
     "end_time": "2024-09-17T14:06:17.046007Z",
     "start_time": "2024-09-17T14:06:17.031014Z"
    }
   },
   "cell_type": "code",
   "source": [
    "def corr2d_multi_in(X, K):\n",
    "    # Iterate through the 0th dimension (channel) of K first, then add them up\n",
    "    return sum(d2l.corr2d(x, k) for x, k in zip(X, K))"
   ],
   "id": "8868c589ded9e44e",
   "outputs": [],
   "execution_count": 197
  },
  {
   "metadata": {
    "ExecuteTime": {
     "end_time": "2024-09-17T14:06:17.061007Z",
     "start_time": "2024-09-17T14:06:17.047009Z"
    }
   },
   "cell_type": "code",
   "source": [
    "# zip\n",
    "a = torch.tensor([1, 2, 3, 4, 5, 6])\n",
    "b = torch.tensor([2, 3, 4, 5, 6, 7])\n",
    "c = torch.tensor([3, 4, 5, 6, 7, 8])\n",
    "abc = zip(a, b, c)\n",
    "for i in abc:\n",
    "    print(i)\n",
    "\n",
    "# zip：把可迭代的对象打包成一个总体的可迭代对象"
   ],
   "id": "5e66d4bdfa6c19e9",
   "outputs": [
    {
     "name": "stdout",
     "output_type": "stream",
     "text": [
      "(tensor(1), tensor(2), tensor(3))\n",
      "(tensor(2), tensor(3), tensor(4))\n",
      "(tensor(3), tensor(4), tensor(5))\n",
      "(tensor(4), tensor(5), tensor(6))\n",
      "(tensor(5), tensor(6), tensor(7))\n",
      "(tensor(6), tensor(7), tensor(8))\n"
     ]
    }
   ],
   "execution_count": 198
  },
  {
   "metadata": {
    "ExecuteTime": {
     "end_time": "2024-09-17T14:06:17.076013Z",
     "start_time": "2024-09-17T14:06:17.062008Z"
    }
   },
   "cell_type": "code",
   "source": "corr2d_multi_in(multi_input, multi_kernel)",
   "id": "f88d809f22bfab6a",
   "outputs": [
    {
     "data": {
      "text/plain": [
       "tensor([[ 56.,  72.],\n",
       "        [104., 120.]])"
      ]
     },
     "execution_count": 199,
     "metadata": {},
     "output_type": "execute_result"
    }
   ],
   "execution_count": 199
  },
  {
   "metadata": {},
   "cell_type": "markdown",
   "source": "## 7.4.2. Multiple Output Channels",
   "id": "4041148dc663a7d6"
  },
  {
   "metadata": {
    "ExecuteTime": {
     "end_time": "2024-09-17T14:06:17.091425Z",
     "start_time": "2024-09-17T14:06:17.077012Z"
    }
   },
   "cell_type": "code",
   "source": [
    "def corr2d_multi_in_out(X, K):\n",
    "    # Iterate through the 0th dimension of K, and each time, perform\n",
    "    # cross-correlation operations with input X. All the results are\n",
    "    # stacked together\n",
    "    return torch.stack([corr2d_multi_in(X, k) for k in K], 0)"
   ],
   "id": "ff5b60c70354795a",
   "outputs": [],
   "execution_count": 200
  },
  {
   "metadata": {
    "ExecuteTime": {
     "end_time": "2024-09-17T14:06:17.106425Z",
     "start_time": "2024-09-17T14:06:17.092425Z"
    }
   },
   "cell_type": "code",
   "source": [
    "d = torch.tensor([[1, 2],\n",
    "                  [3, 4]])\n",
    "d"
   ],
   "id": "80b68e6997de348c",
   "outputs": [
    {
     "data": {
      "text/plain": [
       "tensor([[1, 2],\n",
       "        [3, 4]])"
      ]
     },
     "execution_count": 201,
     "metadata": {},
     "output_type": "execute_result"
    }
   ],
   "execution_count": 201
  },
  {
   "metadata": {
    "ExecuteTime": {
     "end_time": "2024-09-17T14:06:17.121425Z",
     "start_time": "2024-09-17T14:06:17.107425Z"
    }
   },
   "cell_type": "code",
   "source": "d + 1",
   "id": "97e16244ff7e8655",
   "outputs": [
    {
     "data": {
      "text/plain": [
       "tensor([[2, 3],\n",
       "        [4, 5]])"
      ]
     },
     "execution_count": 202,
     "metadata": {},
     "output_type": "execute_result"
    }
   ],
   "execution_count": 202
  },
  {
   "metadata": {
    "ExecuteTime": {
     "end_time": "2024-09-17T14:06:17.137425Z",
     "start_time": "2024-09-17T14:06:17.122426Z"
    }
   },
   "cell_type": "code",
   "source": [
    "# stack\n",
    "stack = torch.stack((d, d+1, d+2))\n",
    "stack"
   ],
   "id": "94b3c73cd8ee3f16",
   "outputs": [
    {
     "data": {
      "text/plain": [
       "tensor([[[1, 2],\n",
       "         [3, 4]],\n",
       "\n",
       "        [[2, 3],\n",
       "         [4, 5]],\n",
       "\n",
       "        [[3, 4],\n",
       "         [5, 6]]])"
      ]
     },
     "execution_count": 203,
     "metadata": {},
     "output_type": "execute_result"
    }
   ],
   "execution_count": 203
  },
  {
   "metadata": {
    "ExecuteTime": {
     "end_time": "2024-09-17T14:06:17.152425Z",
     "start_time": "2024-09-17T14:06:17.139426Z"
    }
   },
   "cell_type": "code",
   "source": "stack.shape",
   "id": "1601ce5f85e9713a",
   "outputs": [
    {
     "data": {
      "text/plain": [
       "torch.Size([3, 2, 2])"
      ]
     },
     "execution_count": 204,
     "metadata": {},
     "output_type": "execute_result"
    }
   ],
   "execution_count": 204
  },
  {
   "metadata": {
    "ExecuteTime": {
     "end_time": "2024-09-17T14:06:17.168428Z",
     "start_time": "2024-09-17T14:06:17.153425Z"
    }
   },
   "cell_type": "code",
   "source": "torch.cat((d, d+1, d+2))",
   "id": "1cefca53df18eaea",
   "outputs": [
    {
     "data": {
      "text/plain": [
       "tensor([[1, 2],\n",
       "        [3, 4],\n",
       "        [2, 3],\n",
       "        [4, 5],\n",
       "        [3, 4],\n",
       "        [5, 6]])"
      ]
     },
     "execution_count": 205,
     "metadata": {},
     "output_type": "execute_result"
    }
   ],
   "execution_count": 205
  },
  {
   "metadata": {
    "ExecuteTime": {
     "end_time": "2024-09-17T14:06:17.183933Z",
     "start_time": "2024-09-17T14:06:17.169429Z"
    }
   },
   "cell_type": "code",
   "source": "torch.cat((d, d+1, d+2), 1)",
   "id": "8ebe42547688f6e2",
   "outputs": [
    {
     "data": {
      "text/plain": [
       "tensor([[1, 2, 2, 3, 3, 4],\n",
       "        [3, 4, 4, 5, 5, 6]])"
      ]
     },
     "execution_count": 206,
     "metadata": {},
     "output_type": "execute_result"
    }
   ],
   "execution_count": 206
  },
  {
   "metadata": {
    "ExecuteTime": {
     "end_time": "2024-09-17T14:06:17.199933Z",
     "start_time": "2024-09-17T14:06:17.184935Z"
    }
   },
   "cell_type": "code",
   "source": "torch.stack((d, d+1, d+2), 0)",
   "id": "8b60bc0b71969c40",
   "outputs": [
    {
     "data": {
      "text/plain": [
       "tensor([[[1, 2],\n",
       "         [3, 4]],\n",
       "\n",
       "        [[2, 3],\n",
       "         [4, 5]],\n",
       "\n",
       "        [[3, 4],\n",
       "         [5, 6]]])"
      ]
     },
     "execution_count": 207,
     "metadata": {},
     "output_type": "execute_result"
    }
   ],
   "execution_count": 207
  },
  {
   "metadata": {
    "ExecuteTime": {
     "end_time": "2024-09-17T14:06:17.215933Z",
     "start_time": "2024-09-17T14:06:17.200934Z"
    }
   },
   "cell_type": "code",
   "source": "torch.stack((d, d+1, d+2), 1)",
   "id": "519701385bc1b2ad",
   "outputs": [
    {
     "data": {
      "text/plain": [
       "tensor([[[1, 2],\n",
       "         [2, 3],\n",
       "         [3, 4]],\n",
       "\n",
       "        [[3, 4],\n",
       "         [4, 5],\n",
       "         [5, 6]]])"
      ]
     },
     "execution_count": 208,
     "metadata": {},
     "output_type": "execute_result"
    }
   ],
   "execution_count": 208
  },
  {
   "metadata": {
    "ExecuteTime": {
     "end_time": "2024-09-17T14:06:17.231933Z",
     "start_time": "2024-09-17T14:06:17.217935Z"
    }
   },
   "cell_type": "code",
   "source": "torch.stack((d, d+1, d+2), 2)",
   "id": "8ff0f913bfcf37ad",
   "outputs": [
    {
     "data": {
      "text/plain": [
       "tensor([[[1, 2, 3],\n",
       "         [2, 3, 4]],\n",
       "\n",
       "        [[3, 4, 5],\n",
       "         [4, 5, 6]]])"
      ]
     },
     "execution_count": 209,
     "metadata": {},
     "output_type": "execute_result"
    }
   ],
   "execution_count": 209
  },
  {
   "metadata": {},
   "cell_type": "markdown",
   "source": "## 7.4.3. 1X1 Convolutional Layer",
   "id": "b24548c093b95b72"
  },
  {
   "metadata": {},
   "cell_type": "markdown",
   "source": "https://d2l.ai/_images/conv-1x1.svg",
   "id": "f3cf88c8791f0676"
  },
  {
   "metadata": {},
   "cell_type": "markdown",
   "source": [
    "The only computation of the 1X1 convolution occurs on the channel dimension.\n",
    "\n",
    "1X1 的卷积核的唯一作用就是降维。"
   ],
   "id": "67ce2c9cfa01b396"
  },
  {
   "metadata": {
    "ExecuteTime": {
     "end_time": "2024-09-17T14:06:17.246934Z",
     "start_time": "2024-09-17T14:06:17.232935Z"
    }
   },
   "cell_type": "code",
   "source": [
    "def corr2d_multi_in_out_1x1(X, K):\n",
    "    c_i, h, w = X.shape\n",
    "    c_o = K.shape[0]\n",
    "    X = X.reshape(c_i, h * w)\n",
    "    K = K.reshape(c_o, c_i)\n",
    "    # Matrix multiplication in the fully connected layer\n",
    "    Y = torch.matmul(K, X)\n",
    "    return Y.reshape((c_o, h, w))"
   ],
   "id": "cd6260a750434d9b",
   "outputs": [],
   "execution_count": 210
  },
  {
   "metadata": {
    "ExecuteTime": {
     "end_time": "2024-09-17T14:06:17.261933Z",
     "start_time": "2024-09-17T14:06:17.247934Z"
    }
   },
   "cell_type": "code",
   "source": [
    "mock_x = torch.normal(0, 1, (3, 3, 3))\n",
    "print(mock_x)\n",
    "c_i, h, w = mock_x.shape\n",
    "mock_x = mock_x.reshape(c_i, h * w)\n",
    "print(mock_x)\n",
    "\n",
    "mock_kernel = torch.normal(0, 1, (2, 3, 1, 1))\n",
    "c_o = mock_kernel.shape[0]\n",
    "print(mock_kernel)\n",
    "mock_kernel = mock_kernel.reshape(c_o, c_i)\n",
    "print(mock_kernel)\n",
    "\n",
    "mock_y = torch.matmul(mock_kernel, mock_x)\n",
    "print(mock_y.reshape(c_o, h, w))"
   ],
   "id": "1d134971a1b8b1d2",
   "outputs": [
    {
     "name": "stdout",
     "output_type": "stream",
     "text": [
      "tensor([[[ 0.2505,  0.0719,  0.4363],\n",
      "         [ 0.9037,  0.5283, -1.2233],\n",
      "         [-1.2680,  0.4430, -1.8630]],\n",
      "\n",
      "        [[ 0.1447,  0.2217, -0.0504],\n",
      "         [-0.5425, -1.3993,  1.4197],\n",
      "         [ 0.4881,  0.3813, -0.1797]],\n",
      "\n",
      "        [[ 1.8397,  0.5504, -0.9410],\n",
      "         [-2.5451,  0.0730,  1.4625],\n",
      "         [-0.0579,  0.7513,  0.1000]]])\n",
      "tensor([[ 0.2505,  0.0719,  0.4363,  0.9037,  0.5283, -1.2233, -1.2680,  0.4430,\n",
      "         -1.8630],\n",
      "        [ 0.1447,  0.2217, -0.0504, -0.5425, -1.3993,  1.4197,  0.4881,  0.3813,\n",
      "         -0.1797],\n",
      "        [ 1.8397,  0.5504, -0.9410, -2.5451,  0.0730,  1.4625, -0.0579,  0.7513,\n",
      "          0.1000]])\n",
      "tensor([[[[ 0.3448]],\n",
      "\n",
      "         [[-0.2995]],\n",
      "\n",
      "         [[-0.8709]]],\n",
      "\n",
      "\n",
      "        [[[-1.3604]],\n",
      "\n",
      "         [[-0.2776]],\n",
      "\n",
      "         [[-0.4611]]]])\n",
      "tensor([[ 0.3448, -0.2995, -0.8709],\n",
      "        [-1.3604, -0.2776, -0.4611]])\n",
      "tensor([[[-1.5591, -0.5209,  0.9850],\n",
      "         [ 2.6904,  0.5376, -2.1205],\n",
      "         [-0.5329, -0.6158, -0.6756]],\n",
      "\n",
      "        [[-1.2292, -0.4131, -0.1457],\n",
      "         [ 0.0946, -0.3639,  0.5957],\n",
      "         [ 1.6161, -1.0550,  2.5382]]])\n"
     ]
    }
   ],
   "execution_count": 211
  },
  {
   "metadata": {
    "ExecuteTime": {
     "end_time": "2024-09-17T14:06:17.277938Z",
     "start_time": "2024-09-17T14:06:17.262935Z"
    }
   },
   "cell_type": "code",
   "source": [
    "# torch.normal(means, std, out=None)\n",
    "X = torch.normal(0, 1, (3, 3, 3))\n",
    "X"
   ],
   "id": "3dc36ebe1712f7e6",
   "outputs": [
    {
     "data": {
      "text/plain": [
       "tensor([[[ 0.6803, -2.7627, -0.3948],\n",
       "         [-0.3583,  2.0889,  0.9373],\n",
       "         [ 1.1903, -0.9876,  0.5363]],\n",
       "\n",
       "        [[-0.7343,  1.0380, -0.5914],\n",
       "         [-0.7646, -1.7979,  1.2848],\n",
       "         [-1.4764,  1.6627, -0.0360]],\n",
       "\n",
       "        [[-1.1171,  0.2886,  0.2051],\n",
       "         [ 0.4885, -0.5717, -1.6586],\n",
       "         [ 0.8954, -1.0307,  0.6446]]])"
      ]
     },
     "execution_count": 212,
     "metadata": {},
     "output_type": "execute_result"
    }
   ],
   "execution_count": 212
  },
  {
   "metadata": {
    "ExecuteTime": {
     "end_time": "2024-09-17T14:06:17.293446Z",
     "start_time": "2024-09-17T14:06:17.279446Z"
    }
   },
   "cell_type": "code",
   "source": [
    "K = torch.normal(0, 1, (2, 3, 1, 1))\n",
    "K"
   ],
   "id": "4e64bddd4675561a",
   "outputs": [
    {
     "data": {
      "text/plain": [
       "tensor([[[[ 2.1294]],\n",
       "\n",
       "         [[ 1.1924]],\n",
       "\n",
       "         [[ 0.5782]]],\n",
       "\n",
       "\n",
       "        [[[-1.0393]],\n",
       "\n",
       "         [[ 0.1147]],\n",
       "\n",
       "         [[-0.4848]]]])"
      ]
     },
     "execution_count": 213,
     "metadata": {},
     "output_type": "execute_result"
    }
   ],
   "execution_count": 213
  },
  {
   "metadata": {
    "ExecuteTime": {
     "end_time": "2024-09-17T14:06:17.308445Z",
     "start_time": "2024-09-17T14:06:17.294446Z"
    }
   },
   "cell_type": "code",
   "source": [
    "Y1 = corr2d_multi_in_out_1x1(X, K)\n",
    "Y1"
   ],
   "id": "7104b8586008dfbf",
   "outputs": [
    {
     "data": {
      "text/plain": [
       "tensor([[[-0.0728, -4.4782, -1.4273],\n",
       "         [-1.3924,  1.9736,  2.5689],\n",
       "         [ 1.2918, -0.7164,  1.4718]],\n",
       "\n",
       "        [[-0.2497,  2.8503,  0.2431],\n",
       "         [ 0.0479, -2.0999, -0.0226],\n",
       "         [-1.8404,  1.7168, -0.8740]]])"
      ]
     },
     "execution_count": 214,
     "metadata": {},
     "output_type": "execute_result"
    }
   ],
   "execution_count": 214
  },
  {
   "metadata": {
    "ExecuteTime": {
     "end_time": "2024-09-17T14:06:17.323446Z",
     "start_time": "2024-09-17T14:06:17.309447Z"
    }
   },
   "cell_type": "code",
   "source": [
    "Y2 = corr2d_multi_in_out(X, K)\n",
    "Y2"
   ],
   "id": "e5d55eab2daa46b2",
   "outputs": [
    {
     "data": {
      "text/plain": [
       "tensor([[[-0.0728, -4.4782, -1.4273],\n",
       "         [-1.3924,  1.9736,  2.5689],\n",
       "         [ 1.2918, -0.7164,  1.4718]],\n",
       "\n",
       "        [[-0.2497,  2.8503,  0.2431],\n",
       "         [ 0.0479, -2.0999, -0.0226],\n",
       "         [-1.8404,  1.7168, -0.8740]]])"
      ]
     },
     "execution_count": 215,
     "metadata": {},
     "output_type": "execute_result"
    }
   ],
   "execution_count": 215
  },
  {
   "metadata": {
    "ExecuteTime": {
     "end_time": "2024-09-17T14:06:17.338445Z",
     "start_time": "2024-09-17T14:06:17.324447Z"
    }
   },
   "cell_type": "code",
   "source": "assert float(torch.abs(Y1 - Y2).sum()) < 1e-6",
   "id": "420db991d5652815",
   "outputs": [],
   "execution_count": 216
  }
 ],
 "metadata": {
  "kernelspec": {
   "display_name": "Python 3",
   "language": "python",
   "name": "python3"
  },
  "language_info": {
   "codemirror_mode": {
    "name": "ipython",
    "version": 2
   },
   "file_extension": ".py",
   "mimetype": "text/x-python",
   "name": "python",
   "nbconvert_exporter": "python",
   "pygments_lexer": "ipython2",
   "version": "2.7.6"
  }
 },
 "nbformat": 4,
 "nbformat_minor": 5
}

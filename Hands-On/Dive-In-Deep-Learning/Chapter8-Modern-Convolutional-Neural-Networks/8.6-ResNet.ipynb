{
 "cells": [
  {
   "cell_type": "markdown",
   "metadata": {},
   "source": [
    "# 8.6. Residual Networks (ResNet) and ResNeXt"
   ]
  },
  {
   "cell_type": "code",
   "execution_count": 9,
   "metadata": {},
   "outputs": [],
   "source": [
    "import torch\n",
    "from torch import nn\n",
    "from torch.nn import functional as F\n"
   ]
  },
  {
   "cell_type": "markdown",
   "metadata": {},
   "source": [
    "## 8.6.2. Residual Blocks"
   ]
  },
  {
   "cell_type": "markdown",
   "metadata": {},
   "source": [
    "https://d2l.ai/_images/residual-block.svg"
   ]
  },
  {
   "cell_type": "code",
   "execution_count": 2,
   "metadata": {},
   "outputs": [],
   "source": [
    "class Residual(nn.Module):  #@save\n",
    "    \"\"\"The Residual block of ResNet models.\"\"\"\n",
    "    def __init__(self, num_channels, use_1x1conv=False, strides=1):\n",
    "        super().__init__()\n",
    "        self.conv1 = nn.LazyConv2d(num_channels, kernel_size=3, padding=1, stride=strides)\n",
    "        self.conv2 = nn.LazyConv2d(num_channels, kernel_size=3, padding=1)\n",
    "        if use_1x1conv:\n",
    "            self.conv3 = nn.LazyConv2d(num_channels, kernel_size=1, stride=strides)\n",
    "        else:\n",
    "            self.conv3 = None\n",
    "        self.bn1 = nn.LazyBatchNorm2d()\n",
    "        self.bn2 = nn.LazyBatchNorm2d()\n",
    "\n",
    "    def forward(self, X):\n",
    "        Y = F.relu(self.bn1(self.conv1(X)))\n",
    "        Y = self.bn2(self.conv2(Y))\n",
    "        if self.conv3:\n",
    "            X = self.conv3(X)\n",
    "        Y += X\n",
    "        return F.relu(Y)"
   ]
  },
  {
   "cell_type": "code",
   "execution_count": 12,
   "metadata": {},
   "outputs": [
    {
     "data": {
      "text/plain": [
       "Residual(\n",
       "  (conv1): LazyConv2d(0, 3, kernel_size=(3, 3), stride=(1, 1), padding=(1, 1))\n",
       "  (conv2): LazyConv2d(0, 3, kernel_size=(3, 3), stride=(1, 1), padding=(1, 1))\n",
       "  (bn1): LazyBatchNorm2d(0, eps=1e-05, momentum=0.1, affine=True, track_running_stats=True)\n",
       "  (bn2): LazyBatchNorm2d(0, eps=1e-05, momentum=0.1, affine=True, track_running_stats=True)\n",
       ")"
      ]
     },
     "execution_count": 12,
     "metadata": {},
     "output_type": "execute_result"
    }
   ],
   "source": [
    "blk = Residual(3)\n",
    "blk"
   ]
  },
  {
   "cell_type": "code",
   "execution_count": null,
   "metadata": {},
   "outputs": [],
   "source": [
    "X = torch.rand(4, 3, 6, 6)\n",
    "blk(X).shape"
   ]
  },
  {
   "cell_type": "code",
   "execution_count": 7,
   "metadata": {},
   "outputs": [
    {
     "name": "stdout",
     "output_type": "stream",
     "text": [
      "tensor([[[[0.4872, 1.0892, 0.5275],\n",
      "          [0.4104, 0.1215, 0.0000],\n",
      "          [0.0000, 2.4253, 0.0000]],\n",
      "\n",
      "         [[0.0000, 1.9172, 0.0000],\n",
      "          [0.0000, 0.7627, 0.0000],\n",
      "          [1.1539, 0.5950, 0.0000]],\n",
      "\n",
      "         [[1.0890, 0.0000, 0.0838],\n",
      "          [0.0000, 0.0000, 0.1193],\n",
      "          [0.0000, 0.0000, 0.0000]],\n",
      "\n",
      "         [[0.0000, 0.0000, 0.6778],\n",
      "          [0.0000, 0.5822, 0.1278],\n",
      "          [0.0000, 0.9163, 1.1069]],\n",
      "\n",
      "         [[0.5836, 0.1874, 1.8602],\n",
      "          [1.2932, 1.7341, 2.3614],\n",
      "          [0.0000, 0.8420, 1.1317]],\n",
      "\n",
      "         [[0.0000, 2.2291, 0.0000],\n",
      "          [0.0000, 0.0000, 0.0000],\n",
      "          [0.0000, 0.0000, 0.2304]]],\n",
      "\n",
      "\n",
      "        [[[0.1678, 1.4587, 0.4502],\n",
      "          [0.1689, 1.0954, 0.0000],\n",
      "          [0.0000, 0.0000, 1.5281]],\n",
      "\n",
      "         [[0.0000, 0.0000, 0.0616],\n",
      "          [1.3951, 0.0000, 0.0000],\n",
      "          [0.0806, 0.0000, 0.0000]],\n",
      "\n",
      "         [[0.0000, 1.1774, 0.0000],\n",
      "          [0.1377, 1.8422, 0.0000],\n",
      "          [0.1729, 0.5947, 0.0355]],\n",
      "\n",
      "         [[0.0000, 1.4242, 0.2922],\n",
      "          [0.0000, 0.0000, 0.0000],\n",
      "          [0.0000, 1.1648, 0.3724]],\n",
      "\n",
      "         [[0.2035, 1.6746, 1.4936],\n",
      "          [0.1170, 0.8541, 2.3471],\n",
      "          [0.0380, 0.0000, 2.0472]],\n",
      "\n",
      "         [[0.0626, 0.0000, 0.0000],\n",
      "          [0.0000, 0.0000, 0.8292],\n",
      "          [0.0000, 0.0000, 0.1903]]],\n",
      "\n",
      "\n",
      "        [[[2.3460, 0.4777, 0.1922],\n",
      "          [0.0349, 0.0000, 0.0000],\n",
      "          [0.2316, 1.1624, 0.0000]],\n",
      "\n",
      "         [[0.1971, 0.0000, 0.0000],\n",
      "          [0.0000, 1.5558, 0.0000],\n",
      "          [0.0000, 0.0000, 0.0000]],\n",
      "\n",
      "         [[0.0000, 0.3358, 0.0000],\n",
      "          [2.3434, 0.0000, 0.0000],\n",
      "          [0.0000, 0.0000, 0.0000]],\n",
      "\n",
      "         [[0.0000, 0.3012, 0.0000],\n",
      "          [0.0000, 0.2704, 0.3987],\n",
      "          [0.4347, 0.0000, 0.0000]],\n",
      "\n",
      "         [[0.0000, 0.9401, 1.4436],\n",
      "          [0.0000, 0.0000, 0.5875],\n",
      "          [0.0000, 0.5965, 1.8819]],\n",
      "\n",
      "         [[0.0000, 1.2231, 0.0885],\n",
      "          [0.0000, 0.7775, 0.0000],\n",
      "          [0.0000, 0.0000, 0.0000]]],\n",
      "\n",
      "\n",
      "        [[[0.6603, 0.0660, 1.0622],\n",
      "          [2.2353, 0.0470, 0.0000],\n",
      "          [0.4473, 0.0000, 0.0000]],\n",
      "\n",
      "         [[0.7197, 1.1728, 0.0000],\n",
      "          [1.6154, 0.0000, 0.4080],\n",
      "          [0.1743, 0.0000, 0.0000]],\n",
      "\n",
      "         [[0.3706, 0.0000, 0.4044],\n",
      "          [0.0000, 2.3472, 0.0000],\n",
      "          [0.0000, 0.6987, 0.0000]],\n",
      "\n",
      "         [[0.0000, 0.0000, 0.0000],\n",
      "          [0.0000, 0.1805, 0.0000],\n",
      "          [0.0000, 1.8629, 0.1091]],\n",
      "\n",
      "         [[0.0000, 0.1317, 1.2472],\n",
      "          [0.0000, 0.0292, 1.0791],\n",
      "          [0.0000, 1.5855, 1.3498]],\n",
      "\n",
      "         [[0.0000, 0.4577, 0.0000],\n",
      "          [0.0919, 0.0717, 0.0000],\n",
      "          [0.0000, 0.0000, 0.5158]]]], grad_fn=<ReluBackward0>)\n"
     ]
    }
   ],
   "source": [
    "print(blk(X))"
   ]
  },
  {
   "cell_type": "code",
   "execution_count": 4,
   "metadata": {},
   "outputs": [
    {
     "data": {
      "text/plain": [
       "torch.Size([4, 6, 3, 3])"
      ]
     },
     "execution_count": 4,
     "metadata": {},
     "output_type": "execute_result"
    }
   ],
   "source": [
    "blk = Residual(6, use_1x1conv=True, strides=2)\n",
    "blk(X).shape"
   ]
  },
  {
   "cell_type": "code",
   "execution_count": null,
   "metadata": {},
   "outputs": [],
   "source": []
  }
 ],
 "metadata": {
  "kernelspec": {
   "display_name": "ipykernel-dl",
   "language": "python",
   "name": "dl"
  },
  "language_info": {
   "codemirror_mode": {
    "name": "ipython",
    "version": 3
   },
   "file_extension": ".py",
   "mimetype": "text/x-python",
   "name": "python",
   "nbconvert_exporter": "python",
   "pygments_lexer": "ipython3",
   "version": "3.12.7"
  }
 },
 "nbformat": 4,
 "nbformat_minor": 2
}

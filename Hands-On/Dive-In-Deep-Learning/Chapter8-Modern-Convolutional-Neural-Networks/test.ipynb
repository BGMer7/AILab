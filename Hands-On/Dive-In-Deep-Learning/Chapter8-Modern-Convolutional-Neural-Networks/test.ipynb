{"cells":[{"cell_type":"code","source":["# test"]}],"metadata":{"language_info":{"name":"python"}},"nbformat":4,"nbformat_minor":2}

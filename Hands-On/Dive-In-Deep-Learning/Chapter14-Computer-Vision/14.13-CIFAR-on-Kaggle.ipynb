{
 "cells": [
  {
   "cell_type": "markdown",
   "metadata": {
    "vscode": {
     "languageId": "plaintext"
    }
   },
   "source": [
    "some reference:\n",
    "\n",
    "1. https://www.kaggle.com/code/kmldas/cifar10-resnet-90-accuracy-less-than-5-min\n",
    "2. https://zh.d2l.ai/chapter_computer-vision/kaggle-cifar10.html\n",
    "3. https://d2l.ai/chapter_computer-vision/kaggle-cifar10.html"
   ]
  },
  {
   "cell_type": "code",
   "execution_count": null,
   "metadata": {},
   "outputs": [],
   "source": []
  }
 ],
 "metadata": {
  "language_info": {
   "name": "python"
  }
 },
 "nbformat": 4,
 "nbformat_minor": 2
}

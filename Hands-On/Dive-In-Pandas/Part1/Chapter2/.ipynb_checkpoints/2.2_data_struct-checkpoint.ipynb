{
 "cells": [
  {
   "cell_type": "code",
   "execution_count": 39,
   "id": "de128e16-e3f7-4206-9823-a7ccdeedff7d",
   "metadata": {},
   "outputs": [],
   "source": [
    "import numpy as np"
   ]
  },
  {
   "cell_type": "markdown",
   "id": "41c58c75-16a1-4fd5-93d5-6ea5ca83b141",
   "metadata": {},
   "source": [
    "## 2.2.2 string"
   ]
  },
  {
   "cell_type": "code",
   "execution_count": 40,
   "id": "24e57a63-c991-4446-97aa-dcea01723c57",
   "metadata": {},
   "outputs": [
    {
     "data": {
      "text/plain": [
       "str"
      ]
     },
     "execution_count": 40,
     "metadata": {},
     "output_type": "execute_result"
    }
   ],
   "source": [
    "char = 'a'\n",
    "type(char)"
   ]
  },
  {
   "cell_type": "code",
   "execution_count": 41,
   "id": "9625b2fb-b849-4b5c-85cd-f69cabf9619d",
   "metadata": {},
   "outputs": [
    {
     "data": {
      "text/plain": [
       "str"
      ]
     },
     "execution_count": 41,
     "metadata": {},
     "output_type": "execute_result"
    }
   ],
   "source": [
    "string = 'abc'\n",
    "type(string)"
   ]
  },
  {
   "cell_type": "code",
   "execution_count": 42,
   "id": "ebff2e0a-b52c-4704-be87-b757c63f0a3c",
   "metadata": {},
   "outputs": [
    {
     "data": {
      "text/plain": [
       "4"
      ]
     },
     "execution_count": 42,
     "metadata": {},
     "output_type": "execute_result"
    }
   ],
   "source": [
    "len('good') # 4 （字符的长度）"
   ]
  },
  {
   "cell_type": "code",
   "execution_count": 43,
   "id": "553f6858-5d05-4f5d-aec7-96f6d600a5e1",
   "metadata": {},
   "outputs": [
    {
     "data": {
      "text/plain": [
       "'Good'"
      ]
     },
     "execution_count": 43,
     "metadata": {},
     "output_type": "execute_result"
    }
   ],
   "source": [
    "'good'.replace('g', 'G') # 'Good' （替换字符）"
   ]
  },
  {
   "cell_type": "code",
   "execution_count": 44,
   "id": "27557a75-5b3d-4659-a8de-be2a5c09679a",
   "metadata": {},
   "outputs": [
    {
     "data": {
      "text/plain": [
       "['山', '水', '风', '雨']"
      ]
     },
     "execution_count": 44,
     "metadata": {},
     "output_type": "execute_result"
    }
   ],
   "source": [
    "'山-水-风-雨'.split('-') # ['山', '水', '风', '雨'] （用指定字符分隔，默认空格）"
   ]
  },
  {
   "cell_type": "code",
   "execution_count": 45,
   "id": "2a2b5a1d-ff79-4f7a-9001-9066c8a27678",
   "metadata": {},
   "outputs": [
    {
     "data": {
      "text/plain": [
       "['', '山', '水', '风光']"
      ]
     },
     "execution_count": 45,
     "metadata": {},
     "output_type": "execute_result"
    }
   ],
   "source": [
    "'好山好水好风光'.split('好') # ['', '山', '水', '风光']"
   ]
  },
  {
   "cell_type": "code",
   "execution_count": 46,
   "id": "8d656efe-92f6-44b8-8cbf-538bcbd93122",
   "metadata": {},
   "outputs": [
    {
     "data": {
      "text/plain": [
       "'山-水-风-雨'"
      ]
     },
     "execution_count": 46,
     "metadata": {},
     "output_type": "execute_result"
    }
   ],
   "source": [
    "'-'.join(['山','水','风','雨']) # '山-水-风-雨'"
   ]
  },
  {
   "cell_type": "code",
   "execution_count": 47,
   "id": "542d851f-4898-45fe-9727-7254e362a19c",
   "metadata": {},
   "outputs": [
    {
     "data": {
      "text/plain": [
       "'诗和远方'"
      ]
     },
     "execution_count": 47,
     "metadata": {},
     "output_type": "execute_result"
    }
   ],
   "source": [
    "'和'.join(['诗', '远方']) # '诗和远方'"
   ]
  },
  {
   "cell_type": "code",
   "execution_count": 48,
   "id": "9179f059-5d0e-4b54-9d3b-c02ac16ec282",
   "metadata": {},
   "outputs": [
    {
     "data": {
      "text/plain": [
       "'GOOD'"
      ]
     },
     "execution_count": 48,
     "metadata": {},
     "output_type": "execute_result"
    }
   ],
   "source": [
    "'good'.upper() # 'GOOD' （全转大写）"
   ]
  },
  {
   "cell_type": "code",
   "execution_count": 49,
   "id": "625942f0-7cd8-4208-ad43-441ffe644095",
   "metadata": {},
   "outputs": [
    {
     "data": {
      "text/plain": [
       "'good'"
      ]
     },
     "execution_count": 49,
     "metadata": {},
     "output_type": "execute_result"
    }
   ],
   "source": [
    "'GOOD'.lower() # 'good' （全转小写）"
   ]
  },
  {
   "cell_type": "code",
   "execution_count": 50,
   "id": "d1e74a48-ce25-4f1a-8003-1bb1377d2cf8",
   "metadata": {},
   "outputs": [
    {
     "data": {
      "text/plain": [
       "'gOOD bYE'"
      ]
     },
     "execution_count": 50,
     "metadata": {},
     "output_type": "execute_result"
    }
   ],
   "source": [
    "'Good Bye'.swapcase() # 'gOOD bYE' （大小写互换）"
   ]
  },
  {
   "cell_type": "code",
   "execution_count": 51,
   "id": "123f947e-3240-4e32-8651-291ca857c368",
   "metadata": {},
   "outputs": [
    {
     "data": {
      "text/plain": [
       "'Good'"
      ]
     },
     "execution_count": 51,
     "metadata": {},
     "output_type": "execute_result"
    }
   ],
   "source": [
    "'good'.capitalize() # 'Good' （首字母转大写）"
   ]
  },
  {
   "cell_type": "code",
   "execution_count": 52,
   "id": "963474d4-829d-48d9-b7d7-e8ef72c92301",
   "metadata": {},
   "outputs": [
    {
     "data": {
      "text/plain": [
       "True"
      ]
     },
     "execution_count": 52,
     "metadata": {},
     "output_type": "execute_result"
    }
   ],
   "source": [
    "'good'.islower() # True （是否全是小写）"
   ]
  },
  {
   "cell_type": "code",
   "execution_count": 53,
   "id": "19da3447-226e-4231-8a33-79a855763c48",
   "metadata": {},
   "outputs": [
    {
     "data": {
      "text/plain": [
       "False"
      ]
     },
     "execution_count": 53,
     "metadata": {},
     "output_type": "execute_result"
    }
   ],
   "source": [
    "'good'.isupper() # False （是否全是大写）"
   ]
  },
  {
   "cell_type": "code",
   "execution_count": 54,
   "id": "c8b46ddd-4826-4227-bf91-45a515af6665",
   "metadata": {},
   "outputs": [
    {
     "data": {
      "text/plain": [
       "'03月'"
      ]
     },
     "execution_count": 54,
     "metadata": {},
     "output_type": "execute_result"
    }
   ],
   "source": [
    "'3月'.zfill(3) # '03月' （指定长度，如长度不够，前面补0）"
   ]
  },
  {
   "attachments": {},
   "cell_type": "markdown",
   "id": "c7068002-5678-4e58-a047-6ecb3d70a66c",
   "metadata": {},
   "source": [
    "# 2.2.4 list"
   ]
  },
  {
   "cell_type": "code",
   "execution_count": 55,
   "id": "c685756b-7282-4561-bd1a-b5a9d0209c1b",
   "metadata": {},
   "outputs": [
    {
     "data": {
      "text/plain": [
       "list"
      ]
     },
     "execution_count": 55,
     "metadata": {},
     "output_type": "execute_result"
    }
   ],
   "source": [
    "list_empty = [] # 空列表\n",
    "list_num= [1, 2, 3, 4, 5]\n",
    "list_string = ['a', 'b', 'c']\n",
    "list_mix = ['a', 1.5, True, [2, 3, 4]] # 各种类型混杂\n",
    "type(list_mix) # list 类型检测"
   ]
  },
  {
   "cell_type": "code",
   "execution_count": 56,
   "id": "96d8c334-20eb-43f9-a6ee-a3ffcbb0d453",
   "metadata": {},
   "outputs": [],
   "source": [
    "# y = np.array(list_mix) --- error: NumPy 数组是静态类型的，它们的元素必须是相同的类型，这样有助于提高效率并避免潜在的错误。"
   ]
  },
  {
   "cell_type": "code",
   "execution_count": 57,
   "id": "93a07777-9dca-455a-ae31-c68a98e80cb7",
   "metadata": {},
   "outputs": [
    {
     "data": {
      "text/plain": [
       "numpy.ndarray"
      ]
     },
     "execution_count": 57,
     "metadata": {},
     "output_type": "execute_result"
    }
   ],
   "source": [
    "y = np.array(['a', 'b', 'c'])\n",
    "type(y)"
   ]
  },
  {
   "cell_type": "code",
   "execution_count": 58,
   "id": "f5a45f48-3eb4-475b-9d8f-dba1c51a37a4",
   "metadata": {},
   "outputs": [],
   "source": [
    "a = [1, 2, 3]"
   ]
  },
  {
   "cell_type": "code",
   "execution_count": 59,
   "id": "a98ab3a0-563d-4d53-888b-4fb32f5db764",
   "metadata": {},
   "outputs": [
    {
     "data": {
      "text/plain": [
       "3"
      ]
     },
     "execution_count": 59,
     "metadata": {},
     "output_type": "execute_result"
    }
   ],
   "source": [
    "len(a) # 3（元素个数）"
   ]
  },
  {
   "cell_type": "code",
   "execution_count": 60,
   "id": "b53205db-2119-439b-be90-da4f79a6992b",
   "metadata": {},
   "outputs": [
    {
     "data": {
      "text/plain": [
       "3"
      ]
     },
     "execution_count": 60,
     "metadata": {},
     "output_type": "execute_result"
    }
   ],
   "source": [
    "max(a) # 3（最大值）"
   ]
  },
  {
   "cell_type": "code",
   "execution_count": 61,
   "id": "79044f22-598d-43a1-84ca-3e8b2f15c62b",
   "metadata": {},
   "outputs": [
    {
     "data": {
      "text/plain": [
       "1"
      ]
     },
     "execution_count": 61,
     "metadata": {},
     "output_type": "execute_result"
    }
   ],
   "source": [
    "min(a) # 1（最小值）"
   ]
  },
  {
   "cell_type": "code",
   "execution_count": 62,
   "id": "ebcb344d-1708-4a82-bae5-aad9ebe2edd6",
   "metadata": {},
   "outputs": [
    {
     "data": {
      "text/plain": [
       "6"
      ]
     },
     "execution_count": 62,
     "metadata": {},
     "output_type": "execute_result"
    }
   ],
   "source": [
    "sum(a) # 6（求和）"
   ]
  },
  {
   "cell_type": "code",
   "execution_count": 63,
   "id": "e8f730c2-115f-494d-84c4-f4a2f5e866d0",
   "metadata": {},
   "outputs": [
    {
     "name": "stdout",
     "output_type": "stream",
     "text": [
      "1\n",
      "[1, 2, 3, 2]\n",
      "1\n"
     ]
    },
    {
     "data": {
      "text/plain": [
       "2"
      ]
     },
     "execution_count": 63,
     "metadata": {},
     "output_type": "execute_result"
    }
   ],
   "source": [
    "# 查找该元素第一次出现的index\n",
    "print(a.index(2))\n",
    "a.append(2)\n",
    "print(a)\n",
    "print(a.index(2))\n",
    "# print(a.index(100)) ---error: 100 is not in list\n",
    "a.pop()"
   ]
  },
  {
   "cell_type": "code",
   "execution_count": 64,
   "id": "0f78c860-df73-4c8b-922d-fec6f64e4dba",
   "metadata": {},
   "outputs": [
    {
     "data": {
      "text/plain": [
       "1"
      ]
     },
     "execution_count": 64,
     "metadata": {},
     "output_type": "execute_result"
    }
   ],
   "source": [
    "a.count(1) # 1（求元素的个数）"
   ]
  },
  {
   "cell_type": "code",
   "execution_count": 65,
   "id": "152bad31-585e-44d6-8066-5469d71e14e3",
   "metadata": {},
   "outputs": [
    {
     "name": "stdout",
     "output_type": "stream",
     "text": [
      "1\n",
      "2\n",
      "3\n"
     ]
    }
   ],
   "source": [
    "for i in a:\n",
    "    print(i) # 迭代元素"
   ]
  },
  {
   "cell_type": "code",
   "execution_count": 66,
   "id": "3b6f6802-b469-4ab2-8061-df7e30a2416f",
   "metadata": {},
   "outputs": [
    {
     "data": {
      "text/plain": [
       "[1, 2, 3]"
      ]
     },
     "execution_count": 66,
     "metadata": {},
     "output_type": "execute_result"
    }
   ],
   "source": [
    "sorted(a) # 返回一个排序的列表，但不改变原列表"
   ]
  },
  {
   "cell_type": "code",
   "execution_count": 67,
   "id": "6fe3990f-4aaf-4093-bd10-25cb1010730f",
   "metadata": {},
   "outputs": [
    {
     "data": {
      "text/plain": [
       "True"
      ]
     },
     "execution_count": 67,
     "metadata": {},
     "output_type": "execute_result"
    }
   ],
   "source": [
    "any(a) # True（是否至少有一个元素为真）"
   ]
  },
  {
   "cell_type": "code",
   "execution_count": 68,
   "id": "6c3bf2d5-0a68-4eba-948f-8911635a13d5",
   "metadata": {},
   "outputs": [
    {
     "data": {
      "text/plain": [
       "True"
      ]
     },
     "execution_count": 68,
     "metadata": {},
     "output_type": "execute_result"
    }
   ],
   "source": [
    "all(a) # True（是否所有元素为真）"
   ]
  },
  {
   "cell_type": "code",
   "execution_count": 69,
   "id": "9729a227-9d45-461f-a67d-d51d69f814da",
   "metadata": {},
   "outputs": [],
   "source": [
    "a.extend([9,8]) # a: [1, 2, 3, 9, 8]（与其他列表合并）"
   ]
  },
  {
   "cell_type": "code",
   "execution_count": 70,
   "id": "0acc30d5-bebf-43d0-9a64-07d6dae8b75f",
   "metadata": {},
   "outputs": [],
   "source": [
    "a.insert(1, 'a') # a: [1, 'a', 2, 3]（在指定索引位插入元素，索引从0开始）"
   ]
  },
  {
   "cell_type": "code",
   "execution_count": 71,
   "id": "cbb9a170-28be-43bc-9bad-6622a19a9645",
   "metadata": {},
   "outputs": [],
   "source": [
    "a.remove('a') # 删除第一个指定元素"
   ]
  },
  {
   "cell_type": "code",
   "execution_count": 72,
   "id": "613315ed-4728-4b3d-aaff-7d2cff1983de",
   "metadata": {},
   "outputs": [],
   "source": [
    "a.clear() # []（清空）"
   ]
  },
  {
   "cell_type": "markdown",
   "id": "7ca18ea7-7340-4256-9e50-408ac843c862",
   "metadata": {},
   "source": [
    "## 2.2.5 tuple"
   ]
  },
  {
   "cell_type": "code",
   "execution_count": 74,
   "id": "cc501c29-c8da-4a50-b9be-675d5484ef5f",
   "metadata": {},
   "outputs": [],
   "source": [
    "tuple_num = (1,2,3,4,5)"
   ]
  },
  {
   "cell_type": "code",
   "execution_count": 76,
   "id": "6dd6efa1-5b1b-496b-aa65-2906f302b283",
   "metadata": {},
   "outputs": [
    {
     "name": "stdout",
     "output_type": "stream",
     "text": [
      "1\n",
      "2 3 4 5\n"
     ]
    }
   ],
   "source": [
    "num1, *tuple_num1 = tuple_num\n",
    "print(num1)\n",
    "print(*tuple_num1)"
   ]
  },
  {
   "cell_type": "code",
   "execution_count": 78,
   "id": "c05f4f2a-86ed-44c6-ae92-23bc520b12c6",
   "metadata": {},
   "outputs": [
    {
     "name": "stdout",
     "output_type": "stream",
     "text": [
      "1\n",
      "2 3 4\n",
      "5\n"
     ]
    }
   ],
   "source": [
    "num2, *tuple_num2, num3 = tuple_num\n",
    "print(num2)\n",
    "print(*tuple_num2)\n",
    "print(num3)"
   ]
  },
  {
   "cell_type": "markdown",
   "id": "972fc2f5-69bd-4e68-913b-d909f488b661",
   "metadata": {},
   "source": [
    "## 2.2.6 dict"
   ]
  },
  {
   "cell_type": "code",
   "execution_count": 85,
   "id": "91dcab9f-449e-4a33-bc67-0114abaed333",
   "metadata": {},
   "outputs": [
    {
     "data": {
      "text/plain": [
       "dict"
      ]
     },
     "execution_count": 85,
     "metadata": {},
     "output_type": "execute_result"
    }
   ],
   "source": [
    "d = {} # 定义空字典\n",
    "type(d)"
   ]
  },
  {
   "cell_type": "code",
   "execution_count": 86,
   "id": "fe79b660-7299-4128-b8b9-a9be4225c787",
   "metadata": {},
   "outputs": [
    {
     "data": {
      "text/plain": [
       "{}"
      ]
     },
     "execution_count": 86,
     "metadata": {},
     "output_type": "execute_result"
    }
   ],
   "source": [
    "d = dict() # 定义空字典\n",
    "d"
   ]
  },
  {
   "cell_type": "code",
   "execution_count": 87,
   "id": "62b5778f-fd88-4e1f-b326-f47ef42100e0",
   "metadata": {},
   "outputs": [
    {
     "data": {
      "text/plain": [
       "{'a': 1, 'b': 2, 'c': 3}"
      ]
     },
     "execution_count": 87,
     "metadata": {},
     "output_type": "execute_result"
    }
   ],
   "source": [
    "d = {'a': 1, 'b': 2, 'c': 3}\n",
    "d"
   ]
  },
  {
   "cell_type": "code",
   "execution_count": 88,
   "id": "76f18626-b565-4377-a67a-90c0eeb97bac",
   "metadata": {},
   "outputs": [
    {
     "data": {
      "text/plain": [
       "{'a': 1}"
      ]
     },
     "execution_count": 88,
     "metadata": {},
     "output_type": "execute_result"
    }
   ],
   "source": [
    "d = {'a': 1, 'a': 1, 'a': 1} # {'a': 1} key不能重复，重复时取最后一个\n",
    "d"
   ]
  },
  {
   "cell_type": "code",
   "execution_count": 89,
   "id": "4e4a51f4-33bf-4d5c-8718-faee4c2e8b9e",
   "metadata": {},
   "outputs": [
    {
     "data": {
      "text/plain": [
       "{'a': 1, 'b': {'x': 3}}"
      ]
     },
     "execution_count": 89,
     "metadata": {},
     "output_type": "execute_result"
    }
   ],
   "source": [
    "d = {'a': 1, 'b': {'x': 3}} # 嵌套字典\n",
    "d"
   ]
  },
  {
   "cell_type": "code",
   "execution_count": 90,
   "id": "df484d26-658f-4e10-aa4b-61246c2b57ac",
   "metadata": {},
   "outputs": [
    {
     "data": {
      "text/plain": [
       "{'a': [1, 2, 3], 'b': [4, 5, 6]}"
      ]
     },
     "execution_count": 90,
     "metadata": {},
     "output_type": "execute_result"
    }
   ],
   "source": [
    "d = {'a': [1,2,3], 'b': [4,5,6]} # 嵌套列表\n",
    "d"
   ]
  },
  {
   "cell_type": "code",
   "execution_count": 91,
   "id": "d4cf0969-e9ba-426d-9731-47777bc02249",
   "metadata": {},
   "outputs": [
    {
     "data": {
      "text/plain": [
       "{'name': 'Tom', 'age': 18, 'height': 180}"
      ]
     },
     "execution_count": 91,
     "metadata": {},
     "output_type": "execute_result"
    }
   ],
   "source": [
    "# 以下均可定义如下结果\n",
    "# {'name': 'Tom', 'age': 18, 'height': 180}\n",
    "d = dict(name='Tom', age=18, height=180)\n",
    "d"
   ]
  },
  {
   "cell_type": "code",
   "execution_count": 92,
   "id": "e6c648e0-588b-4618-b60f-0b8b247d83be",
   "metadata": {},
   "outputs": [
    {
     "data": {
      "text/plain": [
       "{'name': 'Tom', 'age': 18, 'height': 180}"
      ]
     },
     "execution_count": 92,
     "metadata": {},
     "output_type": "execute_result"
    }
   ],
   "source": [
    "d = dict([('name', 'Tom'), ('age', 18), ('height', 180)])\n",
    "d"
   ]
  },
  {
   "cell_type": "code",
   "execution_count": 93,
   "id": "31e564cf-7c40-4a8b-830b-c17eb8cfe6ea",
   "metadata": {},
   "outputs": [
    {
     "data": {
      "text/plain": [
       "{'name': 'Tom', 'age': 18, 'height': 180}"
      ]
     },
     "execution_count": 93,
     "metadata": {},
     "output_type": "execute_result"
    }
   ],
   "source": [
    "d = dict(zip(['name', 'age', 'height'], ['Tom', 18, 180]))\n",
    "d"
   ]
  },
  {
   "cell_type": "markdown",
   "id": "8b1af42e-5029-4dac-a7c2-f13ee1d84a78",
   "metadata": {},
   "source": [
    "## 2.2.7 set"
   ]
  },
  {
   "cell_type": "code",
   "execution_count": 94,
   "id": "6134d5b4-4eeb-4615-8333-3c627fda4c15",
   "metadata": {},
   "outputs": [
    {
     "data": {
      "text/plain": [
       "{}"
      ]
     },
     "execution_count": 94,
     "metadata": {},
     "output_type": "execute_result"
    }
   ],
   "source": [
    "s = {} # 空集合\n",
    "s"
   ]
  },
  {
   "cell_type": "code",
   "execution_count": 95,
   "id": "f8cff5b6-344b-4d5e-9357-27905a6549f8",
   "metadata": {},
   "outputs": [
    {
     "data": {
      "text/plain": [
       "set()"
      ]
     },
     "execution_count": 95,
     "metadata": {},
     "output_type": "execute_result"
    }
   ],
   "source": [
    "s = set() # 空集合\n",
    "s"
   ]
  },
  {
   "cell_type": "code",
   "execution_count": 96,
   "id": "600a710b-674d-4d9c-916c-454c56e73252",
   "metadata": {},
   "outputs": [
    {
     "data": {
      "text/plain": [
       "{'10元', '20元', '5元'}"
      ]
     },
     "execution_count": 96,
     "metadata": {},
     "output_type": "execute_result"
    }
   ],
   "source": [
    "s = {'5元', '10元', '20元'} # 定义集合\n",
    "s"
   ]
  },
  {
   "cell_type": "code",
   "execution_count": 97,
   "id": "f71e26d1-976d-49f2-9580-9760bff878ef",
   "metadata": {},
   "outputs": [
    {
     "data": {
      "text/plain": [
       "{1, 2, 3, 4, 5}"
      ]
     },
     "execution_count": 97,
     "metadata": {},
     "output_type": "execute_result"
    }
   ],
   "source": [
    "s = set([1,2,3,4,5]) # {1, 2, 3, 4, 5}（使用列表定义）\n",
    "s"
   ]
  },
  {
   "cell_type": "code",
   "execution_count": 98,
   "id": "24c315e2-6ca1-4a82-a5da-711920284b10",
   "metadata": {},
   "outputs": [
    {
     "data": {
      "text/plain": [
       "{1, 'a'}"
      ]
     },
     "execution_count": 98,
     "metadata": {},
     "output_type": "execute_result"
    }
   ],
   "source": [
    "s = {1, True, 'a'}\n",
    "s"
   ]
  },
  {
   "cell_type": "code",
   "execution_count": 99,
   "id": "73ebb510-483f-4823-8e00-90e35de25802",
   "metadata": {},
   "outputs": [
    {
     "data": {
      "text/plain": [
       "set"
      ]
     },
     "execution_count": 99,
     "metadata": {},
     "output_type": "execute_result"
    }
   ],
   "source": [
    "s = {1, 1, 1} # {1}（去重）\n",
    "type(s) # set（类型检测）"
   ]
  },
  {
   "cell_type": "code",
   "execution_count": 100,
   "id": "0ae45814-1ea9-4e8a-a365-be2caab33866",
   "metadata": {},
   "outputs": [],
   "source": [
    "s = {'a', 'b', 'c'}"
   ]
  },
  {
   "cell_type": "code",
   "execution_count": 101,
   "id": "576fe338-ea3e-47de-889b-d669224df2d3",
   "metadata": {},
   "outputs": [
    {
     "data": {
      "text/plain": [
       "True"
      ]
     },
     "execution_count": 101,
     "metadata": {},
     "output_type": "execute_result"
    }
   ],
   "source": [
    "# 判断是否有某个元素\n",
    "'a' in s # True"
   ]
  },
  {
   "cell_type": "code",
   "execution_count": 102,
   "id": "39e7ee9b-ecf9-46c9-97a3-766ba56a184b",
   "metadata": {},
   "outputs": [
    {
     "data": {
      "text/plain": [
       "{2, 'a', 'b', 'c'}"
      ]
     },
     "execution_count": 102,
     "metadata": {},
     "output_type": "execute_result"
    }
   ],
   "source": [
    "# 添加元素\n",
    "s.add(2) # {2, 'a', 'b', 'c'}\n",
    "s"
   ]
  },
  {
   "cell_type": "code",
   "execution_count": 103,
   "id": "a74719a9-39bd-4173-8a16-f2aa8b94ae3b",
   "metadata": {},
   "outputs": [
    {
     "data": {
      "text/plain": [
       "{1, 2, 3, 4, 'a', 'b', 'c'}"
      ]
     },
     "execution_count": 103,
     "metadata": {},
     "output_type": "execute_result"
    }
   ],
   "source": [
    "s.update([1,3,4]) # {1, 2, 3, 4, 'a', 'b', 'c'}\n",
    "s"
   ]
  },
  {
   "cell_type": "code",
   "execution_count": 104,
   "id": "14eec527-9c8d-466d-b976-e131bedd56e1",
   "metadata": {},
   "outputs": [
    {
     "data": {
      "text/plain": [
       "{1, 2, 3, 4, 'b', 'c'}"
      ]
     },
     "execution_count": 104,
     "metadata": {},
     "output_type": "execute_result"
    }
   ],
   "source": [
    "# 删除和清空元素\n",
    "s.remove('a') # {'b', 'c'}（删除不存在的会报错）\n",
    "s"
   ]
  },
  {
   "cell_type": "code",
   "execution_count": 105,
   "id": "3cb8aa10-b85d-4142-9748-5042bc72b8a1",
   "metadata": {},
   "outputs": [
    {
     "data": {
      "text/plain": [
       "{1, 2, 3, 4, 'b', 'c'}"
      ]
     },
     "execution_count": 105,
     "metadata": {},
     "output_type": "execute_result"
    }
   ],
   "source": [
    "s.discard('3') # 删除一个元素，无则忽略，不报错\n",
    "s"
   ]
  },
  {
   "cell_type": "code",
   "execution_count": 106,
   "id": "229bd027-7019-4f4e-8b5d-7b89b099d794",
   "metadata": {},
   "outputs": [
    {
     "data": {
      "text/plain": [
       "set()"
      ]
     },
     "execution_count": 106,
     "metadata": {},
     "output_type": "execute_result"
    }
   ],
   "source": [
    "s.clear() # set()（清空）\n",
    "s"
   ]
  },
  {
   "cell_type": "code",
   "execution_count": 111,
   "id": "a7aa6882-d5ab-4dbf-8e22-3a84840fa575",
   "metadata": {},
   "outputs": [
    {
     "data": {
      "text/plain": [
       "False"
      ]
     },
     "execution_count": 111,
     "metadata": {},
     "output_type": "execute_result"
    }
   ],
   "source": [
    "s1 = {}\n",
    "s2 = set()\n",
    "s1 == s2"
   ]
  },
  {
   "cell_type": "code",
   "execution_count": 112,
   "id": "c28c936a-274b-47c7-84c2-cba38331ee8e",
   "metadata": {},
   "outputs": [],
   "source": [
    "s1 = {1,2,3}\n",
    "s2 = {2,3,4}"
   ]
  },
  {
   "cell_type": "code",
   "execution_count": 113,
   "id": "97d49583-3e7e-4050-8de4-ae042351d56f",
   "metadata": {},
   "outputs": [
    {
     "data": {
      "text/plain": [
       "{2, 3}"
      ]
     },
     "execution_count": 113,
     "metadata": {},
     "output_type": "execute_result"
    }
   ],
   "source": [
    "s1 & s2 # {2, 3}（交集）"
   ]
  },
  {
   "cell_type": "code",
   "execution_count": 114,
   "id": "330e4170-2a3a-4a68-885b-1a880f9214b4",
   "metadata": {},
   "outputs": [
    {
     "data": {
      "text/plain": [
       "{2, 3}"
      ]
     },
     "execution_count": 114,
     "metadata": {},
     "output_type": "execute_result"
    }
   ],
   "source": [
    "s1.intersection(s2) # {2, 3}（交集）"
   ]
  },
  {
   "cell_type": "code",
   "execution_count": 116,
   "id": "21d911d6-9a7a-4f5a-b88e-45f84c4e0b17",
   "metadata": {},
   "outputs": [],
   "source": [
    "s1.intersection_update(s2) # {2, 3}（交集，会覆盖s1）"
   ]
  },
  {
   "cell_type": "code",
   "execution_count": 117,
   "id": "e0c8a6fc-92ef-44cc-932f-6ab5e0a99f9f",
   "metadata": {},
   "outputs": [
    {
     "data": {
      "text/plain": [
       "{2, 3, 4}"
      ]
     },
     "execution_count": 117,
     "metadata": {},
     "output_type": "execute_result"
    }
   ],
   "source": [
    "s1 | s2  # {1, 2, 3, 4}（并集）"
   ]
  },
  {
   "cell_type": "code",
   "execution_count": 118,
   "id": "6de537be-43a3-4ba3-aebf-ea66b78c75c2",
   "metadata": {},
   "outputs": [
    {
     "data": {
      "text/plain": [
       "{2, 3, 4}"
      ]
     },
     "execution_count": 118,
     "metadata": {},
     "output_type": "execute_result"
    }
   ],
   "source": [
    "s1.union(s2) # {1, 2, 3, 4}（并集）"
   ]
  },
  {
   "cell_type": "code",
   "execution_count": 119,
   "id": "191f38f0-8c71-4f66-9bf1-4f8b66fe7881",
   "metadata": {},
   "outputs": [
    {
     "data": {
      "text/plain": [
       "set()"
      ]
     },
     "execution_count": 119,
     "metadata": {},
     "output_type": "execute_result"
    }
   ],
   "source": [
    "s1.difference(s2) # {1}（差集）"
   ]
  },
  {
   "cell_type": "code",
   "execution_count": 120,
   "id": "cb51ae4c-0db1-4f8b-a29b-6df530803c87",
   "metadata": {},
   "outputs": [],
   "source": [
    "s1.difference_update(s2) # {1}（差集，会覆盖s1）"
   ]
  },
  {
   "cell_type": "code",
   "execution_count": 121,
   "id": "aea78635-16f5-4b5c-b288-ac71f84ed16e",
   "metadata": {},
   "outputs": [
    {
     "data": {
      "text/plain": [
       "{2, 3, 4}"
      ]
     },
     "execution_count": 121,
     "metadata": {},
     "output_type": "execute_result"
    }
   ],
   "source": [
    "s1.symmetric_difference(s2) # {1, 4}（交集之外）"
   ]
  },
  {
   "cell_type": "code",
   "execution_count": 122,
   "id": "c69dd69c-2eca-4029-bca2-6a9bfedf14c5",
   "metadata": {},
   "outputs": [
    {
     "data": {
      "text/plain": [
       "True"
      ]
     },
     "execution_count": 122,
     "metadata": {},
     "output_type": "execute_result"
    }
   ],
   "source": [
    "s1.isdisjoint(s2) # False（是否没有交集）"
   ]
  },
  {
   "cell_type": "code",
   "execution_count": 123,
   "id": "78924fa6-94e8-44ff-b1de-9e6e839759f3",
   "metadata": {},
   "outputs": [
    {
     "data": {
      "text/plain": [
       "True"
      ]
     },
     "execution_count": 123,
     "metadata": {},
     "output_type": "execute_result"
    }
   ],
   "source": [
    "s1.issubset(s2) # False （s1是否是s2的子集）"
   ]
  },
  {
   "cell_type": "code",
   "execution_count": 124,
   "id": "fb703929-efdf-425c-81fb-277ba5904cec",
   "metadata": {},
   "outputs": [
    {
     "data": {
      "text/plain": [
       "False"
      ]
     },
     "execution_count": 124,
     "metadata": {},
     "output_type": "execute_result"
    }
   ],
   "source": [
    "s1.issuperset(s2) # False（s1是否是s2的超集，即s1是否包含s2中的所有元素）"
   ]
  },
  {
   "cell_type": "code",
   "execution_count": null,
   "id": "98fb6c82-13be-4f17-977b-ff6958eec281",
   "metadata": {},
   "outputs": [],
   "source": []
  }
 ],
 "metadata": {
  "kernelspec": {
   "display_name": "Python 3 (ipykernel)",
   "language": "python",
   "name": "python3"
  },
  "language_info": {
   "codemirror_mode": {
    "name": "ipython",
    "version": 3
   },
   "file_extension": ".py",
   "mimetype": "text/x-python",
   "name": "python",
   "nbconvert_exporter": "python",
   "pygments_lexer": "ipython3",
   "version": "3.10.14"
  }
 },
 "nbformat": 4,
 "nbformat_minor": 5
}

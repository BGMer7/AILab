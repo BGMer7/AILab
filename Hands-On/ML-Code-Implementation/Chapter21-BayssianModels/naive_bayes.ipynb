{
 "cells": [
  {
   "cell_type": "markdown",
   "id": "e3c167a5-78c6-4c5a-afb1-c1747acfe126",
   "metadata": {},
   "source": [
    "关于自实现的 naive bayes model 难以理解，故暂时只实现sklearn版本"
   ]
  },
  {
   "cell_type": "code",
   "execution_count": 1,
   "id": "ce12bc3b-de3e-4ffd-9d58-3603d16b3f18",
   "metadata": {},
   "outputs": [],
   "source": [
    "from sklearn.datasets import load_iris\n",
    "from sklearn.model_selection import train_test_split\n",
    "from sklearn.naive_bayes import GaussianNB\n",
    "from sklearn.metrics import accuracy_score"
   ]
  },
  {
   "cell_type": "code",
   "execution_count": 2,
   "id": "7385ac41-bfee-46c7-b77a-1ef51a7e3489",
   "metadata": {},
   "outputs": [],
   "source": [
    "X, y = load_iris(return_X_y=True)\n",
    "X_train, X_test, y_train, y_test = train_test_split(X, y, test_size=0.5, random_state=0)"
   ]
  },
  {
   "cell_type": "code",
   "execution_count": 3,
   "id": "16cd5dfa-c0b2-4f9f-8182-fd30de56bd1c",
   "metadata": {},
   "outputs": [],
   "source": [
    "gnb = GaussianNB()"
   ]
  },
  {
   "cell_type": "code",
   "execution_count": 4,
   "id": "6d729537-2f53-4d3a-8e06-ca39a1b64a2d",
   "metadata": {},
   "outputs": [
    {
     "name": "stdout",
     "output_type": "stream",
     "text": [
      "Accuracy of GaussianNB in iris data test: 0.9466666666666667\n"
     ]
    }
   ],
   "source": [
    "y_pred = gnb.fit(X_train, y_train).predict(X_test)\n",
    "print(\"Accuracy of GaussianNB in iris data test:\", accuracy_score(y_test, y_pred))"
   ]
  },
  {
   "cell_type": "markdown",
   "id": "8c646a56-1b6d-4faa-94eb-5e66755f2d93",
   "metadata": {},
   "source": [
    "naive bayes 是基于事件之间相互独立，这是一个较强的约束条件，实际上事件和事件之间都会存在一定的关联\n",
    "如果事件之间的概率不相互独立，就需要用到 bayessian network"
   ]
  }
 ],
 "metadata": {
  "kernelspec": {
   "display_name": "Python 3 (ipykernel)",
   "language": "python",
   "name": "python3"
  },
  "language_info": {
   "codemirror_mode": {
    "name": "ipython",
    "version": 3
   },
   "file_extension": ".py",
   "mimetype": "text/x-python",
   "name": "python",
   "nbconvert_exporter": "python",
   "pygments_lexer": "ipython3",
   "version": "3.11.7"
  }
 },
 "nbformat": 4,
 "nbformat_minor": 5
}

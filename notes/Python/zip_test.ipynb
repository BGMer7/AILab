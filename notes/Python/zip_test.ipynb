{
 "cells": [
  {
   "metadata": {},
   "cell_type": "markdown",
   "source": "在Python中，zip() 函数用于将多个可迭代对象（例如列表、元组等）的对应元素打包成元组的迭代器。它返回一个迭代器，每次迭代可以获取到这些可迭代对象对应位置的元素组成的元组。",
   "id": "d7fd1631c105a492"
  },
  {
   "metadata": {
    "ExecuteTime": {
     "end_time": "2024-07-23T13:20:06.574505Z",
     "start_time": "2024-07-23T13:20:06.567083Z"
    }
   },
   "cell_type": "code",
   "source": [
    "list1 = [1, 2, 3]\n",
    "list2 = ['a', 'b', 'c']\n",
    "\n",
    "zipped = zip(list1, list2)\n",
    "\n",
    "print(list(zipped))  # Output: [(1, 'a'), (2, 'b'), (3, 'c')]"
   ],
   "id": "95cbd1a1d1880366",
   "outputs": [
    {
     "name": "stdout",
     "output_type": "stream",
     "text": [
      "[(1, 'a'), (2, 'b'), (3, 'c')]\n"
     ]
    }
   ],
   "execution_count": 1
  },
  {
   "metadata": {
    "ExecuteTime": {
     "end_time": "2024-07-23T13:20:35.111935Z",
     "start_time": "2024-07-23T13:20:35.107881Z"
    }
   },
   "cell_type": "code",
   "source": [
    "list1 = [1, 2, 3]\n",
    "list2 = ['a', 'b', 'c']\n",
    "\n",
    "for item1, item2 in zip(list1, list2):\n",
    "    print(item1, item2)"
   ],
   "id": "d31cb27ec96ee610",
   "outputs": [
    {
     "name": "stdout",
     "output_type": "stream",
     "text": [
      "1 a\n",
      "2 b\n",
      "3 c\n"
     ]
    }
   ],
   "execution_count": 2
  },
  {
   "metadata": {
    "ExecuteTime": {
     "end_time": "2024-07-23T13:21:08.055336Z",
     "start_time": "2024-07-23T13:21:08.052232Z"
    }
   },
   "cell_type": "code",
   "source": [
    "list1 = [1, 2, 3]\n",
    "list2 = ['a', 'b']\n",
    "\n",
    "# 如果可迭代对象的长度不同，zip() 函数会以最短的可迭代对象为准进行打包。\n",
    "zipped = zip(list1, list2)\n",
    "\n",
    "print(list(zipped))  # Output: [(1, 'a'), (2, 'b')]"
   ],
   "id": "438b6b0d3ea8f5c3",
   "outputs": [
    {
     "name": "stdout",
     "output_type": "stream",
     "text": [
      "[(1, 'a'), (2, 'b')]\n"
     ]
    }
   ],
   "execution_count": 3
  }
 ],
 "metadata": {
  "kernelspec": {
   "display_name": "Python 3",
   "language": "python",
   "name": "python3"
  },
  "language_info": {
   "codemirror_mode": {
    "name": "ipython",
    "version": 2
   },
   "file_extension": ".py",
   "mimetype": "text/x-python",
   "name": "python",
   "nbconvert_exporter": "python",
   "pygments_lexer": "ipython2",
   "version": "2.7.6"
  }
 },
 "nbformat": 4,
 "nbformat_minor": 5
}

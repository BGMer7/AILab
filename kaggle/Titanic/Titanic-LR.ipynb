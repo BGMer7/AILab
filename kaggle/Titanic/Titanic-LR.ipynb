{
 "cells": [
  {
   "cell_type": "markdown",
   "id": "82af91f0-a339-47c5-ab34-4d40d6d71533",
   "metadata": {},
   "source": [
    "https://www.kaggle.com/code/mnassrib/titanic-logistic-regression-with-python"
   ]
  },
  {
   "cell_type": "code",
   "execution_count": 1,
   "id": "adcd0caf-bf3d-48d8-9bec-6e9bd327e0f3",
   "metadata": {},
   "source": [
    "import numpy as np\n",
    "import pandas as pd"
   ],
   "outputs": []
  },
  {
   "cell_type": "code",
   "execution_count": 2,
   "id": "3438321c-fbb0-47a5-a61c-64b20fe2e02a",
   "metadata": {},
   "source": [
    "from sklearn import preprocessing\n",
    "import matplotlib.pyplot as plt\n",
    "\n",
    "plt.rc(\"font\", size=14)"
   ],
   "outputs": []
  },
  {
   "cell_type": "code",
   "execution_count": 3,
   "id": "52a14499-c903-4c04-9b19-c1ff39995e76",
   "metadata": {},
   "source": [
    "import seaborn as sns\n",
    "sns.set(style=\"white\") #white background style for seaborn plots\n",
    "sns.set(style=\"whitegrid\", color_codes=True)"
   ],
   "outputs": []
  },
  {
   "cell_type": "code",
   "execution_count": 4,
   "id": "41f4a9c4-3ddb-4f2c-aaf8-323dbed6131d",
   "metadata": {},
   "source": [
    "import warnings\n",
    "warnings.simplefilter(action='ignore')"
   ],
   "outputs": []
  },
  {
   "cell_type": "code",
   "execution_count": 5,
   "id": "43a477f6-502f-4b6d-945a-29f82221b9e3",
   "metadata": {},
   "source": [
    "input_train_path = './train.csv'\n",
    "input_test_path = './test.csv'"
   ],
   "outputs": []
  },
  {
   "cell_type": "code",
   "execution_count": 6,
   "id": "ddd12557-fe2e-4478-9364-7b7b57e0da72",
   "metadata": {},
   "source": [
    "train_df = pd.read_csv(input_train_path)\n",
    "test_df = pd.read_csv(input_test_path)"
   ],
   "outputs": []
  },
  {
   "cell_type": "code",
   "execution_count": 7,
   "id": "69cd0ff8-e11c-431c-b4b1-f9f68ee0ea47",
   "metadata": {},
   "source": [
    "train_df.head()"
   ],
   "outputs": []
  },
  {
   "cell_type": "code",
   "execution_count": 8,
   "id": "8d56889e-02eb-4ab2-b667-186bbec9ab1a",
   "metadata": {},
   "source": [
    "print('The number of samples into the train data is {}.'.format(train_df.shape[0]))"
   ],
   "outputs": []
  },
  {
   "cell_type": "code",
   "execution_count": 9,
   "id": "3873d410-a415-4275-b886-a36b8673a668",
   "metadata": {},
   "source": [
    "test_df.head()"
   ],
   "outputs": []
  },
  {
   "cell_type": "code",
   "execution_count": 10,
   "id": "a052cc45-bdf7-4597-a5cd-aa7b19219060",
   "metadata": {},
   "source": [
    "print('The number of samples into the test data is {}.'.format(test_df.shape[0]))"
   ],
   "outputs": []
  },
  {
   "cell_type": "markdown",
   "id": "287b8a24-8c10-42b0-96ae-1fa1db837041",
   "metadata": {},
   "source": [
    "## data quality and missing data assessment"
   ]
  },
  {
   "cell_type": "code",
   "execution_count": 11,
   "id": "7984a975-a3ad-4b61-a9f0-1a25f8b0734a",
   "metadata": {},
   "source": [
    "train_df.isnull().sum()"
   ],
   "outputs": []
  },
  {
   "cell_type": "code",
   "execution_count": 12,
   "id": "3f2a50f3-0b94-4366-9e20-fa86b4883acb",
   "metadata": {},
   "source": [
    "related_features_df = train_df[['Pclass', 'Age', 'SibSp', 'Parch']].copy()\n",
    "related_features_df"
   ],
   "outputs": []
  },
  {
   "cell_type": "code",
   "execution_count": 13,
   "id": "b988afe6-c9aa-4bdb-b8a5-91a0205f458a",
   "metadata": {},
   "source": [
    "train_df.describe()"
   ],
   "outputs": []
  },
  {
   "cell_type": "code",
   "execution_count": 14,
   "id": "6cd493a4-0104-47a6-8662-677caeaed579",
   "metadata": {},
   "source": [
    "# data correlative\n",
    "related_features_df.corr()"
   ],
   "outputs": []
  },
  {
   "cell_type": "markdown",
   "id": "6a24f27b-b90f-4321-ad4b-e8caea6ac9a9",
   "metadata": {},
   "source": [
    "### age data missing"
   ]
  },
  {
   "cell_type": "code",
   "execution_count": 15,
   "id": "c2349434-0bc0-4b81-9b5a-2e609d22b2cd",
   "metadata": {},
   "source": [
    "# percent of missing \"Age\" \n",
    "print('Percent of missing \"Age\" records is %.2f%%' %((train_df['Age'].isnull().sum()/train_df.shape[0])*100))"
   ],
   "outputs": []
  },
  {
   "cell_type": "code",
   "execution_count": 16,
   "id": "2275f2ec-aefa-44b5-b141-cccb80e4878d",
   "metadata": {},
   "source": [
    "ax = train_df[\"Age\"].hist(bins=20, density=True, color='teal', alpha=0.6)\n",
    "train_df[\"Age\"].plot(kind='density', color='teal')\n",
    "ax.set(xlabel='Age')\n",
    "plt.xlim(0, 100)\n",
    "plt.show()"
   ],
   "outputs": []
  },
  {
   "cell_type": "code",
   "execution_count": 17,
   "id": "65629c7e-fb72-45c6-9351-f76035e6fa3c",
   "metadata": {},
   "source": [
    "# mean age\n",
    "print('The mean of \"Age\" is %.2f' %(train_df[\"Age\"].mean(skipna=True)))\n",
    "# median age\n",
    "print('The median of \"Age\" is %.2f' %(train_df[\"Age\"].median(skipna=True)))"
   ],
   "outputs": []
  },
  {
   "cell_type": "code",
   "execution_count": 18,
   "id": "8aabbdc5-a245-4ca5-ba34-4954863087bc",
   "metadata": {},
   "source": [
    "train_df[train_df['Age'].notna()].sample()['Age']"
   ],
   "outputs": []
  },
  {
   "cell_type": "markdown",
   "id": "9cadd327-e46c-4128-99fb-39bca4cc1fd9",
   "metadata": {},
   "source": [
    "### cabin data missing"
   ]
  },
  {
   "cell_type": "code",
   "execution_count": 19,
   "id": "6c5cc021-2ecd-4ec4-970c-6312815b22dd",
   "metadata": {},
   "source": [
    "# percent of missing \"Cabin\" \n",
    "print('Percent of missing \"Cabin\" records is %.2f%%' %((train_df['Cabin'].isnull().sum()/train_df.shape[0])*100))"
   ],
   "outputs": []
  },
  {
   "cell_type": "markdown",
   "id": "5e7012c0-7e82-4901-acbd-a8d550a43d3d",
   "metadata": {},
   "source": [
    "### embarked missing value"
   ]
  },
  {
   "cell_type": "code",
   "execution_count": 20,
   "id": "edda2e94-46f7-4153-9377-95043b357e5e",
   "metadata": {},
   "source": [
    "# percent of missing \"Embarked\" \n",
    "print('Percent of missing \"Embarked\" records is %.2f%%' %((train_df['Embarked'].isnull().sum()/train_df.shape[0])*100))"
   ],
   "outputs": []
  },
  {
   "cell_type": "code",
   "execution_count": 21,
   "id": "3426bb5e-b85e-4fcb-8e26-97c424464b71",
   "metadata": {},
   "source": [
    "print('Boarded passengers grouped by port of embarkation (C = Cherbourg, Q = Queenstown, S = Southampton):')\n",
    "print(train_df['Embarked'].value_counts())\n",
    "sns.countplot(x='Embarked', data=train_df, palette='Set2')\n",
    "plt.show()"
   ],
   "outputs": []
  },
  {
   "cell_type": "code",
   "execution_count": 22,
   "id": "44144485-74c0-40f9-b48a-68dea000acd2",
   "metadata": {},
   "source": [
    "print('The most common boarding port of embarkation is %s.' %train_df['Embarked'].value_counts().idxmax())"
   ],
   "outputs": []
  },
  {
   "cell_type": "markdown",
   "id": "4ca4ffd6-afb4-4293-ace1-959ce9a9a527",
   "metadata": {},
   "source": [
    "## adjustment of data"
   ]
  },
  {
   "cell_type": "code",
   "execution_count": 23,
   "id": "825fd276-e7fb-4ca1-8578-9398c73624c7",
   "metadata": {},
   "source": [
    "train_data = train_df.copy()\n",
    "# train_data[\"Age\"].fillna(train_df[\"Age\"].median(skipna=True), inplace=True)\n",
    "# TODO 可以尝试使用cell[18]的随机生成的方法填补空缺值\n",
    "train_data['Age'].fillna(method='pad', axis=0, inplace=True)\n",
    "train_data[\"Embarked\"].fillna(train_df['Embarked'].value_counts().idxmax(), inplace=True)\n",
    "train_data.drop('Cabin', axis=1, inplace=True)\n",
    "train_data.head()"
   ],
   "outputs": []
  },
  {
   "cell_type": "code",
   "execution_count": 24,
   "id": "4d2e635e-3b27-4b0e-9527-7bd5d2f5cfd3",
   "metadata": {},
   "source": [
    "plt.figure(figsize=(15,8))\n",
    "ax = train_df[\"Age\"].hist(bins=15, density=True, stacked=True, color='teal', alpha=0.6)\n",
    "train_df[\"Age\"].plot(kind='density', color='teal')\n",
    "ax = train_data[\"Age\"].hist(bins=15, density=True, stacked=True, color='orange', alpha=0.5)\n",
    "train_data[\"Age\"].plot(kind='density', color='orange')\n",
    "ax.legend(['Raw Age', 'Adjusted Age'])\n",
    "ax.set(xlabel='Age')\n",
    "plt.xlim(-10,85)\n",
    "plt.show()"
   ],
   "outputs": []
  },
  {
   "cell_type": "code",
   "execution_count": 25,
   "id": "64c80a9c-5237-4080-a9f5-e273e58740d5",
   "metadata": {},
   "source": [
    "# create categorical variable for traveling alone\n",
    "train_data['TravelAlone']=np.where((train_data[\"SibSp\"]+train_data[\"Parch\"])>0, 0, 1)\n",
    "# train_data.drop('SibSp', axis=1, inplace=True)\n",
    "# train_data.drop('Parch', axis=1, inplace=True)"
   ],
   "outputs": []
  },
  {
   "cell_type": "code",
   "execution_count": 26,
   "id": "73095b66-9d70-403f-8c68-2f4ac0dad67b",
   "metadata": {},
   "source": [
    "# create categorical variables and drop some variables\n",
    "training=pd.get_dummies(train_data, columns=[\"Pclass\",\"Embarked\",\"Sex\"])\n",
    "training.drop('Sex_female', axis=1, inplace=True)\n",
    "training.drop('PassengerId', axis=1, inplace=True)\n",
    "training.drop('Name', axis=1, inplace=True)\n",
    "training.drop('Ticket', axis=1, inplace=True)\n",
    "\n",
    "final_train = training\n",
    "final_train.head()"
   ],
   "outputs": []
  },
  {
   "cell_type": "markdown",
   "id": "4e20e657-367d-43dd-9447-96df7b31752e",
   "metadata": {},
   "source": [
    "## test data process"
   ]
  },
  {
   "cell_type": "code",
   "execution_count": 27,
   "id": "59513753-9ba0-4860-a361-0b73d6a00fa2",
   "metadata": {},
   "source": [
    "test_df.isnull().sum()"
   ],
   "outputs": []
  },
  {
   "cell_type": "code",
   "execution_count": 28,
   "id": "d1771d3f-b0eb-42e4-b5b5-ea065373bf41",
   "metadata": {},
   "source": [
    "test_data = test_df.copy()\n",
    "test_data[\"Age\"].fillna(method='pad', axis=0, inplace=True)\n",
    "test_data[\"Fare\"].fillna(train_df[\"Fare\"].median(skipna=True), inplace=True)\n",
    "test_data.drop('Cabin', axis=1, inplace=True)\n",
    "\n",
    "test_data['TravelAlone']=np.where((test_data[\"SibSp\"]+test_data[\"Parch\"])>0, 0, 1)\n",
    "\n",
    "test_data.drop('SibSp', axis=1, inplace=True)\n",
    "test_data.drop('Parch', axis=1, inplace=True)\n",
    "\n",
    "testing = pd.get_dummies(test_data, columns=[\"Pclass\",\"Embarked\",\"Sex\"])\n",
    "testing.drop('Sex_female', axis=1, inplace=True)\n",
    "testing.drop('PassengerId', axis=1, inplace=True)\n",
    "testing.drop('Name', axis=1, inplace=True)\n",
    "testing.drop('Ticket', axis=1, inplace=True)\n",
    "\n",
    "final_test = testing\n",
    "final_test.head()"
   ],
   "outputs": []
  },
  {
   "cell_type": "code",
   "execution_count": 29,
   "id": "7282fcb4-4d15-415a-8b36-ae79aa026244",
   "metadata": {},
   "source": [
    "final_test.isnull().sum()"
   ],
   "outputs": []
  },
  {
   "cell_type": "markdown",
   "id": "0f6f24af-84cc-4a6a-8328-fc35aaf2f75a",
   "metadata": {},
   "source": [
    "## Exploratory Data Analysis"
   ]
  },
  {
   "cell_type": "markdown",
   "id": "a69988da-56aa-4b9f-afae-bddb1593c72a",
   "metadata": {},
   "source": [
    "### Exploratory of Age"
   ]
  },
  {
   "cell_type": "code",
   "execution_count": 37,
   "id": "58946e23-43d6-49d5-9726-1ac2c6edca22",
   "metadata": {},
   "source": [
    "plt.figure(figsize=(15, 8))\n",
    "ax = sns.kdeplot(final_train[\"Age\"][final_train.Survived == 1], color=\"darkturquoise\", shade=True)\n",
    "sns.kdeplot(final_train[\"Age\"][final_train.Survived == 0], color=\"lightcoral\", shade=True)\n",
    "plt.legend(['Survived', 'Died'])\n",
    "plt.title('Density Plot of Age for Surviving Population and Deceased Population')\n",
    "ax.set(xlabel = 'Age')\n",
    "plt.xlim(-10,85)\n",
    "plt.show()"
   ],
   "outputs": []
  },
  {
   "cell_type": "raw",
   "id": "c6e641ee-2136-4aac-8e06-846a87e7cf81",
   "metadata": {},
   "source": [
    "The age distribution for survivors and deceased is actually very similar. One notable difference is that, of the survivors, a larger proportion were children. The passengers evidently made an attempt to save children by giving them a place on the life rafts."
   ]
  },
  {
   "cell_type": "code",
   "execution_count": 38,
   "id": "29bb33a0-6c95-45d2-93f1-cdcdc59ad79c",
   "metadata": {},
   "source": [
    "plt.figure(figsize=(20,8))\n",
    "avg_survival_byage = final_train[[\"Age\", \"Survived\"]].groupby(['Age'], as_index=False).mean()\n",
    "g = sns.barplot(x='Age', y='Survived', data=avg_survival_byage, color=\"LightSeaGreen\")\n",
    "plt.show()"
   ],
   "outputs": []
  },
  {
   "cell_type": "code",
   "execution_count": 39,
   "id": "0dbfb97a-a69c-44b9-ab0a-2d070ada94a7",
   "metadata": {},
   "source": [
    "final_train['IsChildren']=np.where(final_train['Age']<=16, 1, 0)\n",
    "final_test['IsChildren']=np.where(final_test['Age']<=16, 1, 0)"
   ],
   "outputs": []
  },
  {
   "cell_type": "markdown",
   "id": "bfff2076-8ba2-4055-ba74-3300b307b55c",
   "metadata": {},
   "source": [
    "## Logistic Regression"
   ]
  },
  {
   "cell_type": "markdown",
   "id": "0f1fd21b-b2d6-4829-9e1e-6aebaca12c36",
   "metadata": {},
   "source": [
    "### feature selection"
   ]
  },
  {
   "cell_type": "code",
   "execution_count": 30,
   "id": "23d66abe-6e6a-4096-a01d-ab45af61b554",
   "metadata": {},
   "source": [
    "from sklearn.linear_model import LogisticRegression\n",
    "from sklearn.feature_selection import RFE"
   ],
   "outputs": []
  },
  {
   "cell_type": "code",
   "execution_count": 59,
   "id": "219a68c6-157b-4512-af7a-bad9886fc272",
   "metadata": {},
   "source": [
    "cols = [\"Age\",\"Fare\",\"TravelAlone\",\"Pclass_1\",\"Pclass_2\", \"Pclass_3\",\"Embarked_C\",\"Embarked_Q\", \"Embarked_S\",\"Sex_male\",\"IsChildren\"]\n",
    "train_x = final_train[cols]\n",
    "train_y = final_train['Survived']"
   ],
   "outputs": []
  },
  {
   "cell_type": "code",
   "execution_count": 60,
   "id": "d9eb5d11-9a6d-4fdf-bb48-c2362c93883b",
   "metadata": {},
   "source": [
    "LR = LogisticRegression()\n",
    "LR.fit(train_x, train_y)"
   ],
   "outputs": []
  },
  {
   "cell_type": "code",
   "execution_count": 61,
   "id": "09697f3c-59a2-4e85-9bc4-e8e1a6d721c2",
   "metadata": {},
   "source": [
    "final_test"
   ],
   "outputs": []
  },
  {
   "cell_type": "code",
   "execution_count": 62,
   "id": "9c672a9e-be2f-49d3-ae49-73d89361b8fc",
   "metadata": {},
   "source": [
    "train_x"
   ],
   "outputs": []
  },
  {
   "cell_type": "code",
   "execution_count": 64,
   "id": "15707999-792a-4424-9ded-d0a2c79e53b4",
   "metadata": {},
   "source": [
    "final_test['Survived'] = LR.predict(final_test)"
   ],
   "outputs": []
  },
  {
   "cell_type": "code",
   "execution_count": 65,
   "id": "805577e0-f0f6-4a6b-88eb-72115c3baf52",
   "metadata": {},
   "source": [
    "final_test['PassengerId'] = test_df['PassengerId']"
   ],
   "outputs": []
  },
  {
   "cell_type": "code",
   "execution_count": 66,
   "id": "1fcfcfc5-1ba5-4129-8168-c6633613ddb2",
   "metadata": {},
   "source": [
    "submission = final_test[['PassengerId','Survived']]\n",
    "submission.to_csv(\"submission.csv\", index=False)\n",
    "submission.tail()"
   ],
   "outputs": []
  },
  {
   "cell_type": "code",
   "execution_count": null,
   "id": "e8aed451-5f6d-49b8-bfe8-a47e7e4818c5",
   "metadata": {},
   "source": [],
   "outputs": []
  }
 ],
 "metadata": {
  "kernelspec": {
   "display_name": "python-kaggle",
   "language": "python",
   "name": "kaggle"
  },
  "language_info": {
   "codemirror_mode": {
    "name": "ipython",
    "version": 3
   },
   "file_extension": ".py",
   "mimetype": "text/x-python",
   "name": "python",
   "nbconvert_exporter": "python",
   "pygments_lexer": "ipython3",
   "version": "3.8.19"
  }
 },
 "nbformat": 4,
 "nbformat_minor": 5
}

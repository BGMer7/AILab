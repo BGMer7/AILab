{
 "cells": [
  {
   "cell_type": "markdown",
   "id": "82af91f0-a339-47c5-ab34-4d40d6d71533",
   "metadata": {},
   "source": [
    "https://www.kaggle.com/code/mnassrib/titanic-logistic-regression-with-python"
   ]
  },
  {
   "cell_type": "code",
   "execution_count": 2,
   "id": "adcd0caf-bf3d-48d8-9bec-6e9bd327e0f3",
   "metadata": {},
   "outputs": [],
   "source": [
    "import numpy as np\n",
    "import pandas as pd"
   ]
  },
  {
   "cell_type": "code",
   "execution_count": 3,
   "id": "3438321c-fbb0-47a5-a61c-64b20fe2e02a",
   "metadata": {},
   "outputs": [],
   "source": [
    "from sklearn import preprocessing\n",
    "import matplotlib.pyplot as plt\n",
    "\n",
    "plt.rc(\"font\", size=14)"
   ]
  },
  {
   "cell_type": "code",
   "execution_count": 6,
   "id": "52a14499-c903-4c04-9b19-c1ff39995e76",
   "metadata": {},
   "outputs": [],
   "source": [
    "import seaborn as sns\n",
    "sns.set(style=\"white\") #white background style for seaborn plots\n",
    "sns.set(style=\"whitegrid\", color_codes=True)"
   ]
  },
  {
   "cell_type": "code",
   "execution_count": 7,
   "id": "41f4a9c4-3ddb-4f2c-aaf8-323dbed6131d",
   "metadata": {},
   "outputs": [],
   "source": [
    "import warnings\n",
    "warnings.simplefilter(action='ignore')"
   ]
  },
  {
   "cell_type": "code",
   "execution_count": null,
   "id": "43a477f6-502f-4b6d-945a-29f82221b9e3",
   "metadata": {},
   "outputs": [],
   "source": []
  }
 ],
 "metadata": {
  "kernelspec": {
   "display_name": "python-kaggle",
   "language": "python",
   "name": "python-kaggle"
  },
  "language_info": {
   "codemirror_mode": {
    "name": "ipython",
    "version": 3
   },
   "file_extension": ".py",
   "mimetype": "text/x-python",
   "name": "python",
   "nbconvert_exporter": "python",
   "pygments_lexer": "ipython3",
   "version": "3.8.19"
  }
 },
 "nbformat": 4,
 "nbformat_minor": 5
}

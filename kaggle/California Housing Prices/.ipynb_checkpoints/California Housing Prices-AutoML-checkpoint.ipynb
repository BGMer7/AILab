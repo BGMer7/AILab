{
 "cells": [
  {
   "cell_type": "code",
   "execution_count": null,
   "id": "689b64db-b03a-4e9b-9617-76c5e968dba3",
   "metadata": {},
   "outputs": [],
   "source": [
    "from autogluon.tabular import TabularDataset,TabularPredictor"
   ]
  },
  {
   "cell_type": "code",
   "execution_count": null,
   "id": "2c843bfb-2cc6-41bf-82e8-cba004cb45d1",
   "metadata": {},
   "outputs": [],
   "source": [
    "# 训练\n",
    "train_data = TabularDataset('./data/California house price/house-prices-advanced-regression-techniques/train.csv')"
   ]
  },
  {
   "cell_type": "code",
   "execution_count": null,
   "id": "c9bf2a2b-bf1f-46ff-bed2-89b5f0e3d6c2",
   "metadata": {},
   "outputs": [],
   "source": [
    "id,label = 'Id','SalePrice'\n",
    "predictor = TabularPredictor(label=label).fit(train_data.drop(columns=[id]))"
   ]
  }
 ],
 "metadata": {
  "kernelspec": {
   "display_name": "python-kaggle",
   "language": "python",
   "name": "kaggle"
  },
  "language_info": {
   "codemirror_mode": {
    "name": "ipython",
    "version": 3
   },
   "file_extension": ".py",
   "mimetype": "text/x-python",
   "name": "python",
   "nbconvert_exporter": "python",
   "pygments_lexer": "ipython3",
   "version": "3.8.19"
  }
 },
 "nbformat": 4,
 "nbformat_minor": 5
}

{
 "cells": [
  {
   "cell_type": "code",
   "execution_count": null,
   "metadata": {},
   "outputs": [],
   "source": [
    "from sklearn import datasets, svm, metrics, model_selection, preprocessing\n",
    "from sklearn.naive_bayes import GaussianNB\n",
    "import matplotlib.pyplot as plt\n",
    "from sklearn.metrics import roc_curve, auc\n",
    "import numpy as np\n",
    "\n",
    "# 导入数据，并且变为2分类\n",
    "iris = datasets.load_iris()\n",
    "x = iris.data[iris.target !=2, :2]\n",
    "y_ = iris.target[iris.target !=2]\n",
    "\n",
    "y=[]\n",
    "for i in range(len(y_)):\n",
    "    y.append(y_[i]+1)\n",
    "y = np.array(y)\n",
    "\n",
    "# Add noisy features to make the problem harder\n",
    "random_state = np.random.RandomState(0)\n",
    "n_samples, n_features = x.shape\n",
    "x = np.c_[x, random_state.randn(n_samples, 200 * n_features)]\n",
    "\n",
    "# 归一化\n",
    "# x = preprocessing.StandardScaler().fit_transform(x)\n",
    "\n",
    "# 拆分成训练集和测试集\n",
    "x_train, x_test, y_train, y_test = model_selection.train_test_split(x,y,test_size=0.1, random_state=25)\n",
    "\n",
    "\n",
    "# 构造分类器\n",
    "clf = svm.SVC(kernel='linear',probability=True,random_state=random_state)\n",
    "clf.fit(x_train, y_train)\n",
    "f1_score = metrics.f1_score(y_test, clf.predict(x_test))\n",
    "print(f1_score)\n",
    "\n",
    "predict_probs = clf.predict_proba(x_test)\n",
    "y_score = predict_probs[:,1]\n",
    "fpr,tpr,thresholds = metrics.roc_curve(y_test, y_score, pos_label=2)\n",
    "roc_auc = metrics.auc(fpr,tpr)  # 计算auc的值\n",
    "\n",
    "# 绘制roc曲线\n",
    "plt.figure()\n",
    "lw = 2\n",
    "plt.figure(figsize=(10,10))\n",
    "plt.plot(fpr, tpr, color='darkorange',lw=lw,label='LR ROC curve (area = %0.2f)' % roc_auc)\n",
    "plt.plot([0, 1], [0, 1], color='navy', lw=lw, linestyle='--')\n",
    "plt.xlim([0.0,1.0])\n",
    "plt.ylim([0.0,1.05])\n",
    "plt.xlabel('False Positive Rate')\n",
    "plt.ylabel('True Positive Rate')\n",
    "plt.title('Receiver operating characteristic example')\n",
    "plt.legend(loc=\"lower right\")\n",
    "plt.show()\n",
    "\n"
   ]
  }
 ],
 "metadata": {
  "kernelspec": {
   "display_name": "ipykernel-dl",
   "language": "python",
   "name": "dl"
  },
  "language_info": {
   "codemirror_mode": {
    "name": "ipython",
    "version": 3
   },
   "file_extension": ".py",
   "mimetype": "text/x-python",
   "name": "python",
   "nbconvert_exporter": "python",
   "pygments_lexer": "ipython3",
   "version": "3.12.7"
  }
 },
 "nbformat": 4,
 "nbformat_minor": 2
}

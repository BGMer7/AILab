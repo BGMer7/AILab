{
 "cells": [
  {
   "cell_type": "code",
   "execution_count": 1,
   "metadata": {},
   "outputs": [],
   "source": [
    "import torch\n",
    "import torch.nn as nn\n",
    "import torch.nn.functional as F"
   ]
  },
  {
   "cell_type": "code",
   "execution_count": 11,
   "metadata": {},
   "outputs": [],
   "source": [
    "class TripletLoss(nn.Module):\n",
    "    def __init__(self, margin=1.0):\n",
    "        super(TripletLoss, self).__init__()\n",
    "        self.margin = margin\n",
    "        \n",
    "    def forward(self, anchor, positive, negative):\n",
    "        # 计算Anchor与Positive之间的欧几里得距离\n",
    "        positive_distance = F.pairwise_distance(anchor, positive, p=2)\n",
    "        \n",
    "        # 计算Anchor与Negative之间的欧几里得距离\n",
    "        negative_distance = F.pairwise_distance(anchor, negative, p=2)\n",
    "        \n",
    "        # relu的作用实际上和max(positive_distance - negative_distance + self.margin, 0)是一致的，而且还可以自动求导\n",
    "        loss = torch.relu(positive_distance - negative_distance + self.margin)\n",
    "        print(\"triplet_loss: \", loss)\n",
    "        return loss.mean()"
   ]
  },
  {
   "cell_type": "code",
   "execution_count": 12,
   "metadata": {},
   "outputs": [],
   "source": [
    "# 示例：假设有一个简单的模型输出三个向量（Anchor, Positive, Negative）\n",
    "anchor = torch.randn(32, 128)  # 假设32个样本，每个样本128维的特征向量\n",
    "positive = torch.randn(32, 128)\n",
    "negative = torch.randn(32, 128)\n"
   ]
  },
  {
   "cell_type": "code",
   "execution_count": 13,
   "metadata": {},
   "outputs": [
    {
     "name": "stdout",
     "output_type": "stream",
     "text": [
      "triplet_loss:  tensor([4.0430, 0.7544, 1.7678, 2.9474, 1.3649, 0.4990, 0.6098, 0.0000, 3.7473,\n",
      "        0.0000, 0.0000, 0.4415, 1.0157, 1.7054, 3.0831, 0.1313, 0.8062, 0.0000,\n",
      "        0.2358, 0.5999, 3.0924, 0.5226, 0.0000, 2.3792, 1.0809, 2.4778, 0.0000,\n",
      "        2.5898, 0.0396, 0.1656, 1.9068, 1.6790])\n",
      "tensor(1.2402)\n"
     ]
    }
   ],
   "source": [
    "# 定义三元组损失\n",
    "triplet_loss = TripletLoss(margin=1.0)\n",
    "loss = triplet_loss(anchor, positive, negative)\n",
    "print(loss)"
   ]
  }
 ],
 "metadata": {
  "kernelspec": {
   "display_name": "ipykernel-dl",
   "language": "python",
   "name": "dl"
  },
  "language_info": {
   "codemirror_mode": {
    "name": "ipython",
    "version": 3
   },
   "file_extension": ".py",
   "mimetype": "text/x-python",
   "name": "python",
   "nbconvert_exporter": "python",
   "pygments_lexer": "ipython3",
   "version": "3.12.7"
  }
 },
 "nbformat": 4,
 "nbformat_minor": 2
}

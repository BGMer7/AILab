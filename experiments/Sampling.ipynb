{
 "cells": [
  {
   "cell_type": "code",
   "execution_count": 1,
   "metadata": {},
   "outputs": [
    {
     "name": "stdout",
     "output_type": "stream",
     "text": [
      "Upsampled Shape: torch.Size([1, 1, 8, 8])\n",
      "Downsampled Shape: torch.Size([1, 1, 2, 2])\n"
     ]
    }
   ],
   "source": [
    "import torch\n",
    "import torch.nn.functional as F\n",
    "\n",
    "# 示例张量\n",
    "x = torch.rand(1, 1, 4, 4)  # 形状为 (Batch, Channels, Height, Width)\n",
    "\n",
    "# 上采样\n",
    "upsampled = F.interpolate(x, scale_factor=2, mode='bilinear', align_corners=False)\n",
    "print(\"Upsampled Shape:\", upsampled.shape)  # (1, 1, 8, 8)\n",
    "\n",
    "# 下采样\n",
    "downsampled = F.avg_pool2d(x, kernel_size=2, stride=2)\n",
    "print(\"Downsampled Shape:\", downsampled.shape)  # (1, 1, 2, 2)"
   ]
  }
 ],
 "metadata": {
  "kernelspec": {
   "display_name": "d2l",
   "language": "python",
   "name": "python3"
  },
  "language_info": {
   "codemirror_mode": {
    "name": "ipython",
    "version": 3
   },
   "file_extension": ".py",
   "mimetype": "text/x-python",
   "name": "python",
   "nbconvert_exporter": "python",
   "pygments_lexer": "ipython3",
   "version": "3.9.19"
  }
 },
 "nbformat": 4,
 "nbformat_minor": 2
}

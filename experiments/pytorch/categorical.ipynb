{
 "cells": [
  {
   "cell_type": "code",
   "execution_count": 60,
   "metadata": {},
   "outputs": [],
   "source": [
    "import torch\n",
    "import torch.nn as nn\n",
    "from torch.distributions import Categorical\n"
   ]
  },
  {
   "cell_type": "code",
   "execution_count": 61,
   "metadata": {},
   "outputs": [
    {
     "data": {
      "text/plain": [
       "tensor([0.9946, 0.2180, 0.7234, 0.6646, 0.0875])"
      ]
     },
     "execution_count": 61,
     "metadata": {},
     "output_type": "execute_result"
    }
   ],
   "source": [
    "# 随机生成一个张量\n",
    "freq = torch.rand(5)\n",
    "freq"
   ]
  },
  {
   "cell_type": "code",
   "execution_count": 62,
   "metadata": {},
   "outputs": [
    {
     "name": "stdout",
     "output_type": "stream",
     "text": [
      "tensor([0.2989, 0.1375, 0.2279, 0.2149, 0.1207])\n"
     ]
    }
   ],
   "source": [
    "# 张量用softmax归一化，当作一个概率分布\n",
    "softmax = nn.Softmax(dim=0)\n",
    "probs = softmax(freq)\n",
    "print(probs)\n",
    "assert(probs.sum()==1)"
   ]
  },
  {
   "cell_type": "code",
   "execution_count": 63,
   "metadata": {},
   "outputs": [
    {
     "name": "stdout",
     "output_type": "stream",
     "text": [
      "tensor(2)\n",
      "tensor(0)\n",
      "tensor(0)\n",
      "tensor(-1.2075)\n"
     ]
    }
   ],
   "source": [
    "# 创建类别分布\n",
    "dist = Categorical(probs)\n",
    "\n",
    "# 采样动作\n",
    "action = dist.sample()  # 可能输出 0, 1, 2, 3, 4\n",
    "print(action)\n",
    "action = dist.sample()  # 可能输出 0, 1, 2, 3, 4\n",
    "print(action)\n",
    "action = dist.sample()  # 可能输出 0, 1, 2, 3, 4\n",
    "print(action)\n",
    "\n",
    "# 计算对数概率\n",
    "log_prob = dist.log_prob(action)\n",
    "print(log_prob)"
   ]
  },
  {
   "cell_type": "code",
   "execution_count": null,
   "metadata": {},
   "outputs": [],
   "source": []
  }
 ],
 "metadata": {
  "kernelspec": {
   "display_name": "d2l",
   "language": "python",
   "name": "python3"
  },
  "language_info": {
   "codemirror_mode": {
    "name": "ipython",
    "version": 3
   },
   "file_extension": ".py",
   "mimetype": "text/x-python",
   "name": "python",
   "nbconvert_exporter": "python",
   "pygments_lexer": "ipython3",
   "version": "3.9.19"
  }
 },
 "nbformat": 4,
 "nbformat_minor": 2
}

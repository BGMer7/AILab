{
 "cells": [
  {
   "cell_type": "code",
   "execution_count": 3,
   "metadata": {},
   "outputs": [
    {
     "name": "stdout",
     "output_type": "stream",
     "text": [
      "Original shape: torch.Size([1, 3, 1])\n",
      "Original tensor:\n",
      " tensor([[[1],\n",
      "         [2],\n",
      "         [3]]])\n",
      "Squeezed shape: torch.Size([3])\n",
      "Squeezed tensor:\n",
      " tensor([1, 2, 3])\n",
      "Squeezed shape: torch.Size([3, 1])\n",
      "Squeezed tensor:\n",
      " tensor([[1],\n",
      "        [2],\n",
      "        [3]])\n"
     ]
    }
   ],
   "source": [
    "import torch\n",
    "\n",
    "# 创建一个三维张量\n",
    "x = torch.tensor([[[1], [2], [3]]])\n",
    "print(\"Original shape:\", x.shape)  # 输出：torch.Size([1, 3, 1])\n",
    "print(\"Original tensor:\\n\", x)\n",
    "\n",
    "# 去除所有大小为 1 的维度\n",
    "x_squeezed = torch.squeeze(x)\n",
    "print(\"Squeezed shape:\", x_squeezed.shape)  # 输出：torch.Size([3])\n",
    "print(\"Squeezed tensor:\\n\", x_squeezed)\n",
    "\n",
    "# 指定去除维度\n",
    "x_squeezed = torch.squeeze(x, dim=0)\n",
    "print(\"Squeezed shape:\", x_squeezed.shape)  # 输出：torch.Size([3, 1])\n",
    "print(\"Squeezed tensor:\\n\", x_squeezed)"
   ]
  },
  {
   "cell_type": "code",
   "execution_count": null,
   "metadata": {},
   "outputs": [],
   "source": []
  }
 ],
 "metadata": {
  "kernelspec": {
   "display_name": "ipykernel-dl",
   "language": "python",
   "name": "ipykernel-dl"
  },
  "language_info": {
   "codemirror_mode": {
    "name": "ipython",
    "version": 3
   },
   "file_extension": ".py",
   "mimetype": "text/x-python",
   "name": "python",
   "nbconvert_exporter": "python",
   "pygments_lexer": "ipython3",
   "version": "3.9.18"
  }
 },
 "nbformat": 4,
 "nbformat_minor": 2
}

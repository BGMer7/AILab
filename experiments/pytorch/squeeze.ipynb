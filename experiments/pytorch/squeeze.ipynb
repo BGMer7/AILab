{
 "cells": [
  {
   "cell_type": "code",
   "execution_count": 2,
   "metadata": {},
   "outputs": [],
   "source": [
    "import torch"
   ]
  },
  {
   "cell_type": "code",
   "execution_count": 8,
   "metadata": {},
   "outputs": [
    {
     "name": "stdout",
     "output_type": "stream",
     "text": [
      "tensor([[1, 2, 3]])\n",
      "tensor([[1, 2, 3]])\n"
     ]
    }
   ],
   "source": [
    "a = torch.tensor([1, 2, 3])\n",
    "print(a.unsqueeze(0))\n",
    "print(a.unsqueeze(0))"
   ]
  },
  {
   "cell_type": "code",
   "execution_count": null,
   "metadata": {},
   "outputs": [
    {
     "name": "stdout",
     "output_type": "stream",
     "text": [
      "tensor([[[0.2994, 0.8627, 0.2788]]])\n",
      "tensor([[0.2994, 0.8627, 0.2788]])\n",
      "tensor([[0.2994, 0.8627, 0.2788]])\n",
      "tensor([[[0.2994, 0.8627, 0.2788]]])\n"
     ]
    }
   ],
   "source": [
    "b = torch.rand(1, 1, 3)\n",
    "print(b)\n",
    "print(b.squeeze(0))\n",
    "print(b.squeeze(1))"
   ]
  },
  {
   "cell_type": "code",
   "execution_count": 22,
   "metadata": {},
   "outputs": [
    {
     "name": "stdout",
     "output_type": "stream",
     "text": [
      "tensor([[[[[[0.9984, 0.4832, 0.2856]]]]]])\n",
      "tensor([[[[[0.9984, 0.4832, 0.2856]]]]])\n",
      "tensor([0.9984, 0.4832, 0.2856])\n"
     ]
    }
   ],
   "source": [
    "c = torch.rand(1, 1, 1, 1, 1, 3)\n",
    "print(c)\n",
    "print(c.squeeze(0))\n",
    "print(c.squeeze()) # 去除所有大小为 1 的维度"
   ]
  },
  {
   "cell_type": "code",
   "execution_count": 23,
   "metadata": {},
   "outputs": [
    {
     "name": "stdout",
     "output_type": "stream",
     "text": [
      "tensor([[[[[0.9984, 0.4832, 0.2856]]]]])\n",
      "tensor([[[[0.9984, 0.4832, 0.2856]]]])\n",
      "tensor([[[0.9984, 0.4832, 0.2856]]])\n"
     ]
    }
   ],
   "source": [
    "print(c.squeeze(0))\n",
    "print(c.squeeze(0).squeeze(0))\n",
    "print(c.squeeze(0).squeeze(0).squeeze(0))"
   ]
  },
  {
   "cell_type": "code",
   "execution_count": 24,
   "metadata": {},
   "outputs": [
    {
     "name": "stdout",
     "output_type": "stream",
     "text": [
      "tensor([[[0.4533, 0.9540, 0.6769],\n",
      "         [0.7521, 0.8787, 0.6806]],\n",
      "\n",
      "        [[0.2324, 0.7212, 0.0102],\n",
      "         [0.3809, 0.6620, 0.7068]]])\n",
      "tensor([[[0.4533, 0.9540, 0.6769],\n",
      "         [0.7521, 0.8787, 0.6806]],\n",
      "\n",
      "        [[0.2324, 0.7212, 0.0102],\n",
      "         [0.3809, 0.6620, 0.7068]]])\n",
      "tensor([[[0.4533, 0.9540, 0.6769],\n",
      "         [0.7521, 0.8787, 0.6806]],\n",
      "\n",
      "        [[0.2324, 0.7212, 0.0102],\n",
      "         [0.3809, 0.6620, 0.7068]]])\n"
     ]
    }
   ],
   "source": [
    "d = torch.rand(2, 2, 3)\n",
    "print(d)\n",
    "print(d.squeeze(0))\n",
    "print(d.squeeze())"
   ]
  },
  {
   "cell_type": "code",
   "execution_count": 26,
   "metadata": {},
   "outputs": [
    {
     "name": "stdout",
     "output_type": "stream",
     "text": [
      "tensor([[0.7867, 0.9263, 0.0946]])\n",
      "tensor([[[0.7867, 0.9263, 0.0946]]])\n"
     ]
    }
   ],
   "source": [
    "e = torch.rand(1, 3)\n",
    "print(e)\n",
    "print(e.unsqueeze(0))"
   ]
  },
  {
   "cell_type": "code",
   "execution_count": 3,
   "metadata": {},
   "outputs": [
    {
     "name": "stdout",
     "output_type": "stream",
     "text": [
      "Original shape: torch.Size([1, 3, 1])\n",
      "Original tensor:\n",
      " tensor([[[1],\n",
      "         [2],\n",
      "         [3]]])\n"
     ]
    }
   ],
   "source": [
    "# 创建一个三维张量\n",
    "x = torch.tensor([[[1], [2], [3]]])\n",
    "print(\"Original shape:\", x.shape)  # 输出：torch.Size([1, 3, 1])\n",
    "print(\"Original tensor:\\n\", x)"
   ]
  },
  {
   "cell_type": "code",
   "execution_count": 4,
   "metadata": {},
   "outputs": [
    {
     "name": "stdout",
     "output_type": "stream",
     "text": [
      "Squeezed shape: torch.Size([3])\n",
      "Squeezed tensor:\n",
      " tensor([1, 2, 3])\n"
     ]
    }
   ],
   "source": [
    "# 去除所有大小为 1 的维度\n",
    "x_squeezed = torch.squeeze(x)\n",
    "print(\"Squeezed shape:\", x_squeezed.shape)  # 输出：torch.Size([3])\n",
    "print(\"Squeezed tensor:\\n\", x_squeezed)"
   ]
  },
  {
   "cell_type": "code",
   "execution_count": 5,
   "metadata": {},
   "outputs": [
    {
     "name": "stdout",
     "output_type": "stream",
     "text": [
      "Squeezed shape: torch.Size([3, 1])\n",
      "Squeezed tensor:\n",
      " tensor([[1],\n",
      "        [2],\n",
      "        [3]])\n"
     ]
    }
   ],
   "source": [
    "# 指定去除维度\n",
    "x_squeezed = torch.squeeze(x, dim=0)\n",
    "print(\"Squeezed shape:\", x_squeezed.shape)  # 输出：torch.Size([3, 1])\n",
    "print(\"Squeezed tensor:\\n\", x_squeezed)"
   ]
  },
  {
   "cell_type": "code",
   "execution_count": null,
   "metadata": {},
   "outputs": [],
   "source": []
  }
 ],
 "metadata": {
  "kernelspec": {
   "display_name": "ipykernel-dl",
   "language": "python",
   "name": "dl"
  },
  "language_info": {
   "codemirror_mode": {
    "name": "ipython",
    "version": 3
   },
   "file_extension": ".py",
   "mimetype": "text/x-python",
   "name": "python",
   "nbconvert_exporter": "python",
   "pygments_lexer": "ipython3",
   "version": "3.12.7"
  }
 },
 "nbformat": 4,
 "nbformat_minor": 2
}

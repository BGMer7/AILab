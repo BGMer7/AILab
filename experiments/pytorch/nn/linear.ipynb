{
 "cells": [
  {
   "cell_type": "code",
   "execution_count": 1,
   "metadata": {},
   "outputs": [
    {
     "name": "stdout",
     "output_type": "stream",
     "text": [
      "Output shape: torch.Size([3, 5])\n",
      "Output data: tensor([[ 0.9457, -0.7943, -0.7703, -0.4567,  0.9799],\n",
      "        [ 0.4156,  0.4461, -0.4889,  0.5330,  0.3456],\n",
      "        [-0.0777, -0.4175, -0.6112,  1.0478, -0.1331]],\n",
      "       grad_fn=<AddmmBackward0>)\n"
     ]
    }
   ],
   "source": [
    "import torch\n",
    "import torch.nn as nn\n",
    "\n",
    "# 定义一个简单的全连接层\n",
    "fc = nn.Linear(10, 5)  # 输入特征维度为 10，输出维度为 5\n",
    "\n",
    "# 输入数据\n",
    "input_data = torch.randn(3, 10)  # 3 个样本，每个样本 10 个特征\n",
    "\n",
    "# 前向传播\n",
    "output = fc(input_data)\n",
    "print(\"Output shape:\", output.shape)\n",
    "print(\"Output data:\", output)"
   ]
  },
  {
   "cell_type": "markdown",
   "metadata": {},
   "source": [
    "nn.Linear的初始化是kaiming初始化，权重随机，并且服从kaiming正态分布，或者kaiming均匀分布。"
   ]
  },
  {
   "cell_type": "code",
   "execution_count": null,
   "metadata": {},
   "outputs": [
    {
     "name": "stdout",
     "output_type": "stream",
     "text": [
      "Weights shape: torch.Size([5, 10])\n",
      "Weights: Parameter containing:\n",
      "tensor([[ 0.0975, -0.0423,  0.0851, -0.2376,  0.1699, -0.1101,  0.2944, -0.0440,\n",
      "         -0.2503, -0.1867],\n",
      "        [ 0.1927, -0.0534, -0.2468, -0.2163, -0.0210,  0.2709,  0.1510, -0.1738,\n",
      "         -0.1391,  0.2945],\n",
      "        [-0.1978, -0.2784, -0.0853,  0.2564, -0.2789,  0.1321, -0.0860, -0.2420,\n",
      "         -0.0260,  0.0207],\n",
      "        [ 0.2019,  0.2552,  0.3058,  0.0708,  0.0423, -0.1513, -0.1126, -0.0308,\n",
      "          0.2653, -0.0245],\n",
      "        [-0.0620, -0.2037,  0.0298,  0.2274,  0.1903,  0.2558,  0.2384,  0.1050,\n",
      "         -0.0588, -0.1368]], requires_grad=True)\n",
      "Bias shape: torch.Size([5])\n",
      "Bias: Parameter containing:\n",
      "tensor([ 0.2637,  0.1778, -0.1278,  0.1444,  0.0725], requires_grad=True)\n"
     ]
    }
   ],
   "source": [
    "# 查看权重\n",
    "print(\"Weights shape:\", fc.weight.shape)\n",
    "print(\"Weights:\", fc.weight)\n",
    "\n",
    "# 查看偏置\n",
    "print(\"Bias shape:\", fc.bias.shape)\n",
    "print(\"Bias:\", fc.bias)"
   ]
  },
  {
   "cell_type": "code",
   "execution_count": null,
   "metadata": {},
   "outputs": [
    {
     "data": {
      "text/plain": [
       "tensor([[ 0.2426,  0.6685,  0.2791, -0.7569,  0.8786],\n",
       "        [-0.5745,  0.4410,  0.6357,  0.5542,  1.1811],\n",
       "        [-0.6354, -0.7361,  0.4808, -0.5053,  0.6695]])"
      ]
     },
     "execution_count": 12,
     "metadata": {},
     "output_type": "execute_result"
    }
   ],
   "source": [
    "import torch.nn.init as init\n",
    "\n",
    "# 创建一个权重张量\n",
    "weight_tensor = torch.empty(3, 5)  # 假设输出维度为 3，输入维度为 5\n",
    "\n",
    "# mode：可以是 'fan_in' 或 'fan_out'。'fan_in' 用于正向传播，'fan_out' 用于反向传播。\n",
    "# nonlinearity：指定激活函数，通常为 'relu' 或 'leaky_relu'。\n",
    "\n",
    "# 使用 Kaiming Normal 初始化\n",
    "init.kaiming_normal_(weight_tensor, mode='fan_in', nonlinearity='relu')"
   ]
  },
  {
   "cell_type": "code",
   "execution_count": 5,
   "metadata": {},
   "outputs": [
    {
     "data": {
      "text/plain": [
       "tensor([[ 0.4350,  0.9396,  0.3711,  0.0638, -0.3164],\n",
       "        [-0.2429, -0.0604,  0.4859, -1.0709, -0.8706],\n",
       "        [-0.9281, -0.4747,  0.8582, -0.9444,  0.9820]])"
      ]
     },
     "execution_count": 5,
     "metadata": {},
     "output_type": "execute_result"
    }
   ],
   "source": [
    "# 使用 Kaiming Uniform 初始化\n",
    "init.kaiming_uniform_(weight_tensor, mode='fan_in', nonlinearity='relu')"
   ]
  },
  {
   "cell_type": "code",
   "execution_count": null,
   "metadata": {},
   "outputs": [],
   "source": []
  }
 ],
 "metadata": {
  "kernelspec": {
   "display_name": "ipykernel-dl",
   "language": "python",
   "name": "dl"
  },
  "language_info": {
   "codemirror_mode": {
    "name": "ipython",
    "version": 3
   },
   "file_extension": ".py",
   "mimetype": "text/x-python",
   "name": "python",
   "nbconvert_exporter": "python",
   "pygments_lexer": "ipython3",
   "version": "3.12.7"
  }
 },
 "nbformat": 4,
 "nbformat_minor": 2
}

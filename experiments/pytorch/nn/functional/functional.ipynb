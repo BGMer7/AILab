{
 "cells": [
  {
   "cell_type": "code",
   "execution_count": null,
   "metadata": {},
   "outputs": [],
   "source": [
    "import torch\n",
    "import torch.nn.functional as F\n",
    "\n",
    "# 模型输出 logits\n",
    "logits = torch.tensor([[1.5, 0.2, 2.1], [0.5, 2.2, 1.3]])\n",
    "# 真实类别标签\n",
    "targets = torch.tensor([2, 1])\n",
    "\n",
    "# 计算交叉熵损失\n",
    "loss = F.cross_entropy(logits, targets)\n",
    "print(\"Loss:\", loss.item())"
   ]
  }
 ],
 "metadata": {
  "kernelspec": {
   "display_name": "ipykernel-dl",
   "language": "python",
   "name": "dl"
  },
  "language_info": {
   "name": "python",
   "version": "3.12.7"
  }
 },
 "nbformat": 4,
 "nbformat_minor": 2
}

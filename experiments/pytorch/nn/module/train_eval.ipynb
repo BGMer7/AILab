{
 "cells": [
  {
   "cell_type": "code",
   "execution_count": null,
   "metadata": {},
   "outputs": [],
   "source": [
    "import torch\n",
    "import torch.nn as nn\n",
    "\n",
    "# 定义一个包含 Dropout 和 BatchNorm 的模型\n",
    "class NetWithDropout(nn.Module):\n",
    "    def __init__(self):\n",
    "        super(NetWithDropout, self).__init__()\n",
    "        self.fc1 = nn.Linear(20, 50)\n",
    "        self.bn1 = nn.BatchNorm1d(50)\n",
    "        self.dropout = nn.Dropout(p=0.5)\n",
    "        self.fc2 = nn.Linear(50, 2)\n",
    "\n",
    "    def forward(self, x):\n",
    "        x = torch.relu(self.bn1(self.fc1(x)))\n",
    "        x = self.dropout(x)\n",
    "        x = self.fc2(x)\n",
    "        return x\n",
    "\n",
    "# 实例化模型\n",
    "model = NetWithDropout()\n",
    "\n",
    "# 在训练过程中\n",
    "model.train()\n",
    "\n",
    "# 模拟输入\n",
    "train_input = torch.randn(10, 20)\n",
    "train_output = model(train_input)\n",
    "\n",
    "# 在评估过程中\n",
    "model.eval()\n",
    "\n",
    "# 模拟输入\n",
    "eval_input = torch.randn(10, 20)\n",
    "eval_output = model(eval_input)\n"
   ]
  }
 ],
 "metadata": {
  "kernelspec": {
   "display_name": "ipykernel-dl",
   "language": "python",
   "name": "dl"
  },
  "language_info": {
   "codemirror_mode": {
    "name": "ipython",
    "version": 3
   },
   "file_extension": ".py",
   "mimetype": "text/x-python",
   "name": "python",
   "nbconvert_exporter": "python",
   "pygments_lexer": "ipython3",
   "version": "3.12.7"
  }
 },
 "nbformat": 4,
 "nbformat_minor": 2
}

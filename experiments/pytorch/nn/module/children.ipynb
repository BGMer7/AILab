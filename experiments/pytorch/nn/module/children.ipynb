{
 "cells": [
  {
   "cell_type": "code",
   "execution_count": 4,
   "metadata": {},
   "outputs": [
    {
     "name": "stdout",
     "output_type": "stream",
     "text": [
      "0 Linear(in_features=10, out_features=5, bias=True)\n",
      "1 Linear(in_features=5, out_features=3, bias=True)\n",
      "2 Linear(in_features=3, out_features=2, bias=True)\n",
      "3 Linear(in_features=2, out_features=1, bias=True)\n"
     ]
    }
   ],
   "source": [
    "import torch\n",
    "import torch.nn as nn\n",
    "import torch.optim as optim\n",
    "\n",
    "# 定义一个简单的神经网络模型\n",
    "class SimpleNet(nn.Module):\n",
    "    def __init__(self):\n",
    "        super(SimpleNet, self).__init__()\n",
    "        self.fc1 = nn.Linear(10, 5)  # 输入特征维度为10，输出维度为5\n",
    "        self.fc2 = nn.Linear(5, 3)   # 输入维度为5，输出为1\n",
    "        self.fc3 = nn.Linear(3, 2)   # 输入维度为1，输出为2\n",
    "        self.fc4 = nn.Linear(2, 1)   # 输入维度为2，输出为1\n",
    "\n",
    "    def forward(self, x):\n",
    "        x = torch.relu(self.fc1(x))\n",
    "        x = self.fc2(x)\n",
    "        x = torch.relu(self.fc3(x))\n",
    "        x = self.fc4(x)\n",
    "        return x\n",
    "\n",
    "# 实例化模型\n",
    "model = SimpleNet()\n",
    "\n",
    "# 打印模型的参数\n",
    "for idx, child in enumerate(model.children()):\n",
    "    print(idx, child)\n"
   ]
  }
 ],
 "metadata": {
  "kernelspec": {
   "display_name": "ipykernel-dl",
   "language": "python",
   "name": "dl"
  },
  "language_info": {
   "codemirror_mode": {
    "name": "ipython",
    "version": 3
   },
   "file_extension": ".py",
   "mimetype": "text/x-python",
   "name": "python",
   "nbconvert_exporter": "python",
   "pygments_lexer": "ipython3",
   "version": "3.12.7"
  }
 },
 "nbformat": 4,
 "nbformat_minor": 2
}

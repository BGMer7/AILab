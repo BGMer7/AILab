{
 "cells": [
  {
   "cell_type": "code",
   "execution_count": 1,
   "metadata": {},
   "outputs": [],
   "source": [
    "import torch\n"
   ]
  },
  {
   "cell_type": "code",
   "execution_count": 7,
   "metadata": {},
   "outputs": [
    {
     "data": {
      "text/plain": [
       "tensor([[13, 10],\n",
       "        [22, 21],\n",
       "        [30, 33]])"
      ]
     },
     "execution_count": 7,
     "metadata": {},
     "output_type": "execute_result"
    }
   ],
   "source": [
    "# 创建一个 3x4 的张量\n",
    "a = torch.tensor([\n",
    "    [10, 11, 12, 13],\n",
    "    [20, 21, 22, 23],\n",
    "    [30, 31, 32, 33]\n",
    "])\n",
    "\n",
    "# 定义索引张量\n",
    "index = torch.tensor([\n",
    "    [3, 0],  # 第一行，选取第3列(13)和第0列(10)\n",
    "    [2, 1],  # 第二行，选取第2列(22)和第1列(21)\n",
    "    [0, 3]   # 第三行，选取第0列(30)和第3列(33)\n",
    "])\n",
    "\n",
    "# 在 dim=1 维度上 gather\n",
    "result = a.gather(dim=1, index=index)\n",
    "\n",
    "result"
   ]
  },
  {
   "cell_type": "code",
   "execution_count": 8,
   "metadata": {},
   "outputs": [
    {
     "name": "stdout",
     "output_type": "stream",
     "text": [
      "tensor([[1.5000],\n",
      "        [1.9000],\n",
      "        [2.8000]])\n"
     ]
    }
   ],
   "source": [
    "# 示例：用于 DQN 选择 Q 值\n",
    "q_values = torch.tensor([\n",
    "    [0.2, 1.5, 0.3, 2.1],  # s1 对所有动作的 Q 值\n",
    "    [1.1, 2.3, 0.7, 1.9],  # s2 对所有动作的 Q 值\n",
    "    [0.5, 1.2, 2.8, 1.4]   # s3 对所有动作的 Q 值\n",
    "])\n",
    "\n",
    "actions = torch.tensor([[1], [3], [2]])  # 选择的动作索引\n",
    "\n",
    "selected_q_values = q_values.gather(1, actions)\n",
    "\n",
    "print(selected_q_values)"
   ]
  }
 ],
 "metadata": {
  "kernelspec": {
   "display_name": "ipykernel-dl",
   "language": "python",
   "name": "dl"
  },
  "language_info": {
   "codemirror_mode": {
    "name": "ipython",
    "version": 3
   },
   "file_extension": ".py",
   "mimetype": "text/x-python",
   "name": "python",
   "nbconvert_exporter": "python",
   "pygments_lexer": "ipython3",
   "version": "3.12.7"
  }
 },
 "nbformat": 4,
 "nbformat_minor": 2
}

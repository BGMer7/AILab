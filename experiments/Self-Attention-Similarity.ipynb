{
 "cells": [
  {
   "cell_type": "code",
   "execution_count": 5,
   "metadata": {},
   "outputs": [],
   "source": [
    "import numpy as np\n",
    "\n",
    "# Step 1: Making Word Embeddings (numerical representations of words)\n",
    "sentence = \"The quick brown fox jumps over the lazy dog\"\n",
    "word_embeddings = {\n",
    "    \"The\": [0.2, 0.4, -0.1, 0.9],\n",
    "    \"quick\": [0.5, -0.3, 0.7, -0.2],\n",
    "    \"brown\": [-0.6, 0.1, 0.8, 0.2],\n",
    "    \"fox\": [0.4, -0.5, 0.2, 0.6],\n",
    "    \"jumps\": [-0.9, 0.6, 0.3, -0.2],\n",
    "    \"over\": [0.3, -0.2, 0.1, -0.5],\n",
    "    \"the\": [-0.3, -0.1, 0.6, 0.4],\n",
    "    \"lazy\": [0.1, -0.8, 0.7, -0.4],\n",
    "    \"dog\": [0.6, -0.4, 0.3, 0.1],\n",
    "}"
   ]
  },
  {
   "cell_type": "code",
   "execution_count": 6,
   "metadata": {},
   "outputs": [],
   "source": [
    "# Step 2: Query, Key, and Value\n",
    "queries = np.array([word_embeddings[word] for word in sentence.split()])\n",
    "keys = np.array([word_embeddings[word] for word in sentence.split()])\n",
    "values = np.array([word_embeddings[word] for word in sentence.split()])"
   ]
  },
  {
   "cell_type": "code",
   "execution_count": 7,
   "metadata": {},
   "outputs": [],
   "source": [
    "# Step 3: Measuring Similarity\n",
    "def calculate_similarity(query, key):\n",
    "    return np.dot(query, key) / np.sqrt(len(query))"
   ]
  },
  {
   "cell_type": "code",
   "execution_count": 15,
   "metadata": {},
   "outputs": [
    {
     "name": "stdout",
     "output_type": "stream",
     "text": [
      "[[ 0.51  -0.135  0.01   0.2   -0.075 -0.24   0.1   -0.365  0.01 ]\n",
      " [-0.135  0.435  0.095  0.185 -0.19   0.19   0.11   0.43   0.305]\n",
      " [ 0.01   0.095  0.525 -0.005  0.4   -0.11   0.365  0.17  -0.07 ]\n",
      " [ 0.2    0.185 -0.005  0.405 -0.36  -0.03   0.145  0.17   0.28 ]\n",
      " [-0.075 -0.19   0.4   -0.36   0.65  -0.13   0.155 -0.14  -0.355]\n",
      " [-0.24   0.19  -0.11  -0.03  -0.13   0.195 -0.105  0.23   0.12 ]\n",
      " [ 0.1    0.11   0.365  0.145  0.155 -0.105  0.31   0.155  0.04 ]\n",
      " [-0.365  0.43   0.17   0.17  -0.14   0.23   0.155  0.65   0.275]\n",
      " [ 0.01   0.305 -0.07   0.28  -0.355  0.12   0.04   0.275  0.31 ]]\n"
     ]
    }
   ],
   "source": [
    "similarities = np.zeros((len(queries), len(keys)))\n",
    "for i, query in enumerate(queries):\n",
    "    for j, key in enumerate(keys):\n",
    "        similarities[i, j] = calculate_similarity(query, key)\n",
    "print(similarities)"
   ]
  },
  {
   "cell_type": "code",
   "execution_count": 16,
   "metadata": {},
   "outputs": [
    {
     "ename": "AttributeError",
     "evalue": "module 'matplotlib' has no attribute 'figure'",
     "output_type": "error",
     "traceback": [
      "\u001b[1;31m---------------------------------------------------------------------------\u001b[0m",
      "\u001b[1;31mAttributeError\u001b[0m                            Traceback (most recent call last)",
      "Cell \u001b[1;32mIn[16], line 3\u001b[0m\n\u001b[0;32m      1\u001b[0m \u001b[38;5;28;01mimport\u001b[39;00m \u001b[38;5;21;01mmatplotlib\u001b[39;00m \u001b[38;5;28;01mas\u001b[39;00m \u001b[38;5;21;01mplt\u001b[39;00m\n\u001b[0;32m      2\u001b[0m \u001b[38;5;66;03m# Plotting the heatmap\u001b[39;00m\n\u001b[1;32m----> 3\u001b[0m \u001b[43mplt\u001b[49m\u001b[38;5;241;43m.\u001b[39;49m\u001b[43mfigure\u001b[49m(figsize\u001b[38;5;241m=\u001b[39m(\u001b[38;5;241m8\u001b[39m, \u001b[38;5;241m8\u001b[39m))\n\u001b[0;32m      4\u001b[0m plt\u001b[38;5;241m.\u001b[39mimshow(similarities, cmap\u001b[38;5;241m=\u001b[39m\u001b[38;5;124m'\u001b[39m\u001b[38;5;124mcoolwarm\u001b[39m\u001b[38;5;124m'\u001b[39m, interpolation\u001b[38;5;241m=\u001b[39m\u001b[38;5;124m'\u001b[39m\u001b[38;5;124mnearest\u001b[39m\u001b[38;5;124m'\u001b[39m)\n\u001b[0;32m      5\u001b[0m plt\u001b[38;5;241m.\u001b[39mcolorbar()  \u001b[38;5;66;03m# Adding a color bar to show the color scale\u001b[39;00m\n",
      "File \u001b[1;32md:\\DevKits\\Anaconda3\\envs\\d2l\\lib\\site-packages\\matplotlib\\_api\\__init__.py:226\u001b[0m, in \u001b[0;36mcaching_module_getattr.<locals>.__getattr__\u001b[1;34m(name)\u001b[0m\n\u001b[0;32m    224\u001b[0m \u001b[38;5;28;01mif\u001b[39;00m name \u001b[38;5;129;01min\u001b[39;00m props:\n\u001b[0;32m    225\u001b[0m     \u001b[38;5;28;01mreturn\u001b[39;00m props[name]\u001b[38;5;241m.\u001b[39m\u001b[38;5;21m__get__\u001b[39m(instance)\n\u001b[1;32m--> 226\u001b[0m \u001b[38;5;28;01mraise\u001b[39;00m \u001b[38;5;167;01mAttributeError\u001b[39;00m(\n\u001b[0;32m    227\u001b[0m     \u001b[38;5;124mf\u001b[39m\u001b[38;5;124m\"\u001b[39m\u001b[38;5;124mmodule \u001b[39m\u001b[38;5;132;01m{\u001b[39;00m\u001b[38;5;28mcls\u001b[39m\u001b[38;5;241m.\u001b[39m\u001b[38;5;18m__module__\u001b[39m\u001b[38;5;132;01m!r}\u001b[39;00m\u001b[38;5;124m has no attribute \u001b[39m\u001b[38;5;132;01m{\u001b[39;00mname\u001b[38;5;132;01m!r}\u001b[39;00m\u001b[38;5;124m\"\u001b[39m)\n",
      "\u001b[1;31mAttributeError\u001b[0m: module 'matplotlib' has no attribute 'figure'"
     ]
    }
   ],
   "source": [
    "import matplotlib.pyplot as plt\n",
    "# Plotting the heatmap\n",
    "plt.figure(figsize=(8, 8))\n",
    "plt.imshow(similarities, cmap='coolwarm', interpolation='nearest')\n",
    "plt.colorbar()  # Adding a color bar to show the color scale\n",
    "plt.title(\"Matrix Heatmap Representation\", fontsize=16)\n",
    "plt.show()"
   ]
  },
  {
   "cell_type": "code",
   "execution_count": 9,
   "metadata": {},
   "outputs": [],
   "source": [
    "# Step 4: Importance Scores\n",
    "attention_scores = np.exp(similarities) / np.sum(np.exp(similarities), axis=1, keepdims=True)"
   ]
  },
  {
   "cell_type": "code",
   "execution_count": 10,
   "metadata": {},
   "outputs": [],
   "source": [
    "# Step 5: Paying Attention\n",
    "weighted_values = attention_scores[:, :, np.newaxis] * values[:, np.newaxis, :]"
   ]
  },
  {
   "cell_type": "code",
   "execution_count": 11,
   "metadata": {},
   "outputs": [
    {
     "name": "stdout",
     "output_type": "stream",
     "text": [
      "Input Sentence: The quick brown fox jumps over the lazy dog\n",
      "Output Vector after Self-Attention:\n",
      " [[ 0.03917546 -0.06130742  0.31267987  0.20043617]\n",
      " [ 0.09858602 -0.20221598  0.43641746  0.06471708]\n",
      " [-0.0710919  -0.08052603  0.44755548  0.10880819]\n",
      " [ 0.10584594 -0.16992944  0.38092336  0.14960184]\n",
      " [-0.13550094 -0.00219351  0.3809952   0.07546433]\n",
      " [ 0.06894223 -0.15294356  0.36081895  0.04319559]\n",
      " [-0.00864617 -0.10995668  0.41958866  0.12783144]\n",
      " [ 0.08601691 -0.23254499  0.47131104  0.03243378]\n",
      " [ 0.11667244 -0.18838239  0.38970999  0.09751157]]\n"
     ]
    }
   ],
   "source": [
    "# Step 6: The Big Picture\n",
    "output_vector = np.sum(weighted_values, axis=0)\n",
    "\n",
    "print(\"Input Sentence:\", sentence)\n",
    "print(\"Output Vector after Self-Attention:\\n\", output_vector)"
   ]
  },
  {
   "cell_type": "code",
   "execution_count": null,
   "metadata": {},
   "outputs": [],
   "source": []
  }
 ],
 "metadata": {
  "kernelspec": {
   "display_name": "ipykernel-d2l",
   "language": "python",
   "name": "ipykernel-d2l"
  },
  "language_info": {
   "codemirror_mode": {
    "name": "ipython",
    "version": 3
   },
   "file_extension": ".py",
   "mimetype": "text/x-python",
   "name": "python",
   "nbconvert_exporter": "python",
   "pygments_lexer": "ipython3",
   "version": "3.9.19"
  }
 },
 "nbformat": 4,
 "nbformat_minor": 2
}

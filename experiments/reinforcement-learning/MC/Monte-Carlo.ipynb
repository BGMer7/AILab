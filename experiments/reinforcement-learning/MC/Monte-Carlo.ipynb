{
 "cells": [
  {
   "cell_type": "code",
   "execution_count": 3,
   "metadata": {},
   "outputs": [
    {
     "name": "stdout",
     "output_type": "stream",
     "text": [
      "returns_first:  {0: [], 1: [], 2: []}\n",
      "returns_every:  {0: [], 1: [], 2: []}\n",
      "首次访问 MC: [ 2.  -0.1  2.1]\n",
      "每次访问 MC: [1.86 1.23 2.1 ]\n"
     ]
    }
   ],
   "source": [
    "import numpy as np\n",
    "\n",
    "# 模拟轨迹 [(状态, 奖励)]\n",
    "episodes = [\n",
    "    [(0, 1), (1, -1), (0, 2)],\n",
    "    [(1, 2), (2, 3), (1, -1)],\n",
    "]\n",
    "\n",
    "gamma = 0.9\n",
    "V_first_visit = np.zeros(3)\n",
    "V_every_visit = np.zeros(3)\n",
    "returns_first = {s: [] for s in range(3)}\n",
    "returns_every = {s: [] for s in range(3)}\n",
    "\n",
    "# 首次访问 Monte Carlo\n",
    "for episode in episodes:\n",
    "    G = 0\n",
    "    visited = set()\n",
    "    for t in reversed(range(len(episode))):\n",
    "        state, reward = episode[t]\n",
    "        G = reward + gamma * G\n",
    "        if state not in visited:  # 首次访问条件\n",
    "            visited.add(state)\n",
    "            returns_first[state].append(G)\n",
    "            V_first_visit[state] = np.mean(returns_first[state])\n",
    "\n",
    "# 每次访问 Monte Carlo\n",
    "for episode in episodes:\n",
    "    G = 0\n",
    "    for t in reversed(range(len(episode))):\n",
    "        state, reward = episode[t]\n",
    "        G = reward + gamma * G\n",
    "        returns_every[state].append(G)\n",
    "        V_every_visit[state] = np.mean(returns_every[state])\n",
    "\n",
    "print(\"首次访问 MC:\", V_first_visit)\n",
    "print(\"每次访问 MC:\", V_every_visit)"
   ]
  },
  {
   "cell_type": "code",
   "execution_count": null,
   "metadata": {},
   "outputs": [],
   "source": []
  }
 ],
 "metadata": {
  "kernelspec": {
   "display_name": "ipykernel-dl",
   "language": "python",
   "name": "dl"
  },
  "language_info": {
   "codemirror_mode": {
    "name": "ipython",
    "version": 3
   },
   "file_extension": ".py",
   "mimetype": "text/x-python",
   "name": "python",
   "nbconvert_exporter": "python",
   "pygments_lexer": "ipython3",
   "version": "3.12.7"
  }
 },
 "nbformat": 4,
 "nbformat_minor": 2
}

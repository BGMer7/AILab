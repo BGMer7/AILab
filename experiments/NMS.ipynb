{
 "cells": [
  {
   "cell_type": "code",
   "execution_count": 3,
   "metadata": {},
   "outputs": [],
   "source": [
    "import numpy as np\n",
    "import matplotlib.pyplot as plt\n",
    "import matplotlib.patches as patches"
   ]
  },
  {
   "cell_type": "code",
   "execution_count": null,
   "metadata": {},
   "outputs": [
    {
     "data": {
      "image/png": "[encoded data removed]",
      "text/plain": [
       "<Figure size 640x480 with 1 Axes>"
      ]
     },
     "metadata": {},
     "output_type": "display_data"
    },
    {
     "ename": "",
     "evalue": "",
     "output_type": "error",
     "traceback": [
      "\u001b[1;31mThe Kernel crashed while executing code in the current cell or a previous cell. \n",
      "\u001b[1;31mPlease review the code in the cell(s) to identify a possible cause of the failure. \n",
      "\u001b[1;31mClick <a href='https://aka.ms/vscodeJupyterKernelCrash'>here</a> for more info. \n",
      "\u001b[1;31mView Jupyter <a href='command:jupyter.viewOutput'>log</a> for further details."
     ]
    }
   ],
   "source": [
    "# 定义检测框\n",
    "boxes = np.array([\n",
    "    [100, 100, 210, 210],\n",
    "    [150, 150, 250, 250],\n",
    "    [120, 120, 220, 220],\n",
    "    [300, 300, 400, 400]\n",
    "])\n",
    "\n",
    "# 创建一个图像\n",
    "fig, ax = plt.subplots(1)\n",
    "\n",
    "# 设置图像大小\n",
    "ax.set_xlim(0, 500)\n",
    "ax.set_ylim(0, 500)\n",
    "\n",
    "# 绘制检测框\n",
    "for box in boxes:\n",
    "    x1, y1, x2, y2 = box\n",
    "    width = x2 - x1\n",
    "    height = y2 - y1\n",
    "    rect = patches.Rectangle((x1, y1), width, height, linewidth=1, edgecolor='r', facecolor='none')\n",
    "    ax.add_patch(rect)\n",
    "\n",
    "# 显示图像\n",
    "plt.show()\n"
   ]
  },
  {
   "cell_type": "code",
   "execution_count": 2,
   "metadata": {},
   "outputs": [
    {
     "name": "stdout",
     "output_type": "stream",
     "text": [
      "Indices of boxes to keep: [0, 1, 3]\n"
     ]
    }
   ],
   "source": [
    "import numpy as np\n",
    "\n",
    "def nms(boxes, scores, iou_threshold):\n",
    "    \"\"\"\n",
    "    Perform Non-Maximum Suppression (NMS) on a set of bounding boxes.\n",
    "\n",
    "    Args:\n",
    "    boxes (numpy array): An array of shape (N, 4) where each row is [x1, y1, x2, y2].\n",
    "    scores (numpy array): An array of shape (N,) containing the confidence scores for each box.\n",
    "    iou_threshold (float): The IoU threshold to use for suppression.\n",
    "\n",
    "    Returns:\n",
    "    numpy array: An array of indices of the boxes to keep.\n",
    "    \"\"\"\n",
    "    if len(boxes) == 0:\n",
    "        return []\n",
    "\n",
    "    # Convert boxes to float type to avoid division issues\n",
    "    boxes = boxes.astype(float)\n",
    "\n",
    "    # Get the coordinates of bounding boxes\n",
    "    x1 = boxes[:, 0]\n",
    "    y1 = boxes[:, 1]\n",
    "    x2 = boxes[:, 2]\n",
    "    y2 = boxes[:, 3]\n",
    "\n",
    "    # Compute the area of the bounding boxes and sort the bounding boxes by the scores\n",
    "    areas = (x2 - x1 + 1) * (y2 - y1 + 1)\n",
    "    order = scores.argsort()[::-1]\n",
    "\n",
    "    keep = []\n",
    "    while order.size > 0:\n",
    "        # The index of the current box with the highest score\n",
    "        i = order[0]\n",
    "        keep.append(i)\n",
    "\n",
    "        # Compute the intersection areas\n",
    "        xx1 = np.maximum(x1[i], x1[order[1:]])\n",
    "        yy1 = np.maximum(y1[i], y1[order[1:]])\n",
    "        xx2 = np.minimum(x2[i], x2[order[1:]])\n",
    "        yy2 = np.minimum(y2[i], y2[order[1:]])\n",
    "\n",
    "        w = np.maximum(0.0, xx2 - xx1 + 1)\n",
    "        h = np.maximum(0.0, yy2 - yy1 + 1)\n",
    "        intersection = w * h\n",
    "\n",
    "        # Compute the IoU\n",
    "        iou = intersection / (areas[i] + areas[order[1:]] - intersection)\n",
    "\n",
    "        # Find the indices of boxes with IoU less than the threshold\n",
    "        inds = np.where(iou <= iou_threshold)[0]\n",
    "        order = order[inds + 1]\n",
    "\n",
    "    return keep\n",
    "\n",
    "# Example usage\n",
    "boxes = np.array([\n",
    "    [100, 100, 210, 210],\n",
    "    [150, 150, 250, 250],\n",
    "    [120, 120, 220, 220],\n",
    "    [300, 300, 400, 400]\n",
    "])\n",
    "scores = np.array([0.9, 0.75, 0.8, 0.6])\n",
    "iou_threshold = 0.5\n",
    "\n",
    "keep = nms(boxes, scores, iou_threshold)\n",
    "print(\"Indices of boxes to keep:\", keep)\n"
   ]
  },
  {
   "cell_type": "code",
   "execution_count": null,
   "metadata": {},
   "outputs": [],
   "source": []
  }
 ],
 "metadata": {
  "kernelspec": {
   "display_name": "ipykernel-dl",
   "language": "python",
   "name": "dl"
  },
  "language_info": {
   "codemirror_mode": {
    "name": "ipython",
    "version": 3
   },
   "file_extension": ".py",
   "mimetype": "text/x-python",
   "name": "python",
   "nbconvert_exporter": "python",
   "pygments_lexer": "ipython3",
   "version": "3.12.7"
  }
 },
 "nbformat": 4,
 "nbformat_minor": 2
}

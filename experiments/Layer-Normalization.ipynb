{
 "cells": [
  {
   "cell_type": "code",
   "execution_count": 16,
   "metadata": {},
   "outputs": [],
   "source": [
    "import torch.nn as nn\n",
    "import torch"
   ]
  },
  {
   "cell_type": "code",
   "execution_count": 17,
   "metadata": {},
   "outputs": [],
   "source": [
    "class SimpleModel(nn.Module):\n",
    "    def __init__(self, input_dim):\n",
    "        super(SimpleModel, self).__init__()\n",
    "        self.fc = nn.Linear(input_dim, input_dim)\n",
    "        self.layer_norm = nn.LayerNorm(input_dim)\n",
    "    \n",
    "    def forward(self, x):\n",
    "        x = self.fc(x)\n",
    "        x = self.layer_norm(x)\n",
    "        return x"
   ]
  },
  {
   "cell_type": "code",
   "execution_count": 18,
   "metadata": {},
   "outputs": [
    {
     "data": {
      "text/plain": [
       "tensor([[ 0.3162, -2.2137, -1.5925, -0.2580, -1.5671],\n",
       "        [ 0.3804, -1.0231, -1.2363, -0.1352,  1.6620],\n",
       "        [-0.6123,  1.7899, -0.8963,  0.1565, -0.7575],\n",
       "        [-0.2204, -0.5958,  1.0180, -1.0313,  0.2120],\n",
       "        [-0.1593,  2.3156,  0.3629, -1.1718, -0.1657],\n",
       "        [-0.4294,  0.5012, -1.0560, -1.4546, -0.9891],\n",
       "        [-0.2447, -0.0641,  0.3572, -1.2087, -0.7265],\n",
       "        [-0.0024, -1.1416, -0.2887, -0.0768, -0.4983],\n",
       "        [ 1.3121,  0.5496, -0.3590, -0.0172,  0.3646],\n",
       "        [ 0.4977,  0.5733,  0.0147,  0.8753,  0.3862]])"
      ]
     },
     "execution_count": 18,
     "metadata": {},
     "output_type": "execute_result"
    }
   ],
   "source": [
    "# 使用该模型\n",
    "input_tensor = torch.randn(10, 5)  # 输入张量 (batch_size, num_features)\n",
    "input_tensor"
   ]
  },
  {
   "cell_type": "code",
   "execution_count": 19,
   "metadata": {},
   "outputs": [],
   "source": [
    "def layer_norm(x, epsilon=1e-5):\n",
    "    # 计算每个样本特征维度的均值和标准差\n",
    "    mean = x.mean(dim=-1, keepdim=True)         # (batch_size, ..., 1)\n",
    "    std = x.std(dim=-1, keepdim=True)           # (batch_size, ..., 1)\n",
    "\n",
    "    # 进行归一化\n",
    "    x_normalized = (x - mean) / (std + epsilon)  # 加上 epsilon 防止除以零\n",
    "\n",
    "    # 可选：引入可训练参数 gamma 和 beta（通常初始化为1和0）\n",
    "    gamma = torch.ones(x.shape[-1])  # 与特征维度一致\n",
    "    beta = torch.zeros(x.shape[-1])\n",
    "\n",
    "    # 缩放和平移\n",
    "    output = gamma * x_normalized + beta\n",
    "    return output"
   ]
  },
  {
   "cell_type": "code",
   "execution_count": 20,
   "metadata": {},
   "outputs": [
    {
     "name": "stdout",
     "output_type": "stream",
     "text": [
      "tensor([[ 1.3137, -1.0960, -0.5043,  0.7668, -0.4802],\n",
      "        [ 0.3853, -0.8142, -0.9964, -0.0553,  1.4807],\n",
      "        [-0.4924,  1.6648, -0.7475,  0.1979, -0.6228],\n",
      "        [-0.1233, -0.6007,  1.4520, -1.1548,  0.4268],\n",
      "        [-0.3070,  1.6138,  0.0982, -1.0929, -0.3121],\n",
      "        [ 0.3382,  1.5669, -0.4891, -1.0152, -0.4007],\n",
      "        [ 0.2189,  0.5171,  1.2124, -1.3721, -0.5763],\n",
      "        [ 0.8738, -1.6201,  0.2471,  0.7110, -0.2118],\n",
      "        [ 1.4890,  0.2838, -1.1522, -0.6120, -0.0086],\n",
      "        [ 0.0905,  0.3328, -1.4563,  1.2996, -0.2666]])\n"
     ]
    }
   ],
   "source": [
    "print(layer_norm(input_tensor))"
   ]
  },
  {
   "cell_type": "code",
   "execution_count": 21,
   "metadata": {},
   "outputs": [],
   "source": [
    "model = SimpleModel(input_dim=5)\n",
    "output = model(input_tensor)"
   ]
  },
  {
   "cell_type": "code",
   "execution_count": 22,
   "metadata": {},
   "outputs": [
    {
     "name": "stdout",
     "output_type": "stream",
     "text": [
      "Model Output with Layer Normalization:\n",
      "tensor([[-1.3505,  1.0617, -0.5259, -0.4413,  1.2560],\n",
      "        [-1.2754,  0.2045, -0.0734, -0.5836,  1.7279],\n",
      "        [ 0.4182, -0.9553,  1.6191, -1.1350,  0.0530],\n",
      "        [-0.3050,  0.9264, -1.8217,  0.6694,  0.5308],\n",
      "        [ 1.5505, -0.9096,  0.7855, -0.9722, -0.4542],\n",
      "        [ 0.6805,  0.0760,  1.3558, -1.5368, -0.5755],\n",
      "        [ 0.7725,  1.2177, -1.6934, -0.0847, -0.2121],\n",
      "        [-1.2332,  0.7179, -0.8581, -0.1146,  1.4880],\n",
      "        [ 0.2347, -0.5737, -0.3939, -1.0813,  1.8142],\n",
      "        [-0.2948, -0.8954,  0.1549, -0.8149,  1.8502]],\n",
      "       grad_fn=<NativeLayerNormBackward0>)\n"
     ]
    }
   ],
   "source": [
    "print(\"Model Output with Layer Normalization:\")\n",
    "print(output)"
   ]
  },
  {
   "cell_type": "code",
   "execution_count": null,
   "metadata": {},
   "outputs": [],
   "source": []
  }
 ],
 "metadata": {
  "kernelspec": {
   "display_name": "dl",
   "language": "python",
   "name": "python3"
  },
  "language_info": {
   "codemirror_mode": {
    "name": "ipython",
    "version": 3
   },
   "file_extension": ".py",
   "mimetype": "text/x-python",
   "name": "python",
   "nbconvert_exporter": "python",
   "pygments_lexer": "ipython3",
   "version": "3.9.18"
  }
 },
 "nbformat": 4,
 "nbformat_minor": 2
}

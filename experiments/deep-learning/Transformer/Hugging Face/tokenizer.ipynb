{
 "cells": [
  {
   "cell_type": "code",
   "execution_count": 2,
   "id": "b0d07da2",
   "metadata": {},
   "outputs": [],
   "source": [
    "# 安装 transformers 库 (如果尚未安装)\n",
    "# !pip install transformers"
   ]
  },
  {
   "cell_type": "code",
   "execution_count": 1,
   "id": "227e06d2",
   "metadata": {},
   "outputs": [],
   "source": [
    "from transformers import AutoTokenizer"
   ]
  },
  {
   "cell_type": "code",
   "execution_count": 4,
   "id": "59fb02c0",
   "metadata": {},
   "outputs": [
    {
     "data": {
      "application/vnd.jupyter.widget-view+json": {
       "model_id": "0c5f49cf92df4d689e58970fa21e2997",
       "version_major": 2,
       "version_minor": 0
      },
      "text/plain": [
       "tokenizer_config.json:   0%|          | 0.00/48.0 [00:00<?, ?B/s]"
      ]
     },
     "metadata": {},
     "output_type": "display_data"
    },
    {
     "name": "stderr",
     "output_type": "stream",
     "text": [
      "d:\\Dev\\miniforge3\\Lib\\site-packages\\huggingface_hub\\file_download.py:139: UserWarning: `huggingface_hub` cache-system uses symlinks by default to efficiently store duplicated files but your machine does not support them in C:\\Users\\bgm\\.cache\\huggingface\\hub\\models--bert-base-uncased. Caching files will still work but in a degraded version that might require more space on your disk. This warning can be disabled by setting the `HF_HUB_DISABLE_SYMLINKS_WARNING` environment variable. For more details, see https://huggingface.co/docs/huggingface_hub/how-to-cache#limitations.\n",
      "To support symlinks on Windows, you either need to activate Developer Mode or to run Python as an administrator. In order to activate developer mode, see this article: https://docs.microsoft.com/en-us/windows/apps/get-started/enable-your-device-for-development\n",
      "  warnings.warn(message)\n"
     ]
    },
    {
     "data": {
      "application/vnd.jupyter.widget-view+json": {
       "model_id": "428924c091654a4ba2022cc9b2f41ba9",
       "version_major": 2,
       "version_minor": 0
      },
      "text/plain": [
       "config.json:   0%|          | 0.00/570 [00:00<?, ?B/s]"
      ]
     },
     "metadata": {},
     "output_type": "display_data"
    },
    {
     "data": {
      "application/vnd.jupyter.widget-view+json": {
       "model_id": "857732aea50447ce93e544ee5a6923e8",
       "version_major": 2,
       "version_minor": 0
      },
      "text/plain": [
       "vocab.txt:   0%|          | 0.00/232k [00:00<?, ?B/s]"
      ]
     },
     "metadata": {},
     "output_type": "display_data"
    },
    {
     "data": {
      "application/vnd.jupyter.widget-view+json": {
       "model_id": "6c918f501d4a4310b4c54481bb1c8274",
       "version_major": 2,
       "version_minor": 0
      },
      "text/plain": [
       "tokenizer.json:   0%|          | 0.00/466k [00:00<?, ?B/s]"
      ]
     },
     "metadata": {},
     "output_type": "display_data"
    },
    {
     "name": "stdout",
     "output_type": "stream",
     "text": [
      "Tokenizer for bert-base-uncased: BertTokenizerFast(name_or_path='bert-base-uncased', vocab_size=30522, model_max_length=512, is_fast=True, padding_side='right', truncation_side='right', special_tokens={'unk_token': '[UNK]', 'sep_token': '[SEP]', 'pad_token': '[PAD]', 'cls_token': '[CLS]', 'mask_token': '[MASK]'}, clean_up_tokenization_spaces=False, added_tokens_decoder={\n",
      "\t0: AddedToken(\"[PAD]\", rstrip=False, lstrip=False, single_word=False, normalized=False, special=True),\n",
      "\t100: AddedToken(\"[UNK]\", rstrip=False, lstrip=False, single_word=False, normalized=False, special=True),\n",
      "\t101: AddedToken(\"[CLS]\", rstrip=False, lstrip=False, single_word=False, normalized=False, special=True),\n",
      "\t102: AddedToken(\"[SEP]\", rstrip=False, lstrip=False, single_word=False, normalized=False, special=True),\n",
      "\t103: AddedToken(\"[MASK]\", rstrip=False, lstrip=False, single_word=False, normalized=False, special=True),\n",
      "}\n",
      ")\n"
     ]
    }
   ],
   "source": [
    "# 选择一个预训练模型名称\n",
    "model_name = \"bert-base-uncased\" # 你可以尝试其他模型，例如 \"gpt2\", \"roberta-base\"\n",
    "\n",
    "# 加载对应的 tokenizer\n",
    "tokenizer = AutoTokenizer.from_pretrained(model_name)\n",
    "\n",
    "print(f\"Tokenizer for {model_name}: {tokenizer}\")"
   ]
  },
  {
   "cell_type": "code",
   "execution_count": 5,
   "id": "58e243ca",
   "metadata": {},
   "outputs": [
    {
     "name": "stdout",
     "output_type": "stream",
     "text": [
      "Tokens: ['hello', ',', 'how', 'are', 'you', 'today', '?']\n"
     ]
    }
   ],
   "source": [
    "# 基本的 Tokenization\n",
    "text = \"Hello, how are you today?\"\n",
    "\n",
    "# 使用 tokenizer 对文本进行分词\n",
    "tokens = tokenizer.tokenize(text)\n",
    "print(\"Tokens:\", tokens)"
   ]
  },
  {
   "cell_type": "code",
   "execution_count": 6,
   "id": "38e4f7b5",
   "metadata": {},
   "outputs": [
    {
     "name": "stdout",
     "output_type": "stream",
     "text": [
      "Encoded Input: {'input_ids': tensor([[ 101, 7592, 1010, 2129, 2024, 2017, 2651, 1029,  102]]), 'token_type_ids': tensor([[0, 0, 0, 0, 0, 0, 0, 0, 0]]), 'attention_mask': tensor([[1, 1, 1, 1, 1, 1, 1, 1, 1]])}\n"
     ]
    }
   ],
   "source": [
    "# 编码 (Encoding) 文本为模型输入\n",
    "encoded_input = tokenizer(text, return_tensors=\"pt\") # return_tensors='pt' 返回 PyTorch tensors\n",
    "print(\"Encoded Input:\", encoded_input)\n",
    "# 你会注意到 encoded_input 包含 input_ids (tokens 的数字表示) 和 attention_mask (指示哪些 tokens 应该被关注)。"
   ]
  },
  {
   "cell_type": "code",
   "execution_count": 7,
   "id": "ea261d09",
   "metadata": {},
   "outputs": [],
   "source": [
    "# 解码 (Decoding) Token IDs 回文本\n",
    "# 获取 input_ids\n",
    "input_ids = encoded_input[\"input_ids\"][0]"
   ]
  },
  {
   "cell_type": "code",
   "execution_count": 8,
   "id": "523b8af0",
   "metadata": {},
   "outputs": [
    {
     "name": "stdout",
     "output_type": "stream",
     "text": [
      "Decoded Text: hello, how are you today?\n"
     ]
    }
   ],
   "source": [
    "# 解码 token IDs\n",
    "decoded_text = tokenizer.decode(input_ids, skip_special_tokens=True) # skip_special_tokens=True 忽略特殊 token\n",
    "print(\"Decoded Text:\", decoded_text)"
   ]
  },
  {
   "cell_type": "code",
   "execution_count": 9,
   "id": "6d9c5766",
   "metadata": {},
   "outputs": [
    {
     "name": "stdout",
     "output_type": "stream",
     "text": [
      "Encoded Batch: {'input_ids': tensor([[ 101, 2023, 2003, 1996, 2034, 6251, 1012,  102],\n",
      "        [ 101, 2182, 2003, 2178, 2028, 1012,  102,    0]]), 'token_type_ids': tensor([[0, 0, 0, 0, 0, 0, 0, 0],\n",
      "        [0, 0, 0, 0, 0, 0, 0, 0]]), 'attention_mask': tensor([[1, 1, 1, 1, 1, 1, 1, 1],\n",
      "        [1, 1, 1, 1, 1, 1, 1, 0]])}\n"
     ]
    }
   ],
   "source": [
    "# 处理多个句子\n",
    "sentences = [\n",
    "    \"This is the first sentence.\",\n",
    "    \"Here is another one.\"\n",
    "]\n",
    "\n",
    "encoded_batch = tokenizer(sentences, padding=True, truncation=True, return_tensors=\"pt\")\n",
    "print(\"Encoded Batch:\", encoded_batch)\n",
    "# 这里我们使用了 padding=True 来将序列填充到相同的长度，truncation=True 来截断超过模型最大长度的序列。\n"
   ]
  },
  {
   "cell_type": "code",
   "execution_count": 10,
   "id": "a35dfb17",
   "metadata": {},
   "outputs": [
    {
     "name": "stdout",
     "output_type": "stream",
     "text": [
      "Vocabulary Size: 30522\n",
      "Special Tokens Map: {'unk_token': '[UNK]', 'sep_token': '[SEP]', 'pad_token': '[PAD]', 'cls_token': '[CLS]', 'mask_token': '[MASK]'}\n",
      "Padding Token: [PAD] 0\n",
      "Separator Token: [SEP] 102\n",
      "Classification Token: [CLS] 101\n",
      "Unknown Token: [UNK] 100\n"
     ]
    }
   ],
   "source": [
    "# 查看词汇表和特殊 tokens\n",
    "print(\"Vocabulary Size:\", tokenizer.vocab_size)\n",
    "print(\"Special Tokens Map:\", tokenizer.special_tokens_map)\n",
    "print(\"Padding Token:\", tokenizer.pad_token, tokenizer.pad_token_id)\n",
    "print(\"Separator Token:\", tokenizer.sep_token, tokenizer.sep_token_id)\n",
    "print(\"Classification Token:\", tokenizer.cls_token, tokenizer.cls_token_id)\n",
    "print(\"Unknown Token:\", tokenizer.unk_token, tokenizer.unk_token_id)"
   ]
  },
  {
   "cell_type": "code",
   "execution_count": null,
   "id": "b82e0b10",
   "metadata": {},
   "outputs": [],
   "source": []
  },
  {
   "cell_type": "code",
   "execution_count": null,
   "id": "8a2f70e7",
   "metadata": {},
   "outputs": [],
   "source": []
  },
  {
   "cell_type": "code",
   "execution_count": null,
   "id": "7e1e8421",
   "metadata": {},
   "outputs": [],
   "source": []
  }
 ],
 "metadata": {
  "kernelspec": {
   "display_name": "ipykernel-dl",
   "language": "python",
   "name": "dl"
  },
  "language_info": {
   "codemirror_mode": {
    "name": "ipython",
    "version": 3
   },
   "file_extension": ".py",
   "mimetype": "text/x-python",
   "name": "python",
   "nbconvert_exporter": "python",
   "pygments_lexer": "ipython3",
   "version": "3.12.7"
  }
 },
 "nbformat": 4,
 "nbformat_minor": 5
}

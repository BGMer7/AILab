{
 "cells": [
  {
   "cell_type": "markdown",
   "metadata": {},
   "source": [
    "DataLoader 可以帮助我们高效地加载和预处理数据，尤其在训练神经网络时，DataLoader 通过分批次（batch）、打乱顺序（shuffle）、并行加载（num_workers）等机制，简化了数据管理的过程。\n",
    "\n",
    "DataLoader 的功能\n",
    "- Batching：将数据分成小批次，从而在模型训练过程中避免内存不足。\n",
    "- Shuffling：在每个 epoch 前打乱数据，避免模型记住数据的顺序。\n",
    "- Parallel Data Loading：使用多线程并行加载数据，减少数据加载对训练速度的影响。\n",
    "- Automatic Batching：在每次迭代中自动返回数据的 batch。\n",
    "- Collate Function：可以自定义如何将不同形状的数据聚合成 batch。"
   ]
  }
 ],
 "metadata": {
  "language_info": {
   "name": "python"
  }
 },
 "nbformat": 4,
 "nbformat_minor": 2
}

{
 "cells": [
  {
   "cell_type": "code",
   "execution_count": 2,
   "metadata": {},
   "outputs": [],
   "source": [
    "import torch\n",
    "import torch.optim as optim\n",
    "import torch.nn as nn"
   ]
  },
  {
   "cell_type": "code",
   "execution_count": 4,
   "metadata": {},
   "outputs": [
    {
     "name": "stdout",
     "output_type": "stream",
     "text": [
      "Epoch 0: Learning Rate = 0.09757729755661011\n",
      "Epoch 1: Learning Rate = 0.0905463412215599\n",
      "Epoch 2: Learning Rate = 0.07959536998847742\n",
      "Epoch 3: Learning Rate = 0.0657963412215599\n",
      "Epoch 4: Learning Rate = 0.0505\n",
      "Epoch 5: Learning Rate = 0.03520365877844011\n",
      "Epoch 6: Learning Rate = 0.021404630011522586\n",
      "Epoch 7: Learning Rate = 0.010453658778440109\n",
      "Epoch 8: Learning Rate = 0.0034227024433899004\n",
      "Epoch 9: Learning Rate = 0.1\n",
      "Epoch 10: Learning Rate = 0.09939057285945932\n",
      "Epoch 11: Learning Rate = 0.09757729755661011\n",
      "Epoch 12: Learning Rate = 0.09460482294732421\n",
      "Epoch 13: Learning Rate = 0.0905463412215599\n",
      "Epoch 14: Learning Rate = 0.0855017856687341\n",
      "Epoch 15: Learning Rate = 0.07959536998847742\n",
      "Epoch 16: Learning Rate = 0.07297252973710756\n",
      "Epoch 17: Learning Rate = 0.0657963412215599\n",
      "Epoch 18: Learning Rate = 0.05824350601949144\n",
      "Epoch 19: Learning Rate = 0.0505\n",
      "Epoch 20: Learning Rate = 0.04275649398050859\n",
      "Epoch 21: Learning Rate = 0.03520365877844011\n",
      "Epoch 22: Learning Rate = 0.02802747026289244\n",
      "Epoch 23: Learning Rate = 0.021404630011522586\n",
      "Epoch 24: Learning Rate = 0.0154982143312659\n",
      "Epoch 25: Learning Rate = 0.010453658778440109\n",
      "Epoch 26: Learning Rate = 0.0063951770526757944\n",
      "Epoch 27: Learning Rate = 0.0034227024433899004\n",
      "Epoch 28: Learning Rate = 0.001609427140540686\n",
      "Epoch 29: Learning Rate = 0.1\n",
      "Epoch 30: Learning Rate = 0.09984740801978985\n",
      "Epoch 31: Learning Rate = 0.09939057285945932\n",
      "Epoch 32: Learning Rate = 0.098632311059685\n",
      "Epoch 33: Learning Rate = 0.09757729755661011\n",
      "Epoch 34: Learning Rate = 0.0962320368593087\n",
      "Epoch 35: Learning Rate = 0.09460482294732421\n",
      "Epoch 36: Learning Rate = 0.09270568813552757\n",
      "Epoch 37: Learning Rate = 0.0905463412215599\n",
      "Epoch 38: Learning Rate = 0.08814009529720154\n",
      "Epoch 39: Learning Rate = 0.0855017856687341\n",
      "Epoch 40: Learning Rate = 0.0826476783923441\n",
      "Epoch 41: Learning Rate = 0.07959536998847742\n",
      "Epoch 42: Learning Rate = 0.07636367895343947\n",
      "Epoch 43: Learning Rate = 0.07297252973710756\n",
      "Epoch 44: Learning Rate = 0.06944282990207196\n",
      "Epoch 45: Learning Rate = 0.0657963412215599\n",
      "Epoch 46: Learning Rate = 0.062055545510867324\n",
      "Epoch 47: Learning Rate = 0.05824350601949144\n",
      "Epoch 48: Learning Rate = 0.05438372523852833\n",
      "Epoch 49: Learning Rate = 0.0505\n"
     ]
    }
   ],
   "source": [
    "# 定义一个简单模型\n",
    "model = nn.Linear(10, 1)\n",
    "\n",
    "# 优化器\n",
    "optimizer = optim.SGD(model.parameters(), lr=0.1)\n",
    "\n",
    "# 定义热重启调度器\n",
    "scheduler = torch.optim.lr_scheduler.CosineAnnealingWarmRestarts(\n",
    "    optimizer,\n",
    "    T_0=10,     # 第一个周期的步数\n",
    "    T_mult=2,   # 每次重启后周期的长度倍增\n",
    "    eta_min=0.001  # 最小学习率\n",
    ")\n",
    "\n",
    "# 模拟训练\n",
    "for epoch in range(50):\n",
    "    # 模拟每个 epoch 的训练步骤\n",
    "    optimizer.step()\n",
    "    scheduler.step()  # 更新学习率\n",
    "\n",
    "    # 打印当前学习率\n",
    "    current_lr = scheduler.get_last_lr()[0]\n",
    "    print(f\"Epoch {epoch}: Learning Rate = {current_lr}\")"
   ]
  }
 ],
 "metadata": {
  "kernelspec": {
   "display_name": "d2l",
   "language": "python",
   "name": "python3"
  },
  "language_info": {
   "codemirror_mode": {
    "name": "ipython",
    "version": 3
   },
   "file_extension": ".py",
   "mimetype": "text/x-python",
   "name": "python",
   "nbconvert_exporter": "python",
   "pygments_lexer": "ipython3",
   "version": "3.9.19"
  }
 },
 "nbformat": 4,
 "nbformat_minor": 2
}

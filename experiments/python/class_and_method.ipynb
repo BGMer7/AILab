{
 "cells": [
  {
   "cell_type": "markdown",
   "metadata": {},
   "source": [
    "在 Python 中，self 是类方法的第一个参数，用来表示对当前实例对象的引用。每当调用类的实例方法时，Python 会自动把当前实例作为第一个参数传递给该方法，而这个参数通常命名为 self。\n",
    "\n",
    "\n",
    "为什么方法需要 self？\n",
    "实例化对象的引用：\n",
    "\n",
    "在 Python 中，类的实例方法需要知道当前实例的状态（例如实例的属性）。self 就是对当前实例的引用，它使得方法能够访问实例的属性和其他方法。\n",
    "每个实例方法都必须明确知道它是在一个具体的对象上操作的，因此需要一个显式的参数来引用当前对象。\n",
    "区分实例方法和类方法：\n",
    "\n",
    "Python 区分了 实例方法 和 类方法，而 实例方法 必须通过 self 来引用当前对象的实例。在实例方法中，self 提供了对对象属性和其他实例方法的访问权限。\n",
    "类方法则是使用 cls 作为第一个参数，指向类本身，而不是类的某个实例。\n",
    "访问和修改实例的属性：\n",
    "\n",
    "self 使得方法能够访问并修改当前实例的属性。如果没有 self，Python 就无法知道你是在操作哪个对象的属性和方法。"
   ]
  },
  {
   "cell_type": "code",
   "execution_count": null,
   "metadata": {},
   "outputs": [],
   "source": [
    "class Dog:\n",
    "    def __init__(self, name, age):\n",
    "        self.name = name\n",
    "        self.age = age\n",
    "\n",
    "    def speak(self):\n",
    "        return f\"{self.name} says woof!\"\n",
    "    \n",
    "    def birthday(self):\n",
    "        self.age += 1  # 修改实例的属性\n"
   ]
  },
  {
   "cell_type": "markdown",
   "metadata": {},
   "source": [
    "在 Python 中，cls 方法是指 类方法（Class Method），它是一个与类本身相关的方法，而不是与类的实例相关的方法。与实例方法（普通方法）不同，类方法操作的是类本身的数据，而不是实例对象的数据。\n",
    "\n",
    "类方法的特点：\n",
    "类方法的第一个参数是 cls，而不是实例方法的 self。cls 代表类本身，而不是类的实例对象。cls 使得类方法能够访问类的属性和其他类方法。\n",
    "\n",
    "类方法通过 @classmethod 装饰器定义。这告诉 Python 该方法是类方法，而不是实例方法。\n",
    "\n",
    "如何定义类方法\n",
    "在定义类方法时，我们使用 @classmethod 装饰器来标识它，然后使用 cls 作为第一个参数。cls 代表类本身，类方法可以通过 cls 访问和修改类级别的属性。"
   ]
  },
  {
   "cell_type": "code",
   "execution_count": null,
   "metadata": {},
   "outputs": [],
   "source": [
    "class Dog:\n",
    "    species = \"Canis familiaris\"\n",
    "\n",
    "    def __init__(self, name, age):\n",
    "        self.name = name  # 实例属性\n",
    "        self.age = age\n",
    "\n",
    "    @classmethod\n",
    "    def get_species(cls):\n",
    "        return cls.species  # 访问类属性\n",
    "\n",
    "    @classmethod\n",
    "    def create_puppy(cls, name, age):\n",
    "        # 通过类方法创建一个新的 Dog 实例\n",
    "        return cls(name, age)\n"
   ]
  }
 ],
 "metadata": {
  "kernelspec": {
   "display_name": "ipykernel-dl",
   "language": "python",
   "name": "dl"
  },
  "language_info": {
   "name": "python",
   "version": "3.12.7"
  }
 },
 "nbformat": 4,
 "nbformat_minor": 2
}

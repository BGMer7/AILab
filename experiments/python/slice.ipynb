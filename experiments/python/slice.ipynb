{
 "cells": [
  {
   "cell_type": "code",
   "execution_count": 2,
   "metadata": {},
   "outputs": [
    {
     "name": "stdout",
     "output_type": "stream",
     "text": [
      "[0, 1, 2]\n",
      "[3, 4, 5, 6, 7, 8, 9]\n",
      "[1, 2, 3, 4]\n",
      "[0, 2, 4, 6, 8]\n"
     ]
    }
   ],
   "source": [
    "# 创建一个列表\n",
    "my_list = [0, 1, 2, 3, 4, 5, 6, 7, 8, 9]\n",
    "\n",
    "# 获取前3个元素\n",
    "print(my_list[:3])  # 输出: [0, 1, 2]\n",
    "\n",
    "# 获取从第4个元素到最后的所有元素\n",
    "print(my_list[3:])  # 输出: [3, 4, 5, 6, 7, 8, 9]\n",
    "\n",
    "# 获取第2个到第5个元素（不包括第5个）\n",
    "print(my_list[1:5])  # 输出: [1, 2, 3, 4]\n",
    "\n",
    "# 获取所有元素，步长为2（即每隔一个元素取一个）\n",
    "print(my_list[::2])  # 输出: [0, 2, 4, 6, 8]"
   ]
  },
  {
   "cell_type": "code",
   "execution_count": 3,
   "metadata": {},
   "outputs": [
    {
     "name": "stdout",
     "output_type": "stream",
     "text": [
      "[0, 10, 11, 12, 4, 5, 6, 7, 8, 9]\n",
      "[0, 4, 5, 6, 7, 8, 9]\n"
     ]
    }
   ],
   "source": [
    "# 修改列表中的元素\n",
    "my_list[1:4] = [10, 11, 12]\n",
    "print(my_list)  # 输出: [0, 10, 11, 12, 4, 5, 6, 7, 8, 9]\n",
    "\n",
    "# 删除列表中的元素\n",
    "my_list[1:4] = []\n",
    "print(my_list)  # 输出: [0, 4, 5, 6, 7, 8, 9]"
   ]
  },
  {
   "cell_type": "code",
   "execution_count": 4,
   "metadata": {},
   "outputs": [
    {
     "name": "stdout",
     "output_type": "stream",
     "text": [
      "[1, 2, 3]\n",
      "[4, 5]\n",
      "[3, 6, 9]\n"
     ]
    }
   ],
   "source": [
    "# 创建一个二维列表\n",
    "matrix = [\n",
    "    [1, 2, 3],\n",
    "    [4, 5, 6],\n",
    "    [7, 8, 9]\n",
    "]\n",
    "\n",
    "# 获取第一行的所有元素\n",
    "print(matrix[0])  # 输出: [1, 2, 3]\n",
    "\n",
    "# 获取第二行的前两个元素\n",
    "print(matrix[1][:2])  # 输出: [4, 5]\n",
    "\n",
    "# 获取最后一列的所有元素\n",
    "print([row[-1] for row in matrix])  # 输出: [3, 6, 9]"
   ]
  },
  {
   "cell_type": "code",
   "execution_count": 5,
   "metadata": {},
   "outputs": [
    {
     "name": "stdout",
     "output_type": "stream",
     "text": [
      "Hello\n",
      "World!\n",
      "Hlo ol!\n"
     ]
    }
   ],
   "source": [
    "# 创建一个字符串\n",
    "my_string = \"Hello, World!\"\n",
    "\n",
    "# 获取前5个字符\n",
    "print(my_string[:5])  # 输出: \"Hello\"\n",
    "\n",
    "# 获取从第7个字符到最后的所有字符\n",
    "print(my_string[7:])  # 输出: \"World!\"\n",
    "\n",
    "# 获取所有字符，步长为2\n",
    "print(my_string[::2])  # 输出: \"Hlo ol!\""
   ]
  },
  {
   "cell_type": "code",
   "execution_count": 6,
   "metadata": {},
   "outputs": [
    {
     "name": "stdout",
     "output_type": "stream",
     "text": [
      "[9, 8, 7, 6, 5, 4, 0]\n",
      "!dlroW ,olleH\n"
     ]
    }
   ],
   "source": [
    "# 反转列表\n",
    "print(my_list[::-1])  # 输出: [9, 8, 7, 6, 5, 4, 0]\n",
    "\n",
    "# 反转字符串\n",
    "print(my_string[::-1])  # 输出: \"!dlroW ,olleH\""
   ]
  },
  {
   "cell_type": "code",
   "execution_count": null,
   "metadata": {},
   "outputs": [],
   "source": []
  }
 ],
 "metadata": {
  "kernelspec": {
   "display_name": "ipykernel-dl",
   "language": "python",
   "name": "dl"
  },
  "language_info": {
   "codemirror_mode": {
    "name": "ipython",
    "version": 3
   },
   "file_extension": ".py",
   "mimetype": "text/x-python",
   "name": "python",
   "nbconvert_exporter": "python",
   "pygments_lexer": "ipython3",
   "version": "3.12.7"
  }
 },
 "nbformat": 4,
 "nbformat_minor": 2
}

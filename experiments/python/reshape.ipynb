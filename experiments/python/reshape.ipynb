{
 "cells": [
  {
   "cell_type": "code",
   "execution_count": 13,
   "metadata": {},
   "outputs": [],
   "source": [
    "import torch"
   ]
  },
  {
   "cell_type": "code",
   "execution_count": 14,
   "metadata": {},
   "outputs": [
    {
     "data": {
      "text/plain": [
       "tensor([[0, 1, 2, 3, 4],\n",
       "        [5, 6, 7, 8, 9]])"
      ]
     },
     "execution_count": 14,
     "metadata": {},
     "output_type": "execute_result"
    }
   ],
   "source": [
    "x = torch.arange(10).reshape(2,5)\n",
    "x"
   ]
  },
  {
   "cell_type": "code",
   "execution_count": 15,
   "metadata": {},
   "outputs": [
    {
     "name": "stdout",
     "output_type": "stream",
     "text": [
      "torch.Size([2, 5])\n",
      "torch.Size([2, 5, 1])\n"
     ]
    },
    {
     "data": {
      "text/plain": [
       "tensor([[[0],\n",
       "         [1],\n",
       "         [2],\n",
       "         [3],\n",
       "         [4]],\n",
       "\n",
       "        [[5],\n",
       "         [6],\n",
       "         [7],\n",
       "         [8],\n",
       "         [9]]])"
      ]
     },
     "execution_count": 15,
     "metadata": {},
     "output_type": "execute_result"
    }
   ],
   "source": [
    "print(x.shape)\n",
    "x = x.reshape(x.shape[0], x.shape[1], -1)\n",
    "print(x.shape)\n",
    "x"
   ]
  },
  {
   "cell_type": "markdown",
   "metadata": {},
   "source": [
    "在 PyTorch 中，`reshape` 是一个非常常用的函数，用于重新调整张量的形状，同时保持张量中的数据不变。`x.reshape(x.shape[0], x.shape[1], -1)` 是一种特定的用法，它的作用是将张量的某些维度合并或重新分配，以达到新的形状要求。\n",
    "\n",
    "### 代码解释\n",
    "\n",
    "```python\n",
    "x = x.reshape(x.shape[0], x.shape[1], -1)\n",
    "```\n",
    "\n",
    "1. **`x.shape[0]` 和 `x.shape[1]`**：\n",
    "   - 这是张量 `x` 的前两个维度的大小。`x.shape[0]` 表示第一个维度的大小（通常是批量大小 `batch_size`），`x.shape[1]` 表示第二个维度的大小（通常是序列长度 `seq_length`）。\n",
    "\n",
    "2. **`-1` 的含义**：\n",
    "   - 在 `reshape` 函数中，`-1` 是一个特殊的参数，表示让 PyTorch 自动计算该维度的大小，以确保张量的总元素数量保持不变。\n",
    "   - 使用 `-1` 的目的是让 PyTorch 自动推导出最后一个维度的大小，从而简化代码。\n",
    "\n",
    "3. **整体作用**：\n",
    "   - 这行代码的作用是将张量 `x` 的形状从 `(batch_size, seq_length, ...)` 调整为 `(batch_size, seq_length, new_dim)`，其中 `new_dim` 是通过合并 `x` 的剩余维度计算得到的。\n",
    "   - 具体来说，它会将 `x` 的第三个维度及之后的所有维度合并为一个维度。\n",
    "\n",
    "### 示例和具体解释\n",
    "\n",
    "假设张量 `x` 的形状为 `(2, 3, 4, 5)`，即：\n",
    "- `batch_size = 2`\n",
    "- `seq_length = 3`\n",
    "- 剩余维度为 `(4, 5)`\n",
    "\n",
    "执行 `x.reshape(x.shape[0], x.shape[1], -1)` 后：\n",
    "- 第一个维度保持为 `2`（`batch_size`）。\n",
    "- 第二个维度保持为 `3`（`seq_length`）。\n",
    "- 剩余维度 `(4, 5)` 被合并为一个维度，大小为 `4 * 5 = 20`。\n",
    "\n",
    "因此，`x` 的新形状为 `(2, 3, 20)`。\n",
    "\n",
    "### 示例代码\n",
    "\n",
    "```python\n",
    "import torch\n",
    "\n",
    "# 创建一个形状为 (2, 3, 4, 5) 的张量\n",
    "x = torch.arange(120).reshape(2, 3, 4, 5)\n",
    "print(\"Original shape:\", x.shape)  # 输出：torch.Size([2, 3, 4, 5])\n",
    "\n",
    "# 重塑张量\n",
    "x = x.reshape(x.shape[0], x.shape[1], -1)\n",
    "print(\"Reshaped shape:\", x.shape)  # 输出：torch.Size([2, 3, 20])\n",
    "```\n",
    "\n",
    "### 应用场景\n",
    "\n",
    "这种用法在深度学习中非常常见，尤其是在处理多维张量时。例如：\n",
    "1. **多头注意力机制**：\n",
    "   - 在多头注意力中，输入张量通常需要被重塑为 `(batch_size, seq_length, num_heads, head_dim)`，然后通过 `permute` 调整维度顺序。\n",
    "   - 使用 `-1` 可以方便地合并某些维度，而不需要手动计算维度大小。\n",
    "\n",
    "2. **卷积神经网络（CNN）**：\n",
    "   - 在将卷积层的输出传递到全连接层之前，通常需要将卷积层输出的多维张量（如 `(batch_size, channels, height, width)`）重塑为 `(batch_size, -1)`，即将所有特征合并为一个长向量。\n",
    "\n",
    "### 总结\n",
    "\n",
    "`x.reshape(x.shape[0], x.shape[1], -1)` 的作用是：\n",
    "- 保持前两个维度不变（通常是批量大小和序列长度）。\n",
    "- 将剩余的所有维度合并为一个维度，大小由 `-1` 自动推导。\n",
    "- 这种用法在处理多维张量时非常方便，可以简化代码并提高可读性。"
   ]
  },
  {
   "cell_type": "code",
   "execution_count": null,
   "metadata": {},
   "outputs": [],
   "source": []
  }
 ],
 "metadata": {
  "kernelspec": {
   "display_name": "ipykernel-dl",
   "language": "python",
   "name": "ipykernel-dl"
  },
  "language_info": {
   "codemirror_mode": {
    "name": "ipython",
    "version": 3
   },
   "file_extension": ".py",
   "mimetype": "text/x-python",
   "name": "python",
   "nbconvert_exporter": "python",
   "pygments_lexer": "ipython3",
   "version": "3.9.18"
  }
 },
 "nbformat": 4,
 "nbformat_minor": 2
}

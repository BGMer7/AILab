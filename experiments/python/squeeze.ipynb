{
 "cells": [
  {
   "cell_type": "code",
   "execution_count": 1,
   "metadata": {},
   "outputs": [
    {
     "name": "stdout",
     "output_type": "stream",
     "text": [
      "Original shape: (1, 3, 1)\n",
      "Squeezed shape: (3,)\n",
      "Squeezed shape: (3, 1)\n"
     ]
    }
   ],
   "source": [
    "import numpy as np\n",
    "\n",
    "# 创建一个三维数组\n",
    "x = np.array([[[1], [2], [3]]])\n",
    "print(\"Original shape:\", x.shape)  # 输出：(1, 3, 1)\n",
    "\n",
    "# 去除所有大小为 1 的维度\n",
    "x_squeezed = np.squeeze(x)\n",
    "print(\"Squeezed shape:\", x_squeezed.shape)  # 输出：(3,)\n",
    "\n",
    "# 指定去除维度\n",
    "x_squeezed = np.squeeze(x, axis=0)\n",
    "print(\"Squeezed shape:\", x_squeezed.shape)  # 输出：(3, 1)"
   ]
  }
 ],
 "metadata": {
  "kernelspec": {
   "display_name": "ipykernel-dl",
   "language": "python",
   "name": "ipykernel-dl"
  },
  "language_info": {
   "codemirror_mode": {
    "name": "ipython",
    "version": 3
   },
   "file_extension": ".py",
   "mimetype": "text/x-python",
   "name": "python",
   "nbconvert_exporter": "python",
   "pygments_lexer": "ipython3",
   "version": "3.9.18"
  }
 },
 "nbformat": 4,
 "nbformat_minor": 2
}

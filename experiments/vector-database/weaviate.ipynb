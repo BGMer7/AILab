{
 "cells": [
  {
   "cell_type": "markdown",
   "metadata": {},
   "source": [
    "https://cloud.tencent.com/developer/article/2490861\n",
    "\n",
    "https://weaviate.io/developers/weaviate/client-libraries/python"
   ]
  },
  {
   "cell_type": "markdown",
   "metadata": {},
   "source": [
    "```shell\n",
    "docker pull semitechnologies/weaviate:latest\n",
    "```"
   ]
  },
  {
   "cell_type": "markdown",
   "metadata": {},
   "source": [
    "```shell\n",
    "docker run -d --name weaviate \\\n",
    "    --restart=always \\\n",
    "    -p 8080:8080 \\\n",
    "    -p 50051:50051 \\\n",
    "    -e \"AUTHENTICATION_APIKEY_ENABLED=true\" \\\n",
    "    -e \"AUTHENTICATION_APIKEY_ALLOWED_KEYS=test-secret-key,test2-secret-key\" \\\n",
    "    -e \"AUTHENTICATION_APIKEY_USERS=test@2024.com,test2@2024.com\" \\\n",
    "    -e \"AUTHORIZATION_ADMINLIST_ENABLED=true\" \\\n",
    "    -e \"AUTHORIZATION_ADMINLIST_USERS=test@2024.com\" \\\n",
    "    -e \"AUTHORIZATION_ADMINLIST_READONLY_USERS=test2@2024.com\" \\\n",
    "    -e WEAVIATE_HOSTNAME=0.0.0.0 \\\n",
    "    semitechnologies/weaviate:latest\n",
    "\n",
    "```\n",
    "\n",
    "参数说明\n",
    "\n",
    "-d: 让容器在后台运行。\n",
    "\n",
    "--name weaviate: 给容器命名为weaviate。\n",
    "\n",
    "--restart=always: 配置容器在宿主机重启后自动启动。\n",
    "\n",
    "-p 8080:8080: 将容器内的 8080 端口映射到宿主机的 8080 端口。\n",
    "\n",
    "-p 50051:50051: 将容器内的 50051 端口映射到宿主机的 50051 端口。\n",
    "\n",
    "-e \"AUTHENTICATION_APIKEY_ENABLED=true\": 启用 API 密钥认证功能。\n",
    "\n",
    "-e \"AUTHENTICATION_APIKEY_ALLOWED_KEYS=test-secret-key,test2-secret-key\": 指定允许使用的 API 密钥列表。\n",
    "\n",
    "-e \"AUTHENTICATION_APIKEY_USERS=test@2024.com,test2@2024.com\": 关联密钥与用户邮箱。\n",
    "\n",
    "-e \"AUTHORIZATION_ADMINLIST_ENABLED=true\": 开启管理员列表授权。\n",
    "\n",
    "-e \"AUTHORIZATION_ADMINLIST_USERS=test@2024.com\": 指定管理员列表中的用户。\n",
    "\n",
    "-e \"AUTHORIZATION_ADMINLIST_READONLY_USERS=test2@2024.com\": 指定只读权限的用户列表。\n",
    "\n",
    "-e WEAVIATE_HOSTNAME=0.0.0.0: 设置 Weaviate 的主机名，监听所有可用网络接口。\n",
    "\n",
    "semitechnologies/weaviate:latest: 指定要从 Docker Hub 下载并运行的 Weaviate 镜像的最新版本。"
   ]
  },
  {
   "cell_type": "code",
   "execution_count": 1,
   "metadata": {},
   "outputs": [
    {
     "name": "stdout",
     "output_type": "stream",
     "text": [
      "Looking in indexes: https://mirrors.aliyun.com/pypi/simple/\n",
      "Requirement already satisfied: weaviate-client in d:\\dev\\miniforge3\\lib\\site-packages (4.11.1)\n",
      "Requirement already satisfied: httpx<0.29.0,>=0.26.0 in d:\\dev\\miniforge3\\lib\\site-packages (from weaviate-client) (0.28.0)\n",
      "Requirement already satisfied: validators==0.34.0 in d:\\dev\\miniforge3\\lib\\site-packages (from weaviate-client) (0.34.0)\n",
      "Requirement already satisfied: authlib<1.3.2,>=1.2.1 in d:\\dev\\miniforge3\\lib\\site-packages (from weaviate-client) (1.3.1)\n",
      "Requirement already satisfied: pydantic<3.0.0,>=2.8.0 in d:\\dev\\miniforge3\\lib\\site-packages (from weaviate-client) (2.10.3)\n",
      "Requirement already satisfied: grpcio<2.0.0,>=1.66.2 in d:\\dev\\miniforge3\\lib\\site-packages (from weaviate-client) (1.70.0)\n",
      "Requirement already satisfied: grpcio-tools<2.0.0,>=1.66.2 in d:\\dev\\miniforge3\\lib\\site-packages (from weaviate-client) (1.70.0)\n",
      "Requirement already satisfied: grpcio-health-checking<2.0.0,>=1.66.2 in d:\\dev\\miniforge3\\lib\\site-packages (from weaviate-client) (1.70.0)\n",
      "Requirement already satisfied: cryptography in d:\\dev\\miniforge3\\lib\\site-packages (from authlib<1.3.2,>=1.2.1->weaviate-client) (44.0.0)\n",
      "Requirement already satisfied: protobuf<6.0dev,>=5.26.1 in d:\\dev\\miniforge3\\lib\\site-packages (from grpcio-health-checking<2.0.0,>=1.66.2->weaviate-client) (5.29.3)\n",
      "Requirement already satisfied: setuptools in d:\\dev\\miniforge3\\lib\\site-packages (from grpcio-tools<2.0.0,>=1.66.2->weaviate-client) (60.2.0)\n",
      "Requirement already satisfied: anyio in d:\\dev\\miniforge3\\lib\\site-packages (from httpx<0.29.0,>=0.26.0->weaviate-client) (4.7.0)\n",
      "Requirement already satisfied: certifi in d:\\dev\\miniforge3\\lib\\site-packages (from httpx<0.29.0,>=0.26.0->weaviate-client) (2024.8.30)\n",
      "Requirement already satisfied: httpcore==1.* in d:\\dev\\miniforge3\\lib\\site-packages (from httpx<0.29.0,>=0.26.0->weaviate-client) (1.0.7)\n",
      "Requirement already satisfied: idna in d:\\dev\\miniforge3\\lib\\site-packages (from httpx<0.29.0,>=0.26.0->weaviate-client) (3.10)\n",
      "Requirement already satisfied: h11<0.15,>=0.13 in d:\\dev\\miniforge3\\lib\\site-packages (from httpcore==1.*->httpx<0.29.0,>=0.26.0->weaviate-client) (0.14.0)\n",
      "Requirement already satisfied: annotated-types>=0.6.0 in d:\\dev\\miniforge3\\lib\\site-packages (from pydantic<3.0.0,>=2.8.0->weaviate-client) (0.7.0)\n",
      "Requirement already satisfied: pydantic-core==2.27.1 in d:\\dev\\miniforge3\\lib\\site-packages (from pydantic<3.0.0,>=2.8.0->weaviate-client) (2.27.1)\n",
      "Requirement already satisfied: typing-extensions>=4.12.2 in d:\\dev\\miniforge3\\lib\\site-packages (from pydantic<3.0.0,>=2.8.0->weaviate-client) (4.12.2)\n",
      "Requirement already satisfied: sniffio>=1.1 in d:\\dev\\miniforge3\\lib\\site-packages (from anyio->httpx<0.29.0,>=0.26.0->weaviate-client) (1.3.1)\n",
      "Requirement already satisfied: cffi>=1.12 in d:\\dev\\miniforge3\\lib\\site-packages (from cryptography->authlib<1.3.2,>=1.2.1->weaviate-client) (1.17.1)\n",
      "Requirement already satisfied: pycparser in d:\\dev\\miniforge3\\lib\\site-packages (from cffi>=1.12->cryptography->authlib<1.3.2,>=1.2.1->weaviate-client) (2.22)\n"
     ]
    }
   ],
   "source": [
    "!pip install -U weaviate-client"
   ]
  },
  {
   "cell_type": "code",
   "execution_count": 2,
   "metadata": {},
   "outputs": [],
   "source": [
    "import weaviate\n",
    "from weaviate.auth import AuthApiKey"
   ]
  },
  {
   "cell_type": "code",
   "execution_count": 3,
   "metadata": {},
   "outputs": [
    {
     "name": "stdout",
     "output_type": "stream",
     "text": [
      "True\n"
     ]
    }
   ],
   "source": [
    "# 连接到本地部署的 Weaviate\n",
    "client = weaviate.connect_to_local(\n",
    "    auth_credentials=AuthApiKey(\"test-secret-key\")\n",
    ")\n",
    "\n",
    "# 检查连接是否成功\n",
    "print(client.is_ready())\n",
    "\n",
    "# 关闭连接\n",
    "client.close()"
   ]
  },
  {
   "cell_type": "code",
   "execution_count": 4,
   "metadata": {},
   "outputs": [
    {
     "name": "stdout",
     "output_type": "stream",
     "text": [
      "True\n"
     ]
    }
   ],
   "source": [
    "# 或者自定义连接\n",
    "client = weaviate.connect_to_custom(\n",
    "    skip_init_checks=False,\n",
    "    http_host=\"127.0.0.1\",\n",
    "    http_port=8080,\n",
    "    http_secure=False,\n",
    "    grpc_host=\"127.0.0.1\",\n",
    "    grpc_port=50051,\n",
    "    grpc_secure=False,\n",
    "    # 对应 AUTHENTICATION_APIKEY_ALLOWED_KEYS 中的密钥\n",
    "    # 注意：此处只需要密钥即可，不需要用户名称\n",
    "    auth_credentials=AuthApiKey(\"test-secret-key\")\n",
    ")\n",
    "\n",
    "# 检查连接是否成功\n",
    "print(client.is_ready())\n",
    "\n",
    "# 关闭连接\n",
    "client.close()"
   ]
  },
  {
   "cell_type": "code",
   "execution_count": 11,
   "metadata": {},
   "outputs": [],
   "source": [
    "def create_collection(client: weaviate.WeaviateClient, collection_name: str):\n",
    "    \"\"\"\n",
    "    创建集合\n",
    "    :param client: Weaviate 客户端\n",
    "    :param collection_name: 集合名称\n",
    "    \"\"\"\n",
    "    collection_obj = {\n",
    "        \"class\": collection_name,\n",
    "        \"description\": \"A collection for product information\",\n",
    "        \"vectorizer\": \"none\",  # 假设你会上传自己的向量\n",
    "        \"vectorIndexType\": \"hnsw\",\n",
    "        \"vectorIndexConfig\": {\n",
    "            \"distance\": \"cosine\",\n",
    "            \"efConstruction\": 200,\n",
    "            \"maxConnections\": 64\n",
    "        },\n",
    "        \"properties\": [\n",
    "            {\n",
    "                \"name\": \"text\",\n",
    "                \"description\": \"The text content\",\n",
    "                \"dataType\": [\"text\"],\n",
    "                \"tokenization\": \"word\",\n",
    "                \"indexFilterable\": True,\n",
    "                \"indexSearchable\": True\n",
    "            }\n",
    "        ]\n",
    "    }\n",
    "    try:\n",
    "        client.collections.create_from_dict(collection_obj)\n",
    "        print(f\"创建集合 '{collection_name}' 成功.\")\n",
    "    except weaviate.exceptions.UnexpectedStatusCodeException as e:\n",
    "        print(f\"创建集合异常: {e}\")"
   ]
  },
  {
   "cell_type": "code",
   "execution_count": null,
   "metadata": {},
   "outputs": [],
   "source": [
    "def save_documents(client: weaviate.WeaviateClient, collection_name: str, documents: list):\n",
    "    \"\"\"\n",
    "    向集合中插入数据\n",
    "    :param client: Weaviate 客户端\n",
    "    :param collection_name: 集合名称\n",
    "    :param documents: 文档列表\n",
    "    \"\"\"\n",
    "    collection = client.collections.get(collection_name)\n",
    "    for doc in documents:\n",
    "        content = doc  # 假设文档是简单的字符串\n",
    "        vector = [0.1, 0.2, 0.3]  # 假设这是你的向量\n",
    "        properties = {\n",
    "            \"text\": content\n",
    "        }\n",
    "        try:\n",
    "            uuid = collection.data.insert(properties=properties, vector=vector)\n",
    "            print(f\"文档添加内容: {content[:30]}..., uuid: {uuid}\")\n",
    "        except Exception as e:\n",
    "            print(f\"添加文档异常: {e}\")"
   ]
  },
  {
   "cell_type": "code",
   "execution_count": 10,
   "metadata": {},
   "outputs": [],
   "source": [
    "def check_collection_exists(client: weaviate.WeaviateClient, collection_name: str) -> bool:\n",
    "    \"\"\"\n",
    "    检查集合是否存在\n",
    "    :param client: Weaviate 客户端\n",
    "    :param collection_name: 集合名称\n",
    "    :return: True 或 False\n",
    "    \"\"\"\n",
    "    try:\n",
    "        collections = client.collections.list_all()\n",
    "        return collection_name in collections\n",
    "    except Exception as e:\n",
    "        print(f\"检查集合异常: {e}\")\n",
    "        return False"
   ]
  },
  {
   "cell_type": "code",
   "execution_count": null,
   "metadata": {},
   "outputs": [],
   "source": [
    "def query_vector_collection(client: weaviate.WeaviateClient, \n",
    "                            collection_name: str, \n",
    "                            query: str, \n",
    "                            k: int) -> list:\n",
    "    \"\"\"\n",
    "    从集合中查询数据\n",
    "    :param client: Weaviate 客户端\n",
    "    :param collection_name: 集合名称\n",
    "    :param query: 查询字符串\n",
    "    :param k: 返回的结果数量\n",
    "    :return: 查询结果列表\n",
    "    \"\"\"\n",
    "    vector = [0.1, 0.2, 0.3]  # 假设这是你的查询向量\n",
    "    collection = client.collections.get(collection_name)\n",
    "    response = collection.query.near_vector(\n",
    "        near_vector=vector,\n",
    "        limit=k\n",
    "    )\n",
    "    documents = [res.properties['text'] for res in response.objects]\n",
    "    return documents"
   ]
  },
  {
   "cell_type": "code",
   "execution_count": 13,
   "metadata": {},
   "outputs": [],
   "source": [
    "def delete_collection(client: weaviate.WeaviateClient, collection_name: str):\n",
    "    \"\"\"\n",
    "    删除集合\n",
    "    :param client: Weaviate 客户端\n",
    "    :param collection_name: 集合名称\n",
    "    \"\"\"\n",
    "    try:\n",
    "        client.collections.delete(collection_name)\n",
    "        print(f\"删除集合 '{collection_name}' 成功.\")\n",
    "    except Exception as e:\n",
    "        print(f\"删除集合异常: {e}\")"
   ]
  },
  {
   "cell_type": "code",
   "execution_count": 14,
   "metadata": {},
   "outputs": [
    {
     "name": "stdout",
     "output_type": "stream",
     "text": [
      "创建集合 'MyCollection' 成功.\n",
      "文档添加内容: This is a test document...., uuid: 6272cdac-bfb5-4844-af5b-c8bf99541bac\n",
      "文档添加内容: Another document for testing...., uuid: 81bd56e2-4ba6-4b16-8adc-27fd3023fff9\n",
      "查询结果: ['Another document for testing.', 'This is a test document.']\n",
      "删除集合 'MyCollection' 成功.\n"
     ]
    }
   ],
   "source": [
    "if __name__ == \"__main__\":\n",
    "    # 连接 Weaviate\n",
    "    client = weaviate.connect_to_local(auth_credentials=AuthApiKey(\"test-secret-key\"))\n",
    "\n",
    "    collection_name = \"MyCollection\"\n",
    "\n",
    "    # 检查集合是否存在\n",
    "    if not check_collection_exists(client, collection_name):\n",
    "        # 创建集合\n",
    "        create_collection(client, collection_name)\n",
    "\n",
    "    # 插入数据\n",
    "    documents = [\"This is a test document.\", \"Another document for testing.\"]\n",
    "    save_documents(client, collection_name, documents)\n",
    "\n",
    "    # 查询数据\n",
    "    query_results = query_vector_collection(client, collection_name, \"test\", 2)\n",
    "    print(\"查询结果:\", query_results)\n",
    "\n",
    "    # 删除集合\n",
    "    delete_collection(client, collection_name)\n",
    "\n",
    "    # 关闭连接\n",
    "    client.close()"
   ]
  }
 ],
 "metadata": {
  "kernelspec": {
   "display_name": "ipykernel-dl",
   "language": "python",
   "name": "dl"
  },
  "language_info": {
   "codemirror_mode": {
    "name": "ipython",
    "version": 3
   },
   "file_extension": ".py",
   "mimetype": "text/x-python",
   "name": "python",
   "nbconvert_exporter": "python",
   "pygments_lexer": "ipython3",
   "version": "3.12.7"
  }
 },
 "nbformat": 4,
 "nbformat_minor": 2
}

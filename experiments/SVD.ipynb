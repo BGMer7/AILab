{
 "cells": [
  {
   "cell_type": "code",
   "execution_count": 4,
   "metadata": {},
   "outputs": [],
   "source": [
    "import numpy as np\n",
    "from numpy.linalg import svd\n"
   ]
  },
  {
   "cell_type": "code",
   "execution_count": null,
   "metadata": {},
   "outputs": [
    {
     "name": "stdout",
     "output_type": "stream",
     "text": [
      "Left Singular Vectors:\n",
      "[[-0.4472136  -0.89442719]\n",
      " [-0.89442719  0.4472136 ]]\n",
      "Singular Values:\n",
      "[[6.32455532 0.        ]\n",
      " [0.         3.16227766]]\n",
      "Right Singular Vectors:\n",
      "[[-0.70710678  0.70710678]\n",
      " [-0.70710678 -0.70710678]]\n",
      "[[ 4.00000000e+00 -1.11271234e-15]\n",
      " [ 3.00000000e+00 -5.00000000e+00]]\n"
     ]
    }
   ],
   "source": [
    "# 将矩阵定义为二维numpy数组\n",
    "A = np.array([[4, 0], [3, -5]])\n",
    "\n",
    "print(\"Original Vectors:\")\n",
    "print(A)\n",
    "\n",
    "U, S, VT = svd(A)\n",
    "\n",
    "print(\"Left Singular Vectors:\")\n",
    "print(U)\n",
    "\n",
    "print(\"Singular Values:\") \n",
    "print(np.diag(S))\n",
    "\n",
    "print(\"Right Singular Vectors:\") \n",
    "print(VT)\n",
    "\n",
    "print(U @ np.diag(S) @ VT)\n"
   ]
  },
  {
   "cell_type": "code",
   "execution_count": null,
   "metadata": {},
   "outputs": [],
   "source": []
  }
 ],
 "metadata": {
  "kernelspec": {
   "display_name": "d2l",
   "language": "python",
   "name": "python3"
  },
  "language_info": {
   "codemirror_mode": {
    "name": "ipython",
    "version": 3
   },
   "file_extension": ".py",
   "mimetype": "text/x-python",
   "name": "python",
   "nbconvert_exporter": "python",
   "pygments_lexer": "ipython3",
   "version": "3.9.19"
  }
 },
 "nbformat": 4,
 "nbformat_minor": 2
}

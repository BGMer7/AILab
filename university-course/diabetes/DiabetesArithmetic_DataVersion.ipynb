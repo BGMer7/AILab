{
 "cells": [
  {
   "cell_type": "code",
   "execution_count": 3,
   "metadata": {},
   "outputs": [
    {
     "name": "stdout",
     "output_type": "stream",
     "text": [
      "Index(['Pregnancies', 'Glucose', 'BloodPressure', 'SkinThickness', 'Insulin',\n",
      "       'BMI', 'DiabetesPedigreeFunction', 'Age', 'Outcome'],\n",
      "      dtype='object')\n"
     ]
    }
   ],
   "source": [
    "#-*- coding:utf-8 -*-\n",
    "import pandas as pd\n",
    "import numpy as np\n",
    "import matplotlib.pyplot as plt\n",
    "%matplotlib inline\n",
    "diabetes=pd.read_csv('diabetes.txt')\n",
    "print(diabetes.columns)"
   ]
  },
  {
   "cell_type": "code",
   "execution_count": 4,
   "metadata": {},
   "outputs": [
    {
     "data": {
      "text/html": [
       "<div>\n",
       "<style scoped>\n",
       "    .dataframe tbody tr th:only-of-type {\n",
       "        vertical-align: middle;\n",
       "    }\n",
       "\n",
       "    .dataframe tbody tr th {\n",
       "        vertical-align: top;\n",
       "    }\n",
       "\n",
       "    .dataframe thead th {\n",
       "        text-align: right;\n",
       "    }\n",
       "</style>\n",
       "<table border=\"1\" class=\"dataframe\">\n",
       "  <thead>\n",
       "    <tr style=\"text-align: right;\">\n",
       "      <th></th>\n",
       "      <th>Pregnancies</th>\n",
       "      <th>Glucose</th>\n",
       "      <th>BloodPressure</th>\n",
       "      <th>SkinThickness</th>\n",
       "      <th>Insulin</th>\n",
       "      <th>BMI</th>\n",
       "      <th>DiabetesPedigreeFunction</th>\n",
       "      <th>Age</th>\n",
       "      <th>Outcome</th>\n",
       "    </tr>\n",
       "  </thead>\n",
       "  <tbody>\n",
       "    <tr>\n",
       "      <th>0</th>\n",
       "      <td>6</td>\n",
       "      <td>148</td>\n",
       "      <td>72</td>\n",
       "      <td>35</td>\n",
       "      <td>0</td>\n",
       "      <td>33.6</td>\n",
       "      <td>0.627</td>\n",
       "      <td>50</td>\n",
       "      <td>1</td>\n",
       "    </tr>\n",
       "    <tr>\n",
       "      <th>1</th>\n",
       "      <td>1</td>\n",
       "      <td>85</td>\n",
       "      <td>66</td>\n",
       "      <td>29</td>\n",
       "      <td>0</td>\n",
       "      <td>26.6</td>\n",
       "      <td>0.351</td>\n",
       "      <td>31</td>\n",
       "      <td>0</td>\n",
       "    </tr>\n",
       "    <tr>\n",
       "      <th>2</th>\n",
       "      <td>8</td>\n",
       "      <td>183</td>\n",
       "      <td>64</td>\n",
       "      <td>0</td>\n",
       "      <td>0</td>\n",
       "      <td>23.3</td>\n",
       "      <td>0.672</td>\n",
       "      <td>32</td>\n",
       "      <td>1</td>\n",
       "    </tr>\n",
       "    <tr>\n",
       "      <th>3</th>\n",
       "      <td>1</td>\n",
       "      <td>89</td>\n",
       "      <td>66</td>\n",
       "      <td>23</td>\n",
       "      <td>94</td>\n",
       "      <td>28.1</td>\n",
       "      <td>0.167</td>\n",
       "      <td>21</td>\n",
       "      <td>0</td>\n",
       "    </tr>\n",
       "    <tr>\n",
       "      <th>4</th>\n",
       "      <td>0</td>\n",
       "      <td>137</td>\n",
       "      <td>40</td>\n",
       "      <td>35</td>\n",
       "      <td>168</td>\n",
       "      <td>43.1</td>\n",
       "      <td>2.288</td>\n",
       "      <td>33</td>\n",
       "      <td>1</td>\n",
       "    </tr>\n",
       "  </tbody>\n",
       "</table>\n",
       "</div>"
      ],
      "text/plain": [
       "   Pregnancies  Glucose  BloodPressure  SkinThickness  Insulin   BMI  \\\n",
       "0            6      148             72             35        0  33.6   \n",
       "1            1       85             66             29        0  26.6   \n",
       "2            8      183             64              0        0  23.3   \n",
       "3            1       89             66             23       94  28.1   \n",
       "4            0      137             40             35      168  43.1   \n",
       "\n",
       "   DiabetesPedigreeFunction  Age  Outcome  \n",
       "0                     0.627   50        1  \n",
       "1                     0.351   31        0  \n",
       "2                     0.672   32        1  \n",
       "3                     0.167   21        0  \n",
       "4                     2.288   33        1  "
      ]
     },
     "execution_count": 4,
     "metadata": {},
     "output_type": "execute_result"
    }
   ],
   "source": [
    "#默认5行\n",
    "diabetes.head()"
   ]
  },
  {
   "cell_type": "code",
   "execution_count": 5,
   "metadata": {},
   "outputs": [
    {
     "name": "stdout",
     "output_type": "stream",
     "text": [
      "Outcome\n",
      "0    500\n",
      "1    268\n",
      "dtype: int64\n"
     ]
    }
   ],
   "source": [
    "#“结果”是我们将要预测的特征，0意味着未患糖尿病，1意味着患有糖尿病。在768个数据点中，500个被标记为0,268个标记为1。\n",
    "print(diabetes.groupby('Outcome').size())"
   ]
  },
  {
   "cell_type": "code",
   "execution_count": 6,
   "metadata": {},
   "outputs": [
    {
     "name": "stdout",
     "output_type": "stream",
     "text": [
      "dimennsion of diabetes data:(768, 9)\n"
     ]
    }
   ],
   "source": [
    "#显示数据的维度\n",
    "print(\"dimennsion of diabetes data:{}\".format(diabetes.shape))"
   ]
  },
  {
   "cell_type": "code",
   "execution_count": 7,
   "metadata": {},
   "outputs": [
    {
     "data": {
      "text/plain": [
       "Outcome\n",
       "0    [[AxesSubplot(0.125,0.670278;0.215278x0.209722...\n",
       "1    [[AxesSubplot(0.125,0.670278;0.215278x0.209722...\n",
       "dtype: object"
      ]
     },
     "execution_count": 7,
     "metadata": {},
     "output_type": "execute_result"
    },
    {
     "data": {
      "image/png": "[encoded data removed]",
      "text/plain": [
       "<Figure size 648x648 with 9 Axes>"
      ]
     },
     "metadata": {
      "needs_background": "light"
     },
     "output_type": "display_data"
    },
    {
     "data": {
      "image/png": "[encoded data removed]",
      "text/plain": [
       "<Figure size 648x648 with 9 Axes>"
      ]
     },
     "metadata": {
      "needs_background": "light"
     },
     "output_type": "display_data"
    }
   ],
   "source": [
    "diabetes.groupby('Outcome').hist(figsize=(9, 9))"
   ]
  },
  {
   "cell_type": "code",
   "execution_count": 8,
   "metadata": {},
   "outputs": [
    {
     "name": "stdout",
     "output_type": "stream",
     "text": [
      "                          Pregnancies   Glucose  BloodPressure  SkinThickness  \\\n",
      "Pregnancies                  1.000000  0.129459       0.141282      -0.081672   \n",
      "Glucose                      0.129459  1.000000       0.152590       0.057328   \n",
      "BloodPressure                0.141282  0.152590       1.000000       0.207371   \n",
      "SkinThickness               -0.081672  0.057328       0.207371       1.000000   \n",
      "Insulin                     -0.073535  0.331357       0.088933       0.436783   \n",
      "BMI                          0.017683  0.221071       0.281805       0.392573   \n",
      "DiabetesPedigreeFunction    -0.033523  0.137337       0.041265       0.183928   \n",
      "Age                          0.544341  0.263514       0.239528      -0.113970   \n",
      "Outcome                      0.221898  0.466581       0.065068       0.074752   \n",
      "\n",
      "                           Insulin       BMI  DiabetesPedigreeFunction  \\\n",
      "Pregnancies              -0.073535  0.017683                 -0.033523   \n",
      "Glucose                   0.331357  0.221071                  0.137337   \n",
      "BloodPressure             0.088933  0.281805                  0.041265   \n",
      "SkinThickness             0.436783  0.392573                  0.183928   \n",
      "Insulin                   1.000000  0.197859                  0.185071   \n",
      "BMI                       0.197859  1.000000                  0.140647   \n",
      "DiabetesPedigreeFunction  0.185071  0.140647                  1.000000   \n",
      "Age                      -0.042163  0.036242                  0.033561   \n",
      "Outcome                   0.130548  0.292695                  0.173844   \n",
      "\n",
      "                               Age   Outcome  \n",
      "Pregnancies               0.544341  0.221898  \n",
      "Glucose                   0.263514  0.466581  \n",
      "BloodPressure             0.239528  0.065068  \n",
      "SkinThickness            -0.113970  0.074752  \n",
      "Insulin                  -0.042163  0.130548  \n",
      "BMI                       0.036242  0.292695  \n",
      "DiabetesPedigreeFunction  0.033561  0.173844  \n",
      "Age                       1.000000  0.238356  \n",
      "Outcome                   0.238356  1.000000  \n"
     ]
    },
    {
     "data": {
      "text/plain": [
       "<matplotlib.axes._subplots.AxesSubplot at 0x15940090>"
      ]
     },
     "execution_count": 8,
     "metadata": {},
     "output_type": "execute_result"
    },
    {
     "data": {
      "image/png": "[encoded data removed]",
      "text/plain": [
       "<Figure size 432x288 with 2 Axes>"
      ]
     },
     "metadata": {
      "needs_background": "light"
     },
     "output_type": "display_data"
    }
   ],
   "source": [
    "import seaborn as sns\n",
    "corr = diabetes.corr()\n",
    "print(corr)\n",
    "sns.heatmap(corr, \n",
    "         xticklabels=corr.columns, \n",
    "         yticklabels=corr.columns)"
   ]
  },
  {
   "cell_type": "code",
   "execution_count": 9,
   "metadata": {},
   "outputs": [
    {
     "data": {
      "text/plain": [
       "<matplotlib.axes._subplots.AxesSubplot at 0x159b0f50>"
      ]
     },
     "execution_count": 9,
     "metadata": {},
     "output_type": "execute_result"
    },
    {
     "data": {
      "image/png": "[encoded data removed]",
      "text/plain": [
       "<Figure size 432x288 with 1 Axes>"
      ]
     },
     "metadata": {
      "needs_background": "light"
     },
     "output_type": "display_data"
    }
   ],
   "source": [
    "sns.countplot(diabetes['Outcome'],label=\"Count\")"
   ]
  },
  {
   "cell_type": "code",
   "execution_count": 10,
   "metadata": {},
   "outputs": [
    {
     "name": "stdout",
     "output_type": "stream",
     "text": [
      "<class 'pandas.core.frame.DataFrame'>\n",
      "RangeIndex: 768 entries, 0 to 767\n",
      "Data columns (total 9 columns):\n",
      "Pregnancies                 768 non-null int64\n",
      "Glucose                     768 non-null int64\n",
      "BloodPressure               768 non-null int64\n",
      "SkinThickness               768 non-null int64\n",
      "Insulin                     768 non-null int64\n",
      "BMI                         768 non-null float64\n",
      "DiabetesPedigreeFunction    768 non-null float64\n",
      "Age                         768 non-null int64\n",
      "Outcome                     768 non-null int64\n",
      "dtypes: float64(2), int64(7)\n",
      "memory usage: 54.0 KB\n"
     ]
    }
   ],
   "source": [
    "diabetes.info()"
   ]
  },
  {
   "cell_type": "code",
   "execution_count": 11,
   "metadata": {},
   "outputs": [
    {
     "name": "stdout",
     "output_type": "stream",
     "text": [
      "Blood pressure\n",
      "Total :  35\n",
      "Outcome\n",
      "0    19\n",
      "1    16\n",
      "Name: Age, dtype: int64\n",
      "\n",
      "\n",
      "Plasma glucose levels\n",
      "Total :  5\n",
      "Outcome\n",
      "0    3\n",
      "1    2\n",
      "Name: Age, dtype: int64\n",
      "\n",
      "\n",
      "Skin Fold Thickness\n",
      "Total :  227\n",
      "Outcome\n",
      "0    139\n",
      "1     88\n",
      "Name: Age, dtype: int64\n",
      "\n",
      "\n",
      "BMI\n",
      "Total :  11\n",
      "Outcome\n",
      "0    9\n",
      "1    2\n",
      "Name: Age, dtype: int64\n",
      "\n",
      "\n",
      "Insulin\n",
      "Total :  374\n",
      "Outcome\n",
      "0    236\n",
      "1    138\n",
      "Name: Age, dtype: int64\n",
      "\n",
      "\n"
     ]
    }
   ],
   "source": [
    "#血压（Blood pressure）:通过分析数据，我们发现有些血压值为0。很明显，一个正常人的血压不可能为0，所以这些数据是错误的。\n",
    "print(\"Blood pressure\")\n",
    "print(\"Total : \", diabetes[diabetes.BloodPressure == 0].shape[0])\n",
    "print(diabetes[diabetes.BloodPressure == 0].groupby('Outcome')['Age'].count())\n",
    "print(\"\\n\")\n",
    "\n",
    "#血糖水平（Plasma glucose levels）: 同样，人的血糖水平也不可能降至0，所以数据集中有5列血糖值异常。\n",
    "print(\"Plasma glucose levels\")\n",
    "print(\"Total : \", diabetes[diabetes.Glucose == 0].shape[0])\n",
    "print(diabetes[diabetes.Glucose == 0].groupby('Outcome')['Age'].count())\n",
    "print(\"\\n\")\n",
    "\n",
    "#皮褶厚度（Skin Fold Thickness）: 正常人的皮褶厚度一般不会小于10mm，可以发现该参数共出现227次0值。\n",
    "print(\"Skin Fold Thickness\")\n",
    "print(\"Total : \", diabetes[diabetes.SkinThickness == 0].shape[0])\n",
    "print(diabetes[diabetes.SkinThickness == 0].groupby('Outcome')['Age'].count())\n",
    "print(\"\\n\")\n",
    "\n",
    "#身体质量指数（BMI）: 除非一个人体重降低到威胁生命的地步，否则BMI值不为0或者接近0。\n",
    "print(\"BMI\")\n",
    "print(\"Total : \", diabetes[diabetes.BMI == 0].shape[0])\n",
    "print(diabetes[diabetes.BMI == 0].groupby('Outcome')['Age'].count())\n",
    "print(\"\\n\")\n",
    "\n",
    "#胰岛素（Insulin）: 在极特殊的情况下，人体胰岛素值才会降低到0，而我们发现共有374项数据的胰岛素值出现0值，这显然是不正常的。\n",
    "print(\"Insulin\")\n",
    "print(\"Total : \", diabetes[diabetes.Insulin == 0].shape[0])\n",
    "print(diabetes[diabetes.Insulin == 0].groupby('Outcome')['Age'].count())\n",
    "print(\"\\n\")\n"
   ]
  },
  {
   "cell_type": "code",
   "execution_count": 12,
   "metadata": {},
   "outputs": [
    {
     "name": "stdout",
     "output_type": "stream",
     "text": [
      "(724, 9)\n"
     ]
    }
   ],
   "source": [
    "diabetes_mod = diabetes[(diabetes.BloodPressure != 0) & (diabetes.BMI != 0) & (diabetes.Glucose != 0)]\n",
    "print(diabetes_mod.shape)"
   ]
  },
  {
   "cell_type": "code",
   "execution_count": 13,
   "metadata": {},
   "outputs": [
    {
     "name": "stdout",
     "output_type": "stream",
     "text": [
      "(433, 8)\n",
      "(289, 8)\n",
      "(433, 1)\n",
      "(289, 1)\n"
     ]
    }
   ],
   "source": [
    "#划分数据集和测试集\n",
    "#选取前433行，1-8列  作训练集\n",
    "x_train=diabetes_mod.iloc[0:433, 0:8]\n",
    "#选取前433行，第9列  作训练集\n",
    "y_train=diabetes_mod.iloc[0:433, 8:9]\n",
    "#选取434-723行，1-8列 作测试集\n",
    "x_test=diabetes_mod.iloc[434:723, 0:8]\n",
    "#选取434-723行，第9列 作测试集\n",
    "y_test=diabetes_mod.iloc[434:723, 8:9]\n",
    "print(x_train.shape)\n",
    "print(x_test.shape)\n",
    "print(y_train.shape)\n",
    "print(y_test.shape)"
   ]
  },
  {
   "cell_type": "code",
   "execution_count": 14,
   "metadata": {},
   "outputs": [
    {
     "data": {
      "image/png": "[encoded data removed]",
      "text/plain": [
       "<Figure size 432x288 with 1 Axes>"
      ]
     },
     "metadata": {
      "needs_background": "light"
     },
     "output_type": "display_data"
    }
   ],
   "source": [
    "#首先用knn研究一下是否能够确认模型的复杂度和精确度之间的关系\n",
    "from sklearn.neighbors import KNeighborsClassifier\n",
    "training_accuracy=[]\n",
    "test_accuracy=[]\n",
    "#try n_neighbors from 1 to 10\n",
    "neighbors_settings=range(1,20)\n",
    " \n",
    "for n_neighbors in neighbors_settings:\n",
    "    #build the model\n",
    "    knn=KNeighborsClassifier(n_neighbors=n_neighbors)\n",
    "    knn.fit(x_train, y_train.values.ravel())\n",
    "    #record training set accuracy\n",
    "    training_accuracy.append(knn.score(x_train,y_train))\n",
    "    #record test set accuracy\n",
    "    test_accuracy.append(knn.score(x_test,y_test))\n",
    "plt.plot(neighbors_settings,training_accuracy,label=\"training accuracy\")\n",
    "plt.plot(neighbors_settings,test_accuracy,label=\"test accuracy\")\n",
    "plt.ylabel(\"Accuracy\")\n",
    "plt.xlabel(\"n_neighbors\")\n",
    "plt.legend()\n",
    "plt.savefig('knn_compare_model')"
   ]
  },
  {
   "cell_type": "code",
   "execution_count": 15,
   "metadata": {},
   "outputs": [
    {
     "name": "stdout",
     "output_type": "stream",
     "text": [
      "0.7483\n",
      "0.7924\n"
     ]
    }
   ],
   "source": [
    "n_neighbors=15\n",
    "knn=KNeighborsClassifier(n_neighbors=n_neighbors)\n",
    "knn.fit(x_train, y_train.values.ravel())\n",
    "print(round(knn.score(x_train,y_train),4))\n",
    "print(round(knn.score(x_test,y_test),4))\n"
   ]
  },
  {
   "cell_type": "code",
   "execution_count": 16,
   "metadata": {
    "scrolled": true
   },
   "outputs": [
    {
     "name": "stdout",
     "output_type": "stream",
     "text": [
      "Training set score:0.7483\n",
      "Test set score:0.8062\n"
     ]
    },
    {
     "name": "stderr",
     "output_type": "stream",
     "text": [
      "c:\\users\\caijinyang\\appdata\\local\\programs\\python\\python37-32\\lib\\site-packages\\sklearn\\linear_model\\logistic.py:433: FutureWarning: Default solver will be changed to 'lbfgs' in 0.22. Specify a solver to silence this warning.\n",
      "  FutureWarning)\n"
     ]
    }
   ],
   "source": [
    "#逻辑回归算法\n",
    "\n",
    "from sklearn.linear_model import LogisticRegression\n",
    "LogisticRegression(multi_class=\"multinomial\", solver=\"newton-cg\")\n",
    "#x_train,x_test,y_train,y_test = train_test_split(X,Y,train_size= 0.8,test_size=0.2,random_state=28)\n",
    "logreg=LogisticRegression().fit(x_train,y_train.values.ravel())\n",
    "print(\"Training set score:{:.4f}\".format(logreg.score(x_train, y_train)))#精确到小数点后三位\n",
    "print(\"Test set score:{:.4f}\".format(logreg.score(x_test,y_test)))"
   ]
  },
  {
   "cell_type": "code",
   "execution_count": 17,
   "metadata": {},
   "outputs": [
    {
     "name": "stdout",
     "output_type": "stream",
     "text": [
      "Training set accuracy:0.7621\n",
      "Test set accuracy:0.8131\n"
     ]
    },
    {
     "name": "stderr",
     "output_type": "stream",
     "text": [
      "c:\\users\\caijinyang\\appdata\\local\\programs\\python\\python37-32\\lib\\site-packages\\sklearn\\linear_model\\logistic.py:433: FutureWarning: Default solver will be changed to 'lbfgs' in 0.22. Specify a solver to silence this warning.\n",
      "  FutureWarning)\n"
     ]
    }
   ],
   "source": [
    "#而将正则化参数C设置为100时，模型在训练集上准确度稍有提高但测试集上准确度略降，\n",
    "#说明较少正则化和更复杂的模型并不一定会比默认参数模型的预测效果更好。\n",
    "#所以我们选择默认值C=1\n",
    "logreg100=LogisticRegression(C=100).fit(x_train,y_train.values.ravel())\n",
    "print(\"Training set accuracy:{:.4f}\".format(logreg100.score(x_train,y_train)))\n",
    "print(\"Test set accuracy:{:.4f}\".format(logreg100.score(x_test, y_test)))\n",
    "\n"
   ]
  },
  {
   "cell_type": "code",
   "execution_count": 18,
   "metadata": {},
   "outputs": [
    {
     "data": {
      "image/png": "[encoded data removed]",
      "text/plain": [
       "<Figure size 576x432 with 1 Axes>"
      ]
     },
     "metadata": {
      "needs_background": "light"
     },
     "output_type": "display_data"
    }
   ],
   "source": [
    "#用可视化的方式来看一下用三种不同正则化参数C所得模型的系数。\n",
    "#更强的正则化(C = 0.001)会使系数越来越接近于零。仔细地看图，\n",
    "#我们还能发现特征“DiabetesPedigreeFunction”（糖尿病遗传函数）在 C=100, C=1 和C=0.001的情况下, 系数都为正。\n",
    "#这表明无论是哪个模型，DiabetesPedigreeFunction（糖尿病遗传函数）这个特征值都与样本为糖尿病是正相关的。\n",
    "diabetes_features=[x for i,x in enumerate(diabetes. columns) if i!=8]\n",
    "plt. figure(figsize=(8,6))\n",
    "plt. plot(logreg. coef_.T,'o', label=\"C=1\")\n",
    "plt. plot(logreg100.coef_.T,'^', label=\"C=100\")\n",
    "plt. plot(logreg100.coef_.T,'v', label=\"C=0.001\")\n",
    "plt. xticks(range(diabetes. shape[1]), diabetes_features, rotation=90)\n",
    "plt. hlines(0,0, diabetes. shape[1])\n",
    "plt. ylim(-5,5)\n",
    "plt. xlabel(\"Feature\")\n",
    "plt. ylabel(\"Coefficient magnitude\")\n",
    "plt. legend()\n",
    "plt. savefig('1og_coef')\n",
    "\n",
    "\n"
   ]
  },
  {
   "cell_type": "code",
   "execution_count": 19,
   "metadata": {},
   "outputs": [
    {
     "name": "stdout",
     "output_type": "stream",
     "text": [
      "Accuracy on training set:1.0000\n",
      "Accuracy on test set:0.7612\n"
     ]
    }
   ],
   "source": [
    "#决策树算法\n",
    "from sklearn.tree import DecisionTreeClassifier \n",
    "tree=DecisionTreeClassifier(random_state=0)\n",
    "tree.fit(x_train,y_train)\n",
    "print(\"Accuracy on training set:{:.4f}\".format(tree. score(x_train, y_train)))\n",
    "print(\"Accuracy on test set:{:.4f}\".format(tree. score(x_test, y_test)))"
   ]
  },
  {
   "cell_type": "code",
   "execution_count": 20,
   "metadata": {},
   "outputs": [
    {
     "name": "stdout",
     "output_type": "stream",
     "text": [
      "Accuracy on training set:0.7436\n",
      "Accuracy on test set:0.7612\n"
     ]
    }
   ],
   "source": [
    "#训练集的准确度可以高达100%，而测试集的准确度相对就差了很多。这表明决策树是过度拟合的，不能对新数据产生好的效果。\n",
    "#因此，我们需要对树进行预剪枝。\n",
    "#我们设置max_depth=3，限制树的深度以减少过拟合。这会使训练集的准确度降低，但测试集准确度提高。\n",
    "tree=DecisionTreeClassifier(max_depth=3, random_state=0)\n",
    "tree.fit(x_train,y_train)\n",
    "print(\"Accuracy on training set:{:.4f}\".format(tree.score(x_train, y_train)))\n",
    "print(\"Accuracy on test set:{:.4f}\".format(tree.score(x_test, y_test)))"
   ]
  },
  {
   "cell_type": "code",
   "execution_count": 21,
   "metadata": {},
   "outputs": [
    {
     "name": "stdout",
     "output_type": "stream",
     "text": [
      "Feature importances:\n",
      "[0.         0.66929731 0.         0.         0.05142312 0.18103196\n",
      " 0.05479787 0.04344974]\n"
     ]
    }
   ],
   "source": [
    "#决策树中特征重要度, 决策树中的特征重要度是用来衡量每个特征对于预测结果的重要性的。\n",
    "#对每个特征有一个从0到1的打分，0表示“一点也没用”，1表示“完美预测”。各特征的重要度加和一定是为1的。\n",
    "print(\"Feature importances:\\n{}\".format(tree. feature_importances_))"
   ]
  },
  {
   "cell_type": "code",
   "execution_count": 22,
   "metadata": {},
   "outputs": [
    {
     "data": {
      "image/png": "[encoded data removed]",
      "text/plain": [
       "<Figure size 576x432 with 1 Axes>"
      ]
     },
     "metadata": {
      "needs_background": "light"
     },
     "output_type": "display_data"
    }
   ],
   "source": [
    "#可视化特征重要度，可以从图中看出，血糖是最重要的特征\n",
    "#diabetes_features=[x for i,x in enumerate(diabetes.columns) if i!=8]\n",
    "def plot_feature_importances_diabetes(model):\n",
    "    plt.figure(figsize=(8,6))\n",
    "    n_features = 8\n",
    "    plt.barh(range(n_features), model.feature_importances_,align ='center')\n",
    "    #plt.barh(range(n_features), model.feature_importances_,align='center')\n",
    "    plt.yticks(np.arange(n_features), diabetes_features)\n",
    "    plt.xlabel(\"Feature importance\")\n",
    "    plt.ylabel(\"Feature\")\n",
    "    plt.ylim(-1,n_features)\n",
    "plot_feature_importances_diabetes(tree)\n",
    "plt. savefig(' feature_importance')"
   ]
  },
  {
   "cell_type": "code",
   "execution_count": 23,
   "metadata": {},
   "outputs": [
    {
     "name": "stdout",
     "output_type": "stream",
     "text": [
      "Accuracy on training set:1.0000\n",
      "Accuracy on test set:0.8131\n"
     ]
    }
   ],
   "source": [
    "#再用随机森林算法进行研究\n",
    "from sklearn. ensemble import RandomForestClassifier \n",
    "rf=RandomForestClassifier(n_estimators=100, random_state=0)\n",
    "rf.fit(x_train,y_train.values.ravel())\n",
    "print(\"Accuracy on training set:{:.4f}\".format(rf.score(x_train, y_train)))\n",
    "print(\"Accuracy on test set:{:.4f}\".format(rf.score(x_test, y_test)))"
   ]
  },
  {
   "cell_type": "code",
   "execution_count": 24,
   "metadata": {},
   "outputs": [
    {
     "name": "stdout",
     "output_type": "stream",
     "text": [
      "Accuracy on training set:0.7968\n",
      "Accuracy on test set:0.7820\n"
     ]
    }
   ],
   "source": [
    "#没有更改任何参数的随机森林比逻辑回归和单一决策树的预测效果更好。\n",
    "#再试试调整max_features设置，看看效果是否能够提高。\n",
    "#可以看到结果并没有提高，这表明默认参数的随机森林在这里效果很好。\n",
    "rf1=RandomForestClassifier(max_depth=3,n_estimators=100, random_state=0)\n",
    "rf1. fit(x_train,y_train.values.ravel())\n",
    "print(\"Accuracy on training set:{:.4f}\". format(rf1. score(x_train, y_train)))\n",
    "print(\"Accuracy on test set:{:.4f}\". format(rf1. score(x_test, y_test)))"
   ]
  },
  {
   "cell_type": "code",
   "execution_count": 25,
   "metadata": {},
   "outputs": [
    {
     "data": {
      "image/png": "[encoded data removed]",
      "text/plain": [
       "<Figure size 576x432 with 1 Axes>"
      ]
     },
     "metadata": {
      "needs_background": "light"
     },
     "output_type": "display_data"
    }
   ],
   "source": [
    "#随机森林的特征重要度：\n",
    "#与单一决策树相似，随机森林的结果仍然显示特征“血糖”的重要度最高，\n",
    "#但是它也同样显示“BMI（身体质量指数）”在整体中是第二重要的信息特征。\n",
    "#随机森林的随机性促使算法考虑了更多可能的解释，这就导致随机森林捕获的数据比单一树要大得多。\n",
    "plot_feature_importances_diabetes(rf1)"
   ]
  },
  {
   "cell_type": "code",
   "execution_count": 27,
   "metadata": {},
   "outputs": [
    {
     "name": "stdout",
     "output_type": "stream",
     "text": [
      "Accuracy on training set:0.7113\n",
      "Accuracy on test set:0.6990\n"
     ]
    }
   ],
   "source": [
    "#深度学习算法\n",
    "#从结果中我们可以看到，多层神经网络（MLP）的预测准确度并不如其他模型表现的好，这可能是数据的尺度不同造成的。\n",
    "\n",
    "from sklearn.neural_network import MLPClassifier \n",
    "mlp=MLPClassifier(random_state=42)\n",
    "mlp.fit(x_train,y_train.values.ravel())\n",
    "print(\"Accuracy on training set:{:.4f}\". format(mlp. score(x_train, y_train)))\n",
    "print(\"Accuracy on test set:{:.4f}\". format(mlp. score(x_test, y_test)))\n",
    "\n",
    "\n"
   ]
  },
  {
   "cell_type": "code",
   "execution_count": 28,
   "metadata": {
    "scrolled": true
   },
   "outputs": [
    {
     "name": "stderr",
     "output_type": "stream",
     "text": [
      "c:\\users\\caijinyang\\appdata\\local\\programs\\python\\python37-32\\lib\\site-packages\\sklearn\\preprocessing\\data.py:645: DataConversionWarning: Data with input dtype int64, float64 were all converted to float64 by StandardScaler.\n",
      "  return self.partial_fit(X, y)\n",
      "c:\\users\\caijinyang\\appdata\\local\\programs\\python\\python37-32\\lib\\site-packages\\sklearn\\base.py:464: DataConversionWarning: Data with input dtype int64, float64 were all converted to float64 by StandardScaler.\n",
      "  return self.fit(X, **fit_params).transform(X)\n",
      "c:\\users\\caijinyang\\appdata\\local\\programs\\python\\python37-32\\lib\\site-packages\\sklearn\\preprocessing\\data.py:645: DataConversionWarning: Data with input dtype int64, float64 were all converted to float64 by StandardScaler.\n",
      "  return self.partial_fit(X, y)\n",
      "c:\\users\\caijinyang\\appdata\\local\\programs\\python\\python37-32\\lib\\site-packages\\sklearn\\base.py:464: DataConversionWarning: Data with input dtype int64, float64 were all converted to float64 by StandardScaler.\n",
      "  return self.fit(X, **fit_params).transform(X)\n"
     ]
    },
    {
     "name": "stdout",
     "output_type": "stream",
     "text": [
      "Accuracy on training set:0.8106\n",
      "Accuracy on test set:0.7993\n"
     ]
    },
    {
     "name": "stderr",
     "output_type": "stream",
     "text": [
      "c:\\users\\caijinyang\\appdata\\local\\programs\\python\\python37-32\\lib\\site-packages\\sklearn\\neural_network\\multilayer_perceptron.py:562: ConvergenceWarning: Stochastic Optimizer: Maximum iterations (200) reached and the optimization hasn't converged yet.\n",
      "  % self.max_iter, ConvergenceWarning)\n"
     ]
    }
   ],
   "source": [
    "#深度学习算法同样也希望所有输入的特征在同一尺度范围内变化。\n",
    "#理想情况下，是均值为0，方差为1。所以，我们必须重新标准化我们的数据，以便能够满足这些需求。\n",
    "from sklearn.preprocessing import StandardScaler \n",
    "scaler=StandardScaler()\n",
    "\n",
    "x_train_scaled=scaler.fit_transform(x_train)\n",
    "x_test_scaled=scaler.fit_transform(x_test)\n",
    "x_train_scaled=x_train_scaled.astype(np.float64)\n",
    "x_test_scaled=x_test_scaled.astype(np.float64)\n",
    "mlp=MLPClassifier(random_state=0)\n",
    "mlp.fit(x_train_scaled,y_train.values.ravel())\n",
    "print(\"Accuracy on training set:{:.4f}\".format(mlp.score(x_train_scaled,y_train)))\n",
    "print(\"Accuracy on test set:{:.4f}\".format(mlp. score(x_test_scaled, y_test)))\n",
    "\n"
   ]
  },
  {
   "cell_type": "code",
   "execution_count": 29,
   "metadata": {
    "scrolled": true
   },
   "outputs": [
    {
     "name": "stdout",
     "output_type": "stream",
     "text": [
      "Accuracy on training set:0.9792\n",
      "Accuracy on test set:0.7682\n"
     ]
    }
   ],
   "source": [
    "#增加迭代次数：\n",
    "#从结果可以发现，增加迭代次数仅仅提升了训练集的性能，而对测试集没有效果。\n",
    "#max_iter=1000\n",
    "mlp=MLPClassifier(max_iter=10000, random_state=0)\n",
    "mlp.fit(x_train_scaled,y_train.values.ravel())\n",
    "print(\"Accuracy on training set:{:.4f}\". format(mlp.score(x_train_scaled,y_train)))\n",
    "print(\"Accuracy on test set:{:.4f}\". format(mlp. score(x_test_scaled, y_test)))"
   ]
  },
  {
   "cell_type": "code",
   "execution_count": 30,
   "metadata": {},
   "outputs": [
    {
     "name": "stdout",
     "output_type": "stream",
     "text": [
      "Accuracy on training set:0.7806\n",
      "Accuracy on test set:0.8166\n"
     ]
    }
   ],
   "source": [
    "#使用调高alpha参数并且加强权重的正则化的方法。\n",
    "#从运行结果来看，这个结果是好的，但我们无法更进一步提升测试集准确度。\n",
    "from sklearn.neural_network import MLPClassifier\n",
    "mlp=MLPClassifier(max_iter=10000, alpha=1, random_state=0)\n",
    "mlp.fit(x_train_scaled,y_train.values.ravel())\n",
    "print(\"Accuracy on training set:{:.4f}\".format(mlp.score(x_train_scaled,y_train)))\n",
    "print(\"Accuracy on test set:{:.4f}\".format(mlp.score(x_test_scaled, y_test)))\n"
   ]
  },
  {
   "cell_type": "markdown",
   "metadata": {},
   "source": [
    "结论：因此，到目前为止我们最好的模型是在数据标准化后的默认参数深度学习模型。"
   ]
  },
  {
   "cell_type": "code",
   "execution_count": 31,
   "metadata": {},
   "outputs": [
    {
     "data": {
      "text/plain": [
       "<matplotlib.colorbar.Colorbar at 0x166ad9d0>"
      ]
     },
     "execution_count": 31,
     "metadata": {},
     "output_type": "execute_result"
    },
    {
     "data": {
      "image/png": "[encoded data removed]",
      "text/plain": [
       "<Figure size 1440x360 with 2 Axes>"
      ]
     },
     "metadata": {
      "needs_background": "light"
     },
     "output_type": "display_data"
    }
   ],
   "source": [
    "#一个在糖尿病数据集上学习的神经网络的第一层权重热图。\n",
    "#热度图中，快速指出哪个或哪些特征的权重较高或较低是不容易的。\n",
    "plt. figure(figsize=(20,5))\n",
    "#plt. imshow(mlp.coefs_[0], interpolation=' none', cmap='viridis')\n",
    "plt.imshow(mlp.coefs_[0],interpolation='none',cmap='viridis')\n",
    "plt.yticks(range(8), diabetes_features)\n",
    "plt.xlabel(\"Columns in weight matrix\")\n",
    "plt.ylabel(\"Input feature\")\n",
    "plt.colorbar()"
   ]
  }
 ],
 "metadata": {
  "kernelspec": {
   "display_name": "Python 3",
   "language": "python",
   "name": "python3"
  },
  "language_info": {
   "codemirror_mode": {
    "name": "ipython",
    "version": 3
   },
   "file_extension": ".py",
   "mimetype": "text/x-python",
   "name": "python",
   "nbconvert_exporter": "python",
   "pygments_lexer": "ipython3",
   "version": "3.7.2"
  }
 },
 "nbformat": 4,
 "nbformat_minor": 2
}

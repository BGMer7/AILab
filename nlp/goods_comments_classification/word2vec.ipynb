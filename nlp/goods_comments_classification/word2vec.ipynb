{
 "cells": [
  {
   "cell_type": "code",
   "execution_count": null,
   "id": "fb42836c",
   "metadata": {},
   "outputs": [],
   "source": [
    "import gensim\n",
    "from gensim.models import Word2Vec\n",
    "from sklearn.model_selection import train_test_split\n",
    "from sklearn.linear_model import LogisticRegression\n",
    "from sklearn.metrics import accuracy_score\n",
    "import numpy as np"
   ]
  },
  {
   "cell_type": "code",
   "execution_count": null,
   "id": "5cd940da",
   "metadata": {},
   "outputs": [],
   "source": [
    "# 假设有一些商品评论数据，X 是评论文本，y 是对应的类别（好评/差评）\n",
    "X = [\n",
    "    \"这个商品非常好，值得推荐！\", \n",
    "    \"质量很差，不值得购买。\", \n",
    "    \"很喜欢这个商品，已经买了好几次了。\"\n",
    "]\n",
    "y = [\n",
    "    \"好评\",\n",
    "    \"差评\",\n",
    "    \"好评\"\n",
    "]"
   ]
  },
  {
   "cell_type": "code",
   "execution_count": null,
   "id": "cea3e602",
   "metadata": {},
   "outputs": [],
   "source": [
    "# 分割训练集和测试集\n",
    "X_train, X_test, y_train, y_test = train_test_split(X, y, random_state=42)"
   ]
  },
  {
   "cell_type": "code",
   "execution_count": null,
   "id": "006f9b80",
   "metadata": {},
   "outputs": [],
   "source": [
    "# 构建词向量模型\n",
    "sentences = [text.split() for text in X_train]\n",
    "word2vec_model = Word2Vec(sentences, vector_size=100, window=5, min_count=1, sg=1)"
   ]
  },
  {
   "cell_type": "code",
   "execution_count": null,
   "id": "00668220",
   "metadata": {},
   "outputs": [],
   "source": [
    "# 计算文本向量\n",
    "def average_vector(text, model):\n",
    "    vectors = [model.wv[word] for word in text if word in model.wv]\n",
    "    if vectors:\n",
    "        return np.mean(vectors, axis=0)\n",
    "    else:\n",
    "        return np.zeros(model.vector_size)\n",
    "\n",
    "X_train_vec = np.array([average_vector(text.split(), word2vec_model) for text in X_train])\n",
    "X_test_vec = np.array([average_vector(text.split(), word2vec_model) for text in X_test])"
   ]
  },
  {
   "cell_type": "code",
   "execution_count": null,
   "id": "f29e9764",
   "metadata": {},
   "outputs": [],
   "source": [
    "# 训练分类器\n",
    "clf = LogisticRegression()\n",
    "clf.fit(X_train_vec, y_train)"
   ]
  },
  {
   "cell_type": "code",
   "execution_count": null,
   "id": "11d2e7c1",
   "metadata": {},
   "outputs": [],
   "source": [
    "# 预测测试集\n",
    "y_pred = clf.predict(X_test_vec)"
   ]
  },
  {
   "cell_type": "code",
   "execution_count": null,
   "id": "99bb3821",
   "metadata": {},
   "outputs": [],
   "source": [
    "# 计算准确率\n",
    "accuracy = accuracy_score(y_test, y_pred)\n",
    "print(\"准确率:\", accuracy)"
   ]
  },
  {
   "cell_type": "code",
   "execution_count": null,
   "id": "c36e057c",
   "metadata": {},
   "outputs": [],
   "source": [
    "# 预测新的评论\n",
    "new_comments = [\"这个商品真的很不错！\", \"太差了，不会再买了。\"]\n",
    "new_comments_vec = np.array([average_vector(text.split(), word2vec_model) for text in new_comments])\n",
    "predicted_labels = clf.predict(new_comments_vec)\n",
    "print(\"新评论的预测类别:\", predicted_labels)"
   ]
  }
 ],
 "metadata": {
  "kernelspec": {
   "display_name": "Python 3 (ipykernel)",
   "language": "python",
   "name": "python3"
  },
  "language_info": {
   "codemirror_mode": {
    "name": "ipython",
    "version": 3
   },
   "file_extension": ".py",
   "mimetype": "text/x-python",
   "name": "python",
   "nbconvert_exporter": "python",
   "pygments_lexer": "ipython3",
   "version": "3.11.5"
  }
 },
 "nbformat": 4,
 "nbformat_minor": 5
}

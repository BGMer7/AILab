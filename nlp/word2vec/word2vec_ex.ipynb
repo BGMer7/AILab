{
 "cells": [
  {
   "cell_type": "markdown",
   "id": "97ae9d19",
   "metadata": {},
   "source": [
    "参考资料：<br>\n",
    "白话word2vec：https://zhuanlan.zhihu.com/p/81032021 <br>\n",
    "什么是词向量？https://blog.csdn.net/mawenqi0729/article/details/80698350 <br>\n",
    "官方参数解读：https://tedboy.github.io/nlps/generated/generated/gensim.models.Word2Vec.html#gensim.models.Word2Vec <br>\n",
    "为什么PCA：https://zhuanlan.zhihu.com/p/37810506 <br>\n",
    "https://blog.csdn.net/HLBoy_happy/article/details/77146012 <br>\n",
    "参数解读博客版：https://blog.csdn.net/xiaoQL520/article/details/102509477 <br>\n",
    "负采样：https://zhuanlan.zhihu.com/p/144146838 <br>\n",
    "更多资料：https://zhuanlan.zhihu.com/p/26306795 <br>\n",
    "https://mp.weixin.qq.com/s/j8JPMZSPoVT_hQswX5QVxA"
   ]
  },
  {
   "cell_type": "code",
   "execution_count": 1,
   "id": "fc9aaf2c",
   "metadata": {
    "jupyter": {
     "is_executing": true
    }
   },
   "outputs": [
    {
     "ename": "ModuleNotFoundError",
     "evalue": "No module named 'jieba'",
     "output_type": "error",
     "traceback": [
      "\u001b[1;31m---------------------------------------------------------------------------\u001b[0m",
      "\u001b[1;31mModuleNotFoundError\u001b[0m                       Traceback (most recent call last)",
      "Cell \u001b[1;32mIn[1], line 1\u001b[0m\n\u001b[1;32m----> 1\u001b[0m \u001b[38;5;28;01mimport\u001b[39;00m \u001b[38;5;21;01mjieba\u001b[39;00m\n\u001b[0;32m      2\u001b[0m \u001b[38;5;28;01mimport\u001b[39;00m \u001b[38;5;21;01mre\u001b[39;00m\n\u001b[0;32m      3\u001b[0m \u001b[38;5;28;01mimport\u001b[39;00m \u001b[38;5;21;01mnumpy\u001b[39;00m \u001b[38;5;28;01mas\u001b[39;00m \u001b[38;5;21;01mnp\u001b[39;00m\n",
      "\u001b[1;31mModuleNotFoundError\u001b[0m: No module named 'jieba'"
     ]
    }
   ],
   "source": [
    "import jieba\n",
    "import re\n",
    "import numpy as np\n",
    "from sklearn.decomposition import PCA\n",
    "import gensim\n",
    "from gensim.models import Word2Vec\n",
    "import matplotlib.pyplot as plt\n",
    "import matplotlib"
   ]
  },
  {
   "cell_type": "markdown",
   "id": "320e8dbf",
   "metadata": {},
   "source": [
    "## 分词"
   ]
  },
  {
   "cell_type": "code",
   "execution_count": null,
   "id": "8bdcb9d7",
   "metadata": {},
   "outputs": [],
   "source": [
    "f = open(\"sanguo.txt\", 'r',encoding='utf-8') #读入文本\n",
    "lines = []\n",
    "for line in f: #分别对每段分词\n",
    "    temp = jieba.lcut(line)  #结巴分词 精确模式\n",
    "    words = []\n",
    "    for i in temp:\n",
    "        #过滤掉所有的标点符号\n",
    "        i = re.sub(\"[\\s+\\.\\!\\/_,$%^*(+\\\"\\'””《》]+|[+——！，。？、~@#￥%……&*（）：；‘]+\", \"\", i)\n",
    "        if len(i) > 0:\n",
    "            words.append(i)\n",
    "    if len(words) > 0:\n",
    "        lines.append(words)\n",
    "print(lines[0:5])#预览前5行分词结果"
   ]
  },
  {
   "cell_type": "markdown",
   "id": "9771fd02",
   "metadata": {},
   "source": [
    "## 模型训练 "
   ]
  },
  {
   "cell_type": "code",
   "execution_count": null,
   "id": "0103a7d8",
   "metadata": {},
   "outputs": [],
   "source": [
    "# 调用Word2Vec训练\n",
    "# 参数：size: 词向量维度；window: 上下文的宽度，min_count为考虑计算的单词的最低词频阈值\n",
    "model = Word2Vec(lines,vector_size = 20, window = 2 , min_count = 3, epochs=7, negative=10,sg=1)\n",
    "print(\"孔明的词向量：\\n\",model.wv.get_vector('孔明'))\n",
    "print(\"\\n和孔明相关性最高的前20个词语：\")\n",
    "model.wv.most_similar('孔明', topn = 20)# 与孔明最相关的前20个词语"
   ]
  },
  {
   "cell_type": "markdown",
   "id": "cd2d1d12",
   "metadata": {},
   "source": [
    "## 可视化 "
   ]
  },
  {
   "cell_type": "code",
   "execution_count": null,
   "id": "f7430579",
   "metadata": {},
   "outputs": [],
   "source": [
    "# 将词向量投影到二维空间\n",
    "rawWordVec = []\n",
    "word2ind = {}\n",
    "for i, w in enumerate(model.wv.index_to_key): #index_to_key 序号,词语\n",
    "    rawWordVec.append(model.wv[w]) #词向量\n",
    "    word2ind[w] = i #{词语:序号}\n",
    "rawWordVec = np.array(rawWordVec)\n",
    "X_reduced = PCA(n_components=2).fit_transform(rawWordVec) "
   ]
  },
  {
   "cell_type": "code",
   "execution_count": null,
   "id": "243e8569",
   "metadata": {},
   "outputs": [],
   "source": [
    "rawWordVec #降维之前20维"
   ]
  },
  {
   "cell_type": "code",
   "execution_count": null,
   "id": "963970d8",
   "metadata": {},
   "outputs": [],
   "source": [
    "X_reduced #降维之后2维"
   ]
  },
  {
   "cell_type": "code",
   "execution_count": null,
   "id": "cce497b6",
   "metadata": {},
   "outputs": [],
   "source": [
    "# 绘制星空图\n",
    "# 绘制所有单词向量的二维空间投影\n",
    "fig = plt.figure(figsize = (15, 10))\n",
    "ax = fig.gca()\n",
    "ax.set_facecolor('white')\n",
    "ax.plot(X_reduced[:, 0], X_reduced[:, 1], '.', markersize = 1, alpha = 0.3, color = 'black')\n",
    "\n",
    "\n",
    "# 绘制几个特殊单词的向量\n",
    "words = ['孙权', '刘备', '曹操', '周瑜', '诸葛亮', '司马懿','汉献帝']\n",
    "\n",
    "# 设置中文字体 否则乱码\n",
    "zhfont1 = matplotlib.font_manager.FontProperties(fname='./华文仿宋.ttf', size=16)\n",
    "for w in words:\n",
    "    if w in word2ind:\n",
    "        ind = word2ind[w]\n",
    "        xy = X_reduced[ind]\n",
    "        plt.plot(xy[0], xy[1], '.', alpha =1, color = 'orange',markersize=10)\n",
    "        plt.text(xy[0], xy[1], w, fontproperties = zhfont1, alpha = 1, color = 'red')"
   ]
  },
  {
   "cell_type": "markdown",
   "id": "e426cb9e",
   "metadata": {},
   "source": [
    "## 类比关系实验"
   ]
  },
  {
   "cell_type": "code",
   "execution_count": null,
   "id": "d1187b7b",
   "metadata": {},
   "outputs": [],
   "source": [
    "# 玄德－孔明＝？－曹操\n",
    "words = model.wv.most_similar(positive=['玄德', '曹操'], negative=['孔明'])\n",
    "words"
   ]
  },
  {
   "cell_type": "code",
   "execution_count": null,
   "id": "2c57599f",
   "metadata": {},
   "outputs": [],
   "source": [
    "# 曹操－魏＝？－蜀\n",
    "words = model.wv.most_similar(positive=['曹操', '蜀'], negative=['魏'])\n",
    "words"
   ]
  },
  {
   "cell_type": "code",
   "execution_count": null,
   "id": "2494a8a9",
   "metadata": {},
   "outputs": [],
   "source": [
    "words = model.wv.most_similar(positive=['关羽', '曹操'], negative=['赵云'])\n",
    "words"
   ]
  },
  {
   "cell_type": "code",
   "execution_count": null,
   "id": "977c89d7",
   "metadata": {},
   "outputs": [],
   "source": []
  }
 ],
 "metadata": {
  "kernelspec": {
   "display_name": "ipykernel-d2l",
   "language": "python",
   "name": "ipykernel-d2l"
  },
  "language_info": {
   "codemirror_mode": {
    "name": "ipython",
    "version": 3
   },
   "file_extension": ".py",
   "mimetype": "text/x-python",
   "name": "python",
   "nbconvert_exporter": "python",
   "pygments_lexer": "ipython3",
   "version": "3.9.19"
  },
  "toc": {
   "base_numbering": 1,
   "nav_menu": {},
   "number_sections": true,
   "sideBar": true,
   "skip_h1_title": false,
   "title_cell": "Table of Contents",
   "title_sidebar": "Contents",
   "toc_cell": false,
   "toc_position": {},
   "toc_section_display": true,
   "toc_window_display": true
  }
 },
 "nbformat": 4,
 "nbformat_minor": 5
}

{
 "cells": [
  {
   "cell_type": "code",
   "execution_count": 53,
   "id": "116e0fb6",
   "metadata": {},
   "outputs": [],
   "source": [
    "import pandas as pd"
   ]
  },
  {
   "cell_type": "code",
   "execution_count": 54,
   "id": "89427788",
   "metadata": {},
   "outputs": [
    {
     "data": {
      "text/html": [
       "<div>\n",
       "<style scoped>\n",
       "    .dataframe tbody tr th:only-of-type {\n",
       "        vertical-align: middle;\n",
       "    }\n",
       "\n",
       "    .dataframe tbody tr th {\n",
       "        vertical-align: top;\n",
       "    }\n",
       "\n",
       "    .dataframe thead th {\n",
       "        text-align: right;\n",
       "    }\n",
       "</style>\n",
       "<table border=\"1\" class=\"dataframe\">\n",
       "  <thead>\n",
       "    <tr style=\"text-align: right;\">\n",
       "      <th></th>\n",
       "      <th>team</th>\n",
       "      <th>Q1</th>\n",
       "      <th>Q2</th>\n",
       "      <th>Q3</th>\n",
       "      <th>Q4</th>\n",
       "    </tr>\n",
       "    <tr>\n",
       "      <th>name</th>\n",
       "      <th></th>\n",
       "      <th></th>\n",
       "      <th></th>\n",
       "      <th></th>\n",
       "      <th></th>\n",
       "    </tr>\n",
       "  </thead>\n",
       "  <tbody>\n",
       "    <tr>\n",
       "      <th>Liver</th>\n",
       "      <td>E</td>\n",
       "      <td>89</td>\n",
       "      <td>21</td>\n",
       "      <td>24</td>\n",
       "      <td>64</td>\n",
       "    </tr>\n",
       "    <tr>\n",
       "      <th>Arry</th>\n",
       "      <td>C</td>\n",
       "      <td>36</td>\n",
       "      <td>37</td>\n",
       "      <td>37</td>\n",
       "      <td>57</td>\n",
       "    </tr>\n",
       "    <tr>\n",
       "      <th>Ack</th>\n",
       "      <td>A</td>\n",
       "      <td>57</td>\n",
       "      <td>60</td>\n",
       "      <td>18</td>\n",
       "      <td>84</td>\n",
       "    </tr>\n",
       "    <tr>\n",
       "      <th>Eorge</th>\n",
       "      <td>C</td>\n",
       "      <td>93</td>\n",
       "      <td>96</td>\n",
       "      <td>71</td>\n",
       "      <td>78</td>\n",
       "    </tr>\n",
       "    <tr>\n",
       "      <th>Oah</th>\n",
       "      <td>D</td>\n",
       "      <td>65</td>\n",
       "      <td>49</td>\n",
       "      <td>61</td>\n",
       "      <td>86</td>\n",
       "    </tr>\n",
       "    <tr>\n",
       "      <th>...</th>\n",
       "      <td>...</td>\n",
       "      <td>...</td>\n",
       "      <td>...</td>\n",
       "      <td>...</td>\n",
       "      <td>...</td>\n",
       "    </tr>\n",
       "    <tr>\n",
       "      <th>Gabriel</th>\n",
       "      <td>C</td>\n",
       "      <td>48</td>\n",
       "      <td>59</td>\n",
       "      <td>87</td>\n",
       "      <td>74</td>\n",
       "    </tr>\n",
       "    <tr>\n",
       "      <th>Austin7</th>\n",
       "      <td>C</td>\n",
       "      <td>21</td>\n",
       "      <td>31</td>\n",
       "      <td>30</td>\n",
       "      <td>43</td>\n",
       "    </tr>\n",
       "    <tr>\n",
       "      <th>Lincoln4</th>\n",
       "      <td>C</td>\n",
       "      <td>98</td>\n",
       "      <td>93</td>\n",
       "      <td>1</td>\n",
       "      <td>20</td>\n",
       "    </tr>\n",
       "    <tr>\n",
       "      <th>Eli</th>\n",
       "      <td>E</td>\n",
       "      <td>11</td>\n",
       "      <td>74</td>\n",
       "      <td>58</td>\n",
       "      <td>91</td>\n",
       "    </tr>\n",
       "    <tr>\n",
       "      <th>Ben</th>\n",
       "      <td>E</td>\n",
       "      <td>21</td>\n",
       "      <td>43</td>\n",
       "      <td>41</td>\n",
       "      <td>74</td>\n",
       "    </tr>\n",
       "  </tbody>\n",
       "</table>\n",
       "<p>100 rows × 5 columns</p>\n",
       "</div>"
      ],
      "text/plain": [
       "         team  Q1  Q2  Q3  Q4\n",
       "name                         \n",
       "Liver       E  89  21  24  64\n",
       "Arry        C  36  37  37  57\n",
       "Ack         A  57  60  18  84\n",
       "Eorge       C  93  96  71  78\n",
       "Oah         D  65  49  61  86\n",
       "...       ...  ..  ..  ..  ..\n",
       "Gabriel     C  48  59  87  74\n",
       "Austin7     C  21  31  30  43\n",
       "Lincoln4    C  98  93   1  20\n",
       "Eli         E  11  74  58  91\n",
       "Ben         E  21  43  41  74\n",
       "\n",
       "[100 rows x 5 columns]"
      ]
     },
     "execution_count": 54,
     "metadata": {},
     "output_type": "execute_result"
    }
   ],
   "source": [
    "data = 'https://www.gairuo.com/file/data/dataset/team.xlsx'\n",
    "df = pd.read_excel(data, index_col='name') # 将索引设置为name\n",
    "df"
   ]
  },
  {
   "cell_type": "code",
   "execution_count": 55,
   "id": "21f16a3e",
   "metadata": {},
   "outputs": [
    {
     "data": {
      "text/html": [
       "<div>\n",
       "<style scoped>\n",
       "    .dataframe tbody tr th:only-of-type {\n",
       "        vertical-align: middle;\n",
       "    }\n",
       "\n",
       "    .dataframe tbody tr th {\n",
       "        vertical-align: top;\n",
       "    }\n",
       "\n",
       "    .dataframe thead th {\n",
       "        text-align: right;\n",
       "    }\n",
       "</style>\n",
       "<table border=\"1\" class=\"dataframe\">\n",
       "  <thead>\n",
       "    <tr style=\"text-align: right;\">\n",
       "      <th></th>\n",
       "      <th>team</th>\n",
       "      <th>Q1</th>\n",
       "      <th>Q2</th>\n",
       "      <th>Q3</th>\n",
       "      <th>Q4</th>\n",
       "    </tr>\n",
       "    <tr>\n",
       "      <th>name</th>\n",
       "      <th></th>\n",
       "      <th></th>\n",
       "      <th></th>\n",
       "      <th></th>\n",
       "      <th></th>\n",
       "    </tr>\n",
       "  </thead>\n",
       "  <tbody>\n",
       "    <tr>\n",
       "      <th>Liver</th>\n",
       "      <td>E</td>\n",
       "      <td>89</td>\n",
       "      <td>21</td>\n",
       "      <td>24</td>\n",
       "      <td>64</td>\n",
       "    </tr>\n",
       "    <tr>\n",
       "      <th>Arry</th>\n",
       "      <td>C</td>\n",
       "      <td>36</td>\n",
       "      <td>37</td>\n",
       "      <td>37</td>\n",
       "      <td>57</td>\n",
       "    </tr>\n",
       "    <tr>\n",
       "      <th>Ack</th>\n",
       "      <td>A</td>\n",
       "      <td>57</td>\n",
       "      <td>60</td>\n",
       "      <td>18</td>\n",
       "      <td>84</td>\n",
       "    </tr>\n",
       "    <tr>\n",
       "      <th>Eorge</th>\n",
       "      <td>C</td>\n",
       "      <td>93</td>\n",
       "      <td>96</td>\n",
       "      <td>71</td>\n",
       "      <td>78</td>\n",
       "    </tr>\n",
       "    <tr>\n",
       "      <th>Oah</th>\n",
       "      <td>D</td>\n",
       "      <td>65</td>\n",
       "      <td>49</td>\n",
       "      <td>61</td>\n",
       "      <td>86</td>\n",
       "    </tr>\n",
       "    <tr>\n",
       "      <th>...</th>\n",
       "      <td>...</td>\n",
       "      <td>...</td>\n",
       "      <td>...</td>\n",
       "      <td>...</td>\n",
       "      <td>...</td>\n",
       "    </tr>\n",
       "    <tr>\n",
       "      <th>Gabriel</th>\n",
       "      <td>C</td>\n",
       "      <td>48</td>\n",
       "      <td>59</td>\n",
       "      <td>87</td>\n",
       "      <td>74</td>\n",
       "    </tr>\n",
       "    <tr>\n",
       "      <th>Austin7</th>\n",
       "      <td>C</td>\n",
       "      <td>21</td>\n",
       "      <td>31</td>\n",
       "      <td>30</td>\n",
       "      <td>43</td>\n",
       "    </tr>\n",
       "    <tr>\n",
       "      <th>Lincoln4</th>\n",
       "      <td>C</td>\n",
       "      <td>98</td>\n",
       "      <td>93</td>\n",
       "      <td>1</td>\n",
       "      <td>20</td>\n",
       "    </tr>\n",
       "    <tr>\n",
       "      <th>Eli</th>\n",
       "      <td>E</td>\n",
       "      <td>11</td>\n",
       "      <td>74</td>\n",
       "      <td>58</td>\n",
       "      <td>91</td>\n",
       "    </tr>\n",
       "    <tr>\n",
       "      <th>Ben</th>\n",
       "      <td>E</td>\n",
       "      <td>21</td>\n",
       "      <td>43</td>\n",
       "      <td>41</td>\n",
       "      <td>74</td>\n",
       "    </tr>\n",
       "  </tbody>\n",
       "</table>\n",
       "<p>100 rows × 5 columns</p>\n",
       "</div>"
      ],
      "text/plain": [
       "         team  Q1  Q2  Q3  Q4\n",
       "name                         \n",
       "Liver       E  89  21  24  64\n",
       "Arry        C  36  37  37  57\n",
       "Ack         A  57  60  18  84\n",
       "Eorge       C  93  96  71  78\n",
       "Oah         D  65  49  61  86\n",
       "...       ...  ..  ..  ..  ..\n",
       "Gabriel     C  48  59  87  74\n",
       "Austin7     C  21  31  30  43\n",
       "Lincoln4    C  98  93   1  20\n",
       "Eli         E  11  74  58  91\n",
       "Ben         E  21  43  41  74\n",
       "\n",
       "[100 rows x 5 columns]"
      ]
     },
     "execution_count": 55,
     "metadata": {},
     "output_type": "execute_result"
    }
   ],
   "source": [
    "df = pd.read_excel(data) # 读取数据不设索引\n",
    "df.set_index('name') # 设置索引"
   ]
  },
  {
   "cell_type": "code",
   "execution_count": 56,
   "id": "ca5297b1",
   "metadata": {},
   "outputs": [
    {
     "data": {
      "text/html": [
       "<div>\n",
       "<style scoped>\n",
       "    .dataframe tbody tr th:only-of-type {\n",
       "        vertical-align: middle;\n",
       "    }\n",
       "\n",
       "    .dataframe tbody tr th {\n",
       "        vertical-align: top;\n",
       "    }\n",
       "\n",
       "    .dataframe thead th {\n",
       "        text-align: right;\n",
       "    }\n",
       "</style>\n",
       "<table border=\"1\" class=\"dataframe\">\n",
       "  <thead>\n",
       "    <tr style=\"text-align: right;\">\n",
       "      <th></th>\n",
       "      <th></th>\n",
       "      <th>Q1</th>\n",
       "      <th>Q2</th>\n",
       "      <th>Q3</th>\n",
       "      <th>Q4</th>\n",
       "    </tr>\n",
       "    <tr>\n",
       "      <th>name</th>\n",
       "      <th>team</th>\n",
       "      <th></th>\n",
       "      <th></th>\n",
       "      <th></th>\n",
       "      <th></th>\n",
       "    </tr>\n",
       "  </thead>\n",
       "  <tbody>\n",
       "    <tr>\n",
       "      <th>Liver</th>\n",
       "      <th>E</th>\n",
       "      <td>89</td>\n",
       "      <td>21</td>\n",
       "      <td>24</td>\n",
       "      <td>64</td>\n",
       "    </tr>\n",
       "    <tr>\n",
       "      <th>Arry</th>\n",
       "      <th>C</th>\n",
       "      <td>36</td>\n",
       "      <td>37</td>\n",
       "      <td>37</td>\n",
       "      <td>57</td>\n",
       "    </tr>\n",
       "    <tr>\n",
       "      <th>Ack</th>\n",
       "      <th>A</th>\n",
       "      <td>57</td>\n",
       "      <td>60</td>\n",
       "      <td>18</td>\n",
       "      <td>84</td>\n",
       "    </tr>\n",
       "    <tr>\n",
       "      <th>Eorge</th>\n",
       "      <th>C</th>\n",
       "      <td>93</td>\n",
       "      <td>96</td>\n",
       "      <td>71</td>\n",
       "      <td>78</td>\n",
       "    </tr>\n",
       "    <tr>\n",
       "      <th>Oah</th>\n",
       "      <th>D</th>\n",
       "      <td>65</td>\n",
       "      <td>49</td>\n",
       "      <td>61</td>\n",
       "      <td>86</td>\n",
       "    </tr>\n",
       "    <tr>\n",
       "      <th>...</th>\n",
       "      <th>...</th>\n",
       "      <td>...</td>\n",
       "      <td>...</td>\n",
       "      <td>...</td>\n",
       "      <td>...</td>\n",
       "    </tr>\n",
       "    <tr>\n",
       "      <th>Gabriel</th>\n",
       "      <th>C</th>\n",
       "      <td>48</td>\n",
       "      <td>59</td>\n",
       "      <td>87</td>\n",
       "      <td>74</td>\n",
       "    </tr>\n",
       "    <tr>\n",
       "      <th>Austin7</th>\n",
       "      <th>C</th>\n",
       "      <td>21</td>\n",
       "      <td>31</td>\n",
       "      <td>30</td>\n",
       "      <td>43</td>\n",
       "    </tr>\n",
       "    <tr>\n",
       "      <th>Lincoln4</th>\n",
       "      <th>C</th>\n",
       "      <td>98</td>\n",
       "      <td>93</td>\n",
       "      <td>1</td>\n",
       "      <td>20</td>\n",
       "    </tr>\n",
       "    <tr>\n",
       "      <th>Eli</th>\n",
       "      <th>E</th>\n",
       "      <td>11</td>\n",
       "      <td>74</td>\n",
       "      <td>58</td>\n",
       "      <td>91</td>\n",
       "    </tr>\n",
       "    <tr>\n",
       "      <th>Ben</th>\n",
       "      <th>E</th>\n",
       "      <td>21</td>\n",
       "      <td>43</td>\n",
       "      <td>41</td>\n",
       "      <td>74</td>\n",
       "    </tr>\n",
       "  </tbody>\n",
       "</table>\n",
       "<p>100 rows × 4 columns</p>\n",
       "</div>"
      ],
      "text/plain": [
       "               Q1  Q2  Q3  Q4\n",
       "name     team                \n",
       "Liver    E     89  21  24  64\n",
       "Arry     C     36  37  37  57\n",
       "Ack      A     57  60  18  84\n",
       "Eorge    C     93  96  71  78\n",
       "Oah      D     65  49  61  86\n",
       "...            ..  ..  ..  ..\n",
       "Gabriel  C     48  59  87  74\n",
       "Austin7  C     21  31  30  43\n",
       "Lincoln4 C     98  93   1  20\n",
       "Eli      E     11  74  58  91\n",
       "Ben      E     21  43  41  74\n",
       "\n",
       "[100 rows x 4 columns]"
      ]
     },
     "execution_count": 56,
     "metadata": {},
     "output_type": "execute_result"
    }
   ],
   "source": [
    "df.set_index(['name', 'team']) # 设置两层索引"
   ]
  },
  {
   "cell_type": "code",
   "execution_count": 57,
   "id": "7cabb24b",
   "metadata": {
    "scrolled": true
   },
   "outputs": [
    {
     "data": {
      "text/html": [
       "<div>\n",
       "<style scoped>\n",
       "    .dataframe tbody tr th:only-of-type {\n",
       "        vertical-align: middle;\n",
       "    }\n",
       "\n",
       "    .dataframe tbody tr th {\n",
       "        vertical-align: top;\n",
       "    }\n",
       "\n",
       "    .dataframe thead th {\n",
       "        text-align: right;\n",
       "    }\n",
       "</style>\n",
       "<table border=\"1\" class=\"dataframe\">\n",
       "  <thead>\n",
       "    <tr style=\"text-align: right;\">\n",
       "      <th></th>\n",
       "      <th></th>\n",
       "      <th>team</th>\n",
       "      <th>Q1</th>\n",
       "      <th>Q2</th>\n",
       "      <th>Q3</th>\n",
       "      <th>Q4</th>\n",
       "    </tr>\n",
       "    <tr>\n",
       "      <th>name</th>\n",
       "      <th>name</th>\n",
       "      <th></th>\n",
       "      <th></th>\n",
       "      <th></th>\n",
       "      <th></th>\n",
       "      <th></th>\n",
       "    </tr>\n",
       "  </thead>\n",
       "  <tbody>\n",
       "    <tr>\n",
       "      <th>L</th>\n",
       "      <th>Liver</th>\n",
       "      <td>E</td>\n",
       "      <td>89</td>\n",
       "      <td>21</td>\n",
       "      <td>24</td>\n",
       "      <td>64</td>\n",
       "    </tr>\n",
       "    <tr>\n",
       "      <th rowspan=\"2\" valign=\"top\">A</th>\n",
       "      <th>Arry</th>\n",
       "      <td>C</td>\n",
       "      <td>36</td>\n",
       "      <td>37</td>\n",
       "      <td>37</td>\n",
       "      <td>57</td>\n",
       "    </tr>\n",
       "    <tr>\n",
       "      <th>Ack</th>\n",
       "      <td>A</td>\n",
       "      <td>57</td>\n",
       "      <td>60</td>\n",
       "      <td>18</td>\n",
       "      <td>84</td>\n",
       "    </tr>\n",
       "    <tr>\n",
       "      <th>E</th>\n",
       "      <th>Eorge</th>\n",
       "      <td>C</td>\n",
       "      <td>93</td>\n",
       "      <td>96</td>\n",
       "      <td>71</td>\n",
       "      <td>78</td>\n",
       "    </tr>\n",
       "    <tr>\n",
       "      <th>O</th>\n",
       "      <th>Oah</th>\n",
       "      <td>D</td>\n",
       "      <td>65</td>\n",
       "      <td>49</td>\n",
       "      <td>61</td>\n",
       "      <td>86</td>\n",
       "    </tr>\n",
       "    <tr>\n",
       "      <th>...</th>\n",
       "      <th>...</th>\n",
       "      <td>...</td>\n",
       "      <td>...</td>\n",
       "      <td>...</td>\n",
       "      <td>...</td>\n",
       "      <td>...</td>\n",
       "    </tr>\n",
       "    <tr>\n",
       "      <th>G</th>\n",
       "      <th>Gabriel</th>\n",
       "      <td>C</td>\n",
       "      <td>48</td>\n",
       "      <td>59</td>\n",
       "      <td>87</td>\n",
       "      <td>74</td>\n",
       "    </tr>\n",
       "    <tr>\n",
       "      <th>A</th>\n",
       "      <th>Austin7</th>\n",
       "      <td>C</td>\n",
       "      <td>21</td>\n",
       "      <td>31</td>\n",
       "      <td>30</td>\n",
       "      <td>43</td>\n",
       "    </tr>\n",
       "    <tr>\n",
       "      <th>L</th>\n",
       "      <th>Lincoln4</th>\n",
       "      <td>C</td>\n",
       "      <td>98</td>\n",
       "      <td>93</td>\n",
       "      <td>1</td>\n",
       "      <td>20</td>\n",
       "    </tr>\n",
       "    <tr>\n",
       "      <th>E</th>\n",
       "      <th>Eli</th>\n",
       "      <td>E</td>\n",
       "      <td>11</td>\n",
       "      <td>74</td>\n",
       "      <td>58</td>\n",
       "      <td>91</td>\n",
       "    </tr>\n",
       "    <tr>\n",
       "      <th>B</th>\n",
       "      <th>Ben</th>\n",
       "      <td>E</td>\n",
       "      <td>21</td>\n",
       "      <td>43</td>\n",
       "      <td>41</td>\n",
       "      <td>74</td>\n",
       "    </tr>\n",
       "  </tbody>\n",
       "</table>\n",
       "<p>100 rows × 5 columns</p>\n",
       "</div>"
      ],
      "text/plain": [
       "              team  Q1  Q2  Q3  Q4\n",
       "name name                         \n",
       "L    Liver       E  89  21  24  64\n",
       "A    Arry        C  36  37  37  57\n",
       "     Ack         A  57  60  18  84\n",
       "E    Eorge       C  93  96  71  78\n",
       "O    Oah         D  65  49  61  86\n",
       "...            ...  ..  ..  ..  ..\n",
       "G    Gabriel     C  48  59  87  74\n",
       "A    Austin7     C  21  31  30  43\n",
       "L    Lincoln4    C  98  93   1  20\n",
       "E    Eli         E  11  74  58  91\n",
       "B    Ben         E  21  43  41  74\n",
       "\n",
       "[100 rows x 5 columns]"
      ]
     },
     "execution_count": 57,
     "metadata": {},
     "output_type": "execute_result"
    }
   ],
   "source": [
    "df.set_index([df.name.str[0],'name']) # 将姓名的第一个字母和姓名设置为索引"
   ]
  },
  {
   "cell_type": "code",
   "execution_count": 58,
   "id": "6e87a23b",
   "metadata": {},
   "outputs": [
    {
     "data": {
      "text/html": [
       "<div>\n",
       "<style scoped>\n",
       "    .dataframe tbody tr th:only-of-type {\n",
       "        vertical-align: middle;\n",
       "    }\n",
       "\n",
       "    .dataframe tbody tr th {\n",
       "        vertical-align: top;\n",
       "    }\n",
       "\n",
       "    .dataframe thead th {\n",
       "        text-align: right;\n",
       "    }\n",
       "</style>\n",
       "<table border=\"1\" class=\"dataframe\">\n",
       "  <thead>\n",
       "    <tr style=\"text-align: right;\">\n",
       "      <th></th>\n",
       "      <th>team</th>\n",
       "      <th>Q1</th>\n",
       "      <th>Q2</th>\n",
       "      <th>Q3</th>\n",
       "      <th>Q4</th>\n",
       "    </tr>\n",
       "    <tr>\n",
       "      <th>name</th>\n",
       "      <th></th>\n",
       "      <th></th>\n",
       "      <th></th>\n",
       "      <th></th>\n",
       "      <th></th>\n",
       "    </tr>\n",
       "  </thead>\n",
       "  <tbody>\n",
       "    <tr>\n",
       "      <th>Liver</th>\n",
       "      <td>E</td>\n",
       "      <td>89</td>\n",
       "      <td>21</td>\n",
       "      <td>24</td>\n",
       "      <td>64</td>\n",
       "    </tr>\n",
       "    <tr>\n",
       "      <th>Arry</th>\n",
       "      <td>C</td>\n",
       "      <td>36</td>\n",
       "      <td>37</td>\n",
       "      <td>37</td>\n",
       "      <td>57</td>\n",
       "    </tr>\n",
       "    <tr>\n",
       "      <th>Ack</th>\n",
       "      <td>A</td>\n",
       "      <td>57</td>\n",
       "      <td>60</td>\n",
       "      <td>18</td>\n",
       "      <td>84</td>\n",
       "    </tr>\n",
       "    <tr>\n",
       "      <th>Eorge</th>\n",
       "      <td>C</td>\n",
       "      <td>93</td>\n",
       "      <td>96</td>\n",
       "      <td>71</td>\n",
       "      <td>78</td>\n",
       "    </tr>\n",
       "    <tr>\n",
       "      <th>Oah</th>\n",
       "      <td>D</td>\n",
       "      <td>65</td>\n",
       "      <td>49</td>\n",
       "      <td>61</td>\n",
       "      <td>86</td>\n",
       "    </tr>\n",
       "    <tr>\n",
       "      <th>...</th>\n",
       "      <td>...</td>\n",
       "      <td>...</td>\n",
       "      <td>...</td>\n",
       "      <td>...</td>\n",
       "      <td>...</td>\n",
       "    </tr>\n",
       "    <tr>\n",
       "      <th>Gabriel</th>\n",
       "      <td>C</td>\n",
       "      <td>48</td>\n",
       "      <td>59</td>\n",
       "      <td>87</td>\n",
       "      <td>74</td>\n",
       "    </tr>\n",
       "    <tr>\n",
       "      <th>Austin7</th>\n",
       "      <td>C</td>\n",
       "      <td>21</td>\n",
       "      <td>31</td>\n",
       "      <td>30</td>\n",
       "      <td>43</td>\n",
       "    </tr>\n",
       "    <tr>\n",
       "      <th>Lincoln4</th>\n",
       "      <td>C</td>\n",
       "      <td>98</td>\n",
       "      <td>93</td>\n",
       "      <td>1</td>\n",
       "      <td>20</td>\n",
       "    </tr>\n",
       "    <tr>\n",
       "      <th>Eli</th>\n",
       "      <td>E</td>\n",
       "      <td>11</td>\n",
       "      <td>74</td>\n",
       "      <td>58</td>\n",
       "      <td>91</td>\n",
       "    </tr>\n",
       "    <tr>\n",
       "      <th>Ben</th>\n",
       "      <td>E</td>\n",
       "      <td>21</td>\n",
       "      <td>43</td>\n",
       "      <td>41</td>\n",
       "      <td>74</td>\n",
       "    </tr>\n",
       "  </tbody>\n",
       "</table>\n",
       "<p>100 rows × 5 columns</p>\n",
       "</div>"
      ],
      "text/plain": [
       "         team  Q1  Q2  Q3  Q4\n",
       "name                         \n",
       "Liver       E  89  21  24  64\n",
       "Arry        C  36  37  37  57\n",
       "Ack         A  57  60  18  84\n",
       "Eorge       C  93  96  71  78\n",
       "Oah         D  65  49  61  86\n",
       "...       ...  ..  ..  ..  ..\n",
       "Gabriel     C  48  59  87  74\n",
       "Austin7     C  21  31  30  43\n",
       "Lincoln4    C  98  93   1  20\n",
       "Eli         E  11  74  58  91\n",
       "Ben         E  21  43  41  74\n",
       "\n",
       "[100 rows x 5 columns]"
      ]
     },
     "execution_count": 58,
     "metadata": {},
     "output_type": "execute_result"
    }
   ],
   "source": [
    "df = df.set_index('name') # 建立索引并重写覆盖df\n",
    "df"
   ]
  },
  {
   "cell_type": "code",
   "execution_count": 59,
   "id": "21a9520c",
   "metadata": {},
   "outputs": [
    {
     "data": {
      "text/plain": [
       "RangeIndex(start=1, stop=100, step=2)"
      ]
     },
     "execution_count": 59,
     "metadata": {},
     "output_type": "execute_result"
    }
   ],
   "source": [
    "pd.RangeIndex(1,100,2)\n",
    "# RangeIndex(start=1, stop=100, step=2)"
   ]
  },
  {
   "cell_type": "code",
   "execution_count": 60,
   "id": "7df89351",
   "metadata": {},
   "outputs": [
    {
     "data": {
      "text/plain": [
       "Index([1, 2, 3], dtype='int64')"
      ]
     },
     "execution_count": 60,
     "metadata": {},
     "output_type": "execute_result"
    }
   ],
   "source": [
    "pd.Index([1, 2, 3])\n",
    "# Int64Index([1, 2, 3], dtype='int64')"
   ]
  },
  {
   "cell_type": "code",
   "execution_count": 61,
   "id": "04f96d4d",
   "metadata": {},
   "outputs": [
    {
     "data": {
      "text/plain": [
       "Index(['a', 'b', 'c'], dtype='object')"
      ]
     },
     "execution_count": 61,
     "metadata": {},
     "output_type": "execute_result"
    }
   ],
   "source": [
    "pd.Index(list('abc'))\n",
    "# Index(['a', 'b', 'c'], dtype='object')"
   ]
  },
  {
   "cell_type": "code",
   "execution_count": 62,
   "id": "cce475d9",
   "metadata": {
    "scrolled": true
   },
   "outputs": [
    {
     "data": {
      "text/plain": [
       "Index(['e', 'd', 'a', 'b'], dtype='object', name='something')"
      ]
     },
     "execution_count": 62,
     "metadata": {},
     "output_type": "execute_result"
    }
   ],
   "source": [
    "# 可以用name指定一个索引名称\n",
    "pd.Index(['e', 'd', 'a', 'b'], name='something')"
   ]
  },
  {
   "cell_type": "code",
   "execution_count": 63,
   "id": "2ef70677",
   "metadata": {},
   "outputs": [
    {
     "data": {
      "text/plain": [
       "'name'"
      ]
     },
     "execution_count": 63,
     "metadata": {},
     "output_type": "execute_result"
    }
   ],
   "source": [
    "# 常用属性\n",
    "df.index.name # 名称"
   ]
  },
  {
   "cell_type": "code",
   "execution_count": 64,
   "id": "ede0d952",
   "metadata": {},
   "outputs": [
    {
     "data": {
      "text/plain": [
       "<PandasArray>\n",
       "[    'Liver',      'Arry',       'Ack',     'Eorge',       'Oah',    'Harlie',\n",
       "      'Acob',      'Lfie',    'Reddie',     'Oscar',       'Leo',     'Logan',\n",
       "    'Archie',      'Theo',    'Thomas',     'James',    'Joshua',     'Henry',\n",
       "   'William',       'Max',     'Lucas',     'Ethan',    'Arthur',     'Mason',\n",
       "     'Isaac',  'Harrison',     'Teddy',    'Finley',    'Daniel',     'Riley',\n",
       "    'Edward',    'Joseph', 'Alexander',      'Adam',   'Reggie1',    'Samuel',\n",
       "     'Jaxon', 'Sebastian',    'Elijah',    'Harley',      'Toby',     'Arlo8',\n",
       "     'Dylan',      'Jude',  'Benjamin',     'Rory9',     'Tommy',     'Jake3',\n",
       "     'Louie',   'Carter7',    'Jenson',     'Hugo0',    'Bobby1',   'Frankie',\n",
       "    'Ollie3',   'Zachary',     'David',    'Albie1',     'Lewis',      'Luca',\n",
       "    'Ronnie',  'Jackson5',   'Matthew',      'Alex',   'Harvey2',    'Reuben',\n",
       "   'Jayden6',     'Caleb',   'Hunter3', 'Theodore3',    'Nathan',     'Blake',\n",
       "     'Luke6',    'Elliot',     'Roman',   'Stanley',    'Dexter',   'Michael',\n",
       "   'Elliott',     'Tyler',      'Ryan',     'Ellis',      'Finn',   'Albert0',\n",
       "       'Kai',      'Liam',     'Calum',    'Louis2',     'Aaron',      'Ezra',\n",
       "      'Leon',    'Connor',  'Grayson7',    'Jamie0',     'Aiden',   'Gabriel',\n",
       "   'Austin7',  'Lincoln4',       'Eli',       'Ben']\n",
       "Length: 100, dtype: object"
      ]
     },
     "execution_count": 64,
     "metadata": {},
     "output_type": "execute_result"
    }
   ],
   "source": [
    "df.index.array # array数组"
   ]
  },
  {
   "cell_type": "code",
   "execution_count": 65,
   "id": "3bc451ef",
   "metadata": {},
   "outputs": [
    {
     "data": {
      "text/plain": [
       "dtype('O')"
      ]
     },
     "execution_count": 65,
     "metadata": {},
     "output_type": "execute_result"
    }
   ],
   "source": [
    "df.index.dtype # 数据类型"
   ]
  },
  {
   "cell_type": "code",
   "execution_count": 66,
   "id": "9b6532ff",
   "metadata": {},
   "outputs": [
    {
     "data": {
      "text/plain": [
       "(100,)"
      ]
     },
     "execution_count": 66,
     "metadata": {},
     "output_type": "execute_result"
    }
   ],
   "source": [
    "df.index.shape # 形状"
   ]
  },
  {
   "cell_type": "code",
   "execution_count": 67,
   "id": "de6a885e",
   "metadata": {},
   "outputs": [
    {
     "data": {
      "text/plain": [
       "100"
      ]
     },
     "execution_count": 67,
     "metadata": {},
     "output_type": "execute_result"
    }
   ],
   "source": [
    "df.index.size # 元素数量"
   ]
  },
  {
   "cell_type": "code",
   "execution_count": 68,
   "id": "7b04a52b",
   "metadata": {},
   "outputs": [
    {
     "data": {
      "text/plain": [
       "array(['Liver', 'Arry', 'Ack', 'Eorge', 'Oah', 'Harlie', 'Acob', 'Lfie',\n",
       "       'Reddie', 'Oscar', 'Leo', 'Logan', 'Archie', 'Theo', 'Thomas',\n",
       "       'James', 'Joshua', 'Henry', 'William', 'Max', 'Lucas', 'Ethan',\n",
       "       'Arthur', 'Mason', 'Isaac', 'Harrison', 'Teddy', 'Finley',\n",
       "       'Daniel', 'Riley', 'Edward', 'Joseph', 'Alexander', 'Adam',\n",
       "       'Reggie1', 'Samuel', 'Jaxon', 'Sebastian', 'Elijah', 'Harley',\n",
       "       'Toby', 'Arlo8', 'Dylan', 'Jude', 'Benjamin', 'Rory9', 'Tommy',\n",
       "       'Jake3', 'Louie', 'Carter7', 'Jenson', 'Hugo0', 'Bobby1',\n",
       "       'Frankie', 'Ollie3', 'Zachary', 'David', 'Albie1', 'Lewis', 'Luca',\n",
       "       'Ronnie', 'Jackson5', 'Matthew', 'Alex', 'Harvey2', 'Reuben',\n",
       "       'Jayden6', 'Caleb', 'Hunter3', 'Theodore3', 'Nathan', 'Blake',\n",
       "       'Luke6', 'Elliot', 'Roman', 'Stanley', 'Dexter', 'Michael',\n",
       "       'Elliott', 'Tyler', 'Ryan', 'Ellis', 'Finn', 'Albert0', 'Kai',\n",
       "       'Liam', 'Calum', 'Louis2', 'Aaron', 'Ezra', 'Leon', 'Connor',\n",
       "       'Grayson7', 'Jamie0', 'Aiden', 'Gabriel', 'Austin7', 'Lincoln4',\n",
       "       'Eli', 'Ben'], dtype=object)"
      ]
     },
     "execution_count": 68,
     "metadata": {},
     "output_type": "execute_result"
    }
   ],
   "source": [
    "df.index.values # array数组"
   ]
  },
  {
   "cell_type": "code",
   "execution_count": 69,
   "id": "cc8f8c06",
   "metadata": {},
   "outputs": [
    {
     "data": {
      "text/plain": [
       "False"
      ]
     },
     "execution_count": 69,
     "metadata": {},
     "output_type": "execute_result"
    }
   ],
   "source": [
    "# 其他，不常用\n",
    "df.index.empty # 是否为空"
   ]
  },
  {
   "cell_type": "code",
   "execution_count": 70,
   "id": "e0c53e50",
   "metadata": {},
   "outputs": [
    {
     "data": {
      "text/plain": [
       "True"
      ]
     },
     "execution_count": 70,
     "metadata": {},
     "output_type": "execute_result"
    }
   ],
   "source": [
    "df.index.is_unique # 是否不重复"
   ]
  },
  {
   "cell_type": "code",
   "execution_count": 71,
   "id": "bd59e679",
   "metadata": {},
   "outputs": [
    {
     "data": {
      "text/plain": [
       "FrozenList(['name'])"
      ]
     },
     "execution_count": 71,
     "metadata": {},
     "output_type": "execute_result"
    }
   ],
   "source": [
    "df.index.names # 名称列表"
   ]
  },
  {
   "cell_type": "code",
   "execution_count": 72,
   "id": "2352b345",
   "metadata": {},
   "outputs": [
    {
     "data": {
      "text/plain": [
       "False"
      ]
     },
     "execution_count": 72,
     "metadata": {},
     "output_type": "execute_result"
    }
   ],
   "source": [
    "df.index.has_duplicates # 是否有重复值"
   ]
  },
  {
   "cell_type": "code",
   "execution_count": 73,
   "id": "56f25c66",
   "metadata": {
    "scrolled": true
   },
   "outputs": [
    {
     "data": {
      "text/plain": [
       "array(['Liver', 'Arry', 'Ack', 'Eorge', 'Oah', 'Harlie', 'Acob', 'Lfie',\n",
       "       'Reddie', 'Oscar', 'Leo', 'Logan', 'Archie', 'Theo', 'Thomas',\n",
       "       'James', 'Joshua', 'Henry', 'William', 'Max', 'Lucas', 'Ethan',\n",
       "       'Arthur', 'Mason', 'Isaac', 'Harrison', 'Teddy', 'Finley',\n",
       "       'Daniel', 'Riley', 'Edward', 'Joseph', 'Alexander', 'Adam',\n",
       "       'Reggie1', 'Samuel', 'Jaxon', 'Sebastian', 'Elijah', 'Harley',\n",
       "       'Toby', 'Arlo8', 'Dylan', 'Jude', 'Benjamin', 'Rory9', 'Tommy',\n",
       "       'Jake3', 'Louie', 'Carter7', 'Jenson', 'Hugo0', 'Bobby1',\n",
       "       'Frankie', 'Ollie3', 'Zachary', 'David', 'Albie1', 'Lewis', 'Luca',\n",
       "       'Ronnie', 'Jackson5', 'Matthew', 'Alex', 'Harvey2', 'Reuben',\n",
       "       'Jayden6', 'Caleb', 'Hunter3', 'Theodore3', 'Nathan', 'Blake',\n",
       "       'Luke6', 'Elliot', 'Roman', 'Stanley', 'Dexter', 'Michael',\n",
       "       'Elliott', 'Tyler', 'Ryan', 'Ellis', 'Finn', 'Albert0', 'Kai',\n",
       "       'Liam', 'Calum', 'Louis2', 'Aaron', 'Ezra', 'Leon', 'Connor',\n",
       "       'Grayson7', 'Jamie0', 'Aiden', 'Gabriel', 'Austin7', 'Lincoln4',\n",
       "       'Eli', 'Ben'], dtype=object)"
      ]
     },
     "execution_count": 73,
     "metadata": {},
     "output_type": "execute_result"
    }
   ],
   "source": [
    "df.index.values # 索引的值array"
   ]
  }
 ],
 "metadata": {
  "kernelspec": {
   "display_name": "Python 3 (ipykernel)",
   "language": "python",
   "name": "python3"
  },
  "language_info": {
   "codemirror_mode": {
    "name": "ipython",
    "version": 3
   },
   "file_extension": ".py",
   "mimetype": "text/x-python",
   "name": "python",
   "nbconvert_exporter": "python",
   "pygments_lexer": "ipython3",
   "version": "3.11.5"
  }
 },
 "nbformat": 4,
 "nbformat_minor": 5
}

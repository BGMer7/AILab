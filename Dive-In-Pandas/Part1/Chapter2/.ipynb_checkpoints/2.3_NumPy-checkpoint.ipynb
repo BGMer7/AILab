{
 "cells": [
  {
   "cell_type": "code",
   "execution_count": 2,
   "id": "a73145f9-94e9-4753-b508-2941e42e73ed",
   "metadata": {},
   "outputs": [],
   "source": [
    "import numpy as np"
   ]
  },
  {
   "cell_type": "markdown",
   "id": "e7db19df-6689-4466-ad84-ec5ad5012ed3",
   "metadata": {},
   "source": [
    "## 2.3.3 generate data"
   ]
  },
  {
   "cell_type": "code",
   "execution_count": 3,
   "id": "8854459a-17f5-464d-8161-4926b0ffac18",
   "metadata": {},
   "outputs": [
    {
     "data": {
      "text/plain": [
       "array([1, 2, 3])"
      ]
     },
     "execution_count": 3,
     "metadata": {},
     "output_type": "execute_result"
    }
   ],
   "source": [
    "np.array([1, 2, 3])"
   ]
  },
  {
   "cell_type": "code",
   "execution_count": 4,
   "id": "48be1bc3-c8a8-4f04-ab2d-4a92a90c13c5",
   "metadata": {},
   "outputs": [
    {
     "data": {
      "text/plain": [
       "array([1, 2, 3])"
      ]
     },
     "execution_count": 4,
     "metadata": {},
     "output_type": "execute_result"
    }
   ],
   "source": [
    "np.array((1, 2, 3)) # 同上\n",
    "# array([1, 2, 3])"
   ]
  },
  {
   "cell_type": "code",
   "execution_count": 5,
   "id": "1a094e89-3875-4f09-b9d7-cbc6f33454d0",
   "metadata": {},
   "outputs": [
    {
     "data": {
      "text/plain": [
       "array([[1, 2],\n",
       "       [1, 2]])"
      ]
     },
     "execution_count": 5,
     "metadata": {},
     "output_type": "execute_result"
    }
   ],
   "source": [
    "np.array(((1, 2),(1, 2)))"
   ]
  },
  {
   "cell_type": "code",
   "execution_count": 6,
   "id": "96430a9d-00bd-426e-b6b7-99b205c3ca61",
   "metadata": {},
   "outputs": [
    {
     "data": {
      "text/plain": [
       "array([[1, 2],\n",
       "       [1, 2]])"
      ]
     },
     "execution_count": 6,
     "metadata": {},
     "output_type": "execute_result"
    }
   ],
   "source": [
    "np.array(([1, 2],[1, 2])) # 同上"
   ]
  },
  {
   "cell_type": "code",
   "execution_count": 7,
   "id": "6db9978c-36b7-4678-ae7c-e5851d6478d6",
   "metadata": {},
   "outputs": [
    {
     "data": {
      "text/plain": [
       "array([0, 1, 2, 3, 4, 5, 6, 7, 8, 9])"
      ]
     },
     "execution_count": 7,
     "metadata": {},
     "output_type": "execute_result"
    }
   ],
   "source": [
    "np.arange(10) # 10个，不包括10，步长为1"
   ]
  },
  {
   "cell_type": "code",
   "execution_count": 8,
   "id": "b9cc7648-57a6-4f03-aca7-d9cd09165a7a",
   "metadata": {},
   "outputs": [
    {
     "data": {
      "text/plain": [
       "array([3. , 3.1, 3.2, 3.3, 3.4, 3.5, 3.6, 3.7, 3.8, 3.9, 4. , 4.1, 4.2,\n",
       "       4.3, 4.4, 4.5, 4.6, 4.7, 4.8, 4.9, 5. , 5.1, 5.2, 5.3, 5.4, 5.5,\n",
       "       5.6, 5.7, 5.8, 5.9, 6. , 6.1, 6.2, 6.3, 6.4, 6.5, 6.6, 6.7, 6.8,\n",
       "       6.9, 7. , 7.1, 7.2, 7.3, 7.4, 7.5, 7.6, 7.7, 7.8, 7.9, 8. , 8.1,\n",
       "       8.2, 8.3, 8.4, 8.5, 8.6, 8.7, 8.8, 8.9, 9. , 9.1, 9.2, 9.3, 9.4,\n",
       "       9.5, 9.6, 9.7, 9.8, 9.9])"
      ]
     },
     "execution_count": 8,
     "metadata": {},
     "output_type": "execute_result"
    }
   ],
   "source": [
    "np.arange(3, 10, 0.1) # 从3到9，步长为0.1"
   ]
  },
  {
   "cell_type": "code",
   "execution_count": 9,
   "id": "761414a4-b7da-4a2d-beb7-fdce790a3b76",
   "metadata": {},
   "outputs": [
    {
     "data": {
      "text/plain": [
       "array([2. , 2.2, 2.4, 2.6, 2.8])"
      ]
     },
     "execution_count": 9,
     "metadata": {},
     "output_type": "execute_result"
    }
   ],
   "source": [
    "# 从2.0到3.0，生成均匀的5个值，不包括终值3.0\n",
    "np.linspace(2.0, 3.0, num=5, endpoint=False)"
   ]
  },
  {
   "cell_type": "code",
   "execution_count": 10,
   "id": "e467e014-2fda-4505-b92b-4e6214efe3bc",
   "metadata": {},
   "outputs": [
    {
     "data": {
      "text/plain": [
       "array([[-0.93891181, -0.11300696, -0.79520799, -1.59015114],\n",
       "       [-1.34180907,  0.9113801 ,  0.19915644, -0.49176949],\n",
       "       [ 0.53571072, -0.50175272,  0.40437139, -0.45656643],\n",
       "       [ 0.26955687,  1.46253386, -1.45126951,  1.35236336],\n",
       "       [-0.00706648, -0.72249509,  0.19595674, -1.7623671 ],\n",
       "       [ 0.03611471, -0.85161694, -1.7788212 , -0.09715219]])"
      ]
     },
     "execution_count": 10,
     "metadata": {},
     "output_type": "execute_result"
    }
   ],
   "source": [
    "# 返回一个6×4的随机数组，浮点型\n",
    "np.random.randn(6, 4)"
   ]
  },
  {
   "cell_type": "code",
   "execution_count": 11,
   "id": "a8c2c005-5d58-4451-825b-dc79a8343338",
   "metadata": {},
   "outputs": [
    {
     "data": {
      "text/plain": [
       "array([[6, 3, 5, 3],\n",
       "       [3, 6, 4, 6]])"
      ]
     },
     "execution_count": 11,
     "metadata": {},
     "output_type": "execute_result"
    }
   ],
   "source": [
    "# 指定范围、指定形状的数组，整型\n",
    "np.random.randint(3, 7, size=(2, 4))"
   ]
  },
  {
   "cell_type": "code",
   "execution_count": 12,
   "id": "74caf479-0b47-4852-9787-2b6d027e710a",
   "metadata": {},
   "outputs": [
    {
     "data": {
      "text/plain": [
       "array([0., 0., 0., 0., 0., 0.])"
      ]
     },
     "execution_count": 12,
     "metadata": {},
     "output_type": "execute_result"
    }
   ],
   "source": [
    "# 创建值为0的数组\n",
    "np.zeros(6) # 6个浮点0."
   ]
  },
  {
   "cell_type": "code",
   "execution_count": 13,
   "id": "875adc74-5d55-4b6e-8f91-4df5d3031668",
   "metadata": {},
   "outputs": [
    {
     "data": {
      "text/plain": [
       "array([[0, 0, 0, 0, 0, 0],\n",
       "       [0, 0, 0, 0, 0, 0],\n",
       "       [0, 0, 0, 0, 0, 0],\n",
       "       [0, 0, 0, 0, 0, 0],\n",
       "       [0, 0, 0, 0, 0, 0]])"
      ]
     },
     "execution_count": 13,
     "metadata": {},
     "output_type": "execute_result"
    }
   ],
   "source": [
    "np.zeros((5, 6), dtype=int) # 5×6整型0"
   ]
  },
  {
   "cell_type": "code",
   "execution_count": 14,
   "id": "3a2039fd-9610-4db8-8cc3-bf97af643874",
   "metadata": {},
   "outputs": [
    {
     "data": {
      "text/plain": [
       "array([1., 1., 1., 1.])"
      ]
     },
     "execution_count": 14,
     "metadata": {},
     "output_type": "execute_result"
    }
   ],
   "source": [
    "np.ones(4) # 同上"
   ]
  },
  {
   "cell_type": "code",
   "execution_count": 15,
   "id": "775d585b-fcc9-416f-acec-9946fdf83ae2",
   "metadata": {},
   "outputs": [
    {
     "data": {
      "text/plain": [
       "array([1., 1., 1., 1.])"
      ]
     },
     "execution_count": 15,
     "metadata": {},
     "output_type": "execute_result"
    }
   ],
   "source": [
    "np.empty(4) # 同上"
   ]
  },
  {
   "cell_type": "code",
   "execution_count": 16,
   "id": "98d5a80d-1783-4134-ab3e-56daa9381487",
   "metadata": {},
   "outputs": [
    {
     "data": {
      "text/plain": [
       "array([0, 0, 0, 0, 0, 0])"
      ]
     },
     "execution_count": 16,
     "metadata": {},
     "output_type": "execute_result"
    }
   ],
   "source": [
    "# 创建一份和目标结构相同的0值数组\n",
    "np.zeros_like(np.arange(6))"
   ]
  },
  {
   "cell_type": "code",
   "execution_count": 17,
   "id": "8dd98e2d-5673-480b-94ce-94879067463c",
   "metadata": {},
   "outputs": [
    {
     "data": {
      "text/plain": [
       "array([1, 1, 1, 1, 1, 1])"
      ]
     },
     "execution_count": 17,
     "metadata": {},
     "output_type": "execute_result"
    }
   ],
   "source": [
    "np.ones_like(np.arange(6)) # 同上"
   ]
  },
  {
   "cell_type": "code",
   "execution_count": 18,
   "id": "3345e28f-2caa-4e0a-a0e6-b8196f38d48d",
   "metadata": {},
   "outputs": [
    {
     "data": {
      "text/plain": [
       "array([         0,        591, 1063799008,        591,          0,\n",
       "                0])"
      ]
     },
     "execution_count": 18,
     "metadata": {},
     "output_type": "execute_result"
    }
   ],
   "source": [
    "np.empty_like(np.arange(6)) # 同上"
   ]
  },
  {
   "cell_type": "markdown",
   "id": "dd72c35c-e2bc-43a7-a5bb-50552952e479",
   "metadata": {},
   "source": [
    "## 2.3.5 array information"
   ]
  },
  {
   "cell_type": "code",
   "execution_count": null,
   "id": "55296a7c-dea5-48d5-aa56-bf5725b76ff2",
   "metadata": {},
   "outputs": [],
   "source": [
    "n = np.random.randn(6, 4)\n",
    "n.shape # 数组的形状，返回值是一个元组"
   ]
  },
  {
   "cell_type": "code",
   "execution_count": 33,
   "id": "7cb821f0-546b-4278-a63e-9d7b007445d3",
   "metadata": {},
   "outputs": [
    {
     "data": {
      "text/plain": [
       "array([[0, 0],\n",
       "       [0, 0],\n",
       "       [0, 0],\n",
       "       [0, 0]])"
      ]
     },
     "execution_count": 33,
     "metadata": {},
     "output_type": "execute_result"
    }
   ],
   "source": [
    "n = np.zeros(8, dtype=int)\n",
    "n.shape = (4, 2) # 改变形状，需要刚好可以整除排列\n",
    "n"
   ]
  },
  {
   "cell_type": "code",
   "execution_count": 34,
   "id": "10d6954a-8e59-4fcf-98ab-1c3638fdf2c4",
   "metadata": {},
   "outputs": [
    {
     "data": {
      "text/plain": [
       "array([[0, 0, 0, 0],\n",
       "       [0, 0, 0, 0]])"
      ]
     },
     "execution_count": 34,
     "metadata": {},
     "output_type": "execute_result"
    }
   ],
   "source": [
    "a = n.reshape((2,4)) # 改变原数组的形状，创建一个新数组\n",
    "a"
   ]
  },
  {
   "cell_type": "code",
   "execution_count": 35,
   "id": "9f13e171-99bc-4202-b8bf-9d9ccf322b31",
   "metadata": {},
   "outputs": [
    {
     "data": {
      "text/plain": [
       "dtype('int32')"
      ]
     },
     "execution_count": 35,
     "metadata": {},
     "output_type": "execute_result"
    }
   ],
   "source": [
    "n.dtype # 数据类型"
   ]
  },
  {
   "cell_type": "code",
   "execution_count": 36,
   "id": "1640cf12-abde-413f-9a26-ff994fd10a91",
   "metadata": {},
   "outputs": [
    {
     "data": {
      "text/plain": [
       "2"
      ]
     },
     "execution_count": 36,
     "metadata": {},
     "output_type": "execute_result"
    }
   ],
   "source": [
    "n.ndim # 维度数"
   ]
  },
  {
   "cell_type": "code",
   "execution_count": 37,
   "id": "5e6bd285-f868-485f-857a-7f477dcedab5",
   "metadata": {},
   "outputs": [
    {
     "data": {
      "text/plain": [
       "8"
      ]
     },
     "execution_count": 37,
     "metadata": {},
     "output_type": "execute_result"
    }
   ],
   "source": [
    "n.size # 元素数"
   ]
  },
  {
   "cell_type": "code",
   "execution_count": 38,
   "id": "df510c4a-0a64-4d7e-9cd0-4c81fa624cb2",
   "metadata": {},
   "outputs": [
    {
     "ename": "AttributeError",
     "evalue": "module 'numpy' has no attribute 'typeDict'",
     "output_type": "error",
     "traceback": [
      "\u001b[1;31m---------------------------------------------------------------------------\u001b[0m",
      "\u001b[1;31mAttributeError\u001b[0m                            Traceback (most recent call last)",
      "Cell \u001b[1;32mIn[38], line 1\u001b[0m\n\u001b[1;32m----> 1\u001b[0m \u001b[43mnp\u001b[49m\u001b[38;5;241;43m.\u001b[39;49m\u001b[43mtypeDict\u001b[49m \u001b[38;5;66;03m# np的所有数据类型\u001b[39;00m\n",
      "File \u001b[1;32mD:\\miniforge\\lib\\site-packages\\numpy\\__init__.py:333\u001b[0m, in \u001b[0;36m__getattr__\u001b[1;34m(attr)\u001b[0m\n\u001b[0;32m    330\u001b[0m     \u001b[38;5;124m\"\u001b[39m\u001b[38;5;124mRemoved in NumPy 1.25.0\u001b[39m\u001b[38;5;124m\"\u001b[39m\n\u001b[0;32m    331\u001b[0m     \u001b[38;5;28;01mraise\u001b[39;00m \u001b[38;5;167;01mRuntimeError\u001b[39;00m(\u001b[38;5;124m\"\u001b[39m\u001b[38;5;124mTester was removed in NumPy 1.25.\u001b[39m\u001b[38;5;124m\"\u001b[39m)\n\u001b[1;32m--> 333\u001b[0m \u001b[38;5;28;01mraise\u001b[39;00m \u001b[38;5;167;01mAttributeError\u001b[39;00m(\u001b[38;5;124m\"\u001b[39m\u001b[38;5;124mmodule \u001b[39m\u001b[38;5;132;01m{!r}\u001b[39;00m\u001b[38;5;124m has no attribute \u001b[39m\u001b[38;5;124m\"\u001b[39m\n\u001b[0;32m    334\u001b[0m                      \u001b[38;5;124m\"\u001b[39m\u001b[38;5;132;01m{!r}\u001b[39;00m\u001b[38;5;124m\"\u001b[39m\u001b[38;5;241m.\u001b[39mformat(\u001b[38;5;18m__name__\u001b[39m, attr))\n",
      "\u001b[1;31mAttributeError\u001b[0m: module 'numpy' has no attribute 'typeDict'"
     ]
    }
   ],
   "source": [
    "np.typeDict() # np的所有数据类型"
   ]
  }
 ],
 "metadata": {
  "kernelspec": {
   "display_name": "Python 3 (ipykernel)",
   "language": "python",
   "name": "python3"
  },
  "language_info": {
   "codemirror_mode": {
    "name": "ipython",
    "version": 3
   },
   "file_extension": ".py",
   "mimetype": "text/x-python",
   "name": "python",
   "nbconvert_exporter": "python",
   "pygments_lexer": "ipython3",
   "version": "3.10.14"
  }
 },
 "nbformat": 4,
 "nbformat_minor": 5
}
